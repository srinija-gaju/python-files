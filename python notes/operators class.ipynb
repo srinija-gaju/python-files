{
 "cells": [
  {
   "cell_type": "code",
   "execution_count": 1,
   "id": "e5a55999-b993-47ef-9d0b-264f5a290016",
   "metadata": {},
   "outputs": [
    {
     "name": "stdout",
     "output_type": "stream",
     "text": [
      "srinija\n"
     ]
    }
   ],
   "source": [
    "print(\"srinija\")\n"
   ]
  },
  {
   "cell_type": "code",
   "execution_count": 11,
   "id": "250ca59f-fc9e-44d2-be8b-819933773699",
   "metadata": {},
   "outputs": [
    {
     "name": "stdin",
     "output_type": "stream",
     "text": [
      "enter a number: 4\n",
      "enter a number: 5\n"
     ]
    },
    {
     "name": "stdout",
     "output_type": "stream",
     "text": [
      "9\n"
     ]
    }
   ],
   "source": [
    "a=int(input(\"enter a number:\"))\n",
    "b=int(input(\"enter a number:\"))\n",
    "print(a+b)\n"
   ]
  },
  {
   "cell_type": "code",
   "execution_count": 13,
   "id": "11541572-0063-4e56-91ed-e07a6eb441af",
   "metadata": {},
   "outputs": [
    {
     "name": "stdin",
     "output_type": "stream",
     "text": [
      "enter a number: 6\n",
      "enter a number: 4\n"
     ]
    },
    {
     "name": "stdout",
     "output_type": "stream",
     "text": [
      "2\n"
     ]
    }
   ],
   "source": [
    "a=int(input(\"enter a number:\"))\n",
    "b=int(input(\"enter a number:\"))\n",
    "print(a-b)"
   ]
  },
  {
   "cell_type": "code",
   "execution_count": 15,
   "id": "99260918-7226-4c59-9cd6-82546d1ccd55",
   "metadata": {},
   "outputs": [
    {
     "name": "stdin",
     "output_type": "stream",
     "text": [
      "enter a number: 4\n",
      "enter a number: 5\n"
     ]
    },
    {
     "name": "stdout",
     "output_type": "stream",
     "text": [
      "20\n"
     ]
    }
   ],
   "source": [
    "a=int(input(\"enter a number:\"))\n",
    "b=int(input(\"enter a number:\"))\n",
    "print(a*b)"
   ]
  },
  {
   "cell_type": "code",
   "execution_count": 23,
   "id": "a064ad6e-25a6-4797-a139-64a0bc161de7",
   "metadata": {},
   "outputs": [
    {
     "name": "stdin",
     "output_type": "stream",
     "text": [
      "enter a number: 6\n",
      "enter a number: 4\n"
     ]
    },
    {
     "name": "stdout",
     "output_type": "stream",
     "text": [
      "1.5\n",
      "1\n",
      "2\n"
     ]
    }
   ],
   "source": [
    "a=int(input(\"enter a number:\"))\n",
    "b=int(input(\"enter a number:\"))\n",
    "print(a/b)\n",
    "print(a//b)\n",
    "print(a%b)\n"
   ]
  },
  {
   "cell_type": "code",
   "execution_count": 25,
   "id": "6d2aea62-9639-400f-877e-520a423c05c1",
   "metadata": {},
   "outputs": [],
   "source": [
    "# Day-2"
   ]
  },
  {
   "cell_type": "code",
   "execution_count": 29,
   "id": "9eb57ce5-cc36-4417-b732-927eb917ea17",
   "metadata": {},
   "outputs": [
    {
     "name": "stdout",
     "output_type": "stream",
     "text": [
      "14\n"
     ]
    }
   ],
   "source": [
    "x=6\n",
    "y=8\n",
    "print(x+y)"
   ]
  },
  {
   "cell_type": "code",
   "execution_count": 33,
   "id": "52db4279-a176-4922-be97-f7828ba11ae8",
   "metadata": {},
   "outputs": [
    {
     "name": "stdin",
     "output_type": "stream",
     "text": [
      "enter your name srinija\n"
     ]
    },
    {
     "name": "stdout",
     "output_type": "stream",
     "text": [
      "Hello srinija\n"
     ]
    }
   ],
   "source": [
    "name=input(\"enter your name\")\n",
    "print(\"Hello\",name)"
   ]
  },
  {
   "cell_type": "code",
   "execution_count": 57,
   "id": "f99ecbc7-0b7b-4a6a-8579-37926ee673c0",
   "metadata": {},
   "outputs": [
    {
     "name": "stdin",
     "output_type": "stream",
     "text": [
      "is it raining or not True\n"
     ]
    },
    {
     "name": "stdout",
     "output_type": "stream",
     "text": [
      "True\n",
      "<class 'bool'>\n"
     ]
    }
   ],
   "source": [
    "is_raining=input(\"is it raining or not\")\n",
    "print(bool(is_raining))\n",
    "print(type(bool(is_raining)))\n",
    "\n"
   ]
  },
  {
   "cell_type": "code",
   "execution_count": 63,
   "id": "bad43e30-026f-462f-80a1-81c8604898a8",
   "metadata": {},
   "outputs": [
    {
     "name": "stdin",
     "output_type": "stream",
     "text": [
      "enter a sentence of your own: grhthhy\n",
      "enter a number: 3\n"
     ]
    },
    {
     "name": "stdout",
     "output_type": "stream",
     "text": [
      "the grhthhy repeated 3  times\n"
     ]
    }
   ],
   "source": [
    "sentence=input(\"enter a sentence of your own:\")\n",
    "number=int(input(\"enter a number:\"))\n",
    "print(\"the\",sentence,\"repeated\",number,\" times\")"
   ]
  },
  {
   "cell_type": "code",
   "execution_count": 65,
   "id": "0da09bb7-92b3-45d7-8519-cdcd5fb1b0fd",
   "metadata": {},
   "outputs": [
    {
     "name": "stdout",
     "output_type": "stream",
     "text": [
      "10\n",
      "-2\n",
      "24\n",
      "1.5\n",
      "1296\n",
      "1\n"
     ]
    }
   ],
   "source": [
    "x=6\n",
    "y=4\n",
    "print(x+y)\n",
    "print(y-x)\n",
    "print(x*y)\n",
    "print(x/y)\n",
    "print(x**y)\n",
    "print(x//y)\n"
   ]
  },
  {
   "cell_type": "code",
   "execution_count": 79,
   "id": "55bcb7fa-fb72-45fb-a6cf-75a4dd846f33",
   "metadata": {},
   "outputs": [
    {
     "name": "stdin",
     "output_type": "stream",
     "text": [
      "enter new value 34\n"
     ]
    },
    {
     "name": "stdout",
     "output_type": "stream",
     "text": [
      "34\n"
     ]
    }
   ],
   "source": [
    "# Day-3\n",
    "value=23\n",
    "new_value=int(input(\"enter new value\"))\n",
    "value=new_value\n",
    "print(value)"
   ]
  },
  {
   "cell_type": "code",
   "execution_count": 85,
   "id": "0d6b7eb7-dbbf-40d6-889d-a07bc3eee471",
   "metadata": {},
   "outputs": [
    {
     "ename": "NameError",
     "evalue": "name 'h' is not defined",
     "output_type": "error",
     "traceback": [
      "\u001b[1;31m---------------------------------------------------------------------------\u001b[0m",
      "\u001b[1;31mNameError\u001b[0m                                 Traceback (most recent call last)",
      "Cell \u001b[1;32mIn[85], line 1\u001b[0m\n\u001b[1;32m----> 1\u001b[0m \u001b[38;5;28mprint\u001b[39m(h)\n\u001b[0;32m      2\u001b[0m h\u001b[38;5;241m=\u001b[39m\u001b[38;5;124m\"\u001b[39m\u001b[38;5;124mnaa peru srinija\u001b[39m\u001b[38;5;124m\"\u001b[39m\n",
      "\u001b[1;31mNameError\u001b[0m: name 'h' is not defined"
     ]
    }
   ],
   "source": [
    "print(h)\n",
    "h=\"naa peru srinija\"#python executes code by line by line so order is important"
   ]
  },
  {
   "cell_type": "code",
   "execution_count": 87,
   "id": "bbe5a04f-fbb4-4744-bb67-5c99534a2f77",
   "metadata": {},
   "outputs": [
    {
     "ename": "IndentationError",
     "evalue": "unexpected indent (3438764569.py, line 2)",
     "output_type": "error",
     "traceback": [
      "\u001b[1;36m  Cell \u001b[1;32mIn[87], line 2\u001b[1;36m\u001b[0m\n\u001b[1;33m    print(p)\u001b[0m\n\u001b[1;37m    ^\u001b[0m\n\u001b[1;31mIndentationError\u001b[0m\u001b[1;31m:\u001b[0m unexpected indent\n"
     ]
    }
   ],
   "source": [
    "p=6\n",
    " print(p)#indentation also important in python"
   ]
  },
  {
   "cell_type": "code",
   "execution_count": 93,
   "id": "86f73ce0-f163-40f3-a225-3f8130678da2",
   "metadata": {},
   "outputs": [
    {
     "name": "stdout",
     "output_type": "stream",
     "text": [
      "14.0\n",
      "23.5\n",
      "18.0\n",
      "6.0\n",
      "6.4\n"
     ]
    }
   ],
   "source": [
    "result=10+3*2-8/4\n",
    "print(result)\n",
    "a1=4**2+5/2*3\n",
    "print(a1)\n",
    "a2=(8+4)*3/2\n",
    "print(a2)\n",
    "a3=16/4+2**3-6\n",
    "print(a3)\n",
    "a4=10-3*(4+2)/5\n",
    "print(a4)"
   ]
  },
  {
   "cell_type": "markdown",
   "id": "15a26ffa-99f5-4804-afca-d304ff9a0e97",
   "metadata": {},
   "source": [
    "# Day-4"
   ]
  },
  {
   "cell_type": "code",
   "execution_count": 97,
   "id": "c8135eca-0f77-4726-8013-182b67a42696",
   "metadata": {},
   "outputs": [
    {
     "name": "stdout",
     "output_type": "stream",
     "text": [
      "srinijaGaju\n"
     ]
    }
   ],
   "source": [
    "a=\"srinija\"\n",
    "b=\"Gaju\"\n",
    "print(a+b)\n"
   ]
  },
  {
   "cell_type": "code",
   "execution_count": 101,
   "id": "96b89bce-9b8d-472b-960c-0ea6b7814f57",
   "metadata": {},
   "outputs": [
    {
     "name": "stdout",
     "output_type": "stream",
     "text": [
      "HiHiHi\n"
     ]
    }
   ],
   "source": [
    "print(\"Hi\"*3)"
   ]
  },
  {
   "cell_type": "code",
   "execution_count": 103,
   "id": "552d824b-ed2f-4749-8079-43828ed4763a",
   "metadata": {},
   "outputs": [
    {
     "ename": "TypeError",
     "evalue": "can only concatenate str (not \"int\") to str",
     "output_type": "error",
     "traceback": [
      "\u001b[1;31m---------------------------------------------------------------------------\u001b[0m",
      "\u001b[1;31mTypeError\u001b[0m                                 Traceback (most recent call last)",
      "Cell \u001b[1;32mIn[103], line 1\u001b[0m\n\u001b[1;32m----> 1\u001b[0m \u001b[38;5;28mprint\u001b[39m(\u001b[38;5;124m\"\u001b[39m\u001b[38;5;124mHi\u001b[39m\u001b[38;5;124m\"\u001b[39m\u001b[38;5;241m+\u001b[39m\u001b[38;5;241m3\u001b[39m)\n",
      "\u001b[1;31mTypeError\u001b[0m: can only concatenate str (not \"int\") to str"
     ]
    }
   ],
   "source": [
    "print(\"Hi\"+3)#we cannot concatenate int with a string"
   ]
  },
  {
   "cell_type": "code",
   "execution_count": 105,
   "id": "cd899833-fbc9-45ed-ae89-391ed29f25cc",
   "metadata": {},
   "outputs": [
    {
     "name": "stdout",
     "output_type": "stream",
     "text": [
      "7\n"
     ]
    }
   ],
   "source": [
    "my_name=\"srinija\"\n",
    "print(len(my_name))"
   ]
  },
  {
   "cell_type": "code",
   "execution_count": 107,
   "id": "06f40fd4-e3e1-4f40-b10a-13b7e258b448",
   "metadata": {},
   "outputs": [
    {
     "name": "stdin",
     "output_type": "stream",
     "text": [
      "enter a word srinija\n",
      "enter a number 3\n"
     ]
    },
    {
     "name": "stdout",
     "output_type": "stream",
     "text": [
      "srinijasrinijasrinija\n"
     ]
    }
   ],
   "source": [
    "s=input(\"enter a word\")\n",
    "n=int(input(\"enter a number\"))\n",
    "print(s*n)"
   ]
  },
  {
   "cell_type": "code",
   "execution_count": 117,
   "id": "ec2fb233-61ce-4477-9a50-dd8cf6589a45",
   "metadata": {},
   "outputs": [
    {
     "name": "stdin",
     "output_type": "stream",
     "text": [
      "enter a sentence dtfghf\n"
     ]
    },
    {
     "name": "stdout",
     "output_type": "stream",
     "text": [
      "6\n",
      "f\n"
     ]
    }
   ],
   "source": [
    "dp=input(\"enter a sentence\")\n",
    "print(len(dp))\n",
    "print(dp[-1])"
   ]
  },
  {
   "cell_type": "code",
   "execution_count": 119,
   "id": "32ccaa54-3ba9-4575-ad4b-57c987f356a7",
   "metadata": {},
   "outputs": [
    {
     "name": "stdout",
     "output_type": "stream",
     "text": [
      "*\n",
      "**\n",
      "***\n",
      "****\n",
      "*****\n"
     ]
    }
   ],
   "source": [
    "pattern=\"*\"\n",
    "print(pattern)\n",
    "print(pattern*2)\n",
    "print(pattern*3)\n",
    "print(pattern*4)\n",
    "print(pattern*5)\n"
   ]
  },
  {
   "cell_type": "code",
   "execution_count": 133,
   "id": "01a5bf7b-0b4c-4a34-85c3-2f59fc14a5b0",
   "metadata": {},
   "outputs": [
    {
     "name": "stdout",
     "output_type": "stream",
     "text": [
      "<class 'int'>\n"
     ]
    }
   ],
   "source": [
    "r=\"42\"\n",
    "v=int(r)\n",
    "print(type(v))\n"
   ]
  },
  {
   "cell_type": "code",
   "execution_count": 137,
   "id": "dbc0987b-84d6-450d-9012-86446a22fbc7",
   "metadata": {},
   "outputs": [
    {
     "name": "stdout",
     "output_type": "stream",
     "text": [
      "<class 'bool'>\n"
     ]
    }
   ],
   "source": [
    "a=100\n",
    "b=bool(a)\n",
    "print(type(b))\n"
   ]
  },
  {
   "cell_type": "code",
   "execution_count": 141,
   "id": "43e10d5e-72a9-4d58-9fea-960263ee62d0",
   "metadata": {},
   "outputs": [
    {
     "name": "stdout",
     "output_type": "stream",
     "text": [
      "True\n"
     ]
    }
   ],
   "source": [
    "x=10\n",
    "y=5\n",
    "print((x>0) and (y>0))\n",
    "\n",
    "\n"
   ]
  },
  {
   "cell_type": "code",
   "execution_count": null,
   "id": "f9c4ac6f-fa73-411e-b293-c7e2069264f0",
   "metadata": {},
   "outputs": [],
   "source": []
  }
 ],
 "metadata": {
  "kernelspec": {
   "display_name": "Python 3 (ipykernel)",
   "language": "python",
   "name": "python3"
  },
  "language_info": {
   "codemirror_mode": {
    "name": "ipython",
    "version": 3
   },
   "file_extension": ".py",
   "mimetype": "text/x-python",
   "name": "python",
   "nbconvert_exporter": "python",
   "pygments_lexer": "ipython3",
   "version": "3.12.4"
  }
 },
 "nbformat": 4,
 "nbformat_minor": 5
}
