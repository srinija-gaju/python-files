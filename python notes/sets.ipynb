{
 "cells": [
  {
   "cell_type": "markdown",
   "id": "57c8da04-b61e-4c05-8200-debbc42191dc",
   "metadata": {},
   "source": [
    "# sets"
   ]
  },
  {
   "cell_type": "code",
   "execution_count": 7,
   "id": "1375376b-a4be-468e-b1d9-177cf25e4187",
   "metadata": {},
   "outputs": [
    {
     "name": "stdout",
     "output_type": "stream",
     "text": [
      "{1, 2, 3}\n",
      "<class 'set'>\n"
     ]
    }
   ],
   "source": [
    "my_set={1,2,3}\n",
    "print(my_set)\n",
    "print(type(my_set))"
   ]
  },
  {
   "cell_type": "markdown",
   "id": "10ac80c9-01f6-4a99-bec9-64ff353e9acd",
   "metadata": {},
   "source": [
    "### properties"
   ]
  },
  {
   "cell_type": "code",
   "execution_count": 14,
   "id": "978c52bf-7003-4b83-8512-6bf7de224759",
   "metadata": {},
   "outputs": [],
   "source": [
    "#1.It is unordered"
   ]
  },
  {
   "cell_type": "code",
   "execution_count": 18,
   "id": "e1eb7cc6-6a52-4d1f-b121-21959489f5f9",
   "metadata": {},
   "outputs": [
    {
     "ename": "TypeError",
     "evalue": "'set' object is not subscriptable",
     "output_type": "error",
     "traceback": [
      "\u001b[1;31m---------------------------------------------------------------------------\u001b[0m",
      "\u001b[1;31mTypeError\u001b[0m                                 Traceback (most recent call last)",
      "Cell \u001b[1;32mIn[18], line 2\u001b[0m\n\u001b[0;32m      1\u001b[0m \u001b[38;5;66;03m#2.not mutable\u001b[39;00m\n\u001b[1;32m----> 2\u001b[0m my_set[\u001b[38;5;241m0\u001b[39m]\n",
      "\u001b[1;31mTypeError\u001b[0m: 'set' object is not subscriptable"
     ]
    }
   ],
   "source": [
    "#2.not mutable\n",
    "my_set[0] #error"
   ]
  },
  {
   "cell_type": "code",
   "execution_count": 22,
   "id": "4ae6431f-1901-4168-b772-255c5f148a74",
   "metadata": {},
   "outputs": [
    {
     "name": "stdout",
     "output_type": "stream",
     "text": [
      "{False, 1, 2, 'srinija'}\n"
     ]
    }
   ],
   "source": [
    "#3.Does not allow duplicates\n",
    "my_set={1,2,\"srinija\",False}\n",
    "print(my_set)\n"
   ]
  },
  {
   "cell_type": "code",
   "execution_count": 24,
   "id": "2554b677-a95d-4687-8703-e7c294f75dee",
   "metadata": {},
   "outputs": [
    {
     "name": "stdout",
     "output_type": "stream",
     "text": [
      "{0, 1, 2, 'srinija'}\n"
     ]
    }
   ],
   "source": [
    "my_set={1,0,2,\"srinija\",False,True}#False=0\n",
    "print(my_set)"
   ]
  },
  {
   "cell_type": "code",
   "execution_count": 126,
   "id": "c93ce1a7-afc9-4d81-86aa-cc63200e76b4",
   "metadata": {},
   "outputs": [
    {
     "data": {
      "text/plain": [
       "1"
      ]
     },
     "execution_count": 126,
     "metadata": {},
     "output_type": "execute_result"
    }
   ],
   "source": [
    "int(True)"
   ]
  },
  {
   "cell_type": "code",
   "execution_count": 128,
   "id": "8dc2bf72-8c47-4c20-929d-2f3d047aadbd",
   "metadata": {},
   "outputs": [
    {
     "data": {
      "text/plain": [
       "0"
      ]
     },
     "execution_count": 128,
     "metadata": {},
     "output_type": "execute_result"
    }
   ],
   "source": [
    "int(False)"
   ]
  },
  {
   "cell_type": "markdown",
   "id": "686a184f-a8d0-41ae-8875-961d65cf7440",
   "metadata": {},
   "source": [
    "# Methods"
   ]
  },
  {
   "cell_type": "code",
   "execution_count": 35,
   "id": "b8266264-a53f-4aed-9b13-6f6324a0ed7e",
   "metadata": {},
   "outputs": [
    {
     "name": "stdout",
     "output_type": "stream",
     "text": [
      "{1, 2, 3, 4, 40}\n"
     ]
    }
   ],
   "source": [
    "#1.add()-takes only one argument and adds it into the set\n",
    "a={1,2,3,4}\n",
    "a.add(40)\n",
    "print(a)\n"
   ]
  },
  {
   "cell_type": "code",
   "execution_count": 37,
   "id": "b366c5d5-78e3-45ee-ac68-3986d1c7b45f",
   "metadata": {},
   "outputs": [
    {
     "name": "stdout",
     "output_type": "stream",
     "text": [
      "set()\n"
     ]
    }
   ],
   "source": [
    "#2.clear()-clears all the elements from the set,it does not accept arguments\n",
    "a={1,2,3,4}\n",
    "a.clear()\n",
    "print(a)\n",
    "\n"
   ]
  },
  {
   "cell_type": "code",
   "execution_count": 41,
   "id": "db6fb995-f6ff-44d0-9b6e-d4325e8e74ea",
   "metadata": {},
   "outputs": [
    {
     "name": "stdout",
     "output_type": "stream",
     "text": [
      "{1, 2, 3, 4}\n"
     ]
    }
   ],
   "source": [
    "#3.copy()-copies all the elements in the set,it does not accept arguments\n",
    "a={1,2,3,4}\n",
    "b=a.copy()\n",
    "print(a)"
   ]
  },
  {
   "cell_type": "code",
   "execution_count": 94,
   "id": "279a3612-e5ad-4a7c-8e25-1afac0cfb528",
   "metadata": {},
   "outputs": [
    {
     "ename": "NameError",
     "evalue": "name 's' is not defined",
     "output_type": "error",
     "traceback": [
      "\u001b[1;31m---------------------------------------------------------------------------\u001b[0m",
      "\u001b[1;31mNameError\u001b[0m                                 Traceback (most recent call last)",
      "Cell \u001b[1;32mIn[94], line 4\u001b[0m\n\u001b[0;32m      2\u001b[0m s\u001b[38;5;241m=\u001b[39m{\u001b[38;5;241m1\u001b[39m,\u001b[38;5;241m2\u001b[39m,\u001b[38;5;241m3\u001b[39m,\u001b[38;5;241m4\u001b[39m}\n\u001b[0;32m      3\u001b[0m \u001b[38;5;28;01mdel\u001b[39;00m s\n\u001b[1;32m----> 4\u001b[0m \u001b[38;5;28mprint\u001b[39m(s)\n",
      "\u001b[1;31mNameError\u001b[0m: name 's' is not defined"
     ]
    }
   ],
   "source": [
    "#4.del()-completely erases all the elements from the set\n",
    "s={1,2,3,4}\n",
    "del s\n",
    "print(s)\n"
   ]
  },
  {
   "cell_type": "code",
   "execution_count": 114,
   "id": "19f7c1a8-754a-460c-ab1e-c02c09fdc36f",
   "metadata": {},
   "outputs": [
    {
     "name": "stdout",
     "output_type": "stream",
     "text": [
      "{3, 4}\n",
      "{8, 5, 6, 7}\n"
     ]
    }
   ],
   "source": [
    "#4.difference()-it will not update the values in the original set\n",
    "a={1,2,3,4}\n",
    "b={5,6,7,1,2,8}\n",
    "print(a.difference(b))\n",
    "print(b.difference(a))\n",
    "\n"
   ]
  },
  {
   "cell_type": "code",
   "execution_count": 116,
   "id": "e5a8e28d-c8ee-4d76-bb0f-97bff9e23362",
   "metadata": {},
   "outputs": [
    {
     "data": {
      "text/plain": [
       "{1, 2, 3, 4}"
      ]
     },
     "execution_count": 116,
     "metadata": {},
     "output_type": "execute_result"
    }
   ],
   "source": [
    "a"
   ]
  },
  {
   "cell_type": "code",
   "execution_count": 118,
   "id": "be4e04f3-8062-4e22-a984-912d2b78775d",
   "metadata": {},
   "outputs": [
    {
     "data": {
      "text/plain": [
       "{1, 2, 5, 6, 7, 8}"
      ]
     },
     "execution_count": 118,
     "metadata": {},
     "output_type": "execute_result"
    }
   ],
   "source": [
    "b"
   ]
  },
  {
   "cell_type": "code",
   "execution_count": 120,
   "id": "34736231-002e-47fe-8fe1-55aa628d0ce8",
   "metadata": {},
   "outputs": [
    {
     "name": "stdout",
     "output_type": "stream",
     "text": [
      "{3, 4}\n",
      "{1, 2, 5, 6, 7, 8}\n"
     ]
    }
   ],
   "source": [
    "#5.difference_update()-it will update the values in the original set\n",
    "a={1,2,3,4}\n",
    "b={5,6,7,1,2,8}\n",
    "a.difference_update(b)\n",
    "print(a)\n",
    "b.difference_update(a)\n",
    "print(b)\n",
    "\n",
    "\n",
    "\n"
   ]
  },
  {
   "cell_type": "code",
   "execution_count": 112,
   "id": "d18c7ec8-e6cc-41ad-a71a-24aa9742fe40",
   "metadata": {},
   "outputs": [
    {
     "data": {
      "text/plain": [
       "{3, 4}"
      ]
     },
     "execution_count": 112,
     "metadata": {},
     "output_type": "execute_result"
    }
   ],
   "source": [
    "a"
   ]
  },
  {
   "cell_type": "code",
   "execution_count": 122,
   "id": "c0a6a1f9-e7d3-4102-8070-87a73a093126",
   "metadata": {},
   "outputs": [
    {
     "data": {
      "text/plain": [
       "{1, 2, 5, 6, 7, 8}"
      ]
     },
     "execution_count": 122,
     "metadata": {},
     "output_type": "execute_result"
    }
   ],
   "source": [
    "b"
   ]
  },
  {
   "cell_type": "code",
   "execution_count": 152,
   "id": "6f6c4706-73d0-4bba-a808-6b85b66e73c5",
   "metadata": {},
   "outputs": [
    {
     "name": "stdout",
     "output_type": "stream",
     "text": [
      "{1, 2, 3}\n",
      "{1, 2, 3}\n"
     ]
    }
   ],
   "source": [
    "#6.discard()-removes element if it is present in set,if not also it returns set\n",
    "my_set={1,2,3,4}\n",
    "#print(my_set.discard(5))\n",
    "my_set.discard(4)\n",
    "print(my_set)\n",
    "my_set.discard(5)\n",
    "print(my_set)\n",
    "\n",
    "\n",
    "\n"
   ]
  },
  {
   "cell_type": "code",
   "execution_count": 154,
   "id": "452d260c-2909-43f1-b3a0-5b1cabef8130",
   "metadata": {},
   "outputs": [
    {
     "name": "stdout",
     "output_type": "stream",
     "text": [
      "{1, 2, 3}\n"
     ]
    },
    {
     "ename": "KeyError",
     "evalue": "5",
     "output_type": "error",
     "traceback": [
      "\u001b[1;31m---------------------------------------------------------------------------\u001b[0m",
      "\u001b[1;31mKeyError\u001b[0m                                  Traceback (most recent call last)",
      "Cell \u001b[1;32mIn[154], line 6\u001b[0m\n\u001b[0;32m      4\u001b[0m my_set\u001b[38;5;241m.\u001b[39mremove(\u001b[38;5;241m4\u001b[39m)\n\u001b[0;32m      5\u001b[0m \u001b[38;5;28mprint\u001b[39m(my_set)\n\u001b[1;32m----> 6\u001b[0m my_set\u001b[38;5;241m.\u001b[39mremove(\u001b[38;5;241m5\u001b[39m)\n\u001b[0;32m      7\u001b[0m \u001b[38;5;28mprint\u001b[39m(my_set)\n",
      "\u001b[1;31mKeyError\u001b[0m: 5"
     ]
    }
   ],
   "source": [
    "#7.remove()-removes element if it is present in set,if not it returns error\n",
    "my_set={1,2,3,4}\n",
    "my_set.remove(4)\n",
    "print(my_set)\n",
    "my_set.remove(5)\n",
    "print(my_set)"
   ]
  },
  {
   "cell_type": "code",
   "execution_count": 1,
   "id": "3d0594f6-0c13-40f2-b571-3adf5289ce2a",
   "metadata": {},
   "outputs": [
    {
     "name": "stdout",
     "output_type": "stream",
     "text": [
      "{1}\n",
      "{1}\n",
      "{1, 2, 3, 4}\n",
      "{1, 5, 6, 7, 8}\n"
     ]
    }
   ],
   "source": [
    "#8.intersection()-the result is not updated in the original set\n",
    "set1={1,2,3,4}\n",
    "set2={5,6,1,7,8}\n",
    "print(set1.intersection(set2))\n",
    "set1={1,2,3,4}\n",
    "set2={5,6,1,7,8}\n",
    "print(set1.intersection(set2))\n",
    "\n",
    "print(set1)\n",
    "print(set2)\n",
    "\n",
    "\n"
   ]
  },
  {
   "cell_type": "code",
   "execution_count": 5,
   "id": "66d9f089-f88e-4442-b109-7acc26638f86",
   "metadata": {},
   "outputs": [
    {
     "name": "stdout",
     "output_type": "stream",
     "text": [
      "None\n",
      "None\n",
      "{1, 2, 3, 4, 7, 8}\n",
      "{8, 1, 7}\n"
     ]
    }
   ],
   "source": [
    "#9.intersection_update()-the result/output is updated in the original set\n",
    "set1={1,2,3,4,7,8}\n",
    "set2={5,6,1,7,8}\n",
    "print(set1.intersection_update(set2))\n",
    "set1={1,2,3,4,7,8}\n",
    "set2={5,6,1,7,8}\n",
    "print(set2.intersection_update(set1))\n",
    "print(set1)\n",
    "print(set2)\n",
    "\n"
   ]
  },
  {
   "cell_type": "code",
   "execution_count": 190,
   "id": "3e82676d-10e5-4163-82d8-383d4ab0c33f",
   "metadata": {},
   "outputs": [
    {
     "name": "stdout",
     "output_type": "stream",
     "text": [
      "None\n"
     ]
    }
   ],
   "source": [
    "set1={1,2,3,4}\n",
    "set2={5,6,1,7,8}\n",
    "print(set1.intersection_update(set2))"
   ]
  },
  {
   "cell_type": "code",
   "execution_count": 7,
   "id": "a38f4fb9-ac08-4d6c-8d67-bffdb369d4d2",
   "metadata": {},
   "outputs": [
    {
     "name": "stdout",
     "output_type": "stream",
     "text": [
      "False\n",
      "False\n",
      "True\n"
     ]
    }
   ],
   "source": [
    "#10.isdisjoint()-returns true if none of the items are present in both sets\n",
    "set1={1,2,3,4,6}\n",
    "set2={5,6,1,7,8}\n",
    "print(set1.isdisjoint(set2))\n",
    "set3={5,6,1,7,8}\n",
    "set4={5,6,1,7,8}\n",
    "print(set3.isdisjoint(set4))\n",
    "set3={5,6,1,7,8}\n",
    "set4={'a','b','c','d'}\n",
    "print(set3.isdisjoint(set4))\n"
   ]
  },
  {
   "cell_type": "code",
   "execution_count": 232,
   "id": "894a7510-3425-43d9-8542-a3435797c408",
   "metadata": {},
   "outputs": [
    {
     "name": "stdout",
     "output_type": "stream",
     "text": [
      "True\n",
      "False\n"
     ]
    }
   ],
   "source": [
    "#11.issubset()-\n",
    "set1={1,5,6}\n",
    "set2={5,6,1,7,8}\n",
    "print(set1.issubset(set2))\n",
    "set1={1,5,6,9,2,3}\n",
    "set2={5,6,1,7,8}\n",
    "print(set1.issubset(set2))\n"
   ]
  },
  {
   "cell_type": "code",
   "execution_count": 244,
   "id": "d4f5d996-4e08-446b-a466-c7b2adf0e2f7",
   "metadata": {},
   "outputs": [
    {
     "name": "stdout",
     "output_type": "stream",
     "text": [
      "False\n",
      "True\n",
      "False\n",
      "True\n"
     ]
    }
   ],
   "source": [
    "#11.issuperset()-returns true only if the elemnets of a set present in another set\n",
    "set1={1,5,6}\n",
    "set2={5,6,1,7,8}\n",
    "print(set1.issuperset(set2))\n",
    "set1={1,5,6}\n",
    "set2={5,6,1,7,8}\n",
    "print(set2.issuperset(set1))\n",
    "set1={1,5,6,9,2,3}\n",
    "set2={5,6,1,7,8}\n",
    "print(set1.issuperset(set2))\n",
    "set1={1,5,6,7,8}\n",
    "set2={5,6,1,7,8}\n",
    "print(set1.issuperset(set2))\n",
    "\n"
   ]
  },
  {
   "cell_type": "code",
   "execution_count": 270,
   "id": "96e31f3a-bcfc-4b4f-8b98-b469d82be839",
   "metadata": {},
   "outputs": [
    {
     "name": "stdout",
     "output_type": "stream",
     "text": [
      "[3, 2, 1, 4]\n"
     ]
    }
   ],
   "source": [
    "f=[1,2,3,4]\n",
    "#print(f[0])\n",
    "#print(f[1])\n",
    "f[0],f[2]=f[2],f[0]\n",
    "print(f)"
   ]
  },
  {
   "cell_type": "code",
   "execution_count": 274,
   "id": "31613e82-eb7d-4319-ae67-1d937c893787",
   "metadata": {},
   "outputs": [
    {
     "name": "stdout",
     "output_type": "stream",
     "text": [
      "1\n"
     ]
    }
   ],
   "source": [
    "#12.pop()-removes first elements from the list and takes only one argument as input\n",
    "set1={1,5,6,9,2,3}\n",
    "print(set1.pop())\n"
   ]
  },
  {
   "cell_type": "code",
   "execution_count": 276,
   "id": "6da4904d-8626-4aa0-b740-93c9cd5121ef",
   "metadata": {},
   "outputs": [
    {
     "name": "stdout",
     "output_type": "stream",
     "text": [
      "{1, 2, 3, 5, 6, 7, 9}\n"
     ]
    }
   ],
   "source": [
    "#13.union()-gives all the elements in the both the sets\n",
    "set1={1,5,6,9,2,3}\n",
    "set2={9,7,3,1}\n",
    "print(set1.union(set2))\n"
   ]
  },
  {
   "cell_type": "code",
   "execution_count": 3,
   "id": "89115cf1-2277-4bd9-99c2-b7195f01b593",
   "metadata": {},
   "outputs": [
    {
     "name": "stdout",
     "output_type": "stream",
     "text": [
      "{1, 5, 7, 8}\n",
      "{1, 5, 7, 8}\n"
     ]
    }
   ],
   "source": [
    "#14.symmetric_difference()- Return the symmetric difference of two sets as a new set.\n",
    "#(i.e. all elements that are in exactly one of the sets.)\n",
    "set1={1,2,3,4}\n",
    "set2={2,3,7,4,5,8}\n",
    "print(set1.symmetric_difference(set2))\n",
    "print(set2.symmetric_difference(set1))"
   ]
  },
  {
   "cell_type": "code",
   "execution_count": 43,
   "id": "6ab64285-0f8c-44b0-a6e4-9416c7f044c3",
   "metadata": {},
   "outputs": [
    {
     "name": "stdout",
     "output_type": "stream",
     "text": [
      "{1, 5, 7, 8}\n"
     ]
    }
   ],
   "source": [
    "#15.symmetric_difference_update()-Update a set with the symmetric difference of itself and another.\n",
    "set1={1,2,3,4}\n",
    "set2={2,3,7,4,5,8}\n",
    "set1.symmetric_difference_update(set2)\n",
    "print(set1)"
   ]
  },
  {
   "cell_type": "code",
   "execution_count": 17,
   "id": "1fc3e4d5-2f7d-4b3a-b8c9-0d4bd10b7f8e",
   "metadata": {},
   "outputs": [
    {
     "name": "stdout",
     "output_type": "stream",
     "text": [
      "Help on class set in module builtins:\n",
      "\n",
      "class set(object)\n",
      " |  set() -> new empty set object\n",
      " |  set(iterable) -> new set object\n",
      " |\n",
      " |  Build an unordered collection of unique elements.\n",
      " |\n",
      " |  Methods defined here:\n",
      " |\n",
      " |  __and__(self, value, /)\n",
      " |      Return self&value.\n",
      " |\n",
      " |  __contains__(...)\n",
      " |      x.__contains__(y) <==> y in x.\n",
      " |\n",
      " |  __eq__(self, value, /)\n",
      " |      Return self==value.\n",
      " |\n",
      " |  __ge__(self, value, /)\n",
      " |      Return self>=value.\n",
      " |\n",
      " |  __getattribute__(self, name, /)\n",
      " |      Return getattr(self, name).\n",
      " |\n",
      " |  __gt__(self, value, /)\n",
      " |      Return self>value.\n",
      " |\n",
      " |  __iand__(self, value, /)\n",
      " |      Return self&=value.\n",
      " |\n",
      " |  __init__(self, /, *args, **kwargs)\n",
      " |      Initialize self.  See help(type(self)) for accurate signature.\n",
      " |\n",
      " |  __ior__(self, value, /)\n",
      " |      Return self|=value.\n",
      " |\n",
      " |  __isub__(self, value, /)\n",
      " |      Return self-=value.\n",
      " |\n",
      " |  __iter__(self, /)\n",
      " |      Implement iter(self).\n",
      " |\n",
      " |  __ixor__(self, value, /)\n",
      " |      Return self^=value.\n",
      " |\n",
      " |  __le__(self, value, /)\n",
      " |      Return self<=value.\n",
      " |\n",
      " |  __len__(self, /)\n",
      " |      Return len(self).\n",
      " |\n",
      " |  __lt__(self, value, /)\n",
      " |      Return self<value.\n",
      " |\n",
      " |  __ne__(self, value, /)\n",
      " |      Return self!=value.\n",
      " |\n",
      " |  __or__(self, value, /)\n",
      " |      Return self|value.\n",
      " |\n",
      " |  __rand__(self, value, /)\n",
      " |      Return value&self.\n",
      " |\n",
      " |  __reduce__(...)\n",
      " |      Return state information for pickling.\n",
      " |\n",
      " |  __repr__(self, /)\n",
      " |      Return repr(self).\n",
      " |\n",
      " |  __ror__(self, value, /)\n",
      " |      Return value|self.\n",
      " |\n",
      " |  __rsub__(self, value, /)\n",
      " |      Return value-self.\n",
      " |\n",
      " |  __rxor__(self, value, /)\n",
      " |      Return value^self.\n",
      " |\n",
      " |  __sizeof__(...)\n",
      " |      S.__sizeof__() -> size of S in memory, in bytes\n",
      " |\n",
      " |  __sub__(self, value, /)\n",
      " |      Return self-value.\n",
      " |\n",
      " |  __xor__(self, value, /)\n",
      " |      Return self^value.\n",
      " |\n",
      " |  add(...)\n",
      " |      Add an element to a set.\n",
      " |\n",
      " |      This has no effect if the element is already present.\n",
      " |\n",
      " |  clear(...)\n",
      " |      Remove all elements from this set.\n",
      " |\n",
      " |  copy(...)\n",
      " |      Return a shallow copy of a set.\n",
      " |\n",
      " |  difference(...)\n",
      " |      Return the difference of two or more sets as a new set.\n",
      " |\n",
      " |      (i.e. all elements that are in this set but not the others.)\n",
      " |\n",
      " |  difference_update(...)\n",
      " |      Remove all elements of another set from this set.\n",
      " |\n",
      " |  discard(...)\n",
      " |      Remove an element from a set if it is a member.\n",
      " |\n",
      " |      Unlike set.remove(), the discard() method does not raise\n",
      " |      an exception when an element is missing from the set.\n",
      " |\n",
      " |  intersection(...)\n",
      " |      Return the intersection of two sets as a new set.\n",
      " |\n",
      " |      (i.e. all elements that are in both sets.)\n",
      " |\n",
      " |  intersection_update(...)\n",
      " |      Update a set with the intersection of itself and another.\n",
      " |\n",
      " |  isdisjoint(...)\n",
      " |      Return True if two sets have a null intersection.\n",
      " |\n",
      " |  issubset(self, other, /)\n",
      " |      Test whether every element in the set is in other.\n",
      " |\n",
      " |  issuperset(self, other, /)\n",
      " |      Test whether every element in other is in the set.\n",
      " |\n",
      " |  pop(...)\n",
      " |      Remove and return an arbitrary set element.\n",
      " |      Raises KeyError if the set is empty.\n",
      " |\n",
      " |  remove(...)\n",
      " |      Remove an element from a set; it must be a member.\n",
      " |\n",
      " |      If the element is not a member, raise a KeyError.\n",
      " |\n",
      " |  symmetric_difference(...)\n",
      " |      Return the symmetric difference of two sets as a new set.\n",
      " |\n",
      " |      (i.e. all elements that are in exactly one of the sets.)\n",
      " |\n",
      " |  symmetric_difference_update(...)\n",
      " |      Update a set with the symmetric difference of itself and another.\n",
      " |\n",
      " |  union(...)\n",
      " |      Return the union of sets as a new set.\n",
      " |\n",
      " |      (i.e. all elements that are in either set.)\n",
      " |\n",
      " |  update(...)\n",
      " |      Update a set with the union of itself and others.\n",
      " |\n",
      " |  ----------------------------------------------------------------------\n",
      " |  Class methods defined here:\n",
      " |\n",
      " |  __class_getitem__(...)\n",
      " |      See PEP 585\n",
      " |\n",
      " |  ----------------------------------------------------------------------\n",
      " |  Static methods defined here:\n",
      " |\n",
      " |  __new__(*args, **kwargs)\n",
      " |      Create and return a new object.  See help(type) for accurate signature.\n",
      " |\n",
      " |  ----------------------------------------------------------------------\n",
      " |  Data and other attributes defined here:\n",
      " |\n",
      " |  __hash__ = None\n",
      "\n"
     ]
    }
   ],
   "source": [
    "help(set)"
   ]
  },
  {
   "cell_type": "code",
   "execution_count": null,
   "id": "2aaed45b-a492-48cd-b611-c8ee68736a44",
   "metadata": {},
   "outputs": [],
   "source": []
  }
 ],
 "metadata": {
  "kernelspec": {
   "display_name": "Python 3 (ipykernel)",
   "language": "python",
   "name": "python3"
  },
  "language_info": {
   "codemirror_mode": {
    "name": "ipython",
    "version": 3
   },
   "file_extension": ".py",
   "mimetype": "text/x-python",
   "name": "python",
   "nbconvert_exporter": "python",
   "pygments_lexer": "ipython3",
   "version": "3.12.4"
  }
 },
 "nbformat": 4,
 "nbformat_minor": 5
}
