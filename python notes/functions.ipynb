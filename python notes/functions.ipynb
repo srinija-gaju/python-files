{
 "cells": [
  {
   "cell_type": "markdown",
   "id": "ba149514-c5af-45d6-9e40-b82ec29c7851",
   "metadata": {},
   "source": [
    "># Functions"
   ]
  },
  {
   "cell_type": "code",
   "execution_count": 3,
   "id": "939c26cc-7065-4086-af69-ede6aa9c52e6",
   "metadata": {},
   "outputs": [
    {
     "name": "stdout",
     "output_type": "stream",
     "text": [
      "welcome\n"
     ]
    }
   ],
   "source": [
    "\n",
    "def welcome():\n",
    "    print(\"welcome\")\n",
    "welcome()"
   ]
  },
  {
   "cell_type": "code",
   "execution_count": 13,
   "id": "d4d2cdb0-d020-462e-b53e-e403d4d50e6c",
   "metadata": {},
   "outputs": [
    {
     "name": "stdout",
     "output_type": "stream",
     "text": [
      "8\n"
     ]
    }
   ],
   "source": [
    "def add():\n",
    "    a=3\n",
    "    b=5\n",
    "    print(a+b)\n",
    "add()"
   ]
  },
  {
   "cell_type": "code",
   "execution_count": 21,
   "id": "34464f0f-c2f9-42a6-9a86-ea65384a8d17",
   "metadata": {},
   "outputs": [
    {
     "data": {
      "text/plain": [
       "5"
      ]
     },
     "execution_count": 21,
     "metadata": {},
     "output_type": "execute_result"
    }
   ],
   "source": [
    "def add(x,y):\n",
    "     return(x+y)\n",
    "add(2,3)"
   ]
  },
  {
   "cell_type": "code",
   "execution_count": 25,
   "id": "830043d6-a2f1-4b74-bf18-c1ffaa780304",
   "metadata": {},
   "outputs": [
    {
     "data": {
      "text/plain": [
       "5"
      ]
     },
     "execution_count": 25,
     "metadata": {},
     "output_type": "execute_result"
    }
   ],
   "source": [
    "def add(x,y):\n",
    "     return(x+y)\n",
    "add(x=3,y=2)"
   ]
  },
  {
   "cell_type": "code",
   "execution_count": 11,
   "id": "754e9887-7e0b-4f49-9b5d-97b224e0f0eb",
   "metadata": {},
   "outputs": [
    {
     "name": "stdout",
     "output_type": "stream",
     "text": [
      "hello srinija welcome to innomatics\n"
     ]
    }
   ],
   "source": [
    "def welcome(x):\n",
    "    print(\"hello\",x,\"welcome to innomatics\")\n",
    "welcome(\"srinija\")\n"
   ]
  },
  {
   "cell_type": "code",
   "execution_count": 41,
   "id": "a798a0fd-29e9-4de2-b1d1-4fbe31f30476",
   "metadata": {},
   "outputs": [
    {
     "data": {
      "text/plain": [
       "70.11"
      ]
     },
     "execution_count": 41,
     "metadata": {},
     "output_type": "execute_result"
    }
   ],
   "source": [
    "#calculating bills of a customer\n",
    "gst=0.05\n",
    "tax=0.18\n",
    "def bills(product):\n",
    "       #product=57\n",
    "       total_bills=product+product*gst+product*tax\n",
    "       return total_bills\n",
    "bills(57)"
   ]
  },
  {
   "cell_type": "code",
   "execution_count": 103,
   "id": "89d1af01-1257-4c79-81f0-6a01e0ee3e59",
   "metadata": {},
   "outputs": [
    {
     "name": "stdout",
     "output_type": "stream",
     "text": [
      "[66.42, 82.41, 107.00999999999999]\n"
     ]
    }
   ],
   "source": [
    "#calculating bills of  customers\n",
    "gst=0.05\n",
    "tax=0.18\n",
    "total_bills=[]\n",
    "def bills(products):\n",
    "       for i in products:\n",
    "           total=i+i*gst+i*tax\n",
    "           total_bills.append(total)\n",
    "       print(total_bills)\n",
    "    \n",
    "           \n",
    "bills([54,67,87])\n",
    "\n"
   ]
  },
  {
   "cell_type": "code",
   "execution_count": 137,
   "id": "0b1f1ace-3ac3-46a2-ba4f-70e27e4b7d31",
   "metadata": {},
   "outputs": [
    {
     "name": "stdout",
     "output_type": "stream",
     "text": [
      "140\n",
      "3\n",
      "46.666666666666664\n"
     ]
    }
   ],
   "source": [
    "marks=[35,67,38]\n",
    "sums=0\n",
    "nums=0\n",
    "for i in marks:\n",
    "    sums=i+sums\n",
    "    nums=nums+1\n",
    "print(sums)\n",
    "print(nums)\n",
    "avg=sums/nums\n",
    "print(avg)"
   ]
  },
  {
   "cell_type": "code",
   "execution_count": 193,
   "id": "45235df2-f7a4-4d28-8092-36d388583895",
   "metadata": {},
   "outputs": [
    {
     "data": {
      "text/plain": [
       "46.67"
      ]
     },
     "execution_count": 193,
     "metadata": {},
     "output_type": "execute_result"
    }
   ],
   "source": [
    "\n",
    "def average(marks):\n",
    "     nums=0\n",
    "     sums=0\n",
    "     for i in marks:\n",
    "         sums=sums+i\n",
    "         nums=nums+1\n",
    "     avg=sums/nums\n",
    "     return round(avg,2)\n",
    "     \n",
    "average([35,67,38])    \n",
    "    "
   ]
  },
  {
   "cell_type": "code",
   "execution_count": 179,
   "id": "013e663c-463f-4f6c-bad4-bcf2d15776eb",
   "metadata": {},
   "outputs": [
    {
     "name": "stdout",
     "output_type": "stream",
     "text": [
      "48.75\n"
     ]
    }
   ],
   "source": [
    "average([90,40,27,38])"
   ]
  },
  {
   "cell_type": "code",
   "execution_count": 33,
   "id": "046a5ce6-44b6-4a1b-8afd-9984706f4941",
   "metadata": {},
   "outputs": [
    {
     "data": {
      "text/plain": [
       "[23, 45, 89]"
      ]
     },
     "execution_count": 33,
     "metadata": {},
     "output_type": "execute_result"
    }
   ],
   "source": [
    "\n",
    "def input(list):\n",
    "    return list\n",
    "input([23,45,89])\n",
    "        "
   ]
  },
  {
   "cell_type": "code",
   "execution_count": 15,
   "id": "de14f11e-dbd9-451f-b0c6-a4aabffd0ee2",
   "metadata": {},
   "outputs": [
    {
     "name": "stdout",
     "output_type": "stream",
     "text": [
      "82000\n"
     ]
    }
   ],
   "source": [
    "#take input fronm user -salary,savins,insurance,pf calculate total amountt hes paying to the insurance\n",
    "def total(salary,savings,insurance,pf):\n",
    "          total_=salary+savings+pf\n",
    "          print(total_)\n",
    "total(30000,50000,5000,2000)"
   ]
  },
  {
   "cell_type": "code",
   "execution_count": 23,
   "id": "b778ba0e-dc16-4d3c-8a4e-4e93534a1377",
   "metadata": {},
   "outputs": [
    {
     "name": "stdout",
     "output_type": "stream",
     "text": [
      "ajinirs\n"
     ]
    }
   ],
   "source": [
    "#try to take name and reverse it\n",
    "name=\"srinija\"\n",
    "def string(name):\n",
    "       print(name[::-1])\n",
    "string(name)"
   ]
  },
  {
   "cell_type": "code",
   "execution_count": 59,
   "id": "d1cbe493-fae9-4d58-8caf-d4ed7efeb1c3",
   "metadata": {},
   "outputs": [
    {
     "name": "stdout",
     "output_type": "stream",
     "text": [
      "can you can a can as canner can can\n",
      "11\n"
     ]
    }
   ],
   "source": [
    "#count vowels from a given string\n",
    "def count_each_vowel(x):\n",
    "    print(x)\n",
    "    count=0\n",
    "    for i in x:\n",
    "        if i=='a' or i=='e' or i=='i' or i=='o' or i=='u':\n",
    "                #print(i)\n",
    "                count=count+1\n",
    "    print(count)\n",
    "count_each_vowel(\"can you can a can as canner can can\")\n",
    "#count_each_vowel(x)\n",
    "\n",
    "\n"
   ]
  },
  {
   "cell_type": "code",
   "execution_count": 73,
   "id": "87e7afb3-1216-4bb7-b46a-089458a2f5b1",
   "metadata": {},
   "outputs": [
    {
     "name": "stdout",
     "output_type": "stream",
     "text": [
      "['ik', 'no', 'yo']\n",
      "['why', 'uiiwu', 'ajiwiwun', 'ret']\n"
     ]
    }
   ],
   "source": [
    "#filter words which are having the length less than 3\n",
    "less_than_3=[]\n",
    "greater_than_3=[]\n",
    "\n",
    "def input(x):\n",
    "    for i in x.split():\n",
    "          if len(i)<3:\n",
    "              less_than_3.append(i)\n",
    "          else:\n",
    "              greater_than_3.append(i)\n",
    "    print(less_than_3)\n",
    "    print(greater_than_3)\n",
    "               \n",
    "input(\"why uiiwu ajiwiwun ret ik no yo\")"
   ]
  },
  {
   "cell_type": "markdown",
   "id": "1ffb7de8-16f5-47ce-9cf4-b107652a7fb7",
   "metadata": {},
   "source": [
    "# types of arguments\n",
    ">\n",
    "#1.arbitary 2.positional 3.*args-multiple arbitary arguments 4.**args-multiple positional arguments 5.default"
   ]
  },
  {
   "cell_type": "code",
   "execution_count": 107,
   "id": "28f67c1e-9199-437b-9b25-5cefee35723f",
   "metadata": {},
   "outputs": [
    {
     "name": "stdout",
     "output_type": "stream",
     "text": [
      "8\n"
     ]
    }
   ],
   "source": [
    "#1.arbitary arguments\n",
    "def difference(a,b):\n",
    "    c=a+b\n",
    "    return c\n",
    "print(difference(5,3))"
   ]
  },
  {
   "cell_type": "code",
   "execution_count": 105,
   "id": "ebbd127c-d68e-4e5a-8107-10a1a95f77da",
   "metadata": {},
   "outputs": [
    {
     "name": "stdout",
     "output_type": "stream",
     "text": [
      "8\n",
      "11\n"
     ]
    }
   ],
   "source": [
    "#2.positional arguments\n",
    "def difference(a,b):\n",
    "    c=a+b\n",
    "    return c\n",
    "print(difference(a=5,b=3))\n",
    "print(difference(b=3,a=8))"
   ]
  },
  {
   "cell_type": "code",
   "execution_count": 75,
   "id": "07ce91bc-88d5-4922-ac81-4a6dc05606fa",
   "metadata": {},
   "outputs": [
    {
     "name": "stdout",
     "output_type": "stream",
     "text": [
      "(23, 45, 67)\n"
     ]
    }
   ],
   "source": [
    "#3.*args-multiple arbitary arguments(positional arguments)\n",
    "def some(*x):\n",
    "    print(x)\n",
    "some(23,45,67)"
   ]
  },
  {
   "cell_type": "code",
   "execution_count": 79,
   "id": "40710f76-de7e-49c0-a83c-8bf7a9274443",
   "metadata": {},
   "outputs": [
    {
     "name": "stdout",
     "output_type": "stream",
     "text": [
      "{'a': 23, 'b': 45, 'c': 67}\n"
     ]
    }
   ],
   "source": [
    "#4.**args argument-multiple positional arguments(keyword arguments)\n",
    "def some(**x):\n",
    "    print(x)\n",
    "some(a=23,b=45,c=67)"
   ]
  },
  {
   "cell_type": "code",
   "execution_count": 97,
   "id": "affe1a5d-4650-4e4f-a470-eb59161bae2e",
   "metadata": {},
   "outputs": [
    {
     "data": {
      "text/plain": [
       "8"
      ]
     },
     "execution_count": 97,
     "metadata": {},
     "output_type": "execute_result"
    }
   ],
   "source": [
    "#5.default\n",
    "def difference(a,b=5):\n",
    "    c=a+b\n",
    "    return c\n",
    "difference(3)\n"
   ]
  },
  {
   "cell_type": "code",
   "execution_count": 99,
   "id": "fba7d708-88ae-40e1-9672-19e2cda4b2dd",
   "metadata": {},
   "outputs": [
    {
     "name": "stdout",
     "output_type": "stream",
     "text": [
      "7\n"
     ]
    }
   ],
   "source": [
    "#funcion will accept only arbitary arguments\n",
    "def s(a,b,/):\n",
    "    print(a+b)\n",
    "s(5,2)"
   ]
  },
  {
   "cell_type": "code",
   "execution_count": 87,
   "id": "094c7b53-7aa5-4017-98a2-3bd73a2d0c2a",
   "metadata": {},
   "outputs": [
    {
     "name": "stdout",
     "output_type": "stream",
     "text": [
      "7\n"
     ]
    }
   ],
   "source": [
    "#takes only positional arguments\n",
    "def s(*,a,b):\n",
    "    print(a+b)\n",
    "s(a=5,b=2)"
   ]
  },
  {
   "cell_type": "code",
   "execution_count": 95,
   "id": "951084f7-0645-4f10-b90e-9e3d9dbdc6e3",
   "metadata": {},
   "outputs": [
    {
     "name": "stdout",
     "output_type": "stream",
     "text": [
      "8\n",
      "-1\n"
     ]
    }
   ],
   "source": [
    "#arbitary and positional\n",
    "def s(a,b,/,*,c,d):\n",
    "    print(a+b)\n",
    "    print(c-d)\n",
    "s(5,3,c=7,d=8)\n"
   ]
  },
  {
   "cell_type": "markdown",
   "id": "6bb3b5d7-8250-4a06-9777-8e8015cad53b",
   "metadata": {},
   "source": [
    "# Lambda function\n",
    "\n",
    "#syntax:function_name=lambda inputs : expression"
   ]
  },
  {
   "cell_type": "code",
   "execution_count": 44,
   "id": "61443e11-e492-437e-9cbc-8fde53584ab9",
   "metadata": {},
   "outputs": [
    {
     "data": {
      "text/plain": [
       "9"
      ]
     },
     "execution_count": 44,
     "metadata": {},
     "output_type": "execute_result"
    }
   ],
   "source": [
    "mul=lambda x:x*3\n",
    "mul(3)"
   ]
  },
  {
   "cell_type": "code",
   "execution_count": 99,
   "id": "ea2a808a-2c3f-4baa-b132-be4a2f7b9f83",
   "metadata": {},
   "outputs": [
    {
     "data": {
      "text/plain": [
       "15"
      ]
     },
     "execution_count": 99,
     "metadata": {},
     "output_type": "execute_result"
    }
   ],
   "source": [
    "mul=lambda x,y:x*y\n",
    "mul(3,5)"
   ]
  },
  {
   "cell_type": "code",
   "execution_count": 103,
   "id": "36c3391f-092d-497b-8b80-f40eb142389d",
   "metadata": {},
   "outputs": [
    {
     "data": {
      "text/plain": [
       "6"
      ]
     },
     "execution_count": 103,
     "metadata": {},
     "output_type": "execute_result"
    }
   ],
   "source": [
    "mul=lambda x,squares,y:x*squares \n",
    "mul(3,2,5)"
   ]
  },
  {
   "cell_type": "code",
   "execution_count": 51,
   "id": "09382f63-9f59-4201-85a4-9226cc0df8c8",
   "metadata": {},
   "outputs": [
    {
     "data": {
      "text/plain": [
       "25"
      ]
     },
     "execution_count": 51,
     "metadata": {},
     "output_type": "execute_result"
    }
   ],
   "source": [
    "square=lambda x:x**2\n",
    "square(5)"
   ]
  },
  {
   "cell_type": "code",
   "execution_count": 53,
   "id": "7713dbf3-1bc0-472a-bce9-b00df3f59788",
   "metadata": {},
   "outputs": [
    {
     "data": {
      "text/plain": [
       "125"
      ]
     },
     "execution_count": 53,
     "metadata": {},
     "output_type": "execute_result"
    }
   ],
   "source": [
    "cube=lambda x:x**3\n",
    "cube(5)"
   ]
  },
  {
   "cell_type": "markdown",
   "id": "eaddfe4a-bf05-410d-aab8-643d9daf2c8f",
   "metadata": {},
   "source": [
    "# recursion"
   ]
  },
  {
   "cell_type": "code",
   "execution_count": null,
   "id": "bedb2d63-0e0f-482e-8abe-28d1e7630cd5",
   "metadata": {},
   "outputs": [],
   "source": []
  },
  {
   "cell_type": "code",
   "execution_count": 3,
   "id": "ab9b384d-fee2-4d10-b615-aac8d12f0bd8",
   "metadata": {},
   "outputs": [
    {
     "data": {
      "text/plain": [
       "15"
      ]
     },
     "execution_count": 3,
     "metadata": {},
     "output_type": "execute_result"
    }
   ],
   "source": [
    "#sum of numbers\n",
    "def sum_num(n):\n",
    "    if n==1:\n",
    "        return 1\n",
    "    return n+sum_num(n-1)\n",
    "sum_num(5)"
   ]
  },
  {
   "cell_type": "code",
   "execution_count": 11,
   "id": "1222373a-8079-44e3-8461-d11ce622b8fd",
   "metadata": {},
   "outputs": [
    {
     "data": {
      "text/plain": [
       "120"
      ]
     },
     "execution_count": 11,
     "metadata": {},
     "output_type": "execute_result"
    }
   ],
   "source": [
    "#factorial of numbers\n",
    "def factorial(n):\n",
    "    if n==1 or n==0:\n",
    "        return 1\n",
    "    else:\n",
    "        return n*factorial(n-1)\n",
    "factorial(5)"
   ]
  },
  {
   "cell_type": "code",
   "execution_count": 7,
   "id": "13e26e64-40da-4d4a-92f5-c75704410749",
   "metadata": {},
   "outputs": [
    {
     "name": "stdin",
     "output_type": "stream",
     "text": [
      "enter any number 7\n"
     ]
    },
    {
     "name": "stdout",
     "output_type": "stream",
     "text": [
      "0 1 1 2 3 5 8 "
     ]
    }
   ],
   "source": [
    "#fibonnaci recursion\n",
    "def fib(n):\n",
    "    if n==0:\n",
    "        return 0\n",
    "    elif n==1:\n",
    "        return 1\n",
    "    else:\n",
    "        return fib(n-1)+fib(n-2)\n",
    "n=int(input(\"enter any number\"))\n",
    "for i in range(n):\n",
    "        print(fib(i),end=\" \")"
   ]
  },
  {
   "cell_type": "code",
   "execution_count": 1,
   "id": "267e6e55-bda8-4228-a1c7-d03ccda0f80d",
   "metadata": {},
   "outputs": [],
   "source": [
    "#fibonacci series\n",
    "n=20\n",
    "def fib():\n",
    "        sequence=[0,1]\n",
    "        while len(sequence)<n:\n",
    "            sequence.append(sequence[-1]+sequence[-2])\n",
    "        return sequence,sum(sequence)\n",
    "    "
   ]
  },
  {
   "cell_type": "code",
   "execution_count": 27,
   "id": "8f939338-1a0d-484e-b271-2c4ea73e211c",
   "metadata": {},
   "outputs": [
    {
     "name": "stdout",
     "output_type": "stream",
     "text": [
      "this is not an armstrong number\n"
     ]
    }
   ],
   "source": [
    "#armstrong number\n",
    "def armstrong(x):\n",
    "    x=str(x)\n",
    "    counter=0\n",
    "    for i in x:\n",
    "        i=int(i)\n",
    "        i=i**3\n",
    "        counter=counter+1\n",
    "    if int(x)==counter:\n",
    "        print(\"this is an armstrong number\")\n",
    "    else:\n",
    "        print(\"this is not an armstrong number\")\n",
    "armstrong('153')\n"
   ]
  },
  {
   "cell_type": "code",
   "execution_count": 25,
   "id": "99667aac-32d9-4d4e-bc4b-550a25531e7c",
   "metadata": {},
   "outputs": [
    {
     "name": "stdout",
     "output_type": "stream",
     "text": [
      "this is not an armstrong number\n"
     ]
    }
   ],
   "source": [
    "armstrong(153)"
   ]
  },
  {
   "cell_type": "code",
   "execution_count": 23,
   "id": "3912800d-4c42-495d-ad88-c72bdec0da03",
   "metadata": {},
   "outputs": [
    {
     "name": "stdout",
     "output_type": "stream",
     "text": [
      "66000 1800 64200\n"
     ]
    }
   ],
   "source": [
    "#salary calculation\n",
    "def salary(gross_salary,hra,med_ins,trans_allowance,pf,incometax):\n",
    "    salary=gross_salary+hra+trans_allowance\n",
    "    cuttings=(pf+incometax)\n",
    "    remaining_balance=salary-cuttings\n",
    "    return salary,cuttings,remaining_balance\n",
    "A_sal,A_cuttings,A_balance=salary(gross_salary=60000,hra=5000,med_ins=800,trans_allowance=1000,pf=800,incometax=1000)\n",
    "print(A_sal,A_cuttings,A_balance)"
   ]
  },
  {
   "cell_type": "code",
   "execution_count": 31,
   "id": "6232c448-f510-496c-b57b-9ed710212f19",
   "metadata": {},
   "outputs": [],
   "source": [
    "def monthly_expenditure(remaining_balance,child_support=0,house_rent=0,groceries=0):\n",
    "    child_support=0.3*remaining_balance\n",
    "    house_rent=5000\n",
    "    groceries=0.1*remaining_balance\n",
    "    total_exp=child_support+groceries+house_rent\n",
    "    remaining_balance=remaining_balance-total_exp\n",
    "    return remaining_balance"
   ]
  },
  {
   "cell_type": "code",
   "execution_count": 33,
   "id": "129ee344-91bb-4afb-bf0f-d3ca9678d1fd",
   "metadata": {},
   "outputs": [
    {
     "name": "stdout",
     "output_type": "stream",
     "text": [
      "33520.0\n"
     ]
    }
   ],
   "source": [
    "final_savings=monthly_expenditure(A_balance)\n",
    "print(final_savings)"
   ]
  },
  {
   "cell_type": "markdown",
   "id": "069dacfc-0f5e-43b6-9cc0-a0529a862fd6",
   "metadata": {},
   "source": [
    "# Types of funcTions"
   ]
  },
  {
   "cell_type": "code",
   "execution_count": 7,
   "id": "9ea3b2a1-3c32-4315-9e03-731b67cecf46",
   "metadata": {},
   "outputs": [],
   "source": [
    "def something_1(a,b):\n",
    "    c=a-b\n",
    "    return c #local variable\n",
    "def something_2(c,d):\n",
    "    e=c+d\n",
    "def something_3(e,f):\n",
    "    g=e+f\n",
    "    \n",
    "    "
   ]
  },
  {
   "cell_type": "code",
   "execution_count": 27,
   "id": "e05176cc-42a8-4494-9554-533dcaadb1cd",
   "metadata": {},
   "outputs": [
    {
     "name": "stdout",
     "output_type": "stream",
     "text": [
      "None\n"
     ]
    }
   ],
   "source": [
    "#x=something_1(1,2)\n",
    "print(something_2(2,4))"
   ]
  },
  {
   "cell_type": "code",
   "execution_count": 25,
   "id": "002d68c9-3c20-42ad-82e2-4f9555eab5b8",
   "metadata": {},
   "outputs": [],
   "source": [
    "something_2(x,4)"
   ]
  },
  {
   "cell_type": "code",
   "execution_count": 53,
   "id": "054d313a-f4c4-4e91-a869-46ec782531f5",
   "metadata": {},
   "outputs": [
    {
     "name": "stdin",
     "output_type": "stream",
     "text": [
      " 20\n"
     ]
    },
    {
     "name": "stdout",
     "output_type": "stream",
     "text": [
      "0 1 1 2 3 5 8 13 21 34 55 89 144 233 377 610 987 1597 2584 4181 "
     ]
    }
   ],
   "source": [
    "#using recursion print fibonaci series\n",
    "def fibb(n):\n",
    "    if n==0:\n",
    "        return 0\n",
    "    elif n==1:\n",
    "        return 1\n",
    "    else:\n",
    "        return fibb(n-1)+fibb(n-2)\n",
    "n=int(input())\n",
    "for n in range(n):\n",
    "    print(fibb(n),end=\" \")\n",
    "        "
   ]
  },
  {
   "cell_type": "code",
   "execution_count": 1,
   "id": "22589cbd-b88a-4852-9fba-2afd63ab7721",
   "metadata": {},
   "outputs": [
    {
     "data": {
      "text/plain": [
       "15"
      ]
     },
     "execution_count": 1,
     "metadata": {},
     "output_type": "execute_result"
    }
   ],
   "source": [
    "def sum(n):\n",
    "    if n==0:\n",
    "        return 0\n",
    "    elif n==1:\n",
    "        return 1\n",
    "    else:\n",
    "        return n+sum(n-1)\n",
    "sum(5)\n",
    "        "
   ]
  },
  {
   "cell_type": "code",
   "execution_count": 8,
   "id": "6534af54-cefc-45a6-bcb7-3314bf079e2f",
   "metadata": {},
   "outputs": [
    {
     "name": "stdin",
     "output_type": "stream",
     "text": [
      " 9\n"
     ]
    },
    {
     "name": "stdout",
     "output_type": "stream",
     "text": [
      "0 1 1 2 3 5 8 13 21 \n",
      "sum is  54\n"
     ]
    }
   ],
   "source": [
    "def fibb(n):\n",
    "    if n==0:\n",
    "        return 0\n",
    "    elif n==1:\n",
    "        return 1\n",
    "    else:\n",
    "         sum=fibb(n-1)+fibb(n-2)\n",
    "         return sum\n",
    "n=int(input())\n",
    "sum=0\n",
    "for i in range(n):\n",
    "    print(fibb(i),end=\" \")\n",
    "    sum=fibb(i)+sum\n",
    "print()\n",
    "print(\"sum is \",sum)\n"
   ]
  },
  {
   "cell_type": "code",
   "execution_count": 12,
   "id": "736b4f3a-d033-40f8-adbf-27a15fbf3c2a",
   "metadata": {},
   "outputs": [
    {
     "data": {
      "text/plain": [
       "5"
      ]
     },
     "execution_count": 12,
     "metadata": {},
     "output_type": "execute_result"
    }
   ],
   "source": []
  },
  {
   "cell_type": "code",
   "execution_count": 27,
   "id": "a7b60360-a743-4ab2-b6be-aa770c359e0a",
   "metadata": {},
   "outputs": [
    {
     "data": {
      "text/plain": [
       "678"
      ]
     },
     "execution_count": 27,
     "metadata": {},
     "output_type": "execute_result"
    }
   ],
   "source": [
    "\n",
    "\n",
    "def input(a):\n",
    "     sum=0\n",
    "     sum=a+sum\n",
    "     return sum\n",
    "input(678)"
   ]
  },
  {
   "cell_type": "code",
   "execution_count": 65,
   "id": "4d331147-9878-4441-b6e5-e1dbb2a51cd4",
   "metadata": {},
   "outputs": [
    {
     "name": "stdout",
     "output_type": "stream",
     "text": [
      "21\n"
     ]
    }
   ],
   "source": [
    "#sum of integers in string\n",
    "user_input='678'\n",
    "sum=0\n",
    "for i in user_input:\n",
    "    #print(i)\n",
    "    i=int(i) \n",
    "    #print(type(i))\n",
    "    sum=sum+i\n",
    "print(sum)\n",
    "    "
   ]
  },
  {
   "cell_type": "code",
   "execution_count": 5,
   "id": "c3023b82-46ba-4b10-9486-72a0b529bc1b",
   "metadata": {},
   "outputs": [],
   "source": [
    "def add_number(number):\n",
    "            if number==0:\n",
    "                return 0\n",
    "            else:\n",
    "               return number%10+add_number(number//10)"
   ]
  },
  {
   "cell_type": "code",
   "execution_count": 7,
   "id": "f49f8ee7-a9f0-45f6-9309-f663ed7feea7",
   "metadata": {},
   "outputs": [
    {
     "data": {
      "text/plain": [
       "15"
      ]
     },
     "execution_count": 7,
     "metadata": {},
     "output_type": "execute_result"
    }
   ],
   "source": [
    "add_number(456)"
   ]
  },
  {
   "cell_type": "markdown",
   "id": "fc15b167-4c6a-406a-a5f8-cbefad2500e7",
   "metadata": {},
   "source": [
    "# map and filter\n",
    "syntax:map(function,iterable-list,tuple)"
   ]
  },
  {
   "cell_type": "code",
   "execution_count": 225,
   "id": "41bc5386-4a13-4b77-a260-c74ef724cea9",
   "metadata": {},
   "outputs": [
    {
     "data": {
      "text/plain": [
       "[None, 2, None, 4, None, 6]"
      ]
     },
     "execution_count": 225,
     "metadata": {},
     "output_type": "execute_result"
    }
   ],
   "source": [
    "#map-map(function,iterables)\n",
    "T=[1,2,3,4,5,6]\n",
    "def something(x):\n",
    "    if x%2==0:\n",
    "        return x\n",
    "list(map(something,T))"
   ]
  },
  {
   "cell_type": "code",
   "execution_count": 237,
   "id": "eb9fea2b-bab6-405e-ab36-f23dd01caaab",
   "metadata": {},
   "outputs": [
    {
     "data": {
      "text/plain": [
       "[2, 4, 6]"
      ]
     },
     "execution_count": 237,
     "metadata": {},
     "output_type": "execute_result"
    }
   ],
   "source": [
    "#filter-filter(function,iterables)\n",
    "T=[1,2,3,4,5,6]\n",
    "def something(x):\n",
    "    if x%2==0:\n",
    "        return x\n",
    "list(filter(something,T))"
   ]
  },
  {
   "cell_type": "code",
   "execution_count": 239,
   "id": "115beabe-5853-4110-b949-d185833fc635",
   "metadata": {},
   "outputs": [
    {
     "data": {
      "text/plain": [
       "(2, 4, 6)"
      ]
     },
     "execution_count": 239,
     "metadata": {},
     "output_type": "execute_result"
    }
   ],
   "source": [
    "#filter\n",
    "T=[1,2,3,4,5,6]\n",
    "def something(x):\n",
    "    if x%2==0:\n",
    "        return x\n",
    "tuple(filter(something,T))"
   ]
  },
  {
   "cell_type": "code",
   "execution_count": 253,
   "id": "f3843831-7367-45cc-a41d-86b27ac8da41",
   "metadata": {},
   "outputs": [
    {
     "data": {
      "text/plain": [
       "[[20, 10], [40, 30], [60, 50]]"
      ]
     },
     "execution_count": 253,
     "metadata": {},
     "output_type": "execute_result"
    }
   ],
   "source": [
    "T=[[10,20],[30,40],[50,60]]\n",
    "[[x,y]for y,x in T]"
   ]
  },
  {
   "cell_type": "code",
   "execution_count": 255,
   "id": "538570fe-114a-4a93-8f91-6f7fd1413bc7",
   "metadata": {},
   "outputs": [
    {
     "name": "stdout",
     "output_type": "stream",
     "text": [
      "[[20, 10], [40, 30], [60, 50]]\n"
     ]
    }
   ],
   "source": [
    "T=[[10,20],[30,40],[50,60]]\n",
    "for i in T:\n",
    "    i[0],i[1]=i[1],i[0]\n",
    "print(T)"
   ]
  },
  {
   "cell_type": "code",
   "execution_count": 263,
   "id": "3406fe32-e12a-43d5-84f9-7e5c2e6f4c54",
   "metadata": {},
   "outputs": [
    {
     "name": "stdout",
     "output_type": "stream",
     "text": [
      "5\n"
     ]
    },
    {
     "data": {
      "text/plain": [
       "['apple', 'ball']"
      ]
     },
     "execution_count": 263,
     "metadata": {},
     "output_type": "execute_result"
    }
   ],
   "source": [
    "#sorted(iterable,key)\n",
    "T=[\"apple\",\"ball\"]\n",
    "def length(x):\n",
    "    return len(x)\n",
    "print(length(T[0]))\n",
    "sorted(T,key=len,reverse=True)"
   ]
  },
  {
   "cell_type": "code",
   "execution_count": 5,
   "id": "d8d1923d-bd3f-4454-9215-bb22cc2a6214",
   "metadata": {},
   "outputs": [
    {
     "ename": "SyntaxError",
     "evalue": "invalid syntax (309708136.py, line 1)",
     "output_type": "error",
     "traceback": [
      "\u001b[1;36m  Cell \u001b[1;32mIn[5], line 1\u001b[1;36m\u001b[0m\n\u001b[1;33m    def func(n[1:20]):\u001b[0m\n\u001b[1;37m              ^\u001b[0m\n\u001b[1;31mSyntaxError\u001b[0m\u001b[1;31m:\u001b[0m invalid syntax\n"
     ]
    }
   ],
   "source": [
    "\n",
    "        "
   ]
  },
  {
   "cell_type": "code",
   "execution_count": 84,
   "id": "d0b95e03-cebc-42fc-bf9b-61700861764e",
   "metadata": {},
   "outputs": [
    {
     "data": {
      "text/plain": [
       "'not in range'"
      ]
     },
     "execution_count": 84,
     "metadata": {},
     "output_type": "execute_result"
    }
   ],
   "source": [
    "def number(num,range):\n",
    "    if num in range:\n",
    "        return(\"in range\")\n",
    "    else:\n",
    "        return \"not in range\"\n",
    "number(89,range(1,20))"
   ]
  },
  {
   "cell_type": "markdown",
   "id": "777b02c2-9382-460c-9213-00541c2f7574",
   "metadata": {},
   "source": [
    "# reduce"
   ]
  },
  {
   "cell_type": "code",
   "execution_count": 23,
   "id": "48e6bb1a-2316-417e-a885-9caf40d1e032",
   "metadata": {},
   "outputs": [
    {
     "data": {
      "text/plain": [
       "6"
      ]
     },
     "execution_count": 23,
     "metadata": {},
     "output_type": "execute_result"
    }
   ],
   "source": [
    "#(function,iterable)\n",
    "#reduce elements to len \n",
    "from functools import reduce\n",
    "def add(x,y):\n",
    "     return x+y\n",
    "def mul(x,y):\n",
    "    return x*y\n",
    "reduce(mul,(2,3))\n"
   ]
  },
  {
   "cell_type": "code",
   "execution_count": 73,
   "id": "a7f9ff8d-e7e1-4d21-80bb-14731a318ed5",
   "metadata": {},
   "outputs": [
    {
     "data": {
      "text/plain": [
       "[4, 5, 6]"
      ]
     },
     "execution_count": 73,
     "metadata": {},
     "output_type": "execute_result"
    }
   ],
   "source": [
    "#adding 3 to every elementby 3\n",
    "def something(x):\n",
    "  for i in range(0,len(x)):\n",
    "      x[i]=x[i]+3\n",
    "  return x\n",
    "something([1,2,3])"
   ]
  },
  {
   "cell_type": "code",
   "execution_count": 37,
   "id": "4579fb75-a484-4142-a957-e9b01b604277",
   "metadata": {},
   "outputs": [
    {
     "data": {
      "text/plain": [
       "208320"
      ]
     },
     "execution_count": 37,
     "metadata": {},
     "output_type": "execute_result"
    }
   ],
   "source": [
    "from functools import reduce\n",
    "nums = [15, 2, 31, 4, 56]\n",
    "reduce(lambda x,nums:x*nums,nums)"
   ]
  },
  {
   "cell_type": "code",
   "execution_count": 95,
   "id": "f9b1f70f-96f1-401c-9847-2305f97dcb3d",
   "metadata": {},
   "outputs": [
    {
     "data": {
      "text/plain": [
       "[4, 5, 6]"
      ]
     },
     "execution_count": 95,
     "metadata": {},
     "output_type": "execute_result"
    }
   ],
   "source": [
    "a=[1,2,3]\n",
    "list(map(lambda y:y+3,a))\n"
   ]
  },
  {
   "cell_type": "code",
   "execution_count": 17,
   "id": "aaf0f7f4-f9cd-4b33-bb2d-763956f590c2",
   "metadata": {},
   "outputs": [
    {
     "data": {
      "text/plain": [
       "['APPLE', 'BALL', 'CARROT']"
      ]
     },
     "execution_count": 17,
     "metadata": {},
     "output_type": "execute_result"
    }
   ],
   "source": [
    "def uppercase(s):\n",
    "    return s.upper()         \n",
    "\n",
    "list(map(uppercase,['apple','ball','carrot']))\n"
   ]
  },
  {
   "cell_type": "code",
   "execution_count": 125,
   "id": "919ad6b7-c8b6-43b3-b23d-85e9aa4c89ce",
   "metadata": {},
   "outputs": [
    {
     "data": {
      "text/plain": [
       "['APPLE', 'BALL', 'CARROT']"
      ]
     },
     "execution_count": 125,
     "metadata": {},
     "output_type": "execute_result"
    }
   ],
   "source": [
    "#list comprehension\n",
    "s=['apple','ball','carrot']\n",
    "[x.upper() for x in s]   "
   ]
  },
  {
   "cell_type": "code",
   "execution_count": 127,
   "id": "ee0cac35-b243-496c-8bca-563a1b0d0e3d",
   "metadata": {},
   "outputs": [
    {
     "data": {
      "text/plain": [
       "['APPLE', 'BALL', 'CARROT']"
      ]
     },
     "execution_count": 127,
     "metadata": {},
     "output_type": "execute_result"
    }
   ],
   "source": [
    "#map()\n",
    "def uppercase(s):\n",
    "    return s.upper()         \n",
    "\n",
    "list(map(uppercase,['apple','ball','carrot']))"
   ]
  },
  {
   "cell_type": "code",
   "execution_count": 141,
   "id": "e66b54f3-9d4c-413b-829b-4a6f8b36758b",
   "metadata": {},
   "outputs": [
    {
     "data": {
      "text/plain": [
       "['APPLE', 'BALL', 'CARROT']"
      ]
     },
     "execution_count": 141,
     "metadata": {},
     "output_type": "execute_result"
    }
   ],
   "source": [
    "s=['apple','ball','carrot']\n",
    "x=lambda s:s.upper()\n",
    "list(map(x,a))"
   ]
  },
  {
   "cell_type": "code",
   "execution_count": 145,
   "id": "4af05934-478a-4df2-8852-9671c21acc37",
   "metadata": {},
   "outputs": [
    {
     "ename": "SyntaxError",
     "evalue": "invalid syntax. Perhaps you forgot a comma? (2128230408.py, line 2)",
     "output_type": "error",
     "traceback": [
      "\u001b[1;36m  Cell \u001b[1;32mIn[145], line 2\u001b[1;36m\u001b[0m\n\u001b[1;33m    reduce(lambda x,y:x+\" \"y,a)\u001b[0m\n\u001b[1;37m                      ^\u001b[0m\n\u001b[1;31mSyntaxError\u001b[0m\u001b[1;31m:\u001b[0m invalid syntax. Perhaps you forgot a comma?\n"
     ]
    }
   ],
   "source": [
    "a=['apple','ball','carrot']\n",
    "reduce(lambda x,y:x+\" \"y,a)"
   ]
  },
  {
   "cell_type": "code",
   "execution_count": 184,
   "id": "9c453750-e1f1-45f1-aac6-04085e9cc1e0",
   "metadata": {},
   "outputs": [
    {
     "ename": "TypeError",
     "evalue": "can only concatenate list (not \"int\") to list",
     "output_type": "error",
     "traceback": [
      "\u001b[1;31m---------------------------------------------------------------------------\u001b[0m",
      "\u001b[1;31mTypeError\u001b[0m                                 Traceback (most recent call last)",
      "Cell \u001b[1;32mIn[184], line 3\u001b[0m\n\u001b[0;32m      1\u001b[0m s\u001b[38;5;241m=\u001b[39m[\u001b[38;5;124m'\u001b[39m\u001b[38;5;124mapple\u001b[39m\u001b[38;5;124m'\u001b[39m,\u001b[38;5;124m'\u001b[39m\u001b[38;5;124mballoooooooo\u001b[39m\u001b[38;5;124m'\u001b[39m,\u001b[38;5;124m'\u001b[39m\u001b[38;5;124mcarrot\u001b[39m\u001b[38;5;124m'\u001b[39m]\n\u001b[0;32m      2\u001b[0m \u001b[38;5;66;03m#ff=lambda x:len(x)\u001b[39;00m\n\u001b[1;32m----> 3\u001b[0m \u001b[38;5;28mprint\u001b[39m(\u001b[38;5;28mmax\u001b[39m(\u001b[38;5;28mlist\u001b[39m(\u001b[38;5;28mmap\u001b[39m(\u001b[38;5;28;01mlambda\u001b[39;00m x:\u001b[38;5;28mlen\u001b[39m(x),s))))\n\u001b[0;32m      5\u001b[0m \u001b[38;5;28mprint\u001b[39m(\u001b[38;5;28mmax\u001b[39m(\u001b[38;5;28mlist\u001b[39m(\u001b[38;5;28mfilter\u001b[39m(\u001b[38;5;28;01mlambda\u001b[39;00m x:\u001b[38;5;28mlen\u001b[39m(x),s))))\n",
      "Cell \u001b[1;32mIn[91], line 2\u001b[0m, in \u001b[0;36m<lambda>\u001b[1;34m(y)\u001b[0m\n\u001b[0;32m      1\u001b[0m a\u001b[38;5;241m=\u001b[39m[\u001b[38;5;241m1\u001b[39m,\u001b[38;5;241m2\u001b[39m,\u001b[38;5;241m3\u001b[39m]\n\u001b[1;32m----> 2\u001b[0m b\u001b[38;5;241m=\u001b[39m\u001b[38;5;28;01mlambda\u001b[39;00m y:y\u001b[38;5;241m+\u001b[39m\u001b[38;5;241m3\u001b[39m\n\u001b[0;32m      3\u001b[0m \u001b[38;5;28mlist\u001b[39m(\u001b[38;5;28mmap\u001b[39m(b,a))\n",
      "\u001b[1;31mTypeError\u001b[0m: can only concatenate list (not \"int\") to list"
     ]
    }
   ],
   "source": [
    "s=['apple','balloooooooo','carrot']\n",
    "#ff=lambda x:len(x)\n",
    "print(max(list(map(lambda x:len(x),s))))\n",
    "\n",
    "print(max(list(filter(lambda x:len(x),s))))\n"
   ]
  },
  {
   "cell_type": "code",
   "execution_count": 31,
   "id": "2901ddbc-ad9b-4f24-8da6-a441713a3b85",
   "metadata": {},
   "outputs": [
    {
     "name": "stdout",
     "output_type": "stream",
     "text": [
      "6\n"
     ]
    }
   ],
   "source": [
    "y=[1,6,3]\n",
    "print(max(list(map(lambda x:x,y))))"
   ]
  },
  {
   "cell_type": "code",
   "execution_count": null,
   "id": "dd49233b-fe84-46bf-b69e-8d7e57667d83",
   "metadata": {},
   "outputs": [],
   "source": []
  }
 ],
 "metadata": {
  "kernelspec": {
   "display_name": "Python 3 (ipykernel)",
   "language": "python",
   "name": "python3"
  },
  "language_info": {
   "codemirror_mode": {
    "name": "ipython",
    "version": 3
   },
   "file_extension": ".py",
   "mimetype": "text/x-python",
   "name": "python",
   "nbconvert_exporter": "python",
   "pygments_lexer": "ipython3",
   "version": "3.12.4"
  }
 },
 "nbformat": 4,
 "nbformat_minor": 5
}
