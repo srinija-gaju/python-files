{
 "cells": [
  {
   "cell_type": "code",
   "execution_count": null,
   "id": "12185e8c-e825-4b0e-80f0-8e01383b409e",
   "metadata": {},
   "outputs": [],
   "source": [
    "for i in range(1,10):\n",
    "    for i in range(1,10):\n",
    "        print(i,end=\" \")\n",
    "    print()"
   ]
  },
  {
   "cell_type": "code",
   "execution_count": null,
   "id": "cb64872e-5fb7-433e-af6f-12fa7c502ac0",
   "metadata": {},
   "outputs": [],
   "source": [
    "n=1\n",
    "i=1\n",
    "while n>10:\n",
    "    print(\"hello\")\n",
    "    i=i+1"
   ]
  },
  {
   "cell_type": "code",
   "execution_count": null,
   "id": "e54b387e-e651-462e-a9cf-45b4e9ecdc79",
   "metadata": {},
   "outputs": [],
   "source": [
    "count = 0\n",
    "while count < 5:\n",
    "   print(\"Count:\", count)\n",
    "   count += 1\n",
    "   if count == 3:\n",
    "       continue\n",
    "   print(\"After Continue\")"
   ]
  },
  {
   "cell_type": "code",
   "execution_count": null,
   "id": "7c70f60a-bdaa-4e5b-a462-a3c1f1c1d1e4",
   "metadata": {},
   "outputs": [],
   "source": [
    "num = 2\n",
    "while num < 10:\n",
    "   print(num, end=\" \")\n",
    "   num **= 2"
   ]
  },
  {
   "cell_type": "code",
   "execution_count": null,
   "id": "7f8e23e5-cd7a-4ed1-96ea-1db0fda98ee3",
   "metadata": {},
   "outputs": [],
   "source": [
    "d = {'foo': 1, 'bar': 2, 'baz': 3}\n",
    "while d:\n",
    "  print(d.popitem())\n",
    "print('Done.')\n"
   ]
  },
  {
   "cell_type": "code",
   "execution_count": null,
   "id": "d9256057-bcd6-403c-a668-936a3116355c",
   "metadata": {},
   "outputs": [],
   "source": [
    "a = ['foo', 'bar', 'baz', 'qux', 'corge']\n",
    "while a:\n",
    "    if len(a) < 3:\n",
    "        continue\n",
    "    print(a.pop())\n",
    "print('Done.')"
   ]
  },
  {
   "cell_type": "code",
   "execution_count": null,
   "id": "2517d89a-f606-42fa-817a-2b71083b5037",
   "metadata": {},
   "outputs": [],
   "source": [
    "a = ['foo', 'bar', 'baz', 'qux', 'corge']\n",
    "while a:\n",
    "    if len(a) < 3:\n",
    "        break\n",
    "    print(a.pop())\n",
    "print('Done.')"
   ]
  },
  {
   "cell_type": "code",
   "execution_count": null,
   "id": "d3665583-c4a7-459f-acb6-6c01062dbafb",
   "metadata": {},
   "outputs": [],
   "source": [
    "a = ['foo', 'bar', 'baz', 'qux', 'corge']\n",
    "while a:\n",
    "    print(a.pop())\n",
    "else:\n",
    "    print('Done.')"
   ]
  },
  {
   "cell_type": "code",
   "execution_count": null,
   "id": "dd35b841-c4d5-4d25-a9f1-31c5a3ab9e2b",
   "metadata": {},
   "outputs": [],
   "source": [
    "while \"0\":  \n",
    "    print(\"hello\")\n"
   ]
  },
  {
   "cell_type": "code",
   "execution_count": null,
   "id": "ed989dc8-005c-4a66-b5e0-72f4e6def848",
   "metadata": {},
   "outputs": [],
   "source": [
    "while True:\n",
    "    print(\"hello\")"
   ]
  },
  {
   "cell_type": "code",
   "execution_count": null,
   "id": "6d3758fb-492d-4d04-ad62-6d2e51ee26e0",
   "metadata": {},
   "outputs": [],
   "source": [
    "a = ['foo', 'bar', 'baz', 'qux', 'corge']\n",
    "while a:\n",
    "    print(a)"
   ]
  },
  {
   "cell_type": "code",
   "execution_count": null,
   "id": "62229ab7-8ca9-44b3-b34e-9d3fbed9b55f",
   "metadata": {},
   "outputs": [],
   "source": [
    "s = \"\"\n",
    "\n",
    "n = 5\n",
    "while n > 0:\n",
    "    n -= 1\n",
    "    if (n % 2) == 0:\n",
    "        continue\n",
    "\n",
    "    a = ['foo', 'bar', 'baz']\n",
    "    while a:\n",
    "        s += str(n) + a.pop(0)\n",
    "        if len(a) < 2:\n",
    "            break"
   ]
  },
  {
   "cell_type": "code",
   "execution_count": null,
   "id": "d4db2a27-bfac-4185-8b85-7f4e4845f80d",
   "metadata": {},
   "outputs": [],
   "source": [
    "a = ['foo', 'bar', 'baz']\n",
    "while a:\n",
    "    a.pop()"
   ]
  },
  {
   "cell_type": "code",
   "execution_count": null,
   "id": "7d1ad5e4-3b8e-4a4e-a6aa-28f4251273c6",
   "metadata": {},
   "outputs": [],
   "source": [
    "a=\"srinija\"\n",
    "for char in a:\n",
    "    print(char)"
   ]
  },
  {
   "cell_type": "code",
   "execution_count": null,
   "id": "d0b0553b-fdb7-42e6-b61a-333fc82eb6eb",
   "metadata": {},
   "outputs": [],
   "source": [
    "total = 0\n",
    "for num in range(1, 6):\n",
    "   total += num\n",
    "print(total)"
   ]
  },
  {
   "cell_type": "code",
   "execution_count": null,
   "id": "5a6354ca-e7ba-44ec-af75-d526b522fd32",
   "metadata": {},
   "outputs": [],
   "source": [
    "for i in range(3):\n",
    "   for j in range(2):\n",
    "       print(i, j)"
   ]
  },
  {
   "cell_type": "code",
   "execution_count": null,
   "id": "b3df8254-a2dc-429b-8d77-336c50e94d07",
   "metadata": {},
   "outputs": [],
   "source": [
    "s='srinija'\n",
    "for char in reversed(s):\n",
    "    print(char)"
   ]
  },
  {
   "cell_type": "code",
   "execution_count": null,
   "id": "1e880083-80eb-41bb-90bd-53958c444104",
   "metadata": {},
   "outputs": [],
   "source": [
    "for char in s[::-1]:\n",
    "    print(char)"
   ]
  },
  {
   "cell_type": "code",
   "execution_count": null,
   "id": "b0fd89f6-569c-45cd-a247-0f1cc125c2c3",
   "metadata": {},
   "outputs": [],
   "source": [
    "d = {\"foo\": 1, \"bar\": 2, \"baz\": 3}\n",
    "for i in d.items():\n",
    "    print(i)"
   ]
  },
  {
   "cell_type": "code",
   "execution_count": null,
   "id": "86c771ae-f9bf-4638-b0f7-7d9306e7de00",
   "metadata": {},
   "outputs": [],
   "source": [
    "i = 0  \n",
    "while i < 5:  \n",
    "    print(i)  \n",
    "    i += 1  \n",
    "    if i == 3:  \n",
    "        continue\n",
    "else:  \n",
    "    print(0) "
   ]
  },
  {
   "cell_type": "code",
   "execution_count": null,
   "id": "76ff41dd-3442-4ccd-b368-08baef169d37",
   "metadata": {},
   "outputs": [],
   "source": [
    "z = \"xyz\"  \n",
    "j = \"j\"  \n",
    "while j in z:  \n",
    "    print(j, end=\" \")"
   ]
  },
  {
   "cell_type": "code",
   "execution_count": null,
   "id": "baa95921-1766-4e2b-91b3-be9de7d1b59e",
   "metadata": {},
   "outputs": [],
   "source": [
    "x = 1  \n",
    "while True:  \n",
    "    if x %5  == 0:  \n",
    "        break  \n",
    "    print(x)  \n",
    "    x+=1  "
   ]
  },
  {
   "cell_type": "code",
   "execution_count": null,
   "id": "37e8a3a0-74d3-45d9-b2b6-9fc5a1a4eded",
   "metadata": {},
   "outputs": [],
   "source": [
    "output = \"\"\n",
    "x = -5\n",
    "while x < 0:\n",
    "    x = x + 1\n",
    "    output = output + str(x) + \" \"\n",
    "print(output)"
   ]
  },
  {
   "cell_type": "code",
   "execution_count": null,
   "id": "51681eae-7d89-4f99-8f1f-3f6a361a78c0",
   "metadata": {},
   "outputs": [],
   "source": [
    "x=0\n",
    "while False:\n",
    "    print(\"hello\")\n",
    "else:\n",
    "    print(\"hi\")"
   ]
  },
  {
   "cell_type": "code",
   "execution_count": 1,
   "id": "71a82693-9145-406c-975e-c3594dea2088",
   "metadata": {},
   "outputs": [
    {
     "name": "stdout",
     "output_type": "stream",
     "text": [
      "100\n"
     ]
    }
   ],
   "source": [
    "x = 0\n",
    "while (x < 100):\n",
    "  x+=2\n",
    "print(x)"
   ]
  },
  {
   "cell_type": "code",
   "execution_count": 11,
   "id": "faf1b721-312b-45e5-b5a0-2d84135d9a24",
   "metadata": {},
   "outputs": [
    {
     "name": "stdout",
     "output_type": "stream",
     "text": [
      "1 3 "
     ]
    }
   ],
   "source": [
    "for i in range(5):\n",
    "    if (i%2):\n",
    "        print(i,end=\" \")"
   ]
  },
  {
   "cell_type": "code",
   "execution_count": 23,
   "id": "1a735246-4015-4704-bb49-622e0904e395",
   "metadata": {},
   "outputs": [
    {
     "name": "stdout",
     "output_type": "stream",
     "text": [
      "a 0\n",
      "b 1\n",
      "c 2\n",
      "  3\n",
      "x 4\n",
      "y 5\n",
      "z 6\n",
      "7\n"
     ]
    }
   ],
   "source": [
    "count=0\n",
    "for i in 'abc xyz':\n",
    "       print(i,count)\n",
    "       count=count+1\n",
    "print(count)"
   ]
  },
  {
   "cell_type": "code",
   "execution_count": 27,
   "id": "52c87906-d618-4adc-8942-715f0b3b30aa",
   "metadata": {},
   "outputs": [
    {
     "data": {
      "text/plain": [
       "[]"
      ]
     },
     "execution_count": 27,
     "metadata": {},
     "output_type": "execute_result"
    }
   ],
   "source": [
    "s=[1,2,3,4,5,6,7,8,9]\n",
    "s[1:-3:-5]"
   ]
  },
  {
   "cell_type": "code",
   "execution_count": 33,
   "id": "203a5552-8492-480b-94e2-e3e69c00f9b8",
   "metadata": {},
   "outputs": [
    {
     "name": "stdout",
     "output_type": "stream",
     "text": [
      "done\n",
      "done\n",
      "done\n",
      "done\n"
     ]
    }
   ],
   "source": [
    "i=0\n",
    "while (i<10):\n",
    "    if(i%2):\n",
    "        i=i+3\n",
    "    i=i+1\n",
    "    print('done')\n"
   ]
  },
  {
   "cell_type": "code",
   "execution_count": 45,
   "id": "60700d8a-75c4-40e3-a9ae-c54f56017067",
   "metadata": {},
   "outputs": [
    {
     "name": "stdout",
     "output_type": "stream",
     "text": [
      "abcdend\n"
     ]
    }
   ],
   "source": [
    "for i in ('a','b','c','d'):\n",
    "    print(i,end='')\n",
    "else:\n",
    "    print('end')"
   ]
  },
  {
   "cell_type": "code",
   "execution_count": 53,
   "id": "3eb0ded8-59ca-4fb2-9107-580e34124508",
   "metadata": {},
   "outputs": [
    {
     "name": "stdout",
     "output_type": "stream",
     "text": [
      "1 3 5 "
     ]
    }
   ],
   "source": [
    "for i in range(1,6,2):\n",
    "    if (i==4):\n",
    "        break\n",
    "    print(i,end=\" \")"
   ]
  },
  {
   "cell_type": "code",
   "execution_count": null,
   "id": "20c14e99-67f9-4437-9084-3fd33dd31016",
   "metadata": {},
   "outputs": [],
   "source": []
  }
 ],
 "metadata": {
  "kernelspec": {
   "display_name": "Python 3 (ipykernel)",
   "language": "python",
   "name": "python3"
  },
  "language_info": {
   "codemirror_mode": {
    "name": "ipython",
    "version": 3
   },
   "file_extension": ".py",
   "mimetype": "text/x-python",
   "name": "python",
   "nbconvert_exporter": "python",
   "pygments_lexer": "ipython3",
   "version": "3.12.4"
  }
 },
 "nbformat": 4,
 "nbformat_minor": 5
}
