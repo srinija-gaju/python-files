{
 "cells": [
  {
   "cell_type": "code",
   "execution_count": 9,
   "id": "7b1a2bd6-1a0d-4313-ae4a-8c5a9299c5be",
   "metadata": {},
   "outputs": [
    {
     "name": "stdin",
     "output_type": "stream",
     "text": [
      "enter rows 3\n",
      "enter columns 3\n"
     ]
    },
    {
     "name": "stdout",
     "output_type": "stream",
     "text": [
      "enter 9 elements of 3x3\n"
     ]
    },
    {
     "name": "stdin",
     "output_type": "stream",
     "text": [
      " 1\n",
      " 2\n",
      " 2\n",
      " 3\n",
      " 4\n",
      " 5\n",
      " 6\n",
      " 7\n",
      " 8\n"
     ]
    },
    {
     "name": "stdout",
     "output_type": "stream",
     "text": [
      "3x3 matrix is\n",
      "[[1 2 2]\n",
      " [3 4 5]\n",
      " [6 7 8]]\n"
     ]
    }
   ],
   "source": [
    "#creating ndimensional array\n",
    "import numpy as np\n",
    "m=int(input(\"enter rows\"))\n",
    "n=int(input(\"enter columns\"))\n",
    "matrix=np.ndarray(shape=(m,n),dtype=int)\n",
    "print(\"enter %d elements of %dx%d\"%((m*n),m,n))\n",
    "for i in range(m):\n",
    "    for j in range(n):\n",
    "        matrix[i][j]=int(input())\n",
    "print(\"%dx%d matrix is\"%(m,n))\n",
    "print(matrix)"
   ]
  },
  {
   "cell_type": "code",
   "execution_count": null,
   "id": "6a5c5e83-fcaf-40e1-b846-b1fbf05ba219",
   "metadata": {},
   "outputs": [],
   "source": [
    "matrix=np.random.choice(100,size=(3,3))\n",
    "matrix"
   ]
  },
  {
   "cell_type": "code",
   "execution_count": null,
   "id": "be8eecf4-cca1-4ebb-bfab-2486bb256dbb",
   "metadata": {},
   "outputs": [],
   "source": [
    "import numpy as np\n",
    "matrix=np.random.randint(100,size=(5,5))\n",
    "matrix.ndim"
   ]
  },
  {
   "cell_type": "code",
   "execution_count": null,
   "id": "7281163c-fa5c-404f-8e1e-e650f09c2bae",
   "metadata": {},
   "outputs": [],
   "source": [
    "n=np.random.randint(100,size=(2,3))\n",
    "n.ndim"
   ]
  },
  {
   "cell_type": "markdown",
   "id": "f65c7e69-bc24-4ee2-9c78-d949af80ff6d",
   "metadata": {},
   "source": []
  },
  {
   "cell_type": "code",
   "execution_count": null,
   "id": "7d9a907c-03f3-450b-ac7b-7be5cfa9f062",
   "metadata": {},
   "outputs": [],
   "source": [
    "def fun(n,char):\n",
    "    for i in n:\n",
    "        if i in a:\n",
    "            n=n.replace(i,char)\n",
    "    print(n)\n",
    "fun(\"the ravartau\",\"#\")"
   ]
  },
  {
   "cell_type": "code",
   "execution_count": null,
   "id": "0ecc1384-e444-45de-8211-b9ad5826cdb1",
   "metadata": {},
   "outputs": [],
   "source": [
    "#innomatice===in...in..innomatics?"
   ]
  },
  {
   "cell_type": "code",
   "execution_count": null,
   "id": "b0c73300-b331-45cc-8c01-584ddd94d006",
   "metadata": {},
   "outputs": [],
   "source": [
    "def fun(n):\n",
    "    for i in n:\n",
    "        a=((n[:2]+\"...\")*2)+n[:]+\"?\"\n",
    "    print(a)\n",
    "fun(\"innomatics\")"
   ]
  },
  {
   "cell_type": "code",
   "execution_count": null,
   "id": "d7f61e6c-130c-4395-b837-cf478b961fb1",
   "metadata": {},
   "outputs": [],
   "source": [
    "n=np.array([[1,2,3],[4,5,6]])\n",
    "for row in n:\n",
    "    for i in row:\n",
    "        print(i,end=\" \")\n",
    "    print()"
   ]
  },
  {
   "cell_type": "code",
   "execution_count": null,
   "id": "7f60d933-f195-47a8-871b-89f30a89136b",
   "metadata": {},
   "outputs": [],
   "source": [
    "n=np.array([[[1,2,3],[4,5,6],[7,8,9]]])\n",
    "for row in n:\n",
    "        print(row)"
   ]
  },
  {
   "cell_type": "code",
   "execution_count": null,
   "id": "6ddf30f2-867e-4e09-89e2-26344084b439",
   "metadata": {},
   "outputs": [],
   "source": [
    "n=np.random.randint(100,size=(10,10))\n",
    "n"
   ]
  },
  {
   "cell_type": "code",
   "execution_count": null,
   "id": "d0d6fb2a-2f8a-4dcf-aea9-4c8150fda758",
   "metadata": {},
   "outputs": [],
   "source": [
    "n[7:11,7:10]"
   ]
  },
  {
   "cell_type": "code",
   "execution_count": null,
   "id": "b8fba57c-6351-45f7-902c-bc2b99df31b9",
   "metadata": {},
   "outputs": [],
   "source": [
    "n[3:6,4:7]"
   ]
  },
  {
   "cell_type": "code",
   "execution_count": null,
   "id": "3de73f11-4998-43b7-b311-eac224934daf",
   "metadata": {},
   "outputs": [],
   "source": [
    "s=np.array([[1,2,3],[4,5,6],[7,8,9]])\n",
    "s"
   ]
  },
  {
   "cell_type": "code",
   "execution_count": null,
   "id": "11190c59-0b6b-4d0e-b6ac-dcc1e6d9b5e7",
   "metadata": {},
   "outputs": [],
   "source": [
    "print(s[1,2])"
   ]
  },
  {
   "cell_type": "code",
   "execution_count": null,
   "id": "dddd146e-d1f1-4045-8d59-78a040d02010",
   "metadata": {},
   "outputs": [],
   "source": [
    "print(s[1:3,1:3])"
   ]
  },
  {
   "cell_type": "code",
   "execution_count": null,
   "id": "9a9abd40-4674-42a7-8607-6fc0ca71176d",
   "metadata": {},
   "outputs": [],
   "source": [
    "print(s[1,2])"
   ]
  },
  {
   "cell_type": "code",
   "execution_count": null,
   "id": "88b30d6b-4d31-4c11-931f-4d551404717c",
   "metadata": {},
   "outputs": [],
   "source": []
  },
  {
   "cell_type": "code",
   "execution_count": null,
   "id": "d80cb96c-43a9-4248-8a14-ef68c8ac3e9c",
   "metadata": {},
   "outputs": [],
   "source": [
    "print(s[1:3,0:2])"
   ]
  },
  {
   "cell_type": "code",
   "execution_count": null,
   "id": "2fb611cc-bf32-45da-94d5-c93d47cce539",
   "metadata": {},
   "outputs": [],
   "source": [
    "s=np.array([1,2,3,4,5,6],ndmin=32)\n",
    "s.ndim\n",
    "print(s)"
   ]
  },
  {
   "cell_type": "code",
   "execution_count": 57,
   "id": "564052e3-828b-4b43-9f7d-b37ff5bfd9a9",
   "metadata": {},
   "outputs": [
    {
     "name": "stdin",
     "output_type": "stream",
     "text": [
      "enter number of rows 1\n",
      "enter number of col 2\n",
      "enter the dimension 4\n"
     ]
    },
    {
     "name": "stdout",
     "output_type": "stream",
     "text": [
      "enter 8 elements in 4x1x2\n"
     ]
    },
    {
     "name": "stdin",
     "output_type": "stream",
     "text": [
      " 1\n",
      " 2\n",
      " 3\n",
      " 4\n",
      " 5\n",
      " 6\n",
      " 7\n",
      " 8\n"
     ]
    },
    {
     "name": "stdout",
     "output_type": "stream",
     "text": [
      "the 4x1x2 matrix is\n",
      "[[[1 2]]\n",
      "\n",
      " [[3 4]]\n",
      "\n",
      " [[5 6]]\n",
      "\n",
      " [[7 8]]]\n"
     ]
    }
   ],
   "source": [
    "#creating multidimensional array\n",
    "import numpy as np\n",
    "y=int(input(\"enter number of rows\"))\n",
    "z=int(input(\"enter number of col\"))\n",
    "x=int(input(\"enter the dimension\"))\n",
    "p=np.ndarray(shape=(x,y,z),dtype=int)\n",
    "print(\"enter %d elements in %dx%dx%d\"%((x*y*z),x,y,z))\n",
    "for i in range(x):\n",
    "    for j in range(y):\n",
    "      for k in range(z):\n",
    "        p[i][j][k]=int(input())\n",
    "print(\"the %dx%dx%d matrix is\"%(x,y,z))\n",
    "print(p)"
   ]
  },
  {
   "cell_type": "code",
   "execution_count": 55,
   "id": "78a5f53f-fd72-416c-8063-042b3b70cdb9",
   "metadata": {},
   "outputs": [
    {
     "name": "stdout",
     "output_type": "stream",
     "text": [
      "enter 18 elements in 3x2x3\n",
      "the 3x2x3 matrix is\n"
     ]
    }
   ],
   "source": [
    "print(\"enter %d elements in %dx%dx%d\"%((x*y*z),x,y,z))\n",
    "print(\"the %dx%dx%d matrix is\"%(x,y,z))"
   ]
  },
  {
   "cell_type": "code",
   "execution_count": 19,
   "id": "619575cf-b410-4695-97cb-45c2a389ff31",
   "metadata": {},
   "outputs": [
    {
     "name": "stdin",
     "output_type": "stream",
     "text": [
      "enter size 5\n",
      " 1\n",
      " 2\n",
      " 3\n",
      " 4\n",
      " 5\n"
     ]
    },
    {
     "name": "stdout",
     "output_type": "stream",
     "text": [
      "[1 2 3 4 5]\n"
     ]
    }
   ],
   "source": [
    "#creating 1 dimensional array\n",
    "m=int(input(\"enter size\"))\n",
    "arr=np.ndarray(shape=(m),dtype=int)\n",
    "for i in range(m):\n",
    "    arr[i]=int(input())\n",
    "print(arr)\n",
    "    "
   ]
  },
  {
   "cell_type": "code",
   "execution_count": 89,
   "id": "714dc4e1-8ca6-472d-9f3e-3a6fabc08348",
   "metadata": {},
   "outputs": [
    {
     "ename": "NameError",
     "evalue": "name 'a' is not defined",
     "output_type": "error",
     "traceback": [
      "\u001b[1;31m---------------------------------------------------------------------------\u001b[0m",
      "\u001b[1;31mNameError\u001b[0m                                 Traceback (most recent call last)",
      "Cell \u001b[1;32mIn[89], line 2\u001b[0m\n\u001b[0;32m      1\u001b[0m \u001b[38;5;66;03m#Creating a simple array in numpy\u001b[39;00m\n\u001b[1;32m----> 2\u001b[0m lst\u001b[38;5;241m=\u001b[39m[a,c,c,c,\u001b[38;5;241m5.3\u001b[39m]\n\u001b[0;32m      3\u001b[0m arr\u001b[38;5;241m=\u001b[39mnp\u001b[38;5;241m.\u001b[39marray(lst)\n\u001b[0;32m      4\u001b[0m \u001b[38;5;28mprint\u001b[39m(\u001b[38;5;28mtype\u001b[39m(arr))\n",
      "\u001b[1;31mNameError\u001b[0m: name 'a' is not defined"
     ]
    }
   ],
   "source": [
    "#Creating a simple array in numpy\n",
    "lst=['a','b','c','c',5.3]\n",
    "arr=np.array(lst)\n",
    "print(type(arr))\n",
    "print(arr.size)\n",
    "print(arr.itemsize)#returns the size (in bytes) of each element of a NumPy array.\n",
    "print(\"NUmpy Array:\",arr)  #ndarray is nothing but n dimentional array."
   ]
  },
  {
   "cell_type": "code",
   "execution_count": 111,
   "id": "c4aeb159-974c-493e-91db-dd14e3372263",
   "metadata": {},
   "outputs": [
    {
     "name": "stdout",
     "output_type": "stream",
     "text": [
      "[1 2 3 4]\n",
      "[ 1  4  9 16]\n"
     ]
    }
   ],
   "source": [
    "n=np.array([1,2,3,4])\n",
    "print(n)\n",
    "print(n**2)"
   ]
  },
  {
   "cell_type": "code",
   "execution_count": 109,
   "id": "769ba383-3281-4679-a42c-494cb62cba95",
   "metadata": {},
   "outputs": [
    {
     "ename": "TypeError",
     "evalue": "unsupported operand type(s) for ** or pow(): 'list' and 'int'",
     "output_type": "error",
     "traceback": [
      "\u001b[1;31m---------------------------------------------------------------------------\u001b[0m",
      "\u001b[1;31mTypeError\u001b[0m                                 Traceback (most recent call last)",
      "Cell \u001b[1;32mIn[109], line 2\u001b[0m\n\u001b[0;32m      1\u001b[0m n\u001b[38;5;241m=\u001b[39m[\u001b[38;5;241m1\u001b[39m,\u001b[38;5;241m2\u001b[39m,\u001b[38;5;241m3\u001b[39m,\u001b[38;5;241m4\u001b[39m,\u001b[38;5;241m5\u001b[39m]\n\u001b[1;32m----> 2\u001b[0m n\u001b[38;5;241m*\u001b[39m\u001b[38;5;241m*\u001b[39m\u001b[38;5;241m2\u001b[39m\n",
      "\u001b[1;31mTypeError\u001b[0m: unsupported operand type(s) for ** or pow(): 'list' and 'int'"
     ]
    }
   ],
   "source": [
    "n=[1,2,3,4,5]\n",
    "n**2"
   ]
  },
  {
   "cell_type": "markdown",
   "id": "f375d313-8f02-44e2-9ccf-d2cac945d8c7",
   "metadata": {},
   "source": [
    "# priority for dtypes"
   ]
  },
  {
   "cell_type": "code",
   "execution_count": 7,
   "id": "1ec95540-4677-4d36-a5ff-696b76d21634",
   "metadata": {},
   "outputs": [
    {
     "name": "stdout",
     "output_type": "stream",
     "text": [
      "['1' '3.3' 'ayesh']\n"
     ]
    }
   ],
   "source": [
    "#1st priority for strings\n",
    "import numpy as np\n",
    "b=np.array([1,3.3,'ayesh'])\n",
    "print(b)"
   ]
  },
  {
   "cell_type": "code",
   "execution_count": 9,
   "id": "6f30a267-b24a-4ba3-a628-b125891a6a6c",
   "metadata": {},
   "outputs": [
    {
     "name": "stdout",
     "output_type": "stream",
     "text": [
      "[1. +0.j 3.3+0.j 1. +5.j]\n"
     ]
    }
   ],
   "source": [
    "##2nd priority for complex\n",
    "b=np.array([1,3.3,1+5j])\n",
    "print(b)"
   ]
  },
  {
   "cell_type": "code",
   "execution_count": 11,
   "id": "66fb9c85-a656-45eb-b6f9-8a6f76f2c575",
   "metadata": {},
   "outputs": [
    {
     "name": "stdout",
     "output_type": "stream",
     "text": [
      "[1.  3.3]\n"
     ]
    }
   ],
   "source": [
    "##3rd priority for float\n",
    "b=np.array([1,3.3])\n",
    "print(b)"
   ]
  },
  {
   "cell_type": "code",
   "execution_count": 13,
   "id": "0bbbb454-3ea1-45f7-a69a-6d641b2951ae",
   "metadata": {},
   "outputs": [
    {
     "name": "stdout",
     "output_type": "stream",
     "text": [
      "[1 3]\n"
     ]
    }
   ],
   "source": [
    "##4th priority for int\n",
    "b=np.array([1,3])\n",
    "print(b)"
   ]
  },
  {
   "cell_type": "markdown",
   "id": "21704722-65c3-48d4-874e-4bd1be3d6e58",
   "metadata": {},
   "source": [
    "# itemsize"
   ]
  },
  {
   "cell_type": "code",
   "execution_count": 25,
   "id": "233b93a6-79ea-4004-a11d-4252a032dd3f",
   "metadata": {},
   "outputs": [
    {
     "name": "stdout",
     "output_type": "stream",
     "text": [
      "int32\n"
     ]
    },
    {
     "data": {
      "text/plain": [
       "4"
      ]
     },
     "execution_count": 25,
     "metadata": {},
     "output_type": "execute_result"
    }
   ],
   "source": [
    "b=np.array([1,3])\n",
    "print(b.dtype)\n",
    "b.itemsize"
   ]
  },
  {
   "cell_type": "code",
   "execution_count": 27,
   "id": "26e8f6de-ca64-453b-9f31-ec4f0b0fdfcf",
   "metadata": {},
   "outputs": [
    {
     "name": "stdout",
     "output_type": "stream",
     "text": [
      "<U64\n"
     ]
    },
    {
     "data": {
      "text/plain": [
       "256"
      ]
     },
     "execution_count": 27,
     "metadata": {},
     "output_type": "execute_result"
    }
   ],
   "source": [
    "b=np.array([1,'two',3.3,4+4j])#range of numpy is \n",
    "print(b.dtype)\n",
    "b.itemsize"
   ]
  },
  {
   "cell_type": "markdown",
   "id": "c84a489a-abba-43fc-a0aa-a46c967b5982",
   "metadata": {},
   "source": [
    "# arange"
   ]
  },
  {
   "cell_type": "code",
   "execution_count": 64,
   "id": "40f1563b-28e9-46e3-a54c-ba1a471c2573",
   "metadata": {},
   "outputs": [
    {
     "name": "stdout",
     "output_type": "stream",
     "text": [
      "[2 4 6 8]\n"
     ]
    },
    {
     "data": {
      "text/plain": [
       "2"
      ]
     },
     "execution_count": 64,
     "metadata": {},
     "output_type": "execute_result"
    }
   ],
   "source": [
    "\n",
    "n=np.arange(2,9,2)\n",
    "print(n)\n",
    "n[0]"
   ]
  },
  {
   "cell_type": "code",
   "execution_count": 52,
   "id": "31befbf2-f47e-4bf3-ab63-a2c7e454b23b",
   "metadata": {},
   "outputs": [
    {
     "data": {
      "text/plain": [
       "array([[1, 2, 3],\n",
       "       [4, 5, 6],\n",
       "       [7, 8, 9]])"
      ]
     },
     "execution_count": 52,
     "metadata": {},
     "output_type": "execute_result"
    }
   ],
   "source": [
    "n=np.arange(1,10).reshape(3,3)\n",
    "n"
   ]
  },
  {
   "cell_type": "markdown",
   "id": "fe01152d-6c0d-4867-a98c-853b2bb13711",
   "metadata": {},
   "source": [
    "# indexing"
   ]
  },
  {
   "cell_type": "code",
   "execution_count": 67,
   "id": "d3715e59-afde-4acb-8379-3df313acf7fa",
   "metadata": {},
   "outputs": [
    {
     "data": {
      "text/plain": [
       "array([[1, 2, 3],\n",
       "       [4, 5, 6],\n",
       "       [7, 8, 9]])"
      ]
     },
     "execution_count": 67,
     "metadata": {},
     "output_type": "execute_result"
    }
   ],
   "source": [
    "#2D\n",
    "n=np.arange(1,10).reshape(3,3)\n",
    "n"
   ]
  },
  {
   "cell_type": "code",
   "execution_count": 54,
   "id": "5c5f5a78-e66c-460f-9312-21d463195154",
   "metadata": {},
   "outputs": [
    {
     "data": {
      "text/plain": [
       "array([1, 2, 3])"
      ]
     },
     "execution_count": 54,
     "metadata": {},
     "output_type": "execute_result"
    }
   ],
   "source": [
    "n[0]"
   ]
  },
  {
   "cell_type": "code",
   "execution_count": 56,
   "id": "71b39a1f-43e7-4357-a739-85fba75201ce",
   "metadata": {},
   "outputs": [
    {
     "data": {
      "text/plain": [
       "1"
      ]
     },
     "execution_count": 56,
     "metadata": {},
     "output_type": "execute_result"
    }
   ],
   "source": [
    "n[0][0]"
   ]
  },
  {
   "cell_type": "code",
   "execution_count": 58,
   "id": "7efb4acc-802c-4dc5-b479-fb11126c1679",
   "metadata": {},
   "outputs": [
    {
     "data": {
      "text/plain": [
       "1"
      ]
     },
     "execution_count": 58,
     "metadata": {},
     "output_type": "execute_result"
    }
   ],
   "source": [
    "n[0,0]"
   ]
  },
  {
   "cell_type": "code",
   "execution_count": 62,
   "id": "5b130c6b-84a7-449b-a696-a495dfe93f5f",
   "metadata": {},
   "outputs": [
    {
     "name": "stdout",
     "output_type": "stream",
     "text": [
      "[[5 6]\n",
      " [8 9]]\n"
     ]
    }
   ],
   "source": [
    "print(n[1:3,1:3])"
   ]
  },
  {
   "cell_type": "code",
   "execution_count": 73,
   "id": "1408580e-26ad-4362-8612-f8c3b8b1eb1b",
   "metadata": {},
   "outputs": [
    {
     "data": {
      "text/plain": [
       "array([[[ 1,  2,  3],\n",
       "        [ 4,  5,  6],\n",
       "        [ 7,  8,  9]],\n",
       "\n",
       "       [[10, 11, 12],\n",
       "        [13, 14, 15],\n",
       "        [16, 17, 18]],\n",
       "\n",
       "       [[19, 20, 21],\n",
       "        [22, 23, 24],\n",
       "        [25, 26, 27]]])"
      ]
     },
     "execution_count": 73,
     "metadata": {},
     "output_type": "execute_result"
    }
   ],
   "source": [
    "#3D\n",
    "a=np.arange(1,28).reshape(3,3,3)\n",
    "a"
   ]
  },
  {
   "cell_type": "code",
   "execution_count": 75,
   "id": "191a2c40-9abe-4973-863f-d7f8cfd673e3",
   "metadata": {},
   "outputs": [
    {
     "data": {
      "text/plain": [
       "array([[1, 2, 3],\n",
       "       [4, 5, 6],\n",
       "       [7, 8, 9]])"
      ]
     },
     "execution_count": 75,
     "metadata": {},
     "output_type": "execute_result"
    }
   ],
   "source": [
    "a[0]"
   ]
  },
  {
   "cell_type": "code",
   "execution_count": 77,
   "id": "985f69df-51b5-4254-ae74-bde91b8f88cb",
   "metadata": {},
   "outputs": [
    {
     "data": {
      "text/plain": [
       "array([1, 2, 3])"
      ]
     },
     "execution_count": 77,
     "metadata": {},
     "output_type": "execute_result"
    }
   ],
   "source": [
    "a[0][0]"
   ]
  },
  {
   "cell_type": "code",
   "execution_count": 79,
   "id": "02d502bb-8e60-4b51-be0e-5e96fc45f8ac",
   "metadata": {},
   "outputs": [
    {
     "data": {
      "text/plain": [
       "array([1, 2, 3])"
      ]
     },
     "execution_count": 79,
     "metadata": {},
     "output_type": "execute_result"
    }
   ],
   "source": [
    "a[0,0]"
   ]
  },
  {
   "cell_type": "code",
   "execution_count": 81,
   "id": "74920a5e-3679-4f75-9fb3-349a1d497962",
   "metadata": {},
   "outputs": [
    {
     "data": {
      "text/plain": [
       "6"
      ]
     },
     "execution_count": 81,
     "metadata": {},
     "output_type": "execute_result"
    }
   ],
   "source": [
    "a[0,1,2]"
   ]
  },
  {
   "cell_type": "code",
   "execution_count": 83,
   "id": "242e5318-41ce-40db-a338-2be44be3ad80",
   "metadata": {},
   "outputs": [
    {
     "data": {
      "text/plain": [
       "array([[5, 6],\n",
       "       [8, 9]])"
      ]
     },
     "execution_count": 83,
     "metadata": {},
     "output_type": "execute_result"
    }
   ],
   "source": [
    "a[0,1:3,1:3]"
   ]
  },
  {
   "cell_type": "code",
   "execution_count": 85,
   "id": "1ce91ce1-d95d-4484-bef1-0143eade2555",
   "metadata": {},
   "outputs": [
    {
     "data": {
      "text/plain": [
       "array([[[ 5,  6],\n",
       "        [ 8,  9]],\n",
       "\n",
       "       [[14, 15],\n",
       "        [17, 18]],\n",
       "\n",
       "       [[23, 24],\n",
       "        [26, 27]]])"
      ]
     },
     "execution_count": 85,
     "metadata": {},
     "output_type": "execute_result"
    }
   ],
   "source": [
    "a[0:3,1:3,1:3]"
   ]
  },
  {
   "cell_type": "code",
   "execution_count": 23,
   "id": "619b6de8-386b-47d6-86a7-4681af939db1",
   "metadata": {},
   "outputs": [
    {
     "name": "stdout",
     "output_type": "stream",
     "text": [
      "[[1 2 3]\n",
      " [4 5 6]\n",
      " [7 8 9]]\n"
     ]
    }
   ],
   "source": [
    "s=np.arange(1,10).reshape(3,3)\n",
    "print(s)"
   ]
  },
  {
   "cell_type": "code",
   "execution_count": 27,
   "id": "66c61e0d-c421-46df-aafd-917cdce44992",
   "metadata": {},
   "outputs": [
    {
     "name": "stdout",
     "output_type": "stream",
     "text": [
      "(0, 0) 1\n",
      "(0, 1) 2\n",
      "(0, 2) 3\n",
      "(1, 0) 4\n",
      "(1, 1) 5\n",
      "(1, 2) 6\n",
      "(2, 0) 7\n",
      "(2, 1) 8\n",
      "(2, 2) 9\n"
     ]
    }
   ],
   "source": [
    "for i,j in np.ndenumerate(s):\n",
    "    print(i,j)"
   ]
  },
  {
   "cell_type": "code",
   "execution_count": 149,
   "id": "cfe020df-0fae-4f3f-acd9-ca8fe0b6a5d1",
   "metadata": {},
   "outputs": [
    {
     "data": {
      "text/plain": [
       "array([[1, 2, 3],\n",
       "       [4, 5, 6]])"
      ]
     },
     "execution_count": 149,
     "metadata": {},
     "output_type": "execute_result"
    }
   ],
   "source": [
    "s[0:2:1]"
   ]
  },
  {
   "cell_type": "code",
   "execution_count": 31,
   "id": "6dfd684a-c47b-408f-a1c5-2f52739010b3",
   "metadata": {},
   "outputs": [
    {
     "data": {
      "text/plain": [
       "array([[7, 8, 9]])"
      ]
     },
     "execution_count": 31,
     "metadata": {},
     "output_type": "execute_result"
    }
   ],
   "source": [
    "s[2:3:3]"
   ]
  },
  {
   "cell_type": "code",
   "execution_count": 15,
   "id": "de9dc323-a9fb-43ae-9950-dc876c1fe464",
   "metadata": {},
   "outputs": [
    {
     "name": "stdout",
     "output_type": "stream",
     "text": [
      "0\n",
      "1\n",
      "2\n",
      "3\n",
      "4\n",
      "5\n",
      "6\n",
      "7\n",
      "8\n"
     ]
    }
   ],
   "source": [
    "import numpy as np\n",
    "n=np.arange(9).reshape(3,3)\n",
    "for i in np.nditer(n):\n",
    "    print(i)"
   ]
  },
  {
   "cell_type": "code",
   "execution_count": 19,
   "id": "e971ab20-e2b4-4ac1-bd3d-449d37dc8e6c",
   "metadata": {},
   "outputs": [
    {
     "name": "stdout",
     "output_type": "stream",
     "text": [
      "(0, 0) 0\n",
      "(0, 1) 1\n",
      "(0, 2) 2\n",
      "(1, 0) 3\n",
      "(1, 1) 4\n",
      "(1, 2) 5\n",
      "(2, 0) 6\n",
      "(2, 1) 7\n",
      "(2, 2) 8\n"
     ]
    }
   ],
   "source": [
    "n=np.arange(9).reshape(3,3)\n",
    "for i,j in np.ndenumerate(n):\n",
    "    print(i,j)"
   ]
  },
  {
   "cell_type": "code",
   "execution_count": 37,
   "id": "fbbd56ab-4467-4ecc-a348-1135c50d078d",
   "metadata": {},
   "outputs": [
    {
     "name": "stdout",
     "output_type": "stream",
     "text": [
      "0\n",
      "1\n",
      "2\n",
      "3\n",
      "4\n",
      "5\n",
      "6\n",
      "7\n",
      "8\n",
      "9\n"
     ]
    }
   ],
   "source": [
    "a=np.arange(10).reshape(10,)\n",
    "for i in np.nditer(a):\n",
    "    print(i)"
   ]
  },
  {
   "cell_type": "code",
   "execution_count": 45,
   "id": "894d42a6-5bb1-414d-b9c2-e5fd0a069dd2",
   "metadata": {},
   "outputs": [
    {
     "name": "stdout",
     "output_type": "stream",
     "text": [
      "0\n",
      "1\n",
      "2\n",
      "3\n",
      "4\n",
      "5\n",
      "6\n",
      "7\n",
      "8\n",
      "9\n",
      "10\n",
      "11\n",
      "12\n",
      "13\n",
      "14\n",
      "15\n",
      "16\n",
      "17\n",
      "18\n",
      "19\n",
      "20\n",
      "21\n",
      "22\n",
      "23\n",
      "24\n",
      "25\n",
      "26\n"
     ]
    }
   ],
   "source": [
    "b=np.arange(27).reshape(3,3,3)\n",
    "for i in np.nditer(b):\n",
    "    print(i)\n",
    " "
   ]
  },
  {
   "cell_type": "code",
   "execution_count": 55,
   "id": "f65f40b3-769c-4982-8f1b-9dc8872f3a31",
   "metadata": {},
   "outputs": [
    {
     "name": "stdout",
     "output_type": "stream",
     "text": [
      "[[[ 0  1  2]\n",
      "  [ 3  4  5]\n",
      "  [ 6  7  8]]\n",
      "\n",
      " [[ 9 10 11]\n",
      "  [12 13 14]\n",
      "  [15 16 17]]\n",
      "\n",
      " [[18 19 20]\n",
      "  [21 22 23]\n",
      "  [24 25 26]]]\n",
      "[ 0  1  2  3  4  5  6  7  8  9 10 11 12 13 14 15 16 17 18 19 20 21 22 23\n",
      " 24 25 26]\n"
     ]
    }
   ],
   "source": [
    "#print everyelement\n",
    "print(b)\n",
    "b=np.arange(27).reshape(3,3,3)\n",
    "for i in np.nditer(b,order=\"c\",flags=[\"external_loop\"]):\n",
    "    print(i)"
   ]
  },
  {
   "cell_type": "code",
   "execution_count": 57,
   "id": "9ace0276-de74-4311-9a78-1cede8ea3bce",
   "metadata": {},
   "outputs": [
    {
     "name": "stdout",
     "output_type": "stream",
     "text": [
      "[ 0  9 18]\n",
      "[ 3 12 21]\n",
      "[ 6 15 24]\n",
      "[ 1 10 19]\n",
      "[ 4 13 22]\n",
      "[ 7 16 25]\n",
      "[ 2 11 20]\n",
      "[ 5 14 23]\n",
      "[ 8 17 26]\n"
     ]
    }
   ],
   "source": [
    "#print column wise\n",
    "b=np.arange(27).reshape(3,3,3)\n",
    "for i in np.nditer(b,order=\"f\",flags=[\"external_loop\"]):\n",
    "    print(i)"
   ]
  },
  {
   "cell_type": "code",
   "execution_count": 67,
   "id": "c5cca4d6-0e20-4744-ac2f-5c5c8b25c76f",
   "metadata": {},
   "outputs": [
    {
     "data": {
      "text/plain": [
       "array([[0, 1, 2],\n",
       "       [3, 4, 5]])"
      ]
     },
     "execution_count": 67,
     "metadata": {},
     "output_type": "execute_result"
    }
   ],
   "source": [
    "c"
   ]
  },
  {
   "cell_type": "code",
   "execution_count": 69,
   "id": "8e768f20-a656-4a5d-93c9-6b0fc3500ff0",
   "metadata": {},
   "outputs": [
    {
     "data": {
      "text/plain": [
       "array([[0, 1, 2],\n",
       "       [3, 4, 5]])"
      ]
     },
     "execution_count": 69,
     "metadata": {},
     "output_type": "execute_result"
    }
   ],
   "source": [
    "d"
   ]
  },
  {
   "cell_type": "code",
   "execution_count": 63,
   "id": "a7e2e071-a62c-469d-854b-e292229b5ca7",
   "metadata": {},
   "outputs": [
    {
     "data": {
      "text/plain": [
       "array([[0, 1, 2],\n",
       "       [3, 4, 5],\n",
       "       [0, 1, 2],\n",
       "       [3, 4, 5]])"
      ]
     },
     "execution_count": 63,
     "metadata": {},
     "output_type": "execute_result"
    }
   ],
   "source": [
    "c=np.arange(6).reshape(2,3)\n",
    "d=np.arange(6).reshape(2,3)\n",
    "np.vstack([c,d])"
   ]
  },
  {
   "cell_type": "code",
   "execution_count": 65,
   "id": "3eadbe83-14af-41a4-8f32-8d9890967f29",
   "metadata": {},
   "outputs": [
    {
     "data": {
      "text/plain": [
       "array([[0, 1, 2, 0, 1, 2],\n",
       "       [3, 4, 5, 3, 4, 5]])"
      ]
     },
     "execution_count": 65,
     "metadata": {},
     "output_type": "execute_result"
    }
   ],
   "source": [
    "c=np.arange(6).reshape(2,3)\n",
    "d=np.arange(6).reshape(2,3)\n",
    "np.hstack([c,d])"
   ]
  },
  {
   "cell_type": "code",
   "execution_count": 71,
   "id": "7ab275c1-4ef2-4b18-a3e4-8b708f090f03",
   "metadata": {},
   "outputs": [
    {
     "data": {
      "text/plain": [
       "array([[0, 1, 2, 0, 1, 2],\n",
       "       [3, 4, 5, 3, 4, 5]])"
      ]
     },
     "execution_count": 71,
     "metadata": {},
     "output_type": "execute_result"
    }
   ],
   "source": [
    "c=np.arange(6).reshape(2,3)\n",
    "d=np.arange(6).reshape(2,3)\n",
    "np.column_stack([c,d])"
   ]
  },
  {
   "cell_type": "markdown",
   "id": "d74cfbc9-4266-4a3f-ac52-126d681b20a5",
   "metadata": {},
   "source": [
    "# numpy maths"
   ]
  },
  {
   "cell_type": "code",
   "execution_count": 155,
   "id": "58264487-b126-48f2-a621-a7d12fed3bf9",
   "metadata": {},
   "outputs": [
    {
     "name": "stdout",
     "output_type": "stream",
     "text": [
      "[4 5 6]\n"
     ]
    }
   ],
   "source": [
    "w=np.array([1,2,3])\n",
    "print(w+3)"
   ]
  },
  {
   "cell_type": "code",
   "execution_count": 157,
   "id": "0fecd1f3-8db8-42a4-8ab5-18b061f26335",
   "metadata": {},
   "outputs": [
    {
     "name": "stdout",
     "output_type": "stream",
     "text": [
      "[4 5 6]\n",
      "[1 2 3]\n"
     ]
    }
   ],
   "source": [
    "y=w+3\n",
    "print(y)\n",
    "print(w)"
   ]
  },
  {
   "cell_type": "code",
   "execution_count": 165,
   "id": "6316c6fa-f531-4ae8-b73c-fdca635fae9b",
   "metadata": {},
   "outputs": [
    {
     "name": "stdout",
     "output_type": "stream",
     "text": [
      "[3 6 9]\n",
      "[1 2 3]\n"
     ]
    }
   ],
   "source": [
    "x=w=np.array([1,2,3])\n",
    "y=x*3\n",
    "print(y)\n",
    "print(x)"
   ]
  },
  {
   "cell_type": "code",
   "execution_count": 169,
   "id": "c18e65dc-f004-4d40-9461-053cfa557735",
   "metadata": {},
   "outputs": [
    {
     "data": {
      "text/plain": [
       "True"
      ]
     },
     "execution_count": 169,
     "metadata": {},
     "output_type": "execute_result"
    }
   ],
   "source": [
    "bool(1^10)"
   ]
  },
  {
   "cell_type": "markdown",
   "id": "25d51ad6-979a-411c-8878-f61437e56ce6",
   "metadata": {},
   "source": [
    "# numpy logical"
   ]
  },
  {
   "cell_type": "code",
   "execution_count": 410,
   "id": "790c02e1-5c4f-437d-a7c3-2bdd0b348fc2",
   "metadata": {},
   "outputs": [
    {
     "data": {
      "text/plain": [
       "array([[ True,  True,  True],\n",
       "       [ True,  True,  True],\n",
       "       [ True,  True,  True]])"
      ]
     },
     "execution_count": 410,
     "metadata": {},
     "output_type": "execute_result"
    }
   ],
   "source": [
    "a=np.array([[1,2,3],[4,5,6],[7,8,9]])\n",
    "b=np.array([[10,11,12],[13,14,15],[16,17,19]])\n",
    "np.logical_and(a,b)"
   ]
  },
  {
   "cell_type": "code",
   "execution_count": null,
   "id": "dedb3f1e-6750-4e17-b364-c0fc852433e9",
   "metadata": {},
   "outputs": [],
   "source": [
    "a=np.array([[1,2,3],[4,5,6],[7,8,9]])\n",
    "b=np.array([[10,11,12],[13,14,15],[16,17,19]])\n",
    "np.logical_or(a,b)"
   ]
  },
  {
   "cell_type": "code",
   "execution_count": 173,
   "id": "de7117ce-fc41-4a31-84ac-ec3794eb30fe",
   "metadata": {},
   "outputs": [
    {
     "data": {
      "text/plain": [
       "array([[ True,  True,  True],\n",
       "       [ True,  True,  True],\n",
       "       [ True,  True,  True]])"
      ]
     },
     "execution_count": 173,
     "metadata": {},
     "output_type": "execute_result"
    }
   ],
   "source": [
    "a=np.array([[1,2,3],[4,5,6],[7,8,9]])\n",
    "b=np.array([[10,11,12],[13,14,15],[16,17,19]])\n",
    "np.logical_or(a,b)"
   ]
  },
  {
   "cell_type": "code",
   "execution_count": 175,
   "id": "91ed686d-0c54-4f32-bcad-649fc01bdd45",
   "metadata": {},
   "outputs": [
    {
     "data": {
      "text/plain": [
       "array([[False, False, False],\n",
       "       [False, False, False],\n",
       "       [False, False, False]])"
      ]
     },
     "execution_count": 175,
     "metadata": {},
     "output_type": "execute_result"
    }
   ],
   "source": [
    "a=np.array([[1,2,3],[4,5,6],[7,8,9]])\n",
    "b=np.array([[10,11,12],[13,14,15],[16,17,19]])\n",
    "np.logical_xor(a,b)"
   ]
  },
  {
   "cell_type": "code",
   "execution_count": 177,
   "id": "0bc3bfec-719f-489f-9abb-43bf54d3b6bf",
   "metadata": {},
   "outputs": [
    {
     "data": {
      "text/plain": [
       "array([[0, 0, 0],\n",
       "       [0, 0, 0],\n",
       "       [0, 0, 0]])"
      ]
     },
     "execution_count": 177,
     "metadata": {},
     "output_type": "execute_result"
    }
   ],
   "source": [
    "np.logical_not(a,b)"
   ]
  },
  {
   "cell_type": "markdown",
   "id": "0819c9a9-8ede-4e32-baf3-7b81798bc606",
   "metadata": {},
   "source": [
    "# ways to access an element"
   ]
  },
  {
   "cell_type": "code",
   "execution_count": 5,
   "id": "5b22dc8e-680f-4db6-9018-b0d3b235b0b1",
   "metadata": {},
   "outputs": [],
   "source": [
    "import numpy as np\n",
    "a=np.array([[1,2,3],[4,5,6],[7,8,9]])"
   ]
  },
  {
   "cell_type": "code",
   "execution_count": 7,
   "id": "dedafae9-7c13-40c7-8411-3acce638c7ed",
   "metadata": {},
   "outputs": [
    {
     "data": {
      "text/plain": [
       "array([[1, 2, 3],\n",
       "       [4, 5, 6],\n",
       "       [7, 8, 9]])"
      ]
     },
     "execution_count": 7,
     "metadata": {},
     "output_type": "execute_result"
    }
   ],
   "source": [
    "a"
   ]
  },
  {
   "cell_type": "code",
   "execution_count": 31,
   "id": "7824772b-5f15-48bc-b6ae-ebdba76a74aa",
   "metadata": {},
   "outputs": [
    {
     "data": {
      "text/plain": [
       "array([[66,  2,  3],\n",
       "       [ 4, 77,  6],\n",
       "       [ 7,  8, 88]])"
      ]
     },
     "execution_count": 31,
     "metadata": {},
     "output_type": "execute_result"
    }
   ],
   "source": [
    "a[0][0],a[1,1],a[2,2]=66,77,88\n",
    "amn "
   ]
  },
  {
   "cell_type": "code",
   "execution_count": 29,
   "id": "dd5c5700-4618-494f-8a18-efb2e2c4e505",
   "metadata": {},
   "outputs": [
    {
     "data": {
      "text/plain": [
       "array([[100,   2,   3],\n",
       "       [  4,  99,   6],\n",
       "       [  7,   8,  88]])"
      ]
     },
     "execution_count": 29,
     "metadata": {},
     "output_type": "execute_result"
    }
   ],
   "source": [
    "a[[0,1,2],[0,1,2]]=100,99,88\n",
    "a"
   ]
  },
  {
   "cell_type": "markdown",
   "id": "c935a925-4822-47c9-8309-add773a92d48",
   "metadata": {},
   "source": [
    "# random in numpy"
   ]
  },
  {
   "cell_type": "code",
   "execution_count": 37,
   "id": "71a9cfbd-9c33-40b1-b441-26c4bc6e8a25",
   "metadata": {},
   "outputs": [
    {
     "data": {
      "text/plain": [
       "-0.12444446843877366"
      ]
     },
     "execution_count": 37,
     "metadata": {},
     "output_type": "execute_result"
    }
   ],
   "source": [
    "x=np.random.randn()\n",
    "x"
   ]
  },
  {
   "cell_type": "code",
   "execution_count": 105,
   "id": "8f096fb6-4dc1-4cf9-b615-58bdf48e61aa",
   "metadata": {},
   "outputs": [
    {
     "data": {
      "text/plain": [
       "array([[-0.02841172, -0.43992513, -1.31019792],\n",
       "       [ 1.4224826 , -1.51626843,  1.60717384]])"
      ]
     },
     "execution_count": 105,
     "metadata": {},
     "output_type": "execute_result"
    }
   ],
   "source": [
    "y=np.random.randn(2,3)\n",
    "y"
   ]
  },
  {
   "cell_type": "code",
   "execution_count": 61,
   "id": "fbe5a8f1-2dec-4487-92f5-84ee99e5060b",
   "metadata": {},
   "outputs": [
    {
     "data": {
      "text/plain": [
       "4"
      ]
     },
     "execution_count": 61,
     "metadata": {},
     "output_type": "execute_result"
    }
   ],
   "source": [
    "a=np.random.randint(99)\n",
    "a"
   ]
  },
  {
   "cell_type": "code",
   "execution_count": 83,
   "id": "b1db1b44-2388-45b9-9fe6-bdf4b38a606b",
   "metadata": {},
   "outputs": [
    {
     "data": {
      "text/plain": [
       "3"
      ]
     },
     "execution_count": 83,
     "metadata": {},
     "output_type": "execute_result"
    }
   ],
   "source": [
    "a=np.random.randint(2,5)\n",
    "a"
   ]
  },
  {
   "cell_type": "code",
   "execution_count": 69,
   "id": "43ae7fc6-d2b0-4c3d-9775-c620a238428d",
   "metadata": {},
   "outputs": [
    {
     "data": {
      "text/plain": [
       "array([[3, 4, 3],\n",
       "       [2, 1, 3],\n",
       "       [4, 4, 1]])"
      ]
     },
     "execution_count": 69,
     "metadata": {},
     "output_type": "execute_result"
    }
   ],
   "source": [
    "a=np.random.randint(1,5,size=(3,3))\n",
    "a"
   ]
  },
  {
   "cell_type": "code",
   "execution_count": 111,
   "id": "b4334475-2285-4822-b0fc-96f82bce4bf1",
   "metadata": {},
   "outputs": [
    {
     "data": {
      "text/plain": [
       "array([[2.79620091, 2.06988737],\n",
       "       [7.74385702, 6.02061386]])"
      ]
     },
     "execution_count": 111,
     "metadata": {},
     "output_type": "execute_result"
    }
   ],
   "source": [
    "a=np.random.uniform(10,size=(2,2))\n",
    "a"
   ]
  },
  {
   "cell_type": "code",
   "execution_count": 129,
   "id": "6da06ad3-7d08-4014-9953-a0086ec8589d",
   "metadata": {},
   "outputs": [
    {
     "data": {
      "text/plain": [
       "array([[39.28574226, 39.18444536],\n",
       "       [20.54068888, 30.66219714]])"
      ]
     },
     "execution_count": 129,
     "metadata": {},
     "output_type": "execute_result"
    }
   ],
   "source": [
    "a=np.random.uniform(20,40,size=(2,2))\n",
    "a"
   ]
  },
  {
   "cell_type": "code",
   "execution_count": null,
   "id": "27022e68-d0cf-4265-b7a6-d73b80a6f1a3",
   "metadata": {},
   "outputs": [],
   "source": []
  },
  {
   "cell_type": "code",
   "execution_count": 135,
   "id": "7f136865-edc5-4b9c-9719-d8a0cf2be1d2",
   "metadata": {},
   "outputs": [
    {
     "name": "stdout",
     "output_type": "stream",
     "text": [
      "[18 48 65 72 57]\n"
     ]
    },
    {
     "data": {
      "text/plain": [
       "57"
      ]
     },
     "execution_count": 135,
     "metadata": {},
     "output_type": "execute_result"
    }
   ],
   "source": [
    "arr=np.random.randint(100, size=(5,))\n",
    "print(arr)\n",
    "arr[4]"
   ]
  },
  {
   "cell_type": "code",
   "execution_count": 155,
   "id": "6b93a067-54aa-4699-b7b3-47d302337805",
   "metadata": {},
   "outputs": [
    {
     "name": "stdout",
     "output_type": "stream",
     "text": [
      "[[3 1 3]\n",
      " [3 2 0]\n",
      " [0 2 0]]\n",
      "[[5 7 2]\n",
      " [0 4 9]\n",
      " [1 9 1]]\n"
     ]
    }
   ],
   "source": [
    "a=np.random.randint(10,size=(3,3))\n",
    "b=np.random.randint(10,size=(3,3))\n",
    "print(a)\n",
    "print(b)"
   ]
  },
  {
   "cell_type": "code",
   "execution_count": 157,
   "id": "70449350-8d15-4d27-a191-250e6bdd690f",
   "metadata": {},
   "outputs": [
    {
     "data": {
      "text/plain": [
       "array([[ 8,  8,  5],\n",
       "       [ 3,  6,  9],\n",
       "       [ 1, 11,  1]])"
      ]
     },
     "execution_count": 157,
     "metadata": {},
     "output_type": "execute_result"
    }
   ],
   "source": [
    "a+b"
   ]
  },
  {
   "cell_type": "code",
   "execution_count": 159,
   "id": "fd512d97-0675-400f-af2d-7f5f7f1b9f4f",
   "metadata": {},
   "outputs": [
    {
     "data": {
      "text/plain": [
       "array([[ 8,  8,  5],\n",
       "       [ 3,  6,  9],\n",
       "       [ 1, 11,  1]])"
      ]
     },
     "execution_count": 159,
     "metadata": {},
     "output_type": "execute_result"
    }
   ],
   "source": [
    "np.add(a,b)"
   ]
  },
  {
   "cell_type": "code",
   "execution_count": 161,
   "id": "21f5f9eb-5b1d-4a22-b158-15637757578d",
   "metadata": {},
   "outputs": [
    {
     "data": {
      "text/plain": [
       "array([[-2, -6,  1],\n",
       "       [ 3, -2, -9],\n",
       "       [-1, -7, -1]])"
      ]
     },
     "execution_count": 161,
     "metadata": {},
     "output_type": "execute_result"
    }
   ],
   "source": [
    "a-b"
   ]
  },
  {
   "cell_type": "code",
   "execution_count": 163,
   "id": "05c91129-6a49-4ccf-a922-220bb84bc3b1",
   "metadata": {},
   "outputs": [
    {
     "data": {
      "text/plain": [
       "array([[-2, -6,  1],\n",
       "       [ 3, -2, -9],\n",
       "       [-1, -7, -1]])"
      ]
     },
     "execution_count": 163,
     "metadata": {},
     "output_type": "execute_result"
    }
   ],
   "source": [
    "np.subtract(a,b)"
   ]
  },
  {
   "cell_type": "code",
   "execution_count": 173,
   "id": "5fdd66eb-ac5b-4074-8125-353d7c0ea611",
   "metadata": {},
   "outputs": [
    {
     "data": {
      "text/plain": [
       "10"
      ]
     },
     "execution_count": 173,
     "metadata": {},
     "output_type": "execute_result"
    }
   ],
   "source": [
    "x = np.array([[1,2],[3,4]])\n",
    "np.sum(x)"
   ]
  },
  {
   "cell_type": "code",
   "execution_count": 167,
   "id": "2bb0f491-28e6-4926-8cc5-9daab0f1dd90",
   "metadata": {},
   "outputs": [
    {
     "data": {
      "text/plain": [
       "1"
      ]
     },
     "execution_count": 167,
     "metadata": {},
     "output_type": "execute_result"
    }
   ],
   "source": [
    "np.min(x)"
   ]
  },
  {
   "cell_type": "code",
   "execution_count": 169,
   "id": "18d1609a-8e23-48f9-b839-b6753e5de563",
   "metadata": {},
   "outputs": [
    {
     "data": {
      "text/plain": [
       "array([1, 2])"
      ]
     },
     "execution_count": 169,
     "metadata": {},
     "output_type": "execute_result"
    }
   ],
   "source": [
    "np.min(x,axis=0)"
   ]
  },
  {
   "cell_type": "code",
   "execution_count": 171,
   "id": "188aa686-5b57-470b-8861-36ef441067c9",
   "metadata": {},
   "outputs": [
    {
     "data": {
      "text/plain": [
       "array([1, 3])"
      ]
     },
     "execution_count": 171,
     "metadata": {},
     "output_type": "execute_result"
    }
   ],
   "source": [
    "np.min(x,axis=1)"
   ]
  },
  {
   "cell_type": "markdown",
   "id": "d20cc77d-7f50-4a06-ad83-855ae6a70e74",
   "metadata": {},
   "source": [
    "# nditer,ndenumerate"
   ]
  },
  {
   "cell_type": "code",
   "execution_count": 7,
   "id": "d88c6c16-2b25-4d5d-b46f-70ab9b374a3d",
   "metadata": {},
   "outputs": [
    {
     "name": "stdout",
     "output_type": "stream",
     "text": [
      "[1 2 3]\n",
      "[4 5 6]\n"
     ]
    }
   ],
   "source": [
    "import numpy as np\n",
    "n=np.array([[1,2,3],[4,5,6]])\n",
    "for i in n:\n",
    "    print(i)\n"
   ]
  },
  {
   "cell_type": "code",
   "execution_count": 105,
   "id": "1859515a-1d8e-4f2c-a6f1-358e1cb42188",
   "metadata": {},
   "outputs": [
    {
     "name": "stdout",
     "output_type": "stream",
     "text": [
      "1\n",
      "2\n",
      "3\n",
      "4\n",
      "5\n",
      "6\n"
     ]
    }
   ],
   "source": [
    "n=np.array([[1,2,3],[4,5,6]])\n",
    "for i in n:\n",
    "    for j in i:\n",
    "     print(j)\n",
    "    "
   ]
  },
  {
   "cell_type": "code",
   "execution_count": 107,
   "id": "56f8b05c-25cb-4278-86ae-ef44846365ca",
   "metadata": {},
   "outputs": [
    {
     "name": "stdout",
     "output_type": "stream",
     "text": [
      "1\n",
      "2\n",
      "3\n",
      "4\n",
      "5\n",
      "6\n"
     ]
    }
   ],
   "source": [
    "for i in np.nditer(n):\n",
    "    print(i)"
   ]
  },
  {
   "cell_type": "code",
   "execution_count": 109,
   "id": "be9f5231-3c05-49c1-ad22-f760f0f16e66",
   "metadata": {},
   "outputs": [
    {
     "name": "stdout",
     "output_type": "stream",
     "text": [
      "(0, 0) 1\n",
      "(0, 1) 2\n",
      "(0, 2) 3\n",
      "(1, 0) 4\n",
      "(1, 1) 5\n",
      "(1, 2) 6\n"
     ]
    }
   ],
   "source": [
    "for i,j in np.ndenumerate(n):\n",
    "    print(i,j)"
   ]
  },
  {
   "cell_type": "code",
   "execution_count": 121,
   "id": "0be72214-0b7f-488b-b0b2-d7ce4c22f5da",
   "metadata": {},
   "outputs": [
    {
     "name": "stdout",
     "output_type": "stream",
     "text": [
      "b'1'\n",
      "b'2'\n",
      "b'3'\n",
      "b'4'\n",
      "b'5'\n",
      "b'6'\n"
     ]
    }
   ],
   "source": [
    "for i in np.nditer(n,flags=['buffered'],op_dtypes=[\"S\"]):\n",
    "    print(i)"
   ]
  },
  {
   "cell_type": "code",
   "execution_count": null,
   "id": "4e7ea1d3-f7ef-45ae-877b-94c29ad7e934",
   "metadata": {},
   "outputs": [],
   "source": [
    "for i,j in np.ndenumerate(n):\n",
    "    print(i,j)"
   ]
  },
  {
   "cell_type": "code",
   "execution_count": 45,
   "id": "5aa70d9c-3e3c-4ade-bed6-add40d2f1e79",
   "metadata": {},
   "outputs": [
    {
     "data": {
      "text/plain": [
       "array([[1, 2, 3],\n",
       "       [4, 5, 6]])"
      ]
     },
     "execution_count": 45,
     "metadata": {},
     "output_type": "execute_result"
    }
   ],
   "source": [
    "n"
   ]
  },
  {
   "cell_type": "code",
   "execution_count": 41,
   "id": "a1fe3242-d0a1-4b54-9b15-8bfce6647b96",
   "metadata": {},
   "outputs": [
    {
     "name": "stdout",
     "output_type": "stream",
     "text": [
      "[1 4]\n",
      "[2 5]\n",
      "[3 6]\n"
     ]
    }
   ],
   "source": [
    "n=np.array([[1,2,3],[4,5,6]])\n",
    "for i in np.nditer(n,order='F',flags=['external_loop']):\n",
    "    print(i)"
   ]
  },
  {
   "cell_type": "code",
   "execution_count": 43,
   "id": "c7bface9-8919-4aaf-a22b-7a78044cc9f8",
   "metadata": {},
   "outputs": [
    {
     "name": "stdout",
     "output_type": "stream",
     "text": [
      "[1 2 3 4 5 6]\n"
     ]
    }
   ],
   "source": [
    "n=np.array([[1,2,3],[4,5,6]])\n",
    "for i in np.nditer(n,order='C',flags=['external_loop']):\n",
    "    print(i)"
   ]
  },
  {
   "cell_type": "code",
   "execution_count": 93,
   "id": "0d94fe71-3655-4f88-af14-91791b58c1a6",
   "metadata": {},
   "outputs": [
    {
     "name": "stdout",
     "output_type": "stream",
     "text": [
      "[1 4]\n",
      "[2 5]\n",
      "[3 6]\n"
     ]
    }
   ],
   "source": [
    "n=np.array([[1,2,3],[4,5,6]])\n",
    "for i in np.nditer(n,order=\"F\",flags=['external_loop']):\n",
    "    print(i)"
   ]
  },
  {
   "cell_type": "code",
   "execution_count": 97,
   "id": "b627a863-c839-46b0-beb6-d6bbf9c82c55",
   "metadata": {},
   "outputs": [
    {
     "name": "stdout",
     "output_type": "stream",
     "text": [
      "[1 2 3 4 5 6]\n"
     ]
    }
   ],
   "source": [
    "for i in np.nditer(n,order=\"C\",flags=['external_loop']):\n",
    "    print(i)"
   ]
  },
  {
   "cell_type": "code",
   "execution_count": 101,
   "id": "ca628f08-07a7-4c14-a44b-918f6f465060",
   "metadata": {},
   "outputs": [],
   "source": [
    "c=np.array([[1,2,3],[4,5,6]])\n",
    "for i in np.nditer(c,op_flags=[\"readwrite\"]):\n",
    "    i[...] = i*i"
   ]
  },
  {
   "cell_type": "code",
   "execution_count": 103,
   "id": "cef850c1-3c57-4eca-aa39-171ef2b1a7dd",
   "metadata": {},
   "outputs": [
    {
     "data": {
      "text/plain": [
       "array([[ 1,  4,  9],\n",
       "       [16, 25, 36]])"
      ]
     },
     "execution_count": 103,
     "metadata": {},
     "output_type": "execute_result"
    }
   ],
   "source": [
    "c"
   ]
  },
  {
   "cell_type": "markdown",
   "id": "fb83567c-781a-429d-ac2b-eac0fe7614b8",
   "metadata": {},
   "source": [
    "# copy vs view"
   ]
  },
  {
   "cell_type": "code",
   "execution_count": 131,
   "id": "31744677-ae4c-40fc-9b99-69ba4913eb96",
   "metadata": {},
   "outputs": [
    {
     "name": "stdout",
     "output_type": "stream",
     "text": [
      "[1 2 3 4 5]\n",
      "[ 1  2 55  4  5]\n"
     ]
    }
   ],
   "source": [
    "#copy-the changes made in the copy array will not  affect the original array\n",
    "arr=np.array([1,2,3,4,5])\n",
    "arr1=arr.copy()\n",
    "arr1[2]=55\n",
    "print(arr)\n",
    "print(arr1)\n",
    "\n"
   ]
  },
  {
   "cell_type": "code",
   "execution_count": 129,
   "id": "da802dd5-8a69-45ea-a874-e72fefb929c9",
   "metadata": {},
   "outputs": [
    {
     "name": "stdout",
     "output_type": "stream",
     "text": [
      "[ 1  2 55  4  5]\n",
      "[ 1  2 55  4  5]\n"
     ]
    }
   ],
   "source": [
    "#view-the changes made in the view array will affect the original array\n",
    "arr=np.array([1,2,3,4,5])\n",
    "arr1=arr.view()\n",
    "arr1[2]=55\n",
    "print(arr)\n",
    "print(arr1)"
   ]
  },
  {
   "cell_type": "markdown",
   "id": "52f9b2d8-b309-4ef9-a1bb-a4dd82808d33",
   "metadata": {},
   "source": [
    "# flatten  vs ravel"
   ]
  },
  {
   "cell_type": "code",
   "execution_count": 139,
   "id": "846b4172-1360-4cf1-a2a7-3536cbe05bf9",
   "metadata": {},
   "outputs": [
    {
     "name": "stdout",
     "output_type": "stream",
     "text": [
      "[[ 1  2  3  4  5]\n",
      " [ 6  7  8  9 10]]\n",
      "[ 1  2 55  4  5  6  7  8  9 10]\n"
     ]
    }
   ],
   "source": [
    "#flatten\n",
    "arr=np.array([[1,2,3,4,5],[6,7,8,9,10]])\n",
    "arr1=arr.flatten()\n",
    "arr1[2]=55\n",
    "print(arr)\n",
    "print(arr1)"
   ]
  },
  {
   "cell_type": "code",
   "execution_count": 141,
   "id": "eb6917df-da7d-4ecd-ba7d-9f0276243eb9",
   "metadata": {},
   "outputs": [
    {
     "name": "stdout",
     "output_type": "stream",
     "text": [
      "[[ 1  2 55  4  5]\n",
      " [ 6  7  8  9 10]]\n",
      "[ 1  2 55  4  5  6  7  8  9 10]\n"
     ]
    }
   ],
   "source": [
    "#ravel\n",
    "arr=np.array([[1,2,3,4,5],[6,7,8,9,10]])\n",
    "arr1=arr.ravel()\n",
    "arr1[2]=55\n",
    "print(arr)\n",
    "print(arr1)"
   ]
  },
  {
   "cell_type": "code",
   "execution_count": 145,
   "id": "93cc0fec-98b8-438b-832c-b4d96be071f2",
   "metadata": {},
   "outputs": [
    {
     "name": "stdout",
     "output_type": "stream",
     "text": [
      "[[55 55 55 55 55]\n",
      " [ 6  7  8  9 10]]\n"
     ]
    }
   ],
   "source": [
    "#flatten\n",
    "arr=np.array([[1,2,3,4,5],[6,7,8,9,10]])\n",
    "arr.flatten()\n",
    "arr[0]=55\n",
    "print(arr)\n",
    "#print(arr1)"
   ]
  },
  {
   "cell_type": "markdown",
   "id": "7f798a7d-b713-4aa9-84e2-4034d766b2f0",
   "metadata": {},
   "source": [
    "# permutation vs shuffle"
   ]
  },
  {
   "cell_type": "code",
   "execution_count": 153,
   "id": "d96b310b-6a77-48fb-82e4-3b12836ec77b",
   "metadata": {},
   "outputs": [
    {
     "name": "stdout",
     "output_type": "stream",
     "text": [
      "[4 2 3 1 5]\n",
      "None\n"
     ]
    }
   ],
   "source": [
    "#shuffle\n",
    "from numpy import random\n",
    "arr = np.array([1, 2, 3, 4, 5])\n",
    "\n",
    "arr1=random.shuffle(arr)\n",
    "\n",
    "print(arr)\n",
    "print(arr1)\n"
   ]
  },
  {
   "cell_type": "code",
   "execution_count": 155,
   "id": "41cdb766-b0a2-4ff7-8493-c8bf9412ca3c",
   "metadata": {},
   "outputs": [
    {
     "name": "stdout",
     "output_type": "stream",
     "text": [
      "[1 2 3 4 5]\n",
      "[3 1 4 2 5]\n"
     ]
    }
   ],
   "source": [
    "#permutation\n",
    "from numpy import random\n",
    "arr = np.array([1, 2, 3, 4, 5])\n",
    "\n",
    "arr1=random.permutation(arr)\n",
    "\n",
    "print(arr)\n",
    "print(arr1)"
   ]
  },
  {
   "cell_type": "markdown",
   "id": "67458e25-61cb-475f-92a1-5dc9db92f63b",
   "metadata": {},
   "source": [
    "# insert"
   ]
  },
  {
   "cell_type": "code",
   "execution_count": 165,
   "id": "52c4d396-c853-434a-866b-ad6e137f953b",
   "metadata": {},
   "outputs": [
    {
     "name": "stdout",
     "output_type": "stream",
     "text": [
      "[ 0  1 55  2  3  4  5  6  7  8]\n",
      "[[0 1 2]\n",
      " [3 4 5]\n",
      " [6 7 8]]\n"
     ]
    }
   ],
   "source": [
    "#insert\n",
    "arr=np.array([[ 0,1,2],[ 3 , 4 , 5],[ 6 , 7  ,8]])\n",
    "a=np.insert(arr,obj=2,values=55)\n",
    "print(a)\n",
    "print(arr)"
   ]
  },
  {
   "cell_type": "markdown",
   "id": "00b5934d-a147-4db1-9520-d126c0ecb7ec",
   "metadata": {},
   "source": [
    "# append"
   ]
  },
  {
   "cell_type": "code",
   "execution_count": 169,
   "id": "7f14223d-932a-48c8-b7ed-4693f6d6287d",
   "metadata": {},
   "outputs": [
    {
     "name": "stdout",
     "output_type": "stream",
     "text": [
      "[ 0  1  2  3  4  5  6  7  8 55]\n",
      "[[0 1 2]\n",
      " [3 4 5]\n",
      " [6 7 8]]\n"
     ]
    }
   ],
   "source": [
    "#append\n",
    "arr=np.array([[ 0,1,2],[ 3 , 4 , 5],[ 6 , 7  ,8]])\n",
    "a=np.append(arr,values=55)\n",
    "print(a)\n",
    "print(arr)"
   ]
  },
  {
   "cell_type": "markdown",
   "id": "b19e6a89-f229-4000-8910-08d52aaa9df9",
   "metadata": {},
   "source": [
    "# concatenate"
   ]
  },
  {
   "cell_type": "code",
   "execution_count": 183,
   "id": "fb06b884-95f0-4bf4-b5d7-fdfc4f5c79fa",
   "metadata": {},
   "outputs": [
    {
     "name": "stdout",
     "output_type": "stream",
     "text": [
      "[1 2 3]\n",
      "[4 5 6]\n",
      "[1 2 3 4 5 6]\n"
     ]
    }
   ],
   "source": [
    "#concatenate\n",
    "arr1 = np.array([1, 2, 3])\n",
    "arr2 = np.array([4, 5, 6])\n",
    "arr=np.concatenate((arr1, arr2))\n",
    "print(arr1)\n",
    "print(arr2)\n",
    "print(arr)"
   ]
  },
  {
   "cell_type": "code",
   "execution_count": 185,
   "id": "d43a4d11-4d96-4635-8bed-79a576c701dc",
   "metadata": {},
   "outputs": [
    {
     "ename": "TypeError",
     "evalue": "only integer scalar arrays can be converted to a scalar index",
     "output_type": "error",
     "traceback": [
      "\u001b[1;31m---------------------------------------------------------------------------\u001b[0m",
      "\u001b[1;31mTypeError\u001b[0m                                 Traceback (most recent call last)",
      "Cell \u001b[1;32mIn[185], line 1\u001b[0m\n\u001b[1;32m----> 1\u001b[0m arr\u001b[38;5;241m=\u001b[39mnp\u001b[38;5;241m.\u001b[39mconcatenate(arr1, arr2)\n",
      "\u001b[1;31mTypeError\u001b[0m: only integer scalar arrays can be converted to a scalar index"
     ]
    }
   ],
   "source": [
    "arr=np.concatenate(arr1, arr2)"
   ]
  },
  {
   "cell_type": "markdown",
   "id": "d80b6199-2bf7-4cdb-8115-75fc987b5cff",
   "metadata": {},
   "source": [
    "# sort"
   ]
  },
  {
   "cell_type": "code",
   "execution_count": 193,
   "id": "e5808143-c151-422e-9dd8-3292e8c274d0",
   "metadata": {},
   "outputs": [
    {
     "name": "stdout",
     "output_type": "stream",
     "text": [
      "[0 1 2 3]\n",
      "[3 2 0 1]\n"
     ]
    }
   ],
   "source": [
    "#sort\n",
    "import numpy as np\n",
    "arr = np.array([3, 2, 0, 1])\n",
    "arr1=np.sort(arr)\n",
    "print(arr1)\n",
    "print(arr)"
   ]
  },
  {
   "cell_type": "markdown",
   "id": "6a6f947c-e3f4-43c4-84d8-7a99ab595cd9",
   "metadata": {},
   "source": [
    "# split"
   ]
  },
  {
   "cell_type": "code",
   "execution_count": 195,
   "id": "1ffcc550-d2a7-4756-b8d7-a029da0e8e25",
   "metadata": {},
   "outputs": [
    {
     "name": "stdout",
     "output_type": "stream",
     "text": [
      "[array([[1, 2]]), array([[3, 4]]), array([[5, 6]])]\n"
     ]
    }
   ],
   "source": [
    "#split\n",
    "import numpy as np\n",
    "\n",
    "array1 = np.array( [[1, 2], [3, 4], [5, 6]] )\n",
    "\n",
    "# split into 3 arrays\n",
    "splitArrays = np.split(array1, 3)\n",
    "\n",
    "print(splitArrays)"
   ]
  },
  {
   "cell_type": "code",
   "execution_count": 203,
   "id": "ac203bd2-8e98-45ef-8bda-5f088287aec8",
   "metadata": {},
   "outputs": [
    {
     "data": {
      "text/plain": [
       "[array([1]), array([2])]"
      ]
     },
     "execution_count": 203,
     "metadata": {},
     "output_type": "execute_result"
    }
   ],
   "source": [
    "arr=np.array([1,2])\n",
    "np.split(arr,2)"
   ]
  },
  {
   "cell_type": "code",
   "execution_count": 211,
   "id": "e04f42e1-76eb-4e98-acee-3727d5f2ab77",
   "metadata": {},
   "outputs": [
    {
     "name": "stdout",
     "output_type": "stream",
     "text": [
      "[array([1, 2]), array([3, 4, 5]), array([6]), array([], dtype=int32)]\n"
     ]
    }
   ],
   "source": [
    "#split array using indices\n",
    "import numpy as np\n",
    "\n",
    "array1 = np.array( [1, 2, 3, 4, 5, 6] )\n",
    "\n",
    "# indices at which array is split\n",
    "splitIndices = [2, 5,8]\n",
    "\n",
    "# split into subarrays \n",
    "splitArrays = np.split(array1, splitIndices)\n",
    "\n",
    "print(splitArrays)"
   ]
  },
  {
   "cell_type": "code",
   "execution_count": 217,
   "id": "d0991ad0-60e8-466b-8abe-8ac455b21472",
   "metadata": {},
   "outputs": [
    {
     "name": "stdout",
     "output_type": "stream",
     "text": [
      "\n",
      "Split array column-wise:\n",
      "[array([[1, 2]]), array([[3, 4]])]\n",
      "Split array row-wise:\n",
      "[array([[1],\n",
      "       [3]]), array([[2],\n",
      "       [4]])]\n"
     ]
    }
   ],
   "source": [
    "import numpy as np\n",
    "\n",
    "# create a 3D array\n",
    "array1 = np.array([[1, 2],[3, 4]])\n",
    "\n",
    "# split the array column-wise (axis = 0 by default)\n",
    "splitArrays = np.split(array1, 2)\n",
    "\n",
    "print(\"\\nSplit array column-wise:\")\n",
    "print(splitArrays)\n",
    "\n",
    "# split the array row-wise\n",
    "splitArrays = np.split(array1, 2, axis = 1)\n",
    "\n",
    "print(\"Split array row-wise:\")\n",
    "print(splitArrays)"
   ]
  },
  {
   "cell_type": "code",
   "execution_count": 219,
   "id": "9542831b-5a5b-4b82-8c92-12062046030e",
   "metadata": {},
   "outputs": [
    {
     "ename": "ValueError",
     "evalue": "array split does not result in an equal division",
     "output_type": "error",
     "traceback": [
      "\u001b[1;31m---------------------------------------------------------------------------\u001b[0m",
      "\u001b[1;31mValueError\u001b[0m                                Traceback (most recent call last)",
      "Cell \u001b[1;32mIn[219], line 7\u001b[0m\n\u001b[0;32m      4\u001b[0m array1 \u001b[38;5;241m=\u001b[39m np\u001b[38;5;241m.\u001b[39marray( [[\u001b[38;5;241m1\u001b[39m, \u001b[38;5;241m2\u001b[39m], [\u001b[38;5;241m3\u001b[39m, \u001b[38;5;241m4\u001b[39m], [\u001b[38;5;241m5\u001b[39m, \u001b[38;5;241m6\u001b[39m]] )\n\u001b[0;32m      6\u001b[0m \u001b[38;5;66;03m# split into 2 arrays\u001b[39;00m\n\u001b[1;32m----> 7\u001b[0m splitArrays \u001b[38;5;241m=\u001b[39m np\u001b[38;5;241m.\u001b[39msplit(array1, \u001b[38;5;241m2\u001b[39m)\n\u001b[0;32m      9\u001b[0m \u001b[38;5;28mprint\u001b[39m(splitArrays)\n",
      "File \u001b[1;32mC:\\ProgramData\\anaconda3\\Lib\\site-packages\\numpy\\lib\\shape_base.py:864\u001b[0m, in \u001b[0;36msplit\u001b[1;34m(ary, indices_or_sections, axis)\u001b[0m\n\u001b[0;32m    862\u001b[0m     N \u001b[38;5;241m=\u001b[39m ary\u001b[38;5;241m.\u001b[39mshape[axis]\n\u001b[0;32m    863\u001b[0m     \u001b[38;5;28;01mif\u001b[39;00m N \u001b[38;5;241m%\u001b[39m sections:\n\u001b[1;32m--> 864\u001b[0m         \u001b[38;5;28;01mraise\u001b[39;00m \u001b[38;5;167;01mValueError\u001b[39;00m(\n\u001b[0;32m    865\u001b[0m             \u001b[38;5;124m'\u001b[39m\u001b[38;5;124marray split does not result in an equal division\u001b[39m\u001b[38;5;124m'\u001b[39m) \u001b[38;5;28;01mfrom\u001b[39;00m \u001b[38;5;28;01mNone\u001b[39;00m\n\u001b[0;32m    866\u001b[0m \u001b[38;5;28;01mreturn\u001b[39;00m array_split(ary, indices_or_sections, axis)\n",
      "\u001b[1;31mValueError\u001b[0m: array split does not result in an equal division"
     ]
    }
   ],
   "source": [
    "#split array into uneven subarrays\n",
    "import numpy as np\n",
    "\n",
    "array1 = np.array( [[1, 2], [3, 4], [5, 6]] )\n",
    "\n",
    "# split into 2 arrays\n",
    "splitArrays = np.split(array1, 2)\n",
    "\n",
    "print(splitArrays)"
   ]
  },
  {
   "cell_type": "code",
   "execution_count": 221,
   "id": "cd346556-ec1e-492e-a354-8cb39b61e4ea",
   "metadata": {},
   "outputs": [
    {
     "name": "stdout",
     "output_type": "stream",
     "text": [
      "[array([[1, 2],\n",
      "       [3, 4]]), array([[5, 6]])]\n"
     ]
    }
   ],
   "source": [
    "#split array into uneven subarrays--we can use array_split\n",
    "import numpy as np\n",
    "array1 = np.array( [[1, 2], [3, 4], [5, 6]] )\n",
    "# split into 2 arrays\n",
    "splitArrays = np.array_split(array1, 2)\n",
    "print(splitArrays)"
   ]
  },
  {
   "cell_type": "code",
   "execution_count": 227,
   "id": "a3976cf7-463b-4d69-af8c-9dc558f32fb3",
   "metadata": {},
   "outputs": [
    {
     "data": {
      "text/plain": [
       "[array([[1],\n",
       "        [3]]),\n",
       " array([[2],\n",
       "        [4]])]"
      ]
     },
     "execution_count": 227,
     "metadata": {},
     "output_type": "execute_result"
    }
   ],
   "source": [
    "#hsplit\n",
    "array1 = np.array([[1, 2],[3, 4]])\n",
    "np.hsplit(array1,2)"
   ]
  },
  {
   "cell_type": "code",
   "execution_count": null,
   "id": "4eba7658-6c36-4c14-8478-8fd44b7716be",
   "metadata": {},
   "outputs": [],
   "source": []
  },
  {
   "cell_type": "code",
   "execution_count": 320,
   "id": "75e655f7-9d23-4003-86ba-5a7402b9a690",
   "metadata": {},
   "outputs": [
    {
     "data": {
      "text/plain": [
       "[array([[1, 2],\n",
       "        [3, 4]]),\n",
       " array([], shape=(2, 0), dtype=int32)]"
      ]
     },
     "execution_count": 320,
     "metadata": {},
     "output_type": "execute_result"
    }
   ],
   "source": [
    "np.hsplit(F,[4])"
   ]
  },
  {
   "cell_type": "code",
   "execution_count": 332,
   "id": "015966fd-e689-453d-9bac-9c24d8f1149d",
   "metadata": {},
   "outputs": [
    {
     "data": {
      "text/plain": [
       "[array([[1, 2],\n",
       "        [3, 4]]),\n",
       " array([], shape=(2, 0), dtype=int32),\n",
       " array([], shape=(2, 0), dtype=int32)]"
      ]
     },
     "execution_count": 332,
     "metadata": {},
     "output_type": "execute_result"
    }
   ],
   "source": [
    "np.hsplit(F,[2,4])"
   ]
  },
  {
   "cell_type": "code",
   "execution_count": 336,
   "id": "50e5aff9-15a9-4230-b9dd-060836499323",
   "metadata": {},
   "outputs": [
    {
     "data": {
      "text/plain": [
       "[array([[1],\n",
       "        [3]]),\n",
       " array([[2],\n",
       "        [4]])]"
      ]
     },
     "execution_count": 336,
     "metadata": {},
     "output_type": "execute_result"
    }
   ],
   "source": [
    "F = np.array( [[1, 2], [3, 4]] )\n",
    "np.hsplit(F,2)"
   ]
  },
  {
   "cell_type": "markdown",
   "id": "56291f4e-2305-4248-98da-667083ce83ea",
   "metadata": {},
   "source": [
    "#value error\n",
    "np.hsplit(F,3)\n",
    "np.hsplit(F,3)[0]\n",
    "np.hsplit(F,3)[1]\n"
   ]
  },
  {
   "cell_type": "code",
   "execution_count": 255,
   "id": "bdb6bbf6-9a9a-43b8-ad8c-36bd1215e44c",
   "metadata": {},
   "outputs": [
    {
     "data": {
      "text/plain": [
       "array([[1],\n",
       "       [3]])"
      ]
     },
     "execution_count": 255,
     "metadata": {},
     "output_type": "execute_result"
    }
   ],
   "source": [
    "np.hsplit(F,2)[0]"
   ]
  },
  {
   "cell_type": "code",
   "execution_count": 257,
   "id": "b88a8c49-f827-414a-be94-0221392ec18c",
   "metadata": {},
   "outputs": [
    {
     "data": {
      "text/plain": [
       "array([[2],\n",
       "       [4]])"
      ]
     },
     "execution_count": 257,
     "metadata": {},
     "output_type": "execute_result"
    }
   ],
   "source": [
    "np.hsplit(F,2)[1]"
   ]
  },
  {
   "cell_type": "code",
   "execution_count": 293,
   "id": "40410208-451c-4164-ad66-53f57de3fad7",
   "metadata": {},
   "outputs": [
    {
     "data": {
      "text/plain": [
       "[array([[1],\n",
       "        [3]]),\n",
       " array([[2],\n",
       "        [4]]),\n",
       " array([], shape=(2, 0), dtype=int32)]"
      ]
     },
     "execution_count": 293,
     "metadata": {},
     "output_type": "execute_result"
    }
   ],
   "source": [
    "np.hsplit(F,[1,9])"
   ]
  },
  {
   "cell_type": "code",
   "execution_count": 265,
   "id": "a84cb3af-0764-49c3-a24d-205ddc2d2e8c",
   "metadata": {},
   "outputs": [
    {
     "data": {
      "text/plain": [
       "[array([[1, 2]]), array([[3, 4]])]"
      ]
     },
     "execution_count": 265,
     "metadata": {},
     "output_type": "execute_result"
    }
   ],
   "source": [
    "np.vsplit(F,2)"
   ]
  },
  {
   "cell_type": "code",
   "execution_count": null,
   "id": "3214a663-0995-4caf-a349-f26eda4f7f2c",
   "metadata": {},
   "outputs": [],
   "source": []
  },
  {
   "cell_type": "code",
   "execution_count": null,
   "id": "9fa67a5e-ad70-480e-8c82-757a90d07e34",
   "metadata": {},
   "outputs": [],
   "source": []
  },
  {
   "cell_type": "code",
   "execution_count": null,
   "id": "ee043135-37b0-48b4-8a48-3dcdb6b0bd3f",
   "metadata": {},
   "outputs": [],
   "source": []
  },
  {
   "cell_type": "code",
   "execution_count": 347,
   "id": "68f62b83-18a7-4c7b-a3b2-9cd0e2261256",
   "metadata": {},
   "outputs": [],
   "source": [
    "#error\n",
    "#np.vsplit(F,3)\n"
   ]
  },
  {
   "cell_type": "code",
   "execution_count": 269,
   "id": "033e6a0a-52ed-4931-873a-aeed7cdc04e6",
   "metadata": {},
   "outputs": [
    {
     "data": {
      "text/plain": [
       "array([[1, 2]])"
      ]
     },
     "execution_count": 269,
     "metadata": {},
     "output_type": "execute_result"
    }
   ],
   "source": [
    "np.vsplit(F,2)[0]"
   ]
  },
  {
   "cell_type": "code",
   "execution_count": 273,
   "id": "51507f4d-f0c9-4012-9daa-21452ecba23b",
   "metadata": {},
   "outputs": [
    {
     "data": {
      "text/plain": [
       "array([[3, 4]])"
      ]
     },
     "execution_count": 273,
     "metadata": {},
     "output_type": "execute_result"
    }
   ],
   "source": [
    "np.vsplit(F,2)[1]"
   ]
  },
  {
   "cell_type": "code",
   "execution_count": 344,
   "id": "170ee4ab-1ef9-4a19-8468-f9a2ffd9deb8",
   "metadata": {},
   "outputs": [
    {
     "data": {
      "text/plain": [
       "[array([[1, 2],\n",
       "        [3, 4]]),\n",
       " array([], shape=(0, 2), dtype=int32),\n",
       " array([], shape=(0, 2), dtype=int32)]"
      ]
     },
     "execution_count": 344,
     "metadata": {},
     "output_type": "execute_result"
    }
   ],
   "source": [
    "np.vsplit(F,[2,4])"
   ]
  },
  {
   "cell_type": "markdown",
   "id": "06e462dc-380d-431f-b6ef-c37fa982078f",
   "metadata": {},
   "source": [
    "# flat"
   ]
  },
  {
   "cell_type": "code",
   "execution_count": 357,
   "id": "186e809b-b1af-4d63-be00-9e325f19c0ab",
   "metadata": {},
   "outputs": [
    {
     "data": {
      "text/plain": [
       "array([[2, 3],\n",
       "       [4, 5],\n",
       "       [6, 7]])"
      ]
     },
     "execution_count": 357,
     "metadata": {},
     "output_type": "execute_result"
    }
   ],
   "source": [
    "#flat\n",
    "a = np.arange(2, 8).reshape(3, 2)\n",
    "a"
   ]
  },
  {
   "cell_type": "code",
   "execution_count": 349,
   "id": "49b3b809-134f-4ddd-a718-a6d9a56863f5",
   "metadata": {},
   "outputs": [
    {
     "data": {
      "text/plain": [
       "4"
      ]
     },
     "execution_count": 349,
     "metadata": {},
     "output_type": "execute_result"
    }
   ],
   "source": [
    "a.flat[4]"
   ]
  },
  {
   "cell_type": "code",
   "execution_count": 351,
   "id": "17efd207-4712-4377-9f82-71254cafdddb",
   "metadata": {},
   "outputs": [
    {
     "data": {
      "text/plain": [
       "array([ 0,  1,  2,  3,  4,  5,  6,  7,  8, 55])"
      ]
     },
     "execution_count": 351,
     "metadata": {},
     "output_type": "execute_result"
    }
   ],
   "source": [
    "a.T"
   ]
  },
  {
   "cell_type": "code",
   "execution_count": 353,
   "id": "2be89939-cf86-4741-8bde-9328e9ef7800",
   "metadata": {},
   "outputs": [
    {
     "data": {
      "text/plain": [
       "4"
      ]
     },
     "execution_count": 353,
     "metadata": {},
     "output_type": "execute_result"
    }
   ],
   "source": [
    "a.T.flat[4]"
   ]
  },
  {
   "cell_type": "code",
   "execution_count": 355,
   "id": "6e7e4926-aaf6-4007-9ace-40472ca1d727",
   "metadata": {},
   "outputs": [
    {
     "data": {
      "text/plain": [
       "numpy.flatiter"
      ]
     },
     "execution_count": 355,
     "metadata": {},
     "output_type": "execute_result"
    }
   ],
   "source": [
    "type(a.flat)"
   ]
  },
  {
   "cell_type": "markdown",
   "id": "a9f6eb6e-ac7d-436e-aa2b-51bd93f37fcc",
   "metadata": {},
   "source": [
    "# unique"
   ]
  },
  {
   "cell_type": "code",
   "execution_count": 372,
   "id": "baa9e3a2-baaa-4091-b88d-4e643a929bdf",
   "metadata": {},
   "outputs": [
    {
     "data": {
      "text/plain": [
       "array([0, 1, 2, 3, 4])"
      ]
     },
     "execution_count": 372,
     "metadata": {},
     "output_type": "execute_result"
    }
   ],
   "source": [
    "#finding unique elements\n",
    "np.unique([0,1,2,0,2,3,4,3,0,4])\n"
   ]
  },
  {
   "cell_type": "code",
   "execution_count": 370,
   "id": "9bda8441-26b5-4651-8b5d-aafb6bf5f6c7",
   "metadata": {},
   "outputs": [
    {
     "data": {
      "text/plain": [
       "array([1, 2, 3, 4])"
      ]
     },
     "execution_count": 370,
     "metadata": {},
     "output_type": "execute_result"
    }
   ],
   "source": [
    "#Finding unique elements in a 2D array using numpy.unique()\n",
    "import numpy as np\n",
    "x = np.array([[1, 1], [2,3], [3,4]])\n",
    "np.unique(x)\n"
   ]
  },
  {
   "cell_type": "code",
   "execution_count": 433,
   "id": "59099204-adc3-4076-87f2-e8cf7da89ab8",
   "metadata": {},
   "outputs": [
    {
     "name": "stdout",
     "output_type": "stream",
     "text": [
      "[0 1 4 2 3 1 2 1 4 3]\n"
     ]
    },
    {
     "data": {
      "text/plain": [
       "array([0, 1, 2, 2, 5, 1, 2, 1, 2, 5])"
      ]
     },
     "execution_count": 433,
     "metadata": {},
     "output_type": "execute_result"
    }
   ],
   "source": [
    "#mapping an array using numpy.unique()\n",
    "import numpy as np\n",
    "x = np.array([0, 1, 2, 5, 2, 6, 5, 2, 3, 1])\n",
    "print(indices)\n",
    "x[indices]\n"
   ]
  },
  {
   "cell_type": "code",
   "execution_count": 374,
   "id": "3428d3d4-98c6-4269-bd56-2418fbfc2ba9",
   "metadata": {},
   "outputs": [
    {
     "name": "stdout",
     "output_type": "stream",
     "text": [
      "['h' 'o' 'p' 't' 'y']\n",
      "[4 0 1 3 2]\n"
     ]
    },
    {
     "data": {
      "text/plain": [
       "array(['h', 'o', 'p', 't', 'y'], dtype='<U1')"
      ]
     },
     "execution_count": 374,
     "metadata": {},
     "output_type": "execute_result"
    }
   ],
   "source": [
    "# Finding unique elements and their indices in a numpy array\n",
    "#Mapping original values using unique and inverse index in numpy\n",
    "import numpy as np\n",
    "x = np.array(['o', 'p', 'y', 't', 'h', 'o', 'p'])\n",
    "u, indices = np.unique(x, return_index=True)\n",
    "print(u)\n",
    "print(indices)\n",
    "x[indices]\n"
   ]
  },
  {
   "cell_type": "code",
   "execution_count": 385,
   "id": "87a6fa84-afce-4506-839b-7c2e91c2e8a8",
   "metadata": {},
   "outputs": [
    {
     "name": "stdout",
     "output_type": "stream",
     "text": [
      "[0 1 2 3 5 6]\n",
      "[0 1 2 4 2 5 4 2 3 1]\n"
     ]
    }
   ],
   "source": [
    " #Finding unique values and their indices using  numpy.unique() function with return_inverse parameter\n",
    "import numpy as np\n",
    "x = np.array([0, 1, 2, 5, 2, 6, 5, 2, 3, 1])\n",
    "u, indices = np.unique(x, return_inverse=True)\n",
    "print(u)\n",
    "print(indices)"
   ]
  },
  {
   "cell_type": "markdown",
   "id": "316738b8-15b9-4fbf-967c-ee26f962218a",
   "metadata": {},
   "source": [
    "# stack"
   ]
  },
  {
   "cell_type": "code",
   "execution_count": 458,
   "id": "7ea65809-261f-4873-aeb5-ece6ba1b33c9",
   "metadata": {},
   "outputs": [
    {
     "data": {
      "text/plain": [
       "array([1, 2, 3, 4, 5, 6])"
      ]
     },
     "execution_count": 458,
     "metadata": {},
     "output_type": "execute_result"
    }
   ],
   "source": [
    "arr=np.stack([1,2,3,4,5,6])\n",
    "np.stack(arr)"
   ]
  },
  {
   "cell_type": "code",
   "execution_count": 474,
   "id": "d719efdb-878c-4ff1-a44f-f1a900fd9523",
   "metadata": {},
   "outputs": [
    {
     "data": {
      "text/plain": [
       "array([[5, 6, 7],\n",
       "       [6, 7, 8]])"
      ]
     },
     "execution_count": 474,
     "metadata": {},
     "output_type": "execute_result"
    }
   ],
   "source": [
    "arr = np.array( [[5, 6,7], [6,7,8]] )\n",
    "arr"
   ]
  },
  {
   "cell_type": "code",
   "execution_count": 476,
   "id": "36bcc205-11dc-4333-b36b-fb75a6750b06",
   "metadata": {},
   "outputs": [
    {
     "data": {
      "text/plain": [
       "array([[5, 6, 7],\n",
       "       [6, 7, 8]])"
      ]
     },
     "execution_count": 476,
     "metadata": {},
     "output_type": "execute_result"
    }
   ],
   "source": [
    "np.stack(arr)"
   ]
  },
  {
   "cell_type": "code",
   "execution_count": 478,
   "id": "8ffb7279-221c-4dc1-a824-f71fb5be44fc",
   "metadata": {},
   "outputs": [
    {
     "data": {
      "text/plain": [
       "array([[5, 6, 7],\n",
       "       [6, 7, 8]])"
      ]
     },
     "execution_count": 478,
     "metadata": {},
     "output_type": "execute_result"
    }
   ],
   "source": [
    "np.vstack(arr)"
   ]
  },
  {
   "cell_type": "code",
   "execution_count": 480,
   "id": "93ea2e4e-5fbd-424a-88f2-fd67b8677016",
   "metadata": {},
   "outputs": [
    {
     "data": {
      "text/plain": [
       "array([5, 6, 7, 6, 7, 8])"
      ]
     },
     "execution_count": 480,
     "metadata": {},
     "output_type": "execute_result"
    }
   ],
   "source": [
    "np.hstack(arr)"
   ]
  },
  {
   "cell_type": "code",
   "execution_count": 482,
   "id": "56150027-c261-4a97-a9a6-45788c8d3a32",
   "metadata": {},
   "outputs": [
    {
     "data": {
      "text/plain": [
       "array([[[5, 6],\n",
       "        [6, 7],\n",
       "        [7, 8]]])"
      ]
     },
     "execution_count": 482,
     "metadata": {},
     "output_type": "execute_result"
    }
   ],
   "source": [
    "np.dstack(arr)"
   ]
  },
  {
   "cell_type": "code",
   "execution_count": 484,
   "id": "d84982c6-6f3d-4933-88d4-6e6ea7e35bb3",
   "metadata": {},
   "outputs": [
    {
     "data": {
      "text/plain": [
       "array([[5, 6],\n",
       "       [6, 7],\n",
       "       [7, 8]])"
      ]
     },
     "execution_count": 484,
     "metadata": {},
     "output_type": "execute_result"
    }
   ],
   "source": [
    "np.column_stack(arr)"
   ]
  },
  {
   "cell_type": "code",
   "execution_count": 464,
   "id": "93e43a3c-045a-4087-ba53-63649d7d6e20",
   "metadata": {},
   "outputs": [
    {
     "data": {
      "text/plain": [
       "array([[1],\n",
       "       [2],\n",
       "       [3],\n",
       "       [4],\n",
       "       [5],\n",
       "       [6]])"
      ]
     },
     "execution_count": 464,
     "metadata": {},
     "output_type": "execute_result"
    }
   ],
   "source": [
    "np.row_stack(arr)"
   ]
  },
  {
   "cell_type": "code",
   "execution_count": 470,
   "id": "adf85118-ffbd-4561-8da1-af4e5b16501c",
   "metadata": {},
   "outputs": [
    {
     "data": {
      "text/plain": [
       "array([[5, 6],\n",
       "       [6, 7],\n",
       "       [7, 8]])"
      ]
     },
     "execution_count": 470,
     "metadata": {},
     "output_type": "execute_result"
    }
   ],
   "source": [
    "arr = np.array( [[5, 6,7], [6,7,8]] )\n",
    "np.stack(arr,axis=1)"
   ]
  },
  {
   "cell_type": "code",
   "execution_count": 472,
   "id": "11ef68f0-f605-4f25-952a-8815ec980321",
   "metadata": {},
   "outputs": [
    {
     "data": {
      "text/plain": [
       "array([[5, 6, 7],\n",
       "       [6, 7, 8]])"
      ]
     },
     "execution_count": 472,
     "metadata": {},
     "output_type": "execute_result"
    }
   ],
   "source": [
    "arr = np.array( [[5, 6,7], [6,7,8]] )\n",
    "np.stack(arr,axis=0)"
   ]
  },
  {
   "cell_type": "code",
   "execution_count": null,
   "id": "14837049-ff4f-4d4c-9604-b616b91ea2ca",
   "metadata": {},
   "outputs": [],
   "source": []
  }
 ],
 "metadata": {
  "kernelspec": {
   "display_name": "Python 3 (ipykernel)",
   "language": "python",
   "name": "python3"
  },
  "language_info": {
   "codemirror_mode": {
    "name": "ipython",
    "version": 3
   },
   "file_extension": ".py",
   "mimetype": "text/x-python",
   "name": "python",
   "nbconvert_exporter": "python",
   "pygments_lexer": "ipython3",
   "version": "3.12.4"
  }
 },
 "nbformat": 4,
 "nbformat_minor": 5
}
