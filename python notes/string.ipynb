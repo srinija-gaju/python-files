{
 "cells": [
  {
   "cell_type": "markdown",
   "id": "05b22907-9cce-4f97-910c-5aaee057703c",
   "metadata": {},
   "source": [
    "# Strings\n",
    "#upper-converts text into uppercase\n",
    "#lower-converts text into lowercase\n",
    "#strip-removes white spaces\n",
    "#split-it will split each word in the sentence given\n",
    "#replacce-changing value to a new value\n"
   ]
  },
  {
   "cell_type": "code",
   "execution_count": 2,
   "id": "0715146c-1c7d-4a56-abd9-3e04de6b298f",
   "metadata": {},
   "outputs": [
    {
     "name": "stdout",
     "output_type": "stream",
     "text": [
      "srinija\n"
     ]
    }
   ],
   "source": [
    "''' for multiline comment.'''\n",
    "a1=\"srinija\"\n",
    "print(a1)"
   ]
  },
  {
   "cell_type": "code",
   "execution_count": 3,
   "id": "9ca0428a-c16d-4940-a20f-d98d2904b40d",
   "metadata": {},
   "outputs": [
    {
     "name": "stdout",
     "output_type": "stream",
     "text": [
      "p\n",
      "p\n"
     ]
    }
   ],
   "source": [
    "req=\"python\"\n",
    "print(req[0])\n",
    "print(req[-6])\n"
   ]
  },
  {
   "cell_type": "code",
   "execution_count": 4,
   "id": "92793cef-44e5-4a04-a7b7-ad2f5389ca53",
   "metadata": {},
   "outputs": [
    {
     "name": "stdout",
     "output_type": "stream",
     "text": [
      "m\n",
      "y \n",
      "18\n",
      "my name is srinija\n",
      "y\n",
      "my name is srinija\n"
     ]
    }
   ],
   "source": [
    "data_point=\"my name is srinija\"\n",
    "print(data_point[0:1])\n",
    "print(data_point[1:3])\n",
    "print(len(data_point))\n",
    "print(data_point[0:18])\n",
    "print(data_point[-17])\n",
    "print(data_point[:])\n",
    "\n"
   ]
  },
  {
   "cell_type": "code",
   "execution_count": 5,
   "id": "c4245bbb-a925-4b1b-b523-f8b6d84ba9aa",
   "metadata": {},
   "outputs": [
    {
     "name": "stdout",
     "output_type": "stream",
     "text": [
      "18\n",
      "Black Titanium\n",
      "Apple\n",
      "iphone\n",
      "256 GB\n",
      "15 pro\n"
     ]
    }
   ],
   "source": [
    "data_point1=\"Apple iphone 15 pro (256 GB) - Black Titanium\"\n",
    "print(len(data_point))\n",
    "model=data_point1[0:5]\n",
    "brand=data_point1[6:12]\n",
    "series=data_point1[13:19]\n",
    "size=data_point1[21:27]\n",
    "colour=data_point1[31:45]\n",
    "print(colour)\n",
    "print(model)\n",
    "print(brand)\n",
    "print(size)\n",
    "print(series)\n"
   ]
  },
  {
   "cell_type": "code",
   "execution_count": 6,
   "id": "cf893372-4781-4ef7-9c67-df31e05da91d",
   "metadata": {},
   "outputs": [
    {
     "name": "stdout",
     "output_type": "stream",
     "text": [
      "GOOD MORNING\n",
      "HI\n",
      "good morning\n"
     ]
    }
   ],
   "source": [
    "text=\"good morning\"\n",
    "a=text.upper()\n",
    "print(a)\n",
    "print(\"hi\".upper())\n",
    "print(text.lower())\n"
   ]
  },
  {
   "cell_type": "code",
   "execution_count": 7,
   "id": "8ed4215a-499d-4891-9458-1a4590add6c2",
   "metadata": {},
   "outputs": [
    {
     "name": "stdout",
     "output_type": "stream",
     "text": [
      "srinija\n"
     ]
    }
   ],
   "source": [
    "a=\"   srinija        \"\n",
    "print(a.strip())"
   ]
  },
  {
   "cell_type": "code",
   "execution_count": 8,
   "id": "b1111053-4af5-453c-aa2b-1b11d615b19a",
   "metadata": {},
   "outputs": [
    {
     "name": "stdout",
     "output_type": "stream",
     "text": [
      "gaju Gaju\n",
      "['srinija', 'Gaju']\n"
     ]
    },
    {
     "data": {
      "text/plain": [
       "'Gaju'"
      ]
     },
     "execution_count": 8,
     "metadata": {},
     "output_type": "execute_result"
    }
   ],
   "source": [
    "name=\"srinija Gaju\"\n",
    "print(name.replace(\"srinija\",\"gaju\"))\n",
    "print(name.split(\" \"))\n",
    "name.split(\" \")[1]"
   ]
  },
  {
   "cell_type": "code",
   "execution_count": 9,
   "id": "86e2eece-c523-43f9-83f2-edd78122c520",
   "metadata": {},
   "outputs": [
    {
     "name": "stdout",
     "output_type": "stream",
     "text": [
      "srinijagaju\n",
      "srinija gaju\n",
      "srinija srinija srinija srinija srinija \n"
     ]
    }
   ],
   "source": [
    "str1=\"srinija\"\n",
    "str2=\"gaju\"\n",
    "print(str1+str2)\n",
    "print(str1+\" \"+str2)\n",
    "print(\"srinija \"*5)"
   ]
  },
  {
   "cell_type": "code",
   "execution_count": 11,
   "id": "3a311c19-8323-40ac-8ced-799e93a6e396",
   "metadata": {},
   "outputs": [
    {
     "name": "stdin",
     "output_type": "stream",
     "text": [
      "enter your details iam srinija\n"
     ]
    },
    {
     "name": "stdout",
     "output_type": "stream",
     "text": [
      "['iam', 'srinija']\n",
      "Hi welcome to innomatics srinija\n"
     ]
    }
   ],
   "source": [
    "a=input(\"enter your details\")\n",
    "print(a.split())\n",
    "\n",
    "print(\"Hi welcome to innomatics\",a.split()[1])\n",
    "  \n",
    "\n"
   ]
  },
  {
   "cell_type": "code",
   "execution_count": null,
   "id": "18d693ce-86ed-4f12-8885-7886f8ba7355",
   "metadata": {},
   "outputs": [],
   "source": [
    "\n",
    "\n"
   ]
  },
  {
   "cell_type": "code",
   "execution_count": null,
   "id": "5f2fb367-052a-4cfb-a7b7-4f05c492c729",
   "metadata": {},
   "outputs": [],
   "source": [
    "\n"
   ]
  },
  {
   "cell_type": "code",
   "execution_count": null,
   "id": "8b1b2a97-b3d8-4ceb-9b62-4620fb22ae2e",
   "metadata": {},
   "outputs": [],
   "source": []
  }
 ],
 "metadata": {
  "kernelspec": {
   "display_name": "Python 3 (ipykernel)",
   "language": "python",
   "name": "python3"
  },
  "language_info": {
   "codemirror_mode": {
    "name": "ipython",
    "version": 3
   },
   "file_extension": ".py",
   "mimetype": "text/x-python",
   "name": "python",
   "nbconvert_exporter": "python",
   "pygments_lexer": "ipython3",
   "version": "3.12.4"
  }
 },
 "nbformat": 4,
 "nbformat_minor": 5
}
