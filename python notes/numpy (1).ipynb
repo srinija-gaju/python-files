{
 "cells": [
  {
   "cell_type": "markdown",
   "id": "12e73543-39e4-4e46-833c-7e7c411c1b3e",
   "metadata": {},
   "source": [
    "# NUMPY\n",
    "**faster computations**\n",
    "\n",
    "**faster than a list**\n",
    "\n",
    "**tensor is faster than numpy**\n",
    "\n"
   ]
  },
  {
   "cell_type": "code",
   "execution_count": 2,
   "id": "cdd0f1b2-1396-4128-9403-32357aad0b41",
   "metadata": {},
   "outputs": [],
   "source": [
    "#In Python we have lists that serve the purpose of arrays, but they are slow to process.\n",
    "\n",
    "#NumPy aims to provide an array object that is up to 50x faster than traditional Python lists\n",
    "#Arrays are very frequently used in data science, where speed and resources are very important\n",
    "#Arrays are very frequently used in data science, where speed and resources are very important\n",
    "\n",
    "#Why is NumPy Faster Than Lists?\n",
    "#NumPy arrays are stored at one continuous place in memory unlike lists, so processes can access and manipulate them very efficiently.\n",
    "\n",
    "#This behavior is called locality of reference in computer science.\n",
    "\n",
    "#This is the main reason why NumPy is faster than lists. Also it is optimized to work with latest CPU architectures.\n",
    "#Which Language is NumPy written in?\n",
    "#NumPy is a Python library and is written partially in Python, but most of the parts that require fast computation are written in C or C++."
   ]
  },
  {
   "cell_type": "code",
   "execution_count": 3,
   "id": "9f98cfc0-f48a-4576-be4a-0bb9e5c35a77",
   "metadata": {},
   "outputs": [
    {
     "name": "stdout",
     "output_type": "stream",
     "text": [
      "Defaulting to user installation because normal site-packages is not writeable\n",
      "Requirement already satisfied: numpy in c:\\programdata\\anaconda3\\lib\\site-packages (1.26.4)\n"
     ]
    }
   ],
   "source": [
    "!pip install numpy\n",
    "#2 types\n",
    "#use the library based upon requirement\n",
    "#undertand the entire library-documentation\n",
    "#pip install <libraryname> -- (pypi <module>)"
   ]
  },
  {
   "cell_type": "code",
   "execution_count": 4,
   "id": "2dd3c294-06dc-44f0-80a1-28d8203643df",
   "metadata": {},
   "outputs": [
    {
     "name": "stdout",
     "output_type": "stream",
     "text": [
      "1.26.4\n"
     ]
    }
   ],
   "source": [
    "import numpy as np  #as----alias\n",
    "print(np.__version__)"
   ]
  },
  {
   "cell_type": "code",
   "execution_count": 5,
   "id": "5c059234-1192-406e-af26-b49ba0416638",
   "metadata": {},
   "outputs": [],
   "source": [
    "#comparison between list and a numpy array\n",
    "import time"
   ]
  },
  {
   "cell_type": "code",
   "execution_count": 6,
   "id": "d03bf97f-ff86-455f-ad8b-af6d539048d8",
   "metadata": {},
   "outputs": [
    {
     "name": "stdout",
     "output_type": "stream",
     "text": [
      "<class 'list'>\n",
      "<class 'numpy.ndarray'>\n"
     ]
    }
   ],
   "source": [
    "#different dimension array\n",
    "#in order to know whether it is a numpy aray or not\n",
    "normal_list=[1,2,3,4]\n",
    "numpy_arr=np.array([1,2,3,4])\n",
    "print(type(normal_list))\n",
    "print(type(numpy_arr))\n"
   ]
  },
  {
   "cell_type": "code",
   "execution_count": 7,
   "id": "6f857c40-b2d7-4a63-88d1-eafeacbd6e22",
   "metadata": {},
   "outputs": [
    {
     "name": "stdout",
     "output_type": "stream",
     "text": [
      "[1 2 3 4 5]\n",
      "<class 'numpy.ndarray'>\n"
     ]
    }
   ],
   "source": [
    "import numpy as np\n",
    "\n",
    "arr = np.array((1, 2, 3, 4, 5))\n",
    "\n",
    "print(arr)\n",
    "print(type(arr))"
   ]
  },
  {
   "cell_type": "code",
   "execution_count": 8,
   "id": "4915b85f-b3ec-484d-8067-703acef26aa6",
   "metadata": {},
   "outputs": [
    {
     "name": "stdout",
     "output_type": "stream",
     "text": [
      "(1,)\n",
      "(1, 3)\n",
      "(1, 1, 3)\n",
      "1\n",
      "2\n",
      "3\n"
     ]
    }
   ],
   "source": [
    "#shape\n",
    "#ndim\n",
    "#1D,2D,3D\n",
    "\n",
    "numpy_arr1=np.array([1])\n",
    "numpy_arr2=np.array([[1,2,3]])\n",
    "numpy_arr3=np.array([[[1,2,3]]])\n",
    "\n",
    "print(numpy_arr1.shape)#1D==>only one element\n",
    "print(numpy_arr2.shape)#2D==>(x,y)\n",
    "print(numpy_arr3.shape)#3D==>(x,y,z)\n",
    "\n",
    "print(np.ndim(numpy_arr1))#1D\n",
    "print(np.ndim(numpy_arr2))#2D\n",
    "print(np.ndim(numpy_arr3))#3D\n",
    "\n",
    "\n"
   ]
  },
  {
   "cell_type": "code",
   "execution_count": 9,
   "id": "95fc842b-4d4a-4ecb-98df-45d74d1b161c",
   "metadata": {},
   "outputs": [
    {
     "name": "stdout",
     "output_type": "stream",
     "text": [
      "0\n",
      "1\n",
      "2\n",
      "3\n"
     ]
    }
   ],
   "source": [
    "import numpy as np\n",
    "\n",
    "a = np.array(42)\n",
    "b = np.array([1, 2, 3, 4, 5])\n",
    "c = np.array([[1, 2, 3], [4, 5, 6]])\n",
    "d = np.array([[[1, 2, 3], [4, 5, 6]], [[1, 2, 3], [4, 5, 6]]])\n",
    "\n",
    "print(a.ndim)#0D\n",
    "print(b.ndim)#1D\n",
    "print(c.ndim)#2D\n",
    "print(d.ndim)#3D"
   ]
  },
  {
   "cell_type": "code",
   "execution_count": 10,
   "id": "2832ecb0-da11-474c-94f7-ffd23204e0f2",
   "metadata": {},
   "outputs": [
    {
     "name": "stdout",
     "output_type": "stream",
     "text": [
      "[[[[[1 2 3 4]]]]]\n",
      "number of dimensions : 5\n"
     ]
    }
   ],
   "source": [
    "import numpy as np\n",
    "\n",
    "arr = np.array([1, 2, 3, 4], ndmin=5)\n",
    "\n",
    "print(arr)\n",
    "print('number of dimensions :', arr.ndim)"
   ]
  },
  {
   "cell_type": "code",
   "execution_count": 11,
   "id": "3d4d8544-08a7-4101-a256-2381e891fd49",
   "metadata": {},
   "outputs": [
    {
     "name": "stdout",
     "output_type": "stream",
     "text": [
      "2nd element on 1st row:  7\n"
     ]
    },
    {
     "data": {
      "text/plain": [
       "7"
      ]
     },
     "execution_count": 11,
     "metadata": {},
     "output_type": "execute_result"
    }
   ],
   "source": [
    "import numpy as np\n",
    "\n",
    "arr = np.array([[1,2,3,4,5], [6,7,8,9,10]])\n",
    "\n",
    "print('2nd element on 1st row: ', arr[1, 1])\n",
    "arr[1][1]"
   ]
  },
  {
   "cell_type": "code",
   "execution_count": 12,
   "id": "97bd11d9-bc91-4bbd-80e7-b0803c95b926",
   "metadata": {},
   "outputs": [
    {
     "name": "stdout",
     "output_type": "stream",
     "text": [
      "6\n",
      "5\n",
      "11\n"
     ]
    }
   ],
   "source": [
    "import numpy as np\n",
    "\n",
    "arr = np.array([[[1, 2, 3], [4, 5, 6]], [[7, 8, 9], [10, 11, 12]]])\n",
    "\n",
    "print(arr[0, 1, 2])\n",
    "print(arr[0, 1, 1])\n",
    "print(arr[1,1,1])"
   ]
  },
  {
   "cell_type": "code",
   "execution_count": 13,
   "id": "43c7dfc5-b149-441a-a5ff-c5636cac829b",
   "metadata": {},
   "outputs": [
    {
     "name": "stdout",
     "output_type": "stream",
     "text": [
      "Last element from 2nd dim:  10\n"
     ]
    },
    {
     "data": {
      "text/plain": [
       "3"
      ]
     },
     "execution_count": 13,
     "metadata": {},
     "output_type": "execute_result"
    }
   ],
   "source": [
    "import numpy as np\n",
    "\n",
    "arr = np.array([[1,2,3,4,5], [6,7,8,9,10]])\n",
    "\n",
    "print('Last element from 2nd dim: ', arr[1, -1])\n",
    "arr[0,-3]"
   ]
  },
  {
   "cell_type": "code",
   "execution_count": 14,
   "id": "91dce51a-6a9c-4286-a246-dc1b8800b2f8",
   "metadata": {},
   "outputs": [
    {
     "name": "stdout",
     "output_type": "stream",
     "text": [
      "[5 7 9]\n",
      "[-3 -3 -3]\n",
      "[ 4 10 18]\n"
     ]
    }
   ],
   "source": [
    "a=np.array([1,2,3])\n",
    "b=np.array([4,5,6])\n",
    "print(a+b)\n",
    "print(a-b)\n",
    "print(a*b)"
   ]
  },
  {
   "cell_type": "code",
   "execution_count": 15,
   "id": "19fc20ef-de8c-4451-aed0-d7a9fefac17a",
   "metadata": {},
   "outputs": [
    {
     "name": "stdout",
     "output_type": "stream",
     "text": [
      "[[[ 1  2  3  7]\n",
      "  [ 4  5  6 11]\n",
      "  [ 7  8  9 10]]]\n",
      "(1, 3, 4)\n"
     ]
    }
   ],
   "source": [
    "a=np.array([[[1,2,3,7],[4,5,6,11],[7,8,9,10]]])\n",
    "print(a)\n",
    "print(a.shape)"
   ]
  },
  {
   "cell_type": "markdown",
   "id": "472a7c42-d536-4946-b65a-2974c20dcec1",
   "metadata": {},
   "source": [
    "# slicing"
   ]
  },
  {
   "cell_type": "code",
   "execution_count": 17,
   "id": "9bfb45c2-0d3f-4efc-aa86-5d7190b5771a",
   "metadata": {},
   "outputs": [
    {
     "data": {
      "text/plain": [
       "array([1, 2])"
      ]
     },
     "execution_count": 17,
     "metadata": {},
     "output_type": "execute_result"
    }
   ],
   "source": [
    "#slicing\n",
    "n=np.array([1,2,3,4])\n",
    "n[0:2]\n",
    "\n"
   ]
  },
  {
   "cell_type": "code",
   "execution_count": 18,
   "id": "e8f75a5e-39d3-4efc-8750-b0a80ff170f0",
   "metadata": {},
   "outputs": [
    {
     "data": {
      "text/plain": [
       "array([20, 25])"
      ]
     },
     "execution_count": 18,
     "metadata": {},
     "output_type": "execute_result"
    }
   ],
   "source": [
    "arr = np.array([10, 15, 20, 25, 30, 35, 40])\n",
    "arr[2:4]"
   ]
  },
  {
   "cell_type": "code",
   "execution_count": 19,
   "id": "336bfe29-2fcd-4168-8986-d37ebf12e1aa",
   "metadata": {},
   "outputs": [
    {
     "name": "stdout",
     "output_type": "stream",
     "text": [
      "[10 20 30 40]\n"
     ]
    }
   ],
   "source": [
    "arr = np.array([10, 15, 20, 25, 30, 35, 40])\n",
    "\n",
    "print(arr[::2])"
   ]
  },
  {
   "cell_type": "markdown",
   "id": "e7d86da1-567d-4519-a1d3-dc40ed4575be",
   "metadata": {},
   "source": [
    "# datatypes"
   ]
  },
  {
   "cell_type": "code",
   "execution_count": 21,
   "id": "7b8b6e1f-67c7-46d7-af38-30d4d814951b",
   "metadata": {},
   "outputs": [
    {
     "data": {
      "text/plain": [
       "'\\ni = integer\\nb= boolean\\nu= unsigned integer\\nf= float\\nc= complex float\\nm= timedelta\\nM= datetime\\nO= object\\nS= string\\n'"
      ]
     },
     "execution_count": 21,
     "metadata": {},
     "output_type": "execute_result"
    }
   ],
   "source": [
    "#datatypes\n",
    "'''\n",
    "i = integer\n",
    "b= boolean\n",
    "u= unsigned integer\n",
    "f= float\n",
    "c= complex float\n",
    "m= timedelta\n",
    "M= datetime\n",
    "O= object\n",
    "S= string\n",
    "'''"
   ]
  },
  {
   "cell_type": "code",
   "execution_count": 22,
   "id": "cfac5386-04a9-4b5e-9bef-c7c75ecc7f44",
   "metadata": {},
   "outputs": [
    {
     "name": "stdout",
     "output_type": "stream",
     "text": [
      "int32\n"
     ]
    }
   ],
   "source": [
    "#to print datatype\n",
    "arr = np.array([1, 2, 3, 4])\n",
    "print(arr.dtype)"
   ]
  },
  {
   "cell_type": "code",
   "execution_count": 23,
   "id": "be688bb3-cc88-44d7-8970-cdbd024142d5",
   "metadata": {},
   "outputs": [
    {
     "data": {
      "text/plain": [
       "array([b'1', b'2', b'3', b'4'], dtype='|S1')"
      ]
     },
     "execution_count": 23,
     "metadata": {},
     "output_type": "execute_result"
    }
   ],
   "source": [
    "arr = np.array([1, 2, 3, 4], dtype=\"S\")\n",
    "arr.dtype\n",
    "arr\n"
   ]
  },
  {
   "cell_type": "markdown",
   "id": "14251cab-0b3b-4215-aab7-70d73886c054",
   "metadata": {},
   "source": [
    "# datatype conversion"
   ]
  },
  {
   "cell_type": "code",
   "execution_count": 25,
   "id": "8df9a271-d243-4571-969e-b4c0ced717c2",
   "metadata": {},
   "outputs": [
    {
     "name": "stdout",
     "output_type": "stream",
     "text": [
      "float64\n"
     ]
    },
    {
     "data": {
      "text/plain": [
       "array([1, 2, 3], dtype=int32)"
      ]
     },
     "execution_count": 25,
     "metadata": {},
     "output_type": "execute_result"
    }
   ],
   "source": [
    "#converting float to int\n",
    "arr = np.array([1.1, 2.1, 3.1])\n",
    "print(arr.dtype)\n",
    "newarr = arr.astype('i')\n",
    "newarr"
   ]
  },
  {
   "cell_type": "markdown",
   "id": "f1d4ac88-2b8e-42d2-840f-0e36e986aed6",
   "metadata": {},
   "source": [
    "# copy"
   ]
  },
  {
   "cell_type": "code",
   "execution_count": 27,
   "id": "f730f970-815c-49fa-ac85-3d4cc4dfa9c5",
   "metadata": {},
   "outputs": [
    {
     "data": {
      "text/plain": [
       "array([1, 2, 3, 4, 5])"
      ]
     },
     "execution_count": 27,
     "metadata": {},
     "output_type": "execute_result"
    }
   ],
   "source": [
    "#copy()-copy is a new array\n",
    "arr = np.array([1, 2, 3, 4, 5])\n",
    "x = arr.copy()\n",
    "x"
   ]
  },
  {
   "cell_type": "markdown",
   "id": "a5354321-641d-4c64-bb94-5dc2f57a29e6",
   "metadata": {},
   "source": [
    "# view"
   ]
  },
  {
   "cell_type": "code",
   "execution_count": 29,
   "id": "96637446-03e0-421f-a985-2a15c2cf6fc7",
   "metadata": {},
   "outputs": [
    {
     "data": {
      "text/plain": [
       "array([1, 2, 3, 4, 5])"
      ]
     },
     "execution_count": 29,
     "metadata": {},
     "output_type": "execute_result"
    }
   ],
   "source": [
    "#view-the view is just a view of the original array\n",
    "arr = np.array([1, 2, 3, 4, 5])\n",
    "x = arr.view()\n",
    "x\n"
   ]
  },
  {
   "cell_type": "markdown",
   "id": "2b86528f-4ba8-408f-bbf4-ef7980e91ec0",
   "metadata": {},
   "source": [
    "# shape"
   ]
  },
  {
   "cell_type": "code",
   "execution_count": 31,
   "id": "80808327-6fac-4e14-80dd-8e16f30d703d",
   "metadata": {},
   "outputs": [
    {
     "name": "stdout",
     "output_type": "stream",
     "text": [
      "(5,)\n"
     ]
    }
   ],
   "source": [
    "#shape\n",
    "arr = np.array([1, 2, 3, 4, 5])\n",
    "\n",
    "print(arr.shape)"
   ]
  },
  {
   "cell_type": "code",
   "execution_count": null,
   "id": "8b9ca248-9bb0-43c5-93df-f5dbab11a787",
   "metadata": {},
   "outputs": [],
   "source": []
  },
  {
   "cell_type": "code",
   "execution_count": 32,
   "id": "0adf10c5-b7bd-4d10-83f3-d6d3bc20bd4c",
   "metadata": {},
   "outputs": [
    {
     "data": {
      "text/plain": [
       "array([[1, 2, 3]])"
      ]
     },
     "execution_count": 32,
     "metadata": {},
     "output_type": "execute_result"
    }
   ],
   "source": [
    "#creating ndimensional array-maximum limit of creating an array is 32(ndim=32)\n",
    "#here ndim =2 (2 dimensional array)\n",
    "my = np.array([1, 2, 3], ndmin=2)\n",
    "my.shape\n",
    "my"
   ]
  },
  {
   "cell_type": "code",
   "execution_count": 33,
   "id": "0ce59740-cead-47fa-8274-d3ed9f76863f",
   "metadata": {},
   "outputs": [],
   "source": [
    "#creating a 3d\n",
    "d = np.array([[[1, 2, 3], [4, 5, 6]], [[1, 2, 3], [4, 5, 6]]])\n"
   ]
  },
  {
   "cell_type": "code",
   "execution_count": 34,
   "id": "c451ae04-df64-45e8-bb74-deb3a503ed69",
   "metadata": {},
   "outputs": [
    {
     "data": {
      "text/plain": [
       "array([[ 1,  2,  3,  4,  5,  6],\n",
       "       [ 7,  8,  9, 10, 11, 12]])"
      ]
     },
     "execution_count": 34,
     "metadata": {},
     "output_type": "execute_result"
    }
   ],
   "source": [
    "#change dimension-reshape-1D to 2D\n",
    "arr = np.array([1, 2, 3, 4, 5, 6, 7, 8, 9,10,11,12])\n",
    "\n",
    "newarr = arr.reshape(2, 6)\n",
    "newarr\n"
   ]
  },
  {
   "cell_type": "code",
   "execution_count": 35,
   "id": "2fd23065-c452-4783-86c4-7c9b5f3b0e2a",
   "metadata": {},
   "outputs": [
    {
     "data": {
      "text/plain": [
       "array([ 1,  2,  3,  4,  5,  6,  7,  8,  9, 10, 11, 12])"
      ]
     },
     "execution_count": 35,
     "metadata": {},
     "output_type": "execute_result"
    }
   ],
   "source": [
    "#reshape-2D to 1D\n",
    "arr = np.array([[1, 2, 3, 4, 5, 6], [7, 8, 9, 10, 11, 12]])\n",
    "\n",
    "newarr = arr.reshape(-1)\n",
    "newarr\n"
   ]
  },
  {
   "cell_type": "code",
   "execution_count": 36,
   "id": "7d708d6a-a5e4-43dd-9448-0d990e4db9e5",
   "metadata": {},
   "outputs": [
    {
     "name": "stdout",
     "output_type": "stream",
     "text": [
      "[[ 1  2  3]\n",
      " [ 4  5  6]\n",
      " [ 7  8  9]\n",
      " [10 11 12]]\n"
     ]
    }
   ],
   "source": [
    "# Reshape the 3D array to a 2D array\n",
    "array_3d = np.array([[[1, 2, 3], [4, 5, 6]], [[7, 8, 9], [10, 11, 12]]])\n",
    "array_2d = array_3d.reshape(-1, array_3d.shape[-1])\n",
    "print(array_2d)"
   ]
  },
  {
   "cell_type": "code",
   "execution_count": 37,
   "id": "bcd0a785-2655-4ef3-ab8a-5c13f9d5804a",
   "metadata": {},
   "outputs": [
    {
     "data": {
      "text/plain": [
       "array([1, 2, 3, 4, 5, 6])"
      ]
     },
     "execution_count": 37,
     "metadata": {},
     "output_type": "execute_result"
    }
   ],
   "source": [
    "#conctenate\n",
    "arr1 = np.array([1, 2, 3])\n",
    "arr2 = np.array([4, 5, 6])\n",
    "arr = np.concatenate((arr1, arr2))\n",
    "arr"
   ]
  },
  {
   "cell_type": "code",
   "execution_count": 282,
   "id": "f65ec1e4-fc44-412b-8e22-1fee9298c775",
   "metadata": {},
   "outputs": [
    {
     "data": {
      "text/plain": [
       "(27,)"
      ]
     },
     "execution_count": 282,
     "metadata": {},
     "output_type": "execute_result"
    }
   ],
   "source": [
    "arr = np.arange(27)\n",
    "arr\n",
    "arr.shape"
   ]
  },
  {
   "cell_type": "code",
   "execution_count": 284,
   "id": "624d2429-f249-4189-88a2-dbfb5ff5cf51",
   "metadata": {},
   "outputs": [
    {
     "data": {
      "text/plain": [
       "(27,)"
      ]
     },
     "execution_count": 284,
     "metadata": {},
     "output_type": "execute_result"
    }
   ],
   "source": [
    "np.transpose(arr)\n",
    "arr.shape"
   ]
  },
  {
   "cell_type": "code",
   "execution_count": 276,
   "id": "7012af43-33f0-484d-9909-0afd26ad1362",
   "metadata": {},
   "outputs": [
    {
     "name": "stdout",
     "output_type": "stream",
     "text": [
      "[[ 0  1  2]\n",
      " [ 3  4  5]\n",
      " [ 6  7  8]\n",
      " [ 9 10 11]\n",
      " [12 13 14]\n",
      " [15 16 17]\n",
      " [18 19 20]\n",
      " [21 22 23]\n",
      " [24 25 26]]\n"
     ]
    }
   ],
   "source": [
    "print(arr.reshape(9,3))"
   ]
  },
  {
   "cell_type": "code",
   "execution_count": 268,
   "id": "f3fa0e77-ef41-431d-a369-ecf70ff16b19",
   "metadata": {},
   "outputs": [
    {
     "data": {
      "text/plain": [
       "array([[ 0,  1,  2],\n",
       "       [ 3,  4,  5],\n",
       "       [ 6,  7,  8],\n",
       "       [ 9, 10, 11],\n",
       "       [12, 13, 14],\n",
       "       [15, 16, 17],\n",
       "       [18, 19, 20],\n",
       "       [21, 22, 23],\n",
       "       [24, 25, 26]])"
      ]
     },
     "execution_count": 268,
     "metadata": {},
     "output_type": "execute_result"
    }
   ],
   "source": [
    "arr.reshape(9,3)"
   ]
  },
  {
   "cell_type": "code",
   "execution_count": 270,
   "id": "95e45f35-d231-42d1-8d34-fb31b1ce94f0",
   "metadata": {},
   "outputs": [
    {
     "data": {
      "text/plain": [
       "array([[[ 0,  1,  2],\n",
       "        [ 3,  4,  5],\n",
       "        [ 6,  7,  8]],\n",
       "\n",
       "       [[ 9, 10, 11],\n",
       "        [12, 13, 14],\n",
       "        [15, 16, 17]],\n",
       "\n",
       "       [[18, 19, 20],\n",
       "        [21, 22, 23],\n",
       "        [24, 25, 26]]])"
      ]
     },
     "execution_count": 270,
     "metadata": {},
     "output_type": "execute_result"
    }
   ],
   "source": [
    "arr.reshape(3,3,3)"
   ]
  },
  {
   "cell_type": "markdown",
   "id": "1a90bd35-cb80-42d8-b03b-9b4042d3c46e",
   "metadata": {},
   "source": [
    "# flatten"
   ]
  },
  {
   "cell_type": "code",
   "execution_count": 249,
   "id": "e2e296f2-13ec-4e9e-9d1b-ab86309c88f2",
   "metadata": {},
   "outputs": [
    {
     "name": "stdout",
     "output_type": "stream",
     "text": [
      "[55  2  3  4  5]\n",
      "[1 2 3 4 5]\n"
     ]
    }
   ],
   "source": [
    "arr = np.array([1, 2, 3, 4, 5])\n",
    "x = arr.flatten()\n",
    "x[0]=55\n",
    "print(x)\n",
    "print(arr)"
   ]
  },
  {
   "cell_type": "code",
   "execution_count": 251,
   "id": "e2c85fe8-2b02-4de2-84bc-598dc48a5441",
   "metadata": {},
   "outputs": [
    {
     "name": "stdout",
     "output_type": "stream",
     "text": [
      "[55  2  3  4  5]\n",
      "[55  2  3  4  5]\n"
     ]
    }
   ],
   "source": [
    "arr = np.array([1, 2, 3, 4, 5])\n",
    "x = arr.ravel()\n",
    "x[0]=55\n",
    "print(x)\n",
    "print(arr)"
   ]
  },
  {
   "cell_type": "code",
   "execution_count": null,
   "id": "7d774b66-5d3b-4ed2-8490-9e2526760e6e",
   "metadata": {},
   "outputs": [],
   "source": []
  },
  {
   "cell_type": "markdown",
   "id": "dbaa1657-0f2f-4df8-a114-c40e49f0aeaf",
   "metadata": {},
   "source": [
    "# sort"
   ]
  },
  {
   "cell_type": "code",
   "execution_count": 39,
   "id": "5159a392-a6c5-48e7-9d95-3a743afacba7",
   "metadata": {},
   "outputs": [
    {
     "name": "stdout",
     "output_type": "stream",
     "text": [
      "(array([3, 5, 6], dtype=int64),)\n"
     ]
    }
   ],
   "source": [
    "#sort-where\n",
    "arr = np.array([1, 2, 3, 4, 5, 4, 4])\n",
    "\n",
    "print(np.where(arr == 4))\n"
   ]
  },
  {
   "cell_type": "markdown",
   "id": "c11eca74-3f2c-4157-8b0e-b2354082f366",
   "metadata": {},
   "source": [
    "**comparison between numpy and list**"
   ]
  },
  {
   "cell_type": "code",
   "execution_count": 41,
   "id": "60ded601-d325-420f-9fc6-890f6e08d9b1",
   "metadata": {},
   "outputs": [
    {
     "name": "stdout",
     "output_type": "stream",
     "text": [
      "Execution time:0.03221750259399414seconds\n"
     ]
    }
   ],
   "source": [
    "#using list\n",
    "import time\n",
    "start_time=time.time()\n",
    "lst=list(range(100000))\n",
    "for i in range(100000):\n",
    "    lst[i]*=lst[i]\n",
    "end_time=time.time()\n",
    "print(f\"Execution time:{end_time-start_time}seconds\")"
   ]
  },
  {
   "cell_type": "code",
   "execution_count": 42,
   "id": "0dc1ed9f-dde0-4281-ae23-e30b228716c1",
   "metadata": {},
   "outputs": [
    {
     "name": "stdout",
     "output_type": "stream",
     "text": [
      "Execution time:0.0seconds\n"
     ]
    }
   ],
   "source": [
    "#using numpy-faster computations comare to list\n",
    "import time\n",
    "start_time=time.time()\n",
    "arr=np.arange(100000)\n",
    "arr=arr*arr;\n",
    "end_time=time.time()\n",
    "print(f\"Execution time:{end_time-start_time}seconds\")"
   ]
  },
  {
   "cell_type": "code",
   "execution_count": 43,
   "id": "f70d6c0b-2ebe-4ef2-a65f-594ac8096554",
   "metadata": {},
   "outputs": [
    {
     "data": {
      "text/plain": [
       "array([[[[[1, 2, 3]]]]])"
      ]
     },
     "execution_count": 43,
     "metadata": {},
     "output_type": "execute_result"
    }
   ],
   "source": [
    "arr = np.array([1, 2, 3], ndmin=5)\n",
    "arr.shape\n",
    "arr"
   ]
  },
  {
   "cell_type": "code",
   "execution_count": 44,
   "id": "4b848bcb-6621-4aa5-9c94-2f260f242c90",
   "metadata": {},
   "outputs": [
    {
     "name": "stdout",
     "output_type": "stream",
     "text": [
      "(2, 3)\n",
      "[1 2 3]\n"
     ]
    },
    {
     "data": {
      "text/plain": [
       "array([[ 1, 23,  3],\n",
       "       [ 4,  5,  6]])"
      ]
     },
     "execution_count": 44,
     "metadata": {},
     "output_type": "execute_result"
    }
   ],
   "source": [
    "arr = np.array([[1, 2, 3],[4,5,6]])\n",
    "print(arr.shape)\n",
    "print(arr[0])\n",
    "arr[0][1]=23  #updating the 1 index value of 0 with 23\n",
    "arr"
   ]
  },
  {
   "cell_type": "code",
   "execution_count": 45,
   "id": "9d794787-d114-4687-8aa3-0343930ded9a",
   "metadata": {},
   "outputs": [
    {
     "name": "stdout",
     "output_type": "stream",
     "text": [
      "(2, 2, 4)\n",
      "[[[1 2 3 4]\n",
      "  [4 5 6 7]]\n",
      "\n",
      " [[1 2 3 4]\n",
      "  [4 5 6 7]]]\n"
     ]
    }
   ],
   "source": [
    "f=np.array([[[1,2,3,4],[4,5,6,7]]])\n",
    "f2=np.array([[[1,2,3,4],[4,5,6,7]]])\n",
    "f3=np.concatenate((f,f2),axis=0)\n",
    "print(f3.shape ) #(2=no. of elements,2=no. of rows,4=no. of columns)\n",
    "print(f3)"
   ]
  },
  {
   "cell_type": "markdown",
   "id": "c0fd9251-d2ba-4d6d-8336-48d880cb45f4",
   "metadata": {},
   "source": [
    "> **numpy-creating array**"
   ]
  },
  {
   "cell_type": "markdown",
   "id": "6d1c749a-3061-4751-b7c7-a919dcc53afa",
   "metadata": {},
   "source": [
    "# zeros"
   ]
  },
  {
   "cell_type": "code",
   "execution_count": 48,
   "id": "7d88abdb-cd0f-45dc-866e-9b0416cfd707",
   "metadata": {},
   "outputs": [
    {
     "data": {
      "text/plain": [
       "array([[[0., 0.],\n",
       "        [0., 0.]],\n",
       "\n",
       "       [[0., 0.],\n",
       "        [0., 0.]]])"
      ]
     },
     "execution_count": 48,
     "metadata": {},
     "output_type": "execute_result"
    }
   ],
   "source": [
    "#1.zeros-default value it takes as float\n",
    "a=np.zeros((2,2,2))\n",
    "a"
   ]
  },
  {
   "cell_type": "code",
   "execution_count": 49,
   "id": "8f1061ea-2929-463d-8852-a6f0dd627855",
   "metadata": {},
   "outputs": [
    {
     "data": {
      "text/plain": [
       "array([[[0, 0],\n",
       "        [0, 0]],\n",
       "\n",
       "       [[0, 0],\n",
       "        [0, 0]]], dtype=int32)"
      ]
     },
     "execution_count": 49,
     "metadata": {},
     "output_type": "execute_result"
    }
   ],
   "source": [
    "#1.zeros-here we defining the datatatype as integer\n",
    "a=np.zeros((2,2,2),dtype=\"i\")\n",
    "a"
   ]
  },
  {
   "cell_type": "markdown",
   "id": "049b7158-7f56-4106-9786-bd3100248f7a",
   "metadata": {},
   "source": [
    "# ones"
   ]
  },
  {
   "cell_type": "code",
   "execution_count": 51,
   "id": "5bb3d642-2a47-4680-8c5b-ea8536e0ee15",
   "metadata": {},
   "outputs": [
    {
     "data": {
      "text/plain": [
       "array([[[1., 1.],\n",
       "        [1., 1.]],\n",
       "\n",
       "       [[1., 1.],\n",
       "        [1., 1.]]])"
      ]
     },
     "execution_count": 51,
     "metadata": {},
     "output_type": "execute_result"
    }
   ],
   "source": [
    "a=np.ones((2,2,2))\n",
    "a"
   ]
  },
  {
   "cell_type": "code",
   "execution_count": 52,
   "id": "c25d995b-e7d9-4580-8eae-32bd6dc1afee",
   "metadata": {},
   "outputs": [
    {
     "data": {
      "text/plain": [
       "array([[[1, 1],\n",
       "        [1, 1]],\n",
       "\n",
       "       [[1, 1],\n",
       "        [1, 1]]], dtype=int8)"
      ]
     },
     "execution_count": 52,
     "metadata": {},
     "output_type": "execute_result"
    }
   ],
   "source": [
    "a=np.ones((2,2,2),dtype=\"int8\")\n",
    "a"
   ]
  },
  {
   "cell_type": "markdown",
   "id": "905d3a60-55d1-48e4-8365-9b3476bfd64e",
   "metadata": {},
   "source": [
    "# range"
   ]
  },
  {
   "cell_type": "code",
   "execution_count": 54,
   "id": "2a9e6b94-0b47-4747-bdd0-8f622b19c573",
   "metadata": {},
   "outputs": [
    {
     "data": {
      "text/plain": [
       "array([ 1,  6, 11, 16])"
      ]
     },
     "execution_count": 54,
     "metadata": {},
     "output_type": "execute_result"
    }
   ],
   "source": [
    "a=np.arange(1,20,5)\n",
    "a"
   ]
  },
  {
   "cell_type": "markdown",
   "id": "4c1e9d9e-91c8-4b48-9107-357422ab1cd9",
   "metadata": {},
   "source": [
    "# linspace\n",
    "#print number of sample we want to print from given range\n",
    "\n",
    "#maximum length is 50"
   ]
  },
  {
   "cell_type": "code",
   "execution_count": 56,
   "id": "f5777a53-4947-4318-8aae-1c28b503e72f",
   "metadata": {},
   "outputs": [
    {
     "data": {
      "text/plain": [
       "array([ 1.        ,  1.3877551 ,  1.7755102 ,  2.16326531,  2.55102041,\n",
       "        2.93877551,  3.32653061,  3.71428571,  4.10204082,  4.48979592,\n",
       "        4.87755102,  5.26530612,  5.65306122,  6.04081633,  6.42857143,\n",
       "        6.81632653,  7.20408163,  7.59183673,  7.97959184,  8.36734694,\n",
       "        8.75510204,  9.14285714,  9.53061224,  9.91836735, 10.30612245,\n",
       "       10.69387755, 11.08163265, 11.46938776, 11.85714286, 12.24489796,\n",
       "       12.63265306, 13.02040816, 13.40816327, 13.79591837, 14.18367347,\n",
       "       14.57142857, 14.95918367, 15.34693878, 15.73469388, 16.12244898,\n",
       "       16.51020408, 16.89795918, 17.28571429, 17.67346939, 18.06122449,\n",
       "       18.44897959, 18.83673469, 19.2244898 , 19.6122449 , 20.        ])"
      ]
     },
     "execution_count": 56,
     "metadata": {},
     "output_type": "execute_result"
    }
   ],
   "source": [
    "a=np.linspace(1,20,50) #1=start ,20=end ,50=no.of sampls\n",
    "a"
   ]
  },
  {
   "cell_type": "markdown",
   "id": "adb4b979-1690-4e08-8178-4419ddcca054",
   "metadata": {},
   "source": [
    "# full"
   ]
  },
  {
   "cell_type": "code",
   "execution_count": 58,
   "id": "174422ef-2ac4-4d2f-b4ae-34ffe944e92a",
   "metadata": {},
   "outputs": [
    {
     "data": {
      "text/plain": [
       "array([[[5, 5, 5],\n",
       "        [5, 5, 5]],\n",
       "\n",
       "       [[5, 5, 5],\n",
       "        [5, 5, 5]]])"
      ]
     },
     "execution_count": 58,
     "metadata": {},
     "output_type": "execute_result"
    }
   ],
   "source": [
    "a=np.full((2,2,3),fill_value=5)  #it is fillinf every value with given value 5\n",
    "a"
   ]
  },
  {
   "cell_type": "markdown",
   "id": "fa0150b6-ba7c-40f4-a35f-b21888431f33",
   "metadata": {},
   "source": [
    "# eye"
   ]
  },
  {
   "cell_type": "code",
   "execution_count": 60,
   "id": "de94efb6-6c88-480a-af5a-7504b32a141f",
   "metadata": {},
   "outputs": [
    {
     "data": {
      "text/plain": [
       "array([[1., 0., 0.],\n",
       "       [0., 1., 0.]])"
      ]
     },
     "execution_count": 60,
     "metadata": {},
     "output_type": "execute_result"
    }
   ],
   "source": [
    "a=np.eye(2,3) #identity matrix\n",
    "a"
   ]
  },
  {
   "cell_type": "code",
   "execution_count": 61,
   "id": "4a37fd9c-487a-4854-a8e6-05d428abbd00",
   "metadata": {},
   "outputs": [
    {
     "data": {
      "text/plain": [
       "array([[1., 0., 0.],\n",
       "       [0., 1., 0.]])"
      ]
     },
     "execution_count": 61,
     "metadata": {},
     "output_type": "execute_result"
    }
   ],
   "source": [
    "#a=np.ones((2,2,2),dtype=\"int8\")\n",
    "a=np.eye(2,3)#identity matrix\n",
    "a"
   ]
  },
  {
   "cell_type": "markdown",
   "id": "3d4aab89-9c4c-499f-94cb-0b84336c2ce1",
   "metadata": {},
   "source": [
    "# diag"
   ]
  },
  {
   "cell_type": "code",
   "execution_count": 63,
   "id": "37cbb365-a599-4707-8c4d-ca8e7a59b1c7",
   "metadata": {},
   "outputs": [
    {
     "data": {
      "text/plain": [
       "array([[2, 0],\n",
       "       [0, 3]])"
      ]
     },
     "execution_count": 63,
     "metadata": {},
     "output_type": "execute_result"
    }
   ],
   "source": [
    "a=np.diag((2,3))\n",
    "a"
   ]
  },
  {
   "cell_type": "code",
   "execution_count": 64,
   "id": "1f41aeac-3ef9-4624-8dd9-bd7bfefdf12f",
   "metadata": {},
   "outputs": [
    {
     "data": {
      "text/plain": [
       "array([[1, 0, 0, 0, 0],\n",
       "       [0, 2, 0, 0, 0],\n",
       "       [0, 0, 3, 0, 0],\n",
       "       [0, 0, 0, 4, 0],\n",
       "       [0, 0, 0, 0, 5]])"
      ]
     },
     "execution_count": 64,
     "metadata": {},
     "output_type": "execute_result"
    }
   ],
   "source": [
    "a=np.diag((1,2,3,4,5))\n",
    "a\n"
   ]
  },
  {
   "cell_type": "markdown",
   "id": "2e4b4dba-a40d-4373-b77b-52884b0da181",
   "metadata": {},
   "source": [
    "# random.random"
   ]
  },
  {
   "cell_type": "code",
   "execution_count": 66,
   "id": "0dc56979-f9ea-4535-a87b-9b60e475072b",
   "metadata": {},
   "outputs": [
    {
     "data": {
      "text/plain": [
       "array([[0.70109062, 0.23392373, 0.762957  ],\n",
       "       [0.88724539, 0.12514179, 0.59196178],\n",
       "       [0.15613429, 0.43668269, 0.93882548]])"
      ]
     },
     "execution_count": 66,
     "metadata": {},
     "output_type": "execute_result"
    }
   ],
   "source": [
    "a=np.random.random((3,3)) #float values between 0 and 1 (standard deviation)\n",
    "a"
   ]
  },
  {
   "cell_type": "markdown",
   "id": "80d0265d-15e3-484f-a7cf-b6cc3f721534",
   "metadata": {},
   "source": [
    "# randint"
   ]
  },
  {
   "cell_type": "code",
   "execution_count": 68,
   "id": "5647bcf7-3a9f-4b14-bc98-35aac083ada3",
   "metadata": {},
   "outputs": [
    {
     "name": "stdout",
     "output_type": "stream",
     "text": [
      "41\n"
     ]
    }
   ],
   "source": [
    "a=np.random.randint(100) #random number in the range of 100\n",
    "print(a)"
   ]
  },
  {
   "cell_type": "code",
   "execution_count": 69,
   "id": "9dcf0ad2-8307-429a-a3f9-e47721510a7c",
   "metadata": {},
   "outputs": [
    {
     "name": "stdout",
     "output_type": "stream",
     "text": [
      "[44 60 66 85  9]\n"
     ]
    }
   ],
   "source": [
    "from numpy import random   #5 random numbers in between 1 and 100\n",
    "x=random.randint(100, size=(5))\n",
    "print(x)\n"
   ]
  },
  {
   "cell_type": "code",
   "execution_count": null,
   "id": "064b7063-c930-47c5-a5cb-9d6190e535cb",
   "metadata": {},
   "outputs": [],
   "source": [
    "#random integers between 0 to 100 with 3 rows and 5 columns --2D\n",
    "x = random.randint(100, size=(3, 5))\n",
    "print(x)"
   ]
  },
  {
   "cell_type": "code",
   "execution_count": 94,
   "id": "195cae56-73ff-48bf-912d-189c2344cc8a",
   "metadata": {},
   "outputs": [
    {
     "data": {
      "text/plain": [
       "array([[51, 50, 77],\n",
       "       [40, 18, 61],\n",
       "       [25, 56, 12],\n",
       "       [99, 88, 11]])"
      ]
     },
     "execution_count": 94,
     "metadata": {},
     "output_type": "execute_result"
    }
   ],
   "source": [
    "#update 2D array -you have to add it based on row and column\n",
    "x = random.randint(100, size=(3, 3))\n",
    "x=np.append(x,[[99,88,11]],axis=0)\n",
    "x\n"
   ]
  },
  {
   "cell_type": "code",
   "execution_count": 158,
   "id": "5a2d951b-6a8b-4912-a290-485d4e927980",
   "metadata": {},
   "outputs": [
    {
     "data": {
      "text/plain": [
       "array([[59, 13, 28],\n",
       "       [39,  4, 58],\n",
       "       [67, 81, 55],\n",
       "       [99, 23, 12],\n",
       "       [ 1, 33, 67],\n",
       "       [ 4,  1,  2]])"
      ]
     },
     "execution_count": 158,
     "metadata": {},
     "output_type": "execute_result"
    }
   ],
   "source": [
    "x = random.randint(100, size=(3,3))\n",
    "np.append(x,[[99,23,12],[1,33,67],[4,1,2]],axis=0)"
   ]
  },
  {
   "cell_type": "code",
   "execution_count": null,
   "id": "7a7fe645-376a-462c-a25a-a5a11bc2c6da",
   "metadata": {},
   "outputs": [],
   "source": [
    "a=np.random.randint((1,20,5)) #random numbers between 1 and excluding 20\n",
    "print(a)"
   ]
  },
  {
   "cell_type": "code",
   "execution_count": 190,
   "id": "0efcaeef-3408-4c13-9f28-4d2e8a72fa49",
   "metadata": {},
   "outputs": [
    {
     "ename": "ValueError",
     "evalue": "all the input arrays must have same number of dimensions, but the array at index 0 has 3 dimension(s) and the array at index 1 has 2 dimension(s)",
     "output_type": "error",
     "traceback": [
      "\u001b[1;31m---------------------------------------------------------------------------\u001b[0m",
      "\u001b[1;31mValueError\u001b[0m                                Traceback (most recent call last)",
      "Cell \u001b[1;32mIn[190], line 2\u001b[0m\n\u001b[0;32m      1\u001b[0m x \u001b[38;5;241m=\u001b[39m random\u001b[38;5;241m.\u001b[39mrandint(\u001b[38;5;241m100\u001b[39m, size\u001b[38;5;241m=\u001b[39m(\u001b[38;5;241m3\u001b[39m,\u001b[38;5;241m3\u001b[39m,\u001b[38;5;241m3\u001b[39m))\n\u001b[1;32m----> 2\u001b[0m x\u001b[38;5;241m=\u001b[39mnp\u001b[38;5;241m.\u001b[39mappend(x,[[\u001b[38;5;241m99\u001b[39m,\u001b[38;5;241m44\u001b[39m,\u001b[38;5;241m11\u001b[39m]],axis\u001b[38;5;241m=\u001b[39m\u001b[38;5;241m0\u001b[39m)\n\u001b[0;32m      3\u001b[0m x\n",
      "File \u001b[1;32mC:\\ProgramData\\anaconda3\\Lib\\site-packages\\numpy\\lib\\function_base.py:5618\u001b[0m, in \u001b[0;36mappend\u001b[1;34m(arr, values, axis)\u001b[0m\n\u001b[0;32m   5616\u001b[0m     values \u001b[38;5;241m=\u001b[39m ravel(values)\n\u001b[0;32m   5617\u001b[0m     axis \u001b[38;5;241m=\u001b[39m arr\u001b[38;5;241m.\u001b[39mndim\u001b[38;5;241m-\u001b[39m\u001b[38;5;241m1\u001b[39m\n\u001b[1;32m-> 5618\u001b[0m \u001b[38;5;28;01mreturn\u001b[39;00m concatenate((arr, values), axis\u001b[38;5;241m=\u001b[39maxis)\n",
      "\u001b[1;31mValueError\u001b[0m: all the input arrays must have same number of dimensions, but the array at index 0 has 3 dimension(s) and the array at index 1 has 2 dimension(s)"
     ]
    }
   ],
   "source": [
    "x = random.randint(100, size=(3,3,3))\n",
    "x=np.append(x,[[99,44,11]],axis=0)\n",
    "x"
   ]
  },
  {
   "cell_type": "markdown",
   "id": "3c7663bf-f77e-4ada-9bd5-673cf4e5d258",
   "metadata": {},
   "source": [
    "# rand"
   ]
  },
  {
   "cell_type": "code",
   "execution_count": null,
   "id": "0a80c0a2-615e-494c-8d15-f9972614fbf1",
   "metadata": {},
   "outputs": [],
   "source": [
    "#1D array containing 5 random floats \n",
    "x = random.rand(5)\n",
    "print(x)"
   ]
  },
  {
   "cell_type": "code",
   "execution_count": null,
   "id": "c8aada82-c2af-4adf-b628-34fa5dac4eec",
   "metadata": {},
   "outputs": [],
   "source": [
    "from numpy import random #float number between 0 and 1\n",
    "x = random.rand()\n",
    "print(x)\n"
   ]
  },
  {
   "cell_type": "code",
   "execution_count": null,
   "id": "3a7f9b67-b2ca-4c1f-a9a6-f793b37f4e0b",
   "metadata": {},
   "outputs": [],
   "source": [
    "#2-D array with 3 rows and 5 columns containing random numbers 0 and 1\n",
    "x = random.rand(3, 5)\n",
    "print(x)"
   ]
  },
  {
   "cell_type": "code",
   "execution_count": null,
   "id": "af2ae2fb-59fd-4d0a-8054-1cd6b08e3f81",
   "metadata": {},
   "outputs": [],
   "source": [
    "np.random.rand(5,5) #between 0 and 1"
   ]
  },
  {
   "cell_type": "markdown",
   "id": "731c85a8-158a-4ac0-b03a-462c49bb5ec3",
   "metadata": {},
   "source": [
    "# choice"
   ]
  },
  {
   "cell_type": "code",
   "execution_count": null,
   "id": "e3d30084-ab66-4c01-bae1-8932c2b12d5f",
   "metadata": {},
   "outputs": [],
   "source": [
    "#method allows you to generate  a random value based on array of values\n",
    "x = random.choice([3, 5, 7, 9])\n",
    "print(x)"
   ]
  },
  {
   "cell_type": "code",
   "execution_count": null,
   "id": "fcd3a365-ef1e-4b17-8aec-22e11864b785",
   "metadata": {},
   "outputs": [],
   "source": [
    "#method allows you to generate  a random values from array consisting of 3 rows and 5 columns\n",
    "x = random.choice([3, 5, 7, 9], size=(3, 5))\n",
    "\n",
    "print(x)"
   ]
  },
  {
   "cell_type": "code",
   "execution_count": null,
   "id": "bb8cb55a-9000-4c99-b664-4b39c59649fe",
   "metadata": {},
   "outputs": [],
   "source": [
    "#specifies the probability of occuring each element\n",
    "x = random.choice([3, 5, 7, 9], p=[0.1, 0.3, 0.6, 0.0], size=(10))\n",
    "print(x)"
   ]
  },
  {
   "cell_type": "code",
   "execution_count": null,
   "id": "f3189f35-a2d5-46c1-8451-5d437de663a1",
   "metadata": {},
   "outputs": [],
   "source": [
    "#specifies the probability of occuring each element with size of 3 rows and 5 columns\n",
    "x = random.choice([3, 5, 7, 9], p=[0.1, 0.3, 0.6, 0.0], size=(3, 5))\n",
    "print(x)"
   ]
  },
  {
   "cell_type": "markdown",
   "id": "b50a5bc5-1341-43f9-9488-6bdb459ec95b",
   "metadata": {},
   "source": [
    "# shuffle"
   ]
  },
  {
   "cell_type": "code",
   "execution_count": null,
   "id": "1805e7b4-c0b2-49db-895f-efaee8846b73",
   "metadata": {},
   "outputs": [],
   "source": [
    "#The shuffle() method makes changes to the original array.\n",
    "arr = np.array([1, 2, 3, 4, 5])\n",
    "print(random.shuffle(arr))\n",
    "print(arr)"
   ]
  },
  {
   "cell_type": "markdown",
   "id": "8b159cf1-7fe2-4384-8723-60fe46110c4a",
   "metadata": {},
   "source": [
    "# permutation"
   ]
  },
  {
   "cell_type": "code",
   "execution_count": null,
   "id": "d7d3482e-7ea5-4ef7-a742-775c8e5d4eb7",
   "metadata": {},
   "outputs": [],
   "source": [
    "#The permutation() method returns a re-arranged array (and leaves the original array un-changed).\n",
    "\n",
    "arr = np.array([1, 2, 3, 4, 5])\n",
    "print(random.permutation(arr))\n",
    "arr"
   ]
  },
  {
   "cell_type": "code",
   "execution_count": null,
   "id": "2e304bd9-53e9-4e0a-bcb5-3346431efdcf",
   "metadata": {},
   "outputs": [],
   "source": [
    "np.random.randn(5,5) "
   ]
  },
  {
   "cell_type": "code",
   "execution_count": null,
   "id": "c050da13-4b7b-428b-86d4-f0242c5de489",
   "metadata": {},
   "outputs": [],
   "source": [
    "np.random.uniform(1,5,size=(5,5))"
   ]
  },
  {
   "cell_type": "markdown",
   "id": "5a6e9cba-c6d1-4691-b74a-095004e85d11",
   "metadata": {},
   "source": [
    "# slicing"
   ]
  },
  {
   "cell_type": "code",
   "execution_count": null,
   "id": "2094742d-3c22-4899-88f1-7154931d0c24",
   "metadata": {},
   "outputs": [],
   "source": [
    "s=np.random.randint(5,100,size=(10,10)) \n",
    "print(s[0])\n",
    "s[0][2:4]"
   ]
  },
  {
   "cell_type": "code",
   "execution_count": null,
   "id": "8540edf1-e575-4d8b-b297-37c94a880d7d",
   "metadata": {},
   "outputs": [],
   "source": [
    "my_table=np.random.randint(10,40,size=(10,10))\n",
    "print(my_table)\n"
   ]
  },
  {
   "cell_type": "code",
   "execution_count": null,
   "id": "551df115-5b07-4c16-86d0-7c498c1c2607",
   "metadata": {},
   "outputs": [],
   "source": [
    "#print(my_table[:][4])"
   ]
  },
  {
   "cell_type": "code",
   "execution_count": null,
   "id": "c93d95bc-0778-4390-adad-c6cbedb3211f",
   "metadata": {},
   "outputs": [],
   "source": [
    "my_=np.random.randint(10,40,size=(10,10))\n",
    "print(my_)"
   ]
  },
  {
   "cell_type": "code",
   "execution_count": null,
   "id": "8e83db29-fbec-4396-9e7d-b600b1ab4cfd",
   "metadata": {},
   "outputs": [],
   "source": [
    "print(my_[7:,7:])  #last 3 row and  3 columns"
   ]
  },
  {
   "cell_type": "markdown",
   "id": "27df4d53-ee35-4af0-9781-a12c6381ad26",
   "metadata": {},
   "source": [
    "# Boolean indexing"
   ]
  },
  {
   "cell_type": "code",
   "execution_count": null,
   "id": "d5b399ea-e017-4250-8445-c58a706923d1",
   "metadata": {},
   "outputs": [],
   "source": [
    "a=[1,2,3,4]\n",
    "for i in range(0,len(a)):\n",
    "      a[i]=a[i]*4\n",
    "print(a)"
   ]
  },
  {
   "cell_type": "code",
   "execution_count": null,
   "id": "55c5feea-452a-434d-9947-ab4ee513af8c",
   "metadata": {},
   "outputs": [],
   "source": [
    "w=np.array([1,2,3,4])\n",
    "w=w*4\n",
    "print(w)"
   ]
  },
  {
   "cell_type": "markdown",
   "id": "eb6f7b8e-c117-4720-bedb-ed8dd755da4d",
   "metadata": {},
   "source": [
    "# filter"
   ]
  },
  {
   "cell_type": "code",
   "execution_count": null,
   "id": "08673fe0-468e-4e43-8cd1-c2ee27a9c021",
   "metadata": {},
   "outputs": [],
   "source": [
    "A=np.array([1,2,3,4,11])\n",
    "print(A<10)\n",
    "print(A[A<10])\n",
    "A[A<10]"
   ]
  },
  {
   "cell_type": "code",
   "execution_count": null,
   "id": "b9940ade-b7df-44bc-8a61-6240ab122606",
   "metadata": {},
   "outputs": [],
   "source": [
    "import numpy as np\n",
    "\n",
    "arr = np.array([41, 42, 43, 44])\n",
    "\n",
    "# Create an empty list\n",
    "filter_arr = []\n",
    "\n",
    "# go through each element in arr\n",
    "for element in arr:\n",
    "  # if the element is higher than 42, set the value to True, otherwise False:\n",
    "  if element > 42:\n",
    "    filter_arr.append(True)\n",
    "  else:\n",
    "    filter_arr.append(False)\n",
    "\n",
    "newarr = arr[filter_arr]\n",
    "\n",
    "print(filter_arr)\n",
    "print(newarr)"
   ]
  },
  {
   "cell_type": "code",
   "execution_count": null,
   "id": "dc887943-c954-4c14-af80-4aa3a8b016f7",
   "metadata": {},
   "outputs": [],
   "source": [
    "a=np.arange(50,100,5)\n",
    "print(a)\n",
    "b=a[a>70]\n",
    "b"
   ]
  },
  {
   "cell_type": "code",
   "execution_count": null,
   "id": "8b15112b-0df4-44fe-b792-76998908b4d2",
   "metadata": {},
   "outputs": [],
   "source": [
    "b[0]=400\n",
    "b"
   ]
  },
  {
   "cell_type": "code",
   "execution_count": null,
   "id": "405694b5-fb16-4bbd-8939-7b03d47d53fd",
   "metadata": {},
   "outputs": [],
   "source": [
    "b[b<89]=99\n",
    "b"
   ]
  },
  {
   "cell_type": "code",
   "execution_count": null,
   "id": "a17c7418-c1c4-4970-b707-063af5958205",
   "metadata": {},
   "outputs": [],
   "source": [
    "b[b==99]=11\n",
    "b"
   ]
  },
  {
   "cell_type": "code",
   "execution_count": null,
   "id": "bce13a19-5436-400b-88c1-91b465339335",
   "metadata": {},
   "outputs": [],
   "source": [
    "b[b<89]=b[b==99]=1000\n",
    "b"
   ]
  },
  {
   "cell_type": "code",
   "execution_count": null,
   "id": "b4c7f81d-5881-41a8-9038-a0a27c9a2cc2",
   "metadata": {},
   "outputs": [],
   "source": [
    "#append,insertion'\n",
    "#append=add element at the end of the array\n",
    "#insertion=add the element at a specified index\n",
    "y=[1,2,3,4,5]\n",
    "z=np.append(y,1)\n",
    "z\n"
   ]
  },
  {
   "cell_type": "code",
   "execution_count": null,
   "id": "69f273e9-9874-4fe0-af38-dcf44c446750",
   "metadata": {},
   "outputs": [],
   "source": [
    "#insertion\n",
    "np.insert(z,obj=4,values=22)"
   ]
  },
  {
   "cell_type": "code",
   "execution_count": null,
   "id": "12cb3bdd-f62d-4d7d-ad94-df55602aa5cd",
   "metadata": {},
   "outputs": [],
   "source": [
    "a=[1,2,3]\n",
    "b=[4,5,6]\n",
    "c=zip(a,b)\n",
    "print(list(c))"
   ]
  },
  {
   "cell_type": "code",
   "execution_count": null,
   "id": "75223970-b2d6-43d8-873e-772ba384799e",
   "metadata": {},
   "outputs": [],
   "source": [
    "a = (\"John\", \"Charles\", \"Mike\")\n",
    "b = (\"Jenny\", \"Christy\", \"Monica\")\n",
    "\n",
    "x = zip(a, b)\n",
    "print(tuple(x))"
   ]
  },
  {
   "cell_type": "markdown",
   "id": "89bb53a9-4407-4256-a080-9cf13f7f6890",
   "metadata": {},
   "source": [
    "# sqrt"
   ]
  },
  {
   "cell_type": "code",
   "execution_count": 289,
   "id": "9c3a53d3-7efe-4fff-9812-1b14351ac91b",
   "metadata": {},
   "outputs": [
    {
     "data": {
      "text/plain": [
       "array([[5.67692896, 8.34555031],\n",
       "       [2.26019204, 9.74332053]])"
      ]
     },
     "execution_count": 289,
     "metadata": {},
     "output_type": "execute_result"
    }
   ],
   "source": [
    "A=np.random.uniform(1,10,(2,2))\n",
    "A"
   ]
  },
  {
   "cell_type": "code",
   "execution_count": 305,
   "id": "610332b5-aca4-4413-a8b2-36f06b5c58df",
   "metadata": {},
   "outputs": [
    {
     "data": {
      "text/plain": [
       "array([[2.38263068, 2.88886661],\n",
       "       [1.50339351, 3.12142925]])"
      ]
     },
     "execution_count": 305,
     "metadata": {},
     "output_type": "execute_result"
    }
   ],
   "source": [
    "np.sqrt(A)"
   ]
  },
  {
   "cell_type": "code",
   "execution_count": 327,
   "id": "cc4ddbe8-62a9-4831-b612-b323a53ac1f5",
   "metadata": {},
   "outputs": [
    {
     "data": {
      "text/plain": [
       "[(1, 1), (2, 2), (3, 3)]"
      ]
     },
     "execution_count": 327,
     "metadata": {},
     "output_type": "execute_result"
    }
   ],
   "source": [
    "a=frozenset([1,2,3])\n",
    "b=frozenset([1,2,2,3])\n",
    "x=list(zip(a,b))\n",
    "x"
   ]
  },
  {
   "cell_type": "code",
   "execution_count": 331,
   "id": "a4bf28fa-548e-441f-bacb-57588ff758f2",
   "metadata": {},
   "outputs": [
    {
     "data": {
      "text/plain": [
       "114.08333333333333"
      ]
     },
     "execution_count": 331,
     "metadata": {},
     "output_type": "execute_result"
    }
   ],
   "source": [
    "18.5**2/3"
   ]
  },
  {
   "cell_type": "code",
   "execution_count": 337,
   "id": "3fdd39ea-135b-4cf9-a316-8e40a64572f9",
   "metadata": {},
   "outputs": [
    {
     "data": {
      "text/plain": [
       "11.52"
      ]
     },
     "execution_count": 337,
     "metadata": {},
     "output_type": "execute_result"
    }
   ],
   "source": [
    "4.8**2/2"
   ]
  },
  {
   "cell_type": "code",
   "execution_count": 1,
   "id": "f94dbdfc-aa56-40e6-9874-69922f925770",
   "metadata": {},
   "outputs": [
    {
     "data": {
      "text/plain": [
       "246"
      ]
     },
     "execution_count": 1,
     "metadata": {},
     "output_type": "execute_result"
    }
   ],
   "source": [
    "7+8+32+43+92+64"
   ]
  },
  {
   "cell_type": "code",
   "execution_count": 3,
   "id": "074ffdc6-e291-4faa-b94c-67245c0841ab",
   "metadata": {},
   "outputs": [
    {
     "data": {
      "text/plain": [
       "41.0"
      ]
     },
     "execution_count": 3,
     "metadata": {},
     "output_type": "execute_result"
    }
   ],
   "source": [
    "246/6"
   ]
  },
  {
   "cell_type": "code",
   "execution_count": 27,
   "id": "89b9d9ab-5675-418a-9ed3-9509a6652e60",
   "metadata": {},
   "outputs": [
    {
     "data": {
      "text/plain": [
       "-34"
      ]
     },
     "execution_count": 27,
     "metadata": {},
     "output_type": "execute_result"
    }
   ],
   "source": [
    "7-41"
   ]
  },
  {
   "cell_type": "code",
   "execution_count": 13,
   "id": "b37c478f-08b6-4b5e-8225-840a20185ac1",
   "metadata": {},
   "outputs": [
    {
     "data": {
      "text/plain": [
       "23"
      ]
     },
     "execution_count": 13,
     "metadata": {},
     "output_type": "execute_result"
    }
   ],
   "source": [
    "64-41"
   ]
  },
  {
   "cell_type": "code",
   "execution_count": 21,
   "id": "3cf22a79-0f7b-44ee-bd6a-3d56e59821a9",
   "metadata": {},
   "outputs": [
    {
     "data": {
      "text/plain": [
       "529"
      ]
     },
     "execution_count": 21,
     "metadata": {},
     "output_type": "execute_result"
    }
   ],
   "source": [
    "23**2"
   ]
  },
  {
   "cell_type": "code",
   "execution_count": 23,
   "id": "31e7618a-ae10-46e4-a5c8-4dc4bd34db1e",
   "metadata": {},
   "outputs": [
    {
     "data": {
      "text/plain": [
       "5460"
      ]
     },
     "execution_count": 23,
     "metadata": {},
     "output_type": "execute_result"
    }
   ],
   "source": [
    "1156+1089+81+4+529+2601"
   ]
  },
  {
   "cell_type": "code",
   "execution_count": 25,
   "id": "df70be78-75c7-440e-b3b4-54fcf318427d",
   "metadata": {},
   "outputs": [
    {
     "data": {
      "text/plain": [
       "1092.0"
      ]
     },
     "execution_count": 25,
     "metadata": {},
     "output_type": "execute_result"
    }
   ],
   "source": [
    "5460/5"
   ]
  },
  {
   "cell_type": "code",
   "execution_count": 43,
   "id": "a78a07a7-0b61-434a-b842-3262184f5c13",
   "metadata": {},
   "outputs": [
    {
     "data": {
      "text/plain": [
       "33.04542328371661"
      ]
     },
     "execution_count": 43,
     "metadata": {},
     "output_type": "execute_result"
    }
   ],
   "source": [
    "1092**0.5"
   ]
  },
  {
   "cell_type": "code",
   "execution_count": 31,
   "id": "a3d14b86-de59-4a6d-9965-6e5c258315b6",
   "metadata": {},
   "outputs": [
    {
     "data": {
      "text/plain": [
       "1101.5"
      ]
     },
     "execution_count": 31,
     "metadata": {},
     "output_type": "execute_result"
    }
   ],
   "source": [
    "(1213302.25)**0.5"
   ]
  },
  {
   "cell_type": "code",
   "execution_count": 41,
   "id": "fb74adc6-2488-49e6-a953-cb7991dce986",
   "metadata": {},
   "outputs": [
    {
     "data": {
      "text/plain": [
       "910.0"
      ]
     },
     "execution_count": 41,
     "metadata": {},
     "output_type": "execute_result"
    }
   ],
   "source": [
    "#variance\n",
    "import numpy as np\n",
    "n=np.array([7,8,32,43,64,92])\n",
    "np.var(n)"
   ]
  },
  {
   "cell_type": "code",
   "execution_count": 45,
   "id": "f2644b3f-3e57-42d1-80bb-8bb813ccb56f",
   "metadata": {},
   "outputs": [
    {
     "data": {
      "text/plain": [
       "30.166206257996713"
      ]
     },
     "execution_count": 45,
     "metadata": {},
     "output_type": "execute_result"
    }
   ],
   "source": [
    "#standard deviation\n",
    "import numpy as np\n",
    "n=np.array([7,8,32,43,64,92])\n",
    "np.std(n)"
   ]
  },
  {
   "cell_type": "code",
   "execution_count": 69,
   "id": "09d9034e-d845-471d-bea7-18eba0f0b1f7",
   "metadata": {},
   "outputs": [
    {
     "name": "stdout",
     "output_type": "stream",
     "text": [
      "[[1. 1.]\n",
      " [1. 1.]]\n"
     ]
    }
   ],
   "source": [
    "#correlation coefficient\n",
    "import numpy as np\n",
    "a=np.array([1,2,3,4,5])\n",
    "b=np.array([3,4,5,6,7])\n",
    "c=np.array([93,42,102,111,99])\n",
    "print(np.corrcoef([a,b]))"
   ]
  },
  {
   "cell_type": "code",
   "execution_count": 71,
   "id": "4314b72e-ecf0-481d-a5d0-ba3621690ae0",
   "metadata": {},
   "outputs": [
    {
     "name": "stdout",
     "output_type": "stream",
     "text": [
      "[[1.       0.469441]\n",
      " [0.469441 1.      ]]\n"
     ]
    }
   ],
   "source": [
    "print(np.corrcoef([a,c]))"
   ]
  },
  {
   "cell_type": "code",
   "execution_count": null,
   "id": "92469bd6-1951-47c8-b577-86cb3da1ff28",
   "metadata": {},
   "outputs": [],
   "source": []
  },
  {
   "cell_type": "code",
   "execution_count": null,
   "id": "b66a834c-e150-4aef-864f-4a9a09e7a573",
   "metadata": {},
   "outputs": [],
   "source": []
  },
  {
   "cell_type": "code",
   "execution_count": null,
   "id": "a92000b9-ac97-4fb5-8068-00f123d045fa",
   "metadata": {},
   "outputs": [],
   "source": []
  },
  {
   "cell_type": "code",
   "execution_count": null,
   "id": "a5467e59-774b-4ed7-ad0f-673cb3bd09db",
   "metadata": {},
   "outputs": [],
   "source": []
  },
  {
   "cell_type": "code",
   "execution_count": null,
   "id": "e856119a-168d-4423-8d0e-0edf07523d50",
   "metadata": {},
   "outputs": [],
   "source": []
  }
 ],
 "metadata": {
  "kernelspec": {
   "display_name": "Python 3 (ipykernel)",
   "language": "python",
   "name": "python3"
  },
  "language_info": {
   "codemirror_mode": {
    "name": "ipython",
    "version": 3
   },
   "file_extension": ".py",
   "mimetype": "text/x-python",
   "name": "python",
   "nbconvert_exporter": "python",
   "pygments_lexer": "ipython3",
   "version": "3.12.4"
  }
 },
 "nbformat": 4,
 "nbformat_minor": 5
}
