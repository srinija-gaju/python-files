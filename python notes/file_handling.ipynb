{
 "cells": [
  {
   "cell_type": "code",
   "execution_count": 1,
   "id": "cd52debd-9203-42d3-a9e7-eb5b181d3ce4",
   "metadata": {},
   "outputs": [
    {
     "data": {
      "text/plain": [
       "'C:\\\\Users\\\\DELL 3400'"
      ]
     },
     "execution_count": 1,
     "metadata": {},
     "output_type": "execute_result"
    }
   ],
   "source": [
    "pwd"
   ]
  },
  {
   "cell_type": "code",
   "execution_count": 15,
   "id": "b06490bb-2fc0-4698-aaa1-93e901e67d0a",
   "metadata": {},
   "outputs": [
    {
     "name": "stdout",
     "output_type": "stream",
     "text": [
      "yes the file is existing\n"
     ]
    }
   ],
   "source": [
    "import os\n",
    "#checking for a file if that is present or not\n",
    "if os.path.exists(r\"C:\\\\Users\\\\DELL 3400\\Desktop\\srinija.txt\"):\n",
    "    print(\"yes the file is existing\")\n",
    "else:\n",
    "    print(\"No the file is not existing\")"
   ]
  },
  {
   "cell_type": "code",
   "execution_count": 13,
   "id": "742b34a0-295c-488a-947f-ce633fa6c4df",
   "metadata": {},
   "outputs": [],
   "source": [
    "#open operation\n",
    "#close it\n",
    "file=open(r\"C:\\\\Users\\\\DELL 3400\\Desktop\\srinija.txt\",\"w\")\n",
    "file.close()"
   ]
  },
  {
   "cell_type": "code",
   "execution_count": 21,
   "id": "2575f4c9-b7aa-41c1-a793-a067dda71465",
   "metadata": {},
   "outputs": [
    {
     "name": "stdout",
     "output_type": "stream",
     "text": [
      "['hi\\n', 'iam srinija\\n']\n",
      "2\n"
     ]
    }
   ],
   "source": [
    "#accessing a file \n",
    "#open operation\n",
    "#close it\n",
    "file=open(r\"C:\\\\Users\\\\DELL 3400\\Desktop\\srinija.txt\",\"r\")\n",
    "x=list(file)#stored in a single list\n",
    "print(x)\n",
    "print(len(x))\n",
    "file.close()"
   ]
  },
  {
   "cell_type": "code",
   "execution_count": 23,
   "id": "4f023d85-39c0-463b-b915-b30682254eeb",
   "metadata": {},
   "outputs": [
    {
     "name": "stdout",
     "output_type": "stream",
     "text": [
      "hi\n",
      "\n",
      "iam srinija\n",
      "\n"
     ]
    }
   ],
   "source": [
    "#accessing a file \n",
    "#open operation\n",
    "#close it\n",
    "file=open(r\"C:\\\\Users\\\\DELL 3400\\Desktop\\srinija.txt\",\"r\")\n",
    "for i in file:\n",
    "    print(i)\n",
    "file.close()"
   ]
  },
  {
   "cell_type": "code",
   "execution_count": 37,
   "id": "f1072147-9944-43d1-9ce0-19c79fcb6901",
   "metadata": {},
   "outputs": [
    {
     "name": "stdout",
     "output_type": "stream",
     "text": [
      "h\n",
      "i\n",
      "\n",
      "\n",
      "i\n",
      "a\n",
      "m\n",
      " \n",
      "s\n",
      "r\n",
      "i\n",
      "n\n",
      "i\n",
      "j\n",
      "a\n",
      "\n",
      "\n"
     ]
    }
   ],
   "source": [
    "file=open(r\"C:\\\\Users\\\\DELL 3400\\Desktop\\srinija.txt\",\"r\")\n",
    "for i in file.read():     #every character in every word in every line\n",
    "    print(i)\n",
    "file.close()\n"
   ]
  },
  {
   "cell_type": "code",
   "execution_count": 39,
   "id": "d89b2768-ca82-4e5d-80e3-a4099a5211c1",
   "metadata": {},
   "outputs": [
    {
     "name": "stdout",
     "output_type": "stream",
     "text": [
      "h\n",
      "i\n",
      "\n",
      "\n"
     ]
    }
   ],
   "source": [
    "file=open(r\"C:\\\\Users\\\\DELL 3400\\Desktop\\srinija.txt\",\"r\")\n",
    "for i in file.readline():     ##access a single line\n",
    "    print(i)\n",
    "file.close()\n"
   ]
  },
  {
   "cell_type": "code",
   "execution_count": 43,
   "id": "cc0deadc-c834-419e-bd96-70c2ad98dbf6",
   "metadata": {},
   "outputs": [
    {
     "name": "stdout",
     "output_type": "stream",
     "text": [
      "hi\n",
      "\n",
      "iam srinija\n",
      "\n"
     ]
    }
   ],
   "source": [
    "file=open(r\"C:\\\\Users\\\\DELL 3400\\Desktop\\srinija.txt\",\"r\")\n",
    "for i in file.readlines():     ##access every line as a single observation or datapoint\n",
    "    print(i)\n",
    "file.close()"
   ]
  },
  {
   "cell_type": "code",
   "execution_count": 31,
   "id": "a1a362ff-26a3-4637-a9b8-523a0a573d73",
   "metadata": {},
   "outputs": [
    {
     "name": "stdout",
     "output_type": "stream",
     "text": [
      "hi\n",
      "\n"
     ]
    }
   ],
   "source": [
    "file=open(r\"C:\\\\Users\\\\DELL 3400\\Desktop\\srinija.txt\",\"r\")\n",
    "F=file.readline() #access a single line\n",
    "file.close()\n",
    "print(F)"
   ]
  },
  {
   "cell_type": "code",
   "execution_count": 35,
   "id": "ab1ce131-527a-4444-bdb3-ff9945e83ba0",
   "metadata": {},
   "outputs": [
    {
     "name": "stdout",
     "output_type": "stream",
     "text": [
      "['hi\\n', 'iam srinija\\n']\n"
     ]
    }
   ],
   "source": [
    "file=open(r\"C:\\\\Users\\\\DELL 3400\\Desktop\\srinija.txt\",\"r\")\n",
    "F=file.readlines() #access every line as a single observation or datapoint\n",
    "file.close()\n",
    "print(F)"
   ]
  },
  {
   "cell_type": "code",
   "execution_count": 45,
   "id": "9b63a0ac-50b3-4965-ba51-379aa453d7ae",
   "metadata": {},
   "outputs": [
    {
     "name": "stdout",
     "output_type": "stream",
     "text": [
      "hi\n",
      "iam srinija\n",
      "\n"
     ]
    }
   ],
   "source": [
    "file=open(r\"C:\\\\Users\\\\DELL 3400\\Desktop\\srinija.txt\",\"r\")\n",
    "F=file.read() #reading entire document\n",
    "file.close()\n",
    "print(F)"
   ]
  },
  {
   "cell_type": "code",
   "execution_count": 47,
   "id": "f5c408e4-0e36-497f-bca8-cfd5ea30f47c",
   "metadata": {},
   "outputs": [],
   "source": [
    "#write-write the file and then write something into it\n",
    "file=open(r\"C:\\\\Users\\\\DELL 3400\\Desktop\\srinija.txt\",\"a\")\n",
    "file.write(\"\\nIm from maggidi\")\n",
    "\n",
    "file.close()"
   ]
  },
  {
   "cell_type": "code",
   "execution_count": 83,
   "id": "ef847872-7333-471c-bae0-dcbc23c68587",
   "metadata": {},
   "outputs": [
    {
     "name": "stdout",
     "output_type": "stream",
     "text": [
      "yes the file is existing\n"
     ]
    }
   ],
   "source": [
    "import os\n",
    "#checking for a file if that is present or not\n",
    "if os.path.exists(r\"C:\\\\Users\\\\DELL 3400\\Desktop\\BOOMBOOM\"):\n",
    "    print(\"yes the file is existing\")\n",
    "else:\n",
    "    print(\"No the file is not existing\")\n",
    "    print(\"lets create it\")\n",
    "    os.mkdir(r\"C:\\\\Users\\\\DELL 3400\\Desktop\\BOOMBOOM\\sri.txt\")\n"
   ]
  },
  {
   "cell_type": "code",
   "execution_count": 119,
   "id": "5e6853f9-2f5e-47b6-af37-31b7fa754d95",
   "metadata": {},
   "outputs": [],
   "source": [
    "file=open(r\"C:\\\\Users\\\\DELL 3400\\Desktop\\BOOMBOOM\\sri.txt\",\"w\")\n",
    "file.write(\"\\nwelcome to innomatics\".upper())\n",
    "file.write(\"\\ncurrently iam living in hyd\".upper())\n",
    "file.close()"
   ]
  },
  {
   "cell_type": "code",
   "execution_count": 225,
   "id": "6182e2f5-f250-4396-9417-884ba1785c8c",
   "metadata": {},
   "outputs": [
    {
     "name": "stdout",
     "output_type": "stream",
     "text": [
      "['', 'THIS IS LINE1', 'THIS IS LINE2', 'THIS IS LINE3']\n"
     ]
    }
   ],
   "source": [
    "file=open(r\"C:\\\\Users\\\\DELL 3400\\Desktop\\srinija.txt\",\"r\")\n",
    "o=[]\n",
    "for i in file: \n",
    "    i=i.upper()\n",
    "    o.append(i.strip(\"\\n\"))\n",
    "file.close()\n",
    "print(o)\n",
    "\n"
   ]
  },
  {
   "cell_type": "code",
   "execution_count": 227,
   "id": "a38e2f36-820a-4184-ba4e-788d7b26a947",
   "metadata": {},
   "outputs": [],
   "source": [
    "file=open(r\"C:\\\\Users\\\\DELL 3400\\Desktop\\srinija.txt\",\"w\")\n",
    "for i in o:\n",
    "    file.write(f\"\\n{i}\")\n",
    "file.close()"
   ]
  },
  {
   "cell_type": "code",
   "execution_count": null,
   "id": "9faa94a4-3835-4362-b8a6-67ac5a7a1bfd",
   "metadata": {},
   "outputs": [],
   "source": []
  }
 ],
 "metadata": {
  "kernelspec": {
   "display_name": "Python 3 (ipykernel)",
   "language": "python",
   "name": "python3"
  },
  "language_info": {
   "codemirror_mode": {
    "name": "ipython",
    "version": 3
   },
   "file_extension": ".py",
   "mimetype": "text/x-python",
   "name": "python",
   "nbconvert_exporter": "python",
   "pygments_lexer": "ipython3",
   "version": "3.12.4"
  }
 },
 "nbformat": 4,
 "nbformat_minor": 5
}
