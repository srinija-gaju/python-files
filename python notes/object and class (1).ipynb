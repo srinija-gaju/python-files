{
 "cells": [
  {
   "cell_type": "markdown",
   "id": "a30aee86-5331-4ab1-99d3-44e7538f8cab",
   "metadata": {},
   "source": [
    "# class and object"
   ]
  },
  {
   "cell_type": "code",
   "execution_count": null,
   "id": "74c5d8c6-1f03-48b6-8629-f9218d47653c",
   "metadata": {},
   "outputs": [],
   "source": [
    "#object is a real world entity\n",
    "#class is a blueprint\n",
    "#object is an instance of class\n"
   ]
  },
  {
   "cell_type": "code",
   "execution_count": null,
   "id": "41c23879-8ac3-4264-9437-f36f5dd53884",
   "metadata": {},
   "outputs": [],
   "source": [
    "#empty class\n",
    "class A:\n",
    "    pass\n",
    "obj=A()"
   ]
  },
  {
   "cell_type": "code",
   "execution_count": null,
   "id": "1eb2281d-560e-410c-a800-6fc38e185b34",
   "metadata": {},
   "outputs": [],
   "source": [
    "#to print string->___doc___\n",
    "class C:\n",
    "   'welcome srinija gaju'\n",
    "print(C.__doc__)\n"
   ]
  },
  {
   "cell_type": "code",
   "execution_count": null,
   "id": "1c89c5d3-da1d-49c9-92af-cf05130d3f07",
   "metadata": {},
   "outputs": [],
   "source": [
    "class s:\n",
    "        name=\"srinija\"\n",
    "        age=21\n",
    "print(s.name)\n",
    "print(s.age)"
   ]
  },
  {
   "cell_type": "code",
   "execution_count": null,
   "id": "de740a27-f7cf-416d-a8dd-39710606d061",
   "metadata": {},
   "outputs": [],
   "source": [
    "class r:\n",
    "    def fun(self):\n",
    "      ss=\"srinja\"\n",
    "      print(ss)\n",
    "obj=r()\n",
    "obj.fun()"
   ]
  },
  {
   "cell_type": "code",
   "execution_count": null,
   "id": "97201d58-2819-4544-807c-fdb0d739c540",
   "metadata": {},
   "outputs": [],
   "source": [
    "class F:\n",
    "    def g(self,name,age,place):\n",
    "              print(name,\" \",age,\" \",place)\n",
    "obj=F()\n",
    "obj.g(\"srinija\",21,\"Hyd\")"
   ]
  },
  {
   "cell_type": "code",
   "execution_count": null,
   "id": "9640642b-1d41-4005-b768-4a6bf319848f",
   "metadata": {},
   "outputs": [],
   "source": [
    "class variables:\n",
    "    variable_1=10\n",
    "    variable_2=1\n",
    "    variable_3=100\n",
    "obj1=variables()\n",
    "obj2=variables()\n",
    "obj3=variables()\n",
    "print(obj1.variable_1)\n",
    "print(obj2.variable_2)\n",
    "print(obj3.variable_3)\n",
    "    "
   ]
  },
  {
   "cell_type": "code",
   "execution_count": null,
   "id": "8b801e73-03b9-4959-b4b2-36cbaa6dc5a9",
   "metadata": {},
   "outputs": [],
   "source": [
    "class house_design_1:\n",
    "    bhk_1=\"1200 sft\"\n",
    "    bhk_2=\"1300 sft\"\n",
    "class house_design_2:\n",
    "    bhk_1=\"1500 sft\"\n",
    "    bhk_2=\"2000 sft\"\n",
    "team_1=house_design_1()\n",
    "team_2=house_design_2()\n",
    "print(team_1.bhk_1)\n",
    "print(team_1.bhk_2)\n",
    "print(team_1.bhk_1)\n",
    "print(team_2.bhk_2)\n"
   ]
  },
  {
   "cell_type": "code",
   "execution_count": null,
   "id": "24ef9c14-e635-4d93-bfbe-d80a1375766b",
   "metadata": {},
   "outputs": [],
   "source": [
    "class human:#static class\n",
    "    name=\"srinija\"\n",
    "    age=21\n",
    "    gender=\"Female\"\n",
    "obj=human()\n",
    "print(obj.name)\n",
    "print(obj.age)\n",
    "print(obj.gender)"
   ]
  },
  {
   "cell_type": "code",
   "execution_count": null,
   "id": "e2796287-7d4b-4f67-8677-1c41f6d0122f",
   "metadata": {},
   "outputs": [],
   "source": [
    "class person:#we can create multiple instances of class person by same attributes(name,age,gender)\n",
    "    def __init__(self,name,age,gender):\n",
    "        self.name=name\n",
    "        self.age=age\n",
    "        self.gender=gender\n",
    "o1=person(name=\"srinija\",age=\"21\",gender=\"Female\")\n",
    "o2=person(name=\"srujana\",age=\"24\",gender=\"Female\")\n",
    "print(o1.name)\n",
    "print(o1.age)\n",
    "print(o1.gender)\n",
    "print(o2.name)\n",
    "print(o2.age)\n",
    "print(o2.gender)"
   ]
  },
  {
   "cell_type": "code",
   "execution_count": null,
   "id": "01efce90-9432-458f-89e3-806a8dc6802b",
   "metadata": {},
   "outputs": [],
   "source": [
    "#creating methods for attributes(get_name for name etc..)\n",
    "class person:\n",
    "    def __init__(self,name,age,gender):\n",
    "        self.name=name\n",
    "        self.age=age\n",
    "        self.gender=gender\n",
    "    def get_age(self):\n",
    "        return self.age\n",
    "    def get_name(self):\n",
    "        return self.name\n",
    "    def get_gender(self):\n",
    "        return self.gender\n",
    "o1=person(name=\"srinija\",age=21,gender=\"Female\")\n",
    "print(o1.name)\n",
    "print(o1.get_age())\n",
    "print(o1.get_name())\n",
    "print(o1.get_gender())"
   ]
  },
  {
   "cell_type": "code",
   "execution_count": null,
   "id": "be052c6c-f564-4496-986f-6adb6dfbb401",
   "metadata": {},
   "outputs": [],
   "source": [
    "#self helps you to call the functions inside the class\n",
    "class dog:\n",
    "    def sound(self):\n",
    "        return \"barks\"\n",
    "    def __init__(self,name):\n",
    "        self.name=name\n",
    "    \n",
    "class cat:\n",
    "    def sound(self):\n",
    "        return \"meows\"\n",
    "    def __init__(self,name):\n",
    "        self.name=name\n",
    "\n",
    "o1=dog(\"scoopy\")\n",
    "print(o1.sound())\n",
    "print(o1.name)\n",
    "\n",
    "o2=cat(\"yeontan\")\n",
    "print(o2.sound())\n",
    "print(o2.name)"
   ]
  },
  {
   "cell_type": "code",
   "execution_count": null,
   "id": "99240c67-e9de-4b4a-a2be-c5f37efcde98",
   "metadata": {},
   "outputs": [],
   "source": [
    "class human:\n",
    "    def __init__(self,name,gender):\n",
    "        self.name=name\n",
    "        self.gender=gender\n",
    "    def talk(self):\n",
    "        return \"humans can talk\"\n",
    "    def write(self):\n",
    "        return \"human can write\"\n",
    "h1=human(name=\"srinija\",gender=21)\n",
    "print(h1.talk())\n",
    "print(h1.write())"
   ]
  },
  {
   "cell_type": "code",
   "execution_count": null,
   "id": "3e33480a-6020-4975-9125-868ee8146ace",
   "metadata": {},
   "outputs": [],
   "source": [
    "class salary:\n",
    "    def __init__(self,ctc,hra,tax):\n",
    "        self.ctc=ctc\n",
    "        self.hra=hra\n",
    "        self.tax=tax\n",
    "            \n",
    "o1=salary(ctc=1000,hra=11,tax=12)\n",
    "print(o1.ctc)\n",
    "print(o1.hra)\n",
    "print(o1.tax)"
   ]
  },
  {
   "cell_type": "code",
   "execution_count": null,
   "id": "9fa56962-5ccf-4822-99f0-356bf664fabd",
   "metadata": {},
   "outputs": [],
   "source": [
    "class salary:\n",
    "    def __init__(self,ctc,hra,tax):\n",
    "        self.ctc=ctc\n",
    "        self.hra=hra\n",
    "        self.tax=tax\n",
    "    def sal_total(self):\n",
    "            return self.ctc+self.hra\n",
    "    def sal_after_fuel_cost(self,fuel_cost):\n",
    "            return self.ctc+self.hra-fuel_cost\n",
    "            \n",
    "o1=salary(ctc=34000,hra=15000,tax=0.2)\n",
    "print(o1.sal_total())\n",
    "print(o1.sal_after_fuel_cost(5000))"
   ]
  },
  {
   "cell_type": "code",
   "execution_count": null,
   "id": "5d18db8c-4c6b-4ceb-9f56-33f751bfdf4c",
   "metadata": {},
   "outputs": [],
   "source": [
    "class something:\n",
    "    var_1=3#class attribute\n",
    "    def __init__(self,name):#instance attribure\n",
    "        self.name=name\n",
    "print(something.var_1) #without an object it can print the value\n",
    "obj1=something(\"srinija\")#without an object we cannot access an instance class\n",
    "print(obj1.name)"
   ]
  },
  {
   "cell_type": "code",
   "execution_count": null,
   "id": "6a26b5ac-6491-4efa-9718-553b0efb7780",
   "metadata": {},
   "outputs": [],
   "source": [
    "#we can access instance attribute <reference>.attribute_name\n",
    "#we can access class attribute by\n",
    "#<reference>.attribute_name\n",
    "#class_name.attribute_name"
   ]
  },
  {
   "cell_type": "code",
   "execution_count": null,
   "id": "7f28fe16-6d86-4006-9e03-4894121dc034",
   "metadata": {},
   "outputs": [],
   "source": [
    "class sal:\n",
    "    cutting_1=5000  #class attribute\n",
    "    def __init__(self,salary,cutting_2):\n",
    "        self.salary=salary\n",
    "        self.cutting_2=cutting_2 #instance attribute\n",
    "#to deduct cutting1 from salary    \n",
    "    def ded_cutting_1(self):\n",
    "       return self.salary-self.cutting_1 #(or) self.salary-salary.cutting_1\n",
    "\n",
    "#to deduct cutting2 from salary\n",
    "\n",
    "    def ded_cutting_2(self):\n",
    "       return self.salary-self.cutting_2\n",
    "\n",
    "    def final_salary(self):\n",
    "        return self.salary-self.cutting_2-sal.cutting_1 \n",
    "    def final_salary_update(self):\n",
    "        self.salary=self.salary-self.cutting_2-sal.cutting_1\n",
    "        return self.salary\n",
    "\n",
    "    \n",
    "\n",
    "emp_1=sal(salary=50000,cutting_2=2000)\n",
    "print(emp_1.salary)\n",
    "print(emp_1.ded_cutting_1())    \n",
    "print(emp_1.ded_cutting_2())\n",
    "print(\"salary after deduction\")\n",
    "print(emp_1.final_salary())#here it not updating the deducions in the salary\n",
    "print(\"here it not updating the deducions in the salary\")\n",
    "print(emp_1.salary)\n",
    "print(\"salary after deductions it is updating the deductions in the salary\")\n",
    "print(emp_1.final_salary_update())\n",
    "print(emp_1.salary)\n"
   ]
  },
  {
   "cell_type": "code",
   "execution_count": null,
   "id": "2de0dcb6-1757-491a-bc48-5e3845b58098",
   "metadata": {},
   "outputs": [],
   "source": [
    "class human_family:\n",
    "     surname=\"gaju\"     #class attributes\n",
    "     def __init__(self,firstname,lastname,gender):\n",
    "         self.firstname=firstname  #instance attribute\n",
    "         self.lastname=lastname#instance attribute\n",
    "         self.gender=gender\n",
    "\n",
    "    \n",
    "     def welcome(self):\n",
    "       fullname=self.firstname+self.lastname\n",
    "       return \"hello \"+fullname+\" welcome to innomatics\"\n",
    "\n",
    "\n",
    "     def get_gender(self):\n",
    "        return self.gender\n",
    "\n",
    "     def update_new_name(self,new_name):\n",
    "        self.firstname=new_name\n",
    "        return self.firstname\n",
    "\n",
    "     def update_last_name(self,new_name):\n",
    "        self.lastname=new_name\n",
    "        return self.lastname\n",
    "\n",
    "     def updated_full_name(self):\n",
    " \n",
    "         return self.firstname+self.lastname\n",
    "       \n",
    "        \n",
    "\n",
    "    \n",
    "\n",
    "#accessing class attributes-classname.attribute(before creating the object)\n",
    "#accessing instance attributes-objectname.attribute(after  creating the object)\n",
    "\n",
    "#instance attributes defined inside a constructor\n",
    "\n",
    "\n",
    "        \n",
    "daughter1=human_family(\"srujana\",\"sony\",\"Female\")\n",
    "son=human_family(\"nandha\",\"vardhan\",\"male\")\n",
    "\n",
    "print(daughter1.firstname)\n",
    "print(son.firstname,son.lastname)\n",
    "\n",
    "print(son.welcome())\n",
    "print(daughter1.welcome())\n",
    "\n",
    "print(son.get_gender())\n",
    "\n",
    "\n",
    "daughter1.update_new_name(\"srinija\")\n",
    "daughter1.update_last_name(\"chinni\")\n",
    "print(daughter1.firstname)\n",
    "print(daughter1.lastname)\n",
    "\n",
    "daughter1.updated_full_name()\n",
    "\n",
    "\n",
    "\n",
    "\n",
    "     "
   ]
  },
  {
   "cell_type": "code",
   "execution_count": null,
   "id": "159f9584-5524-4ec1-aeca-399383b87a5a",
   "metadata": {},
   "outputs": [],
   "source": [
    "\n",
    "# ATM Transaction\n",
    "\n",
    "# class = balance in accout\n",
    "\n",
    "# withdraw some amount and show me the updated amount\n",
    "# deposit some amount and show me the updated amount \n",
    "\n",
    "# Balance -50000\n",
    "# withdrawing 3000 = 50000-3000 = 47000\n",
    "# deposit 10000 = 47000 + 10000 = 57000\n",
    "class balance_in_account:\n",
    "    def __init__(self,balance_amount):\n",
    "        self.balance_amount=balance_amount\n",
    "\n",
    "    \n",
    "    def withdraw(self,withdraw_amount):\n",
    "        self.balance_amount=self.balance_amount-withdraw_amount\n",
    "        return self.balance_amount\n",
    "\n",
    "    def deposit(self,deposit_amount):\n",
    "        self.balance_amount=self.balance_amount+deposit_amount\n",
    "        return self.balance_amount\n",
    "\n",
    "\n",
    "cash=balance_in_account(50000)\n",
    "print(\"balance in account\")\n",
    "print(cash.balance_amount)\n",
    "\n",
    "cash.withdraw(3000)\n",
    "print(\"balance after withdraw\")\n",
    "print(cash.balance_amount)\n",
    "\n",
    "\n",
    "cash.deposit(10000)\n",
    "print(\"balance after deposit\")\n",
    "print(cash.balance_amount)\n"
   ]
  },
  {
   "cell_type": "code",
   "execution_count": 56,
   "id": "c1431126-d973-4f10-a575-406686828486",
   "metadata": {},
   "outputs": [
    {
     "name": "stdin",
     "output_type": "stream",
     "text": [
      "enter your account number 1234\n",
      "enter your password 1535\n"
     ]
    },
    {
     "name": "stdout",
     "output_type": "stream",
     "text": [
      "balance in account\n",
      "10000\n"
     ]
    },
    {
     "name": "stdin",
     "output_type": "stream",
     "text": [
      "how much money you want to withdraw 10000\n"
     ]
    },
    {
     "name": "stdout",
     "output_type": "stream",
     "text": [
      "balance after withdraw\n",
      "0\n"
     ]
    },
    {
     "name": "stdin",
     "output_type": "stream",
     "text": [
      "how much money you want to deposit 500000\n"
     ]
    },
    {
     "name": "stdout",
     "output_type": "stream",
     "text": [
      "balance after deposit\n",
      "500000\n"
     ]
    }
   ],
   "source": [
    "# database = {account1:[pin,bal1],account2:[pin,bal2],account3:[pin,bal3]}\n",
    "\n",
    "# class <name_something>\n",
    "# account_number from the user\n",
    "# if account_number is existing or not \n",
    "# if it is existing - ask for password\n",
    "# while loop - condition is less than or equal to 3 tries\n",
    "# if hesnot entering the right password \n",
    "# prompt (please check your password) * 3\n",
    "# your account is blocked\n",
    "# check if user is entering the right password --> withdraw,deposit and display the final balance\n",
    "# \n",
    "# if it is not existing - print a message( your account doesnt belong to our database)\n",
    "\n",
    "database = {1234:[1535,10000],5678:[2559,40000],1011:[1389,50000]}\n",
    "class database_info:\n",
    "    def __init__(self,account_number,balance_amount=0,deposit_amount=0,withdraw_amount=0):\n",
    "     self.account_number=account_number\n",
    "     self.balance_amount=balance_amount\n",
    "     self.deposit_amount=deposit_amount\n",
    "     self.withdraw_amount=withdraw_amount\n",
    "    def balance(self):\n",
    "                self.balance_amount=database[self.account_number][1]\n",
    "                return self.balance_amount\n",
    "             \n",
    "        \n",
    "    def deposit(self,deposit_amount):\n",
    "                self.balance_amount=self.balance_amount+deposit_amount\n",
    "                return self.balance_amount\n",
    "\n",
    "    def withdraw(self,withdraw_amount):\n",
    "                  self.balance_amount=self.balance_amount-withdraw_amount\n",
    "                  return self.balance_amount    \n",
    "\n",
    "account_number=int(input(\"enter your account number\"))\n",
    "if account_number in database.keys():\n",
    "    user_password = database[account_number][0]\n",
    "    i =0\n",
    "    while i<3:\n",
    "            password=int(input(\"enter your password\"))\n",
    "            if password==user_password:\n",
    "                data=database_info(account_number)\n",
    "                print(\"balance in account\")\n",
    "                balance_amount=database[account_number][1]\n",
    "                print(data.balance())\n",
    "\n",
    "                withdraw_amount=int(input(\"how much money you want to withdraw\"))\n",
    "                data.withdraw(withdraw_amount)\n",
    "                print(\"balance after withdraw\")\n",
    "                print(data.balance_amount)\n",
    "\n",
    "                deposit_amount=int(input(\"how much money you want to deposit\"))\n",
    "                data.deposit(deposit_amount)\n",
    "                print(\"balance after deposit\")\n",
    "                print(data.balance_amount)  \n",
    "                break\n",
    "            else:\n",
    "                 print(\"check your password\")\n",
    "                 i=i+1\n",
    "\n",
    "    else:\n",
    "            print(\"your account is blocked\")\n",
    "else:\n",
    "    print(\"your account doesn't belong to our database\")\n",
    "        \n",
    "                                                                     "
   ]
  },
  {
   "cell_type": "code",
   "execution_count": 230,
   "id": "b8d2a091-3026-4396-85bd-a68721b1d6c7",
   "metadata": {},
   "outputs": [
    {
     "name": "stdin",
     "output_type": "stream",
     "text": [
      "enter your password 1535\n"
     ]
    }
   ],
   "source": [
    "data=database_info(1234,50000)"
   ]
  },
  {
   "cell_type": "code",
   "execution_count": 218,
   "id": "c7eb73ca-6ba9-4500-925e-0fe3e0c9c56b",
   "metadata": {},
   "outputs": [],
   "source": [
    "database = {1234:[1535, 1], 5678:2559, 1011:1389}\n"
   ]
  },
  {
   "cell_type": "code",
   "execution_count": 220,
   "id": "85ad1928-5278-4719-8da7-2075c2d1d5a3",
   "metadata": {},
   "outputs": [
    {
     "data": {
      "text/plain": [
       "{1234: [1535, 1], 5678: 2559, 1011: 1389}"
      ]
     },
     "execution_count": 220,
     "metadata": {},
     "output_type": "execute_result"
    }
   ],
   "source": [
    "database"
   ]
  },
  {
   "cell_type": "code",
   "execution_count": 222,
   "id": "e5ab0224-3654-4bd9-a38f-cb3845dda2e7",
   "metadata": {},
   "outputs": [
    {
     "data": {
      "text/plain": [
       "dict_values([[1535, 1], 2559, 1389])"
      ]
     },
     "execution_count": 222,
     "metadata": {},
     "output_type": "execute_result"
    }
   ],
   "source": [
    "database.values()"
   ]
  },
  {
   "cell_type": "code",
   "execution_count": 224,
   "id": "311a39dc-5c10-480f-b815-6ae7912b946e",
   "metadata": {},
   "outputs": [
    {
     "data": {
      "text/plain": [
       "False"
      ]
     },
     "execution_count": 224,
     "metadata": {},
     "output_type": "execute_result"
    }
   ],
   "source": []
  },
  {
   "cell_type": "code",
   "execution_count": 228,
   "id": "66583886-7335-4041-9b89-0099fdce7846",
   "metadata": {},
   "outputs": [
    {
     "data": {
      "text/plain": [
       "1535"
      ]
     },
     "execution_count": 228,
     "metadata": {},
     "output_type": "execute_result"
    }
   ],
   "source": [
    "user_pass = database[1234][0]"
   ]
  },
  {
   "cell_type": "code",
   "execution_count": 232,
   "id": "95d8f66d-019b-4fd2-8f22-836cf7599e91",
   "metadata": {},
   "outputs": [],
   "source": [
    "user_balance = database[1234][1]"
   ]
  },
  {
   "cell_type": "code",
   "execution_count": null,
   "id": "512c8482-e7da-416a-af61-ed0ab0425933",
   "metadata": {},
   "outputs": [],
   "source": []
  },
  {
   "cell_type": "code",
   "execution_count": 17,
   "id": "1769775a-9f60-4ffd-bb6d-f1483f59f2b9",
   "metadata": {},
   "outputs": [
    {
     "name": "stdout",
     "output_type": "stream",
     "text": [
      "23\n",
      "21\n",
      "89\n"
     ]
    }
   ],
   "source": [
    "class something:\n",
    "    var1=23   #public member\n",
    "    _var2=21   #protected memeber\n",
    "    __var3=89   #private member\n",
    "print(something.var1)\n",
    "print(something._var2)\n",
    "print(something._something__var3)\n",
    "\n"
   ]
  },
  {
   "cell_type": "code",
   "execution_count": 60,
   "id": "905184b1-cef7-455b-8144-7875f80d5d5f",
   "metadata": {},
   "outputs": [
    {
     "data": {
      "text/plain": [
       "'female'"
      ]
     },
     "execution_count": 60,
     "metadata": {},
     "output_type": "execute_result"
    }
   ],
   "source": [
    "class sample:\n",
    "    def __init__(self,name,age,gender):\n",
    "        self.name=name\n",
    "        self.age=age\n",
    "        self.gender=gender\n",
    "    def get_name(self):\n",
    "        return self.name\n",
    "    def _get_age(self):\n",
    "        return self.age\n",
    "    def __get_gender(self):\n",
    "        return self.gender\n",
    "\n",
    "sample1=sample(\"srinija\",21,\"female\")\n",
    "sample1.get_name()#public\n",
    "sample1._get_age()#protected\n",
    "sample1._sample__get_gender()#private\n",
    "    \n",
    "        "
   ]
  },
  {
   "cell_type": "markdown",
   "id": "78f1a2ec-078e-4626-ad73-efb2d2824540",
   "metadata": {},
   "source": [
    "# Inheritance'\n",
    "##### single \n",
    "##### multilevel\n",
    "##### single \n",
    "##### multilevel\n"
   ]
  },
  {
   "cell_type": "code",
   "execution_count": 111,
   "id": "6f59223f-23a5-40e9-a1c2-3e53b3aa5838",
   "metadata": {},
   "outputs": [
    {
     "name": "stdout",
     "output_type": "stream",
     "text": [
      "6\n",
      "gaju\n"
     ]
    }
   ],
   "source": [
    "#multilevel\n",
    "class grand_father:\n",
    "    def surname(self):\n",
    "          return \"gaju\"\n",
    "class father(grand_father):\n",
    "    def height(self):\n",
    "          return \"6\"\n",
    "class child(father):\n",
    "    def fullname(self):\n",
    "        return \"nandu\"\n",
    "son=child()\n",
    "print(son.height())\n",
    "print(son.surname())\n"
   ]
  },
  {
   "cell_type": "code",
   "execution_count": 79,
   "id": "0142b132-2c88-4ba7-af78-1b5be42587fa",
   "metadata": {},
   "outputs": [
    {
     "name": "stdout",
     "output_type": "stream",
     "text": [
      "gaju\n",
      "nandu\n",
      "srujana\n",
      "gaju\n"
     ]
    }
   ],
   "source": [
    "#hierarchial\n",
    "class father:\n",
    "    def surname(self):\n",
    "          return \"gaju\"\n",
    "class child1(father):\n",
    "    def fullname(self):\n",
    "          return \"srujana\"\n",
    "class child2(father):\n",
    "    def fullname(self):\n",
    "         return \"nandu\"\n",
    "class child3(father):\n",
    "    def fullname(self):\n",
    "         return \"srinija\"\n",
    "dad=father()\n",
    "son=child2()\n",
    "print(son.surname())\n",
    "print(son.fullname())\n",
    "daughter1=child1()\n",
    "print(daughter1.fullname())\n",
    "print(daughter1.surname())\n",
    "\n",
    "           "
   ]
  },
  {
   "cell_type": "code",
   "execution_count": 113,
   "id": "19b972a1-c480-4e0f-9bc2-ef218eb8ffbc",
   "metadata": {},
   "outputs": [
    {
     "name": "stdout",
     "output_type": "stream",
     "text": [
      "white\n",
      "blue\n"
     ]
    }
   ],
   "source": [
    "#hybrid\n",
    "class father:\n",
    "    def surname(self):\n",
    "          return \"gaju\"\n",
    "class mother:\n",
    "    def skin_tone(self):\n",
    "           return \"white\"\n",
    "class child1(father,mother):\n",
    "    def fullname(self):\n",
    "          return \"srujana\"\n",
    "class second_wife:\n",
    "    def eye_colour(self):\n",
    "         return \"blue\"\n",
    "class child2(father,second_wife):\n",
    "    def fullname(self):\n",
    "         return \"srinija\"\n",
    "\n",
    "#dad=father()\n",
    "#mom=mother()\n",
    "son=child1()\n",
    "print(son.skin_tone())\n",
    "daughter=child2()\n",
    "print(daughter.eye_colour())"
   ]
  },
  {
   "cell_type": "code",
   "execution_count": 39,
   "id": "77dfb834-3256-4f9c-b37b-25e5b3c29812",
   "metadata": {},
   "outputs": [
    {
     "name": "stdout",
     "output_type": "stream",
     "text": [
      "white\n",
      "6\n",
      "56\n",
      "nandu\n",
      "23\n"
     ]
    }
   ],
   "source": [
    "#multiple classes-classname.__init__(attribute names)\n",
    "class father:\n",
    "    def surname(self):\n",
    "          return \"gaju\"\n",
    "    def height(self):\n",
    "          return \"6\"\n",
    "class mother:\n",
    "    def skin_tone(self):\n",
    "           return \"white\"\n",
    "    def weight(self):\n",
    "           return \"56\"\n",
    "class child(father,mother):\n",
    "    def __init__(self,surname,height,skin_tone,weight,fullname,age):\n",
    "     father.__init__(surname,height)\n",
    "     mother.__init__(skin_tone,weight)\n",
    "     self.fullname=fullname\n",
    "     self.age=age\n",
    "\n",
    "\n",
    "son=child(\"gaju\",6,\"white\",\"56\",\"nandu\",23)\n",
    "print(son.skin_tone())\n",
    "print(son.height())\n",
    "print(son.weight())\n",
    "print(son.fullname)\n",
    "print(son.age)\n",
    "\n",
    "\n",
    "    "
   ]
  },
  {
   "cell_type": "code",
   "execution_count": 55,
   "id": "6132befe-078b-4432-b9d5-847f2a175f5a",
   "metadata": {},
   "outputs": [
    {
     "name": "stdout",
     "output_type": "stream",
     "text": [
      "1\n",
      "2\n",
      "3\n",
      "4\n",
      "5\n",
      "6\n"
     ]
    }
   ],
   "source": [
    "#multiple classes-classname.__init__(attribute names)\n",
    "class base1:\n",
    "    def __init__(self,x1,x2):\n",
    "          self.x1=x1\n",
    "          self.x2=x2\n",
    "    \n",
    "class base2:\n",
    "    def __init__(self,x3,x4):\n",
    "          self.x3=x3\n",
    "          self.x4=x4\n",
    "   \n",
    "class derived(base1,base2):\n",
    "    def __init__(self,x1,x2,x3,x4,x5,x6):\n",
    "     base1.__init__(self,x1,x2)\n",
    "     base2.__init__(self,x3,x4)\n",
    "     self.x5=x5\n",
    "     self.x6=x6\n",
    "dev=derived(1,2,3,4,5,6)\n",
    "print(dev.x1)\n",
    "print(dev.x2)\n",
    "print(dev.x3)\n",
    "print(dev.x4)\n",
    "print(dev.x5)\n",
    "print(dev.x6)"
   ]
  },
  {
   "cell_type": "markdown",
   "id": "e5ea9fc9-1344-4902-9b7a-352c4bcbf898",
   "metadata": {},
   "source": [
    "# polymorphism"
   ]
  },
  {
   "cell_type": "code",
   "execution_count": 71,
   "id": "cf883598-b6aa-4236-8f6a-cbe08401ee95",
   "metadata": {},
   "outputs": [
    {
     "name": "stdout",
     "output_type": "stream",
     "text": [
      "communicate through language\n",
      "communicate through sound\n"
     ]
    }
   ],
   "source": [
    "#polymorphism-many forms\n",
    "class human:\n",
    "    def talk(self):\n",
    "        return \"communicate through language\"\n",
    "class animal:\n",
    "    def talk(self):\n",
    "        return \"communicate through sound\"\n",
    "\n",
    "def something(class_name):\n",
    "    return class_name.talk()\n",
    "    \n",
    "h1=human()\n",
    "a1=animal()\n",
    "\n",
    "print(something(h1))\n",
    "print(something(a1))"
   ]
  },
  {
   "cell_type": "code",
   "execution_count": 83,
   "id": "317bc690-1d04-4f11-860d-51f742aca10b",
   "metadata": {},
   "outputs": [
    {
     "name": "stdout",
     "output_type": "stream",
     "text": [
      "hello im here\n",
      "HELLO IM HERE\n"
     ]
    }
   ],
   "source": [
    "\n",
    "class A:\n",
    "    def task1():\n",
    "        print(\"hello im here\")\n",
    "class B(A):\n",
    "    def task1():\n",
    "        print(\"HELLO IM HERE\")\n",
    "A1=A\n",
    "A1.task1()  \n",
    "B1=B\n",
    "B1.task1()\n",
    "    "
   ]
  },
  {
   "cell_type": "code",
   "execution_count": 95,
   "id": "fea799dd-1363-46cd-b95a-9c53126bd4e9",
   "metadata": {},
   "outputs": [
    {
     "name": "stdout",
     "output_type": "stream",
     "text": [
      "3\n",
      "srinijagaju\n"
     ]
    }
   ],
   "source": [
    "#method overriding-same method diffrerent outputs\n",
    "#example1\n",
    "class something:\n",
    "    def __init__(self,x1,x2):\n",
    "        self.x1=x1\n",
    "        self.x2=x2\n",
    "\n",
    "    def add(self):\n",
    "        return self.x1+self.x2\n",
    "\n",
    "obj1=something(1,2)\n",
    "print(obj1.add())\n",
    "\n",
    "obj2=something(\"srinija\",\"gaju\")\n",
    "print(obj2.add())"
   ]
  },
  {
   "cell_type": "code",
   "execution_count": 121,
   "id": "e0afc0c1-0675-43a7-a774-715873b085fe",
   "metadata": {},
   "outputs": [
    {
     "name": "stdout",
     "output_type": "stream",
     "text": [
      "6\n",
      "10\n"
     ]
    }
   ],
   "source": [
    "#method overriding-same method diffrerent outputs\n",
    "#example2\n",
    "class addition:\n",
    "    def __init__(self,x1,x2,x3=0):\n",
    "       self.x1=x1\n",
    "       self.x2=x2\n",
    "       self.x3=x3\n",
    "    def add(self):\n",
    "        return self.x1+self.x2+self.x3\n",
    "\n",
    "a1=addition(1,2,3)\n",
    "print(a1.add())\n",
    "a2=addition(1,2,7)\n",
    "print(a2.add())"
   ]
  },
  {
   "cell_type": "markdown",
   "id": "d863bcce-0e8a-4164-ae69-af4338b1ab30",
   "metadata": {},
   "source": [
    "# absraction"
   ]
  },
  {
   "cell_type": "code",
   "execution_count": 139,
   "id": "0c7b8808-dbe4-4ded-a340-1e764402d41f",
   "metadata": {},
   "outputs": [
    {
     "name": "stdout",
     "output_type": "stream",
     "text": [
      "method3\n",
      "method4\n"
     ]
    }
   ],
   "source": [
    "\n",
    "from abc import ABC,abstractmethod\n",
    "class base(ABC):\n",
    "    def method1(self):\n",
    "          return \"method1\"\n",
    "    @abstractmethod\n",
    "\n",
    "    def method2(self):\n",
    "          return \"method2\"\n",
    "    \n",
    "class derived(base):\n",
    "    def method1(self):\n",
    "          return \"method3\"\n",
    "    def method2(self):\n",
    "          return \"method4\"\n",
    "\n",
    "#F=base()#base1 is hided inside users no need to know avout this it is protected inside\n",
    "D=derived()\n",
    "print(D.method1())\n",
    "print(D.method2())\n",
    "        "
   ]
  },
  {
   "cell_type": "code",
   "execution_count": null,
   "id": "5a10c6af-aae4-4fbc-b685-cda2f7b568af",
   "metadata": {},
   "outputs": [],
   "source": []
  }
 ],
 "metadata": {
  "kernelspec": {
   "display_name": "Python 3 (ipykernel)",
   "language": "python",
   "name": "python3"
  },
  "language_info": {
   "codemirror_mode": {
    "name": "ipython",
    "version": 3
   },
   "file_extension": ".py",
   "mimetype": "text/x-python",
   "name": "python",
   "nbconvert_exporter": "python",
   "pygments_lexer": "ipython3",
   "version": "3.12.4"
  }
 },
 "nbformat": 4,
 "nbformat_minor": 5
}
