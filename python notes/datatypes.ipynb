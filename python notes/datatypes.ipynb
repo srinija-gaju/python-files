{
 "cells": [
  {
   "cell_type": "code",
   "execution_count": null,
   "id": "8d270c1f-089b-4bbe-adc6-1720472b11de",
   "metadata": {},
   "outputs": [],
   "source": []
  },
  {
   "cell_type": "code",
   "execution_count": 76,
   "id": "7ec26e6a-ba63-4af6-996e-010032c0230e",
   "metadata": {},
   "outputs": [
    {
     "name": "stdout",
     "output_type": "stream",
     "text": [
      "<class 'int'>\n",
      "<class 'float'>\n",
      "<class 'str'>\n",
      "<class 'bool'>\n"
     ]
    }
   ],
   "source": [
    "print(type(1))\n",
    "print(type(2.5))\n",
    "print(type(\"srinija\"))\n",
    "print(type(True))"
   ]
  },
  {
   "cell_type": "code",
   "execution_count": 77,
   "id": "79df46c0-3d6c-4951-bc6f-1e89ff346a14",
   "metadata": {},
   "outputs": [
    {
     "ename": "NameError",
     "evalue": "name 'variable' is not defined",
     "output_type": "error",
     "traceback": [
      "\u001b[1;31m---------------------------------------------------------------------------\u001b[0m",
      "\u001b[1;31mNameError\u001b[0m                                 Traceback (most recent call last)",
      "Cell \u001b[1;32mIn[77], line 1\u001b[0m\n\u001b[1;32m----> 1\u001b[0m variable\n",
      "\u001b[1;31mNameError\u001b[0m: name 'variable' is not defined"
     ]
    }
   ],
   "source": [
    "variable #= 3"
   ]
  },
  {
   "cell_type": "code",
   "execution_count": null,
   "id": "be873622-ad5b-4604-95e9-fe847a58732a",
   "metadata": {},
   "outputs": [],
   "source": [
    "_variable1 = 3\n",
    "print(_variable1)"
   ]
  },
  {
   "cell_type": "code",
   "execution_count": null,
   "id": "6041f486-50d9-4e1d-bb85-83d4f1bb93fc",
   "metadata": {},
   "outputs": [],
   "source": [
    "id(_variable1)"
   ]
  },
  {
   "cell_type": "code",
   "execution_count": 85,
   "id": "0aa55d61-2839-4a7c-b929-888532ce6a8b",
   "metadata": {},
   "outputs": [],
   "source": [
    "binary = bin(23)"
   ]
  },
  {
   "cell_type": "code",
   "execution_count": 87,
   "id": "114c2107-c9a3-4e27-9d61-b1db958080b0",
   "metadata": {},
   "outputs": [],
   "source": [
    "octal = oct(23)"
   ]
  },
  {
   "cell_type": "code",
   "execution_count": 89,
   "id": "75afab0e-fac1-40c3-add3-4da433436aaa",
   "metadata": {},
   "outputs": [],
   "source": [
    "hexa = hex(23)"
   ]
  },
  {
   "cell_type": "code",
   "execution_count": 91,
   "id": "4552b176-0d4e-4832-997f-36a284e7215e",
   "metadata": {},
   "outputs": [
    {
     "data": {
      "text/plain": [
       "23"
      ]
     },
     "execution_count": 91,
     "metadata": {},
     "output_type": "execute_result"
    }
   ],
   "source": [
    "int(binary,2)"
   ]
  },
  {
   "cell_type": "code",
   "execution_count": 93,
   "id": "1afe9ae4-9a5c-4840-a387-3a006b87f96d",
   "metadata": {},
   "outputs": [
    {
     "data": {
      "text/plain": [
       "23"
      ]
     },
     "execution_count": 93,
     "metadata": {},
     "output_type": "execute_result"
    }
   ],
   "source": [
    "int(octal,8)"
   ]
  },
  {
   "cell_type": "code",
   "execution_count": 97,
   "id": "32d99c6e-5476-42ee-9405-496b67a5a439",
   "metadata": {},
   "outputs": [
    {
     "data": {
      "text/plain": [
       "23"
      ]
     },
     "execution_count": 97,
     "metadata": {},
     "output_type": "execute_result"
    }
   ],
   "source": [
    "int(hexa,16)"
   ]
  },
  {
   "cell_type": "code",
   "execution_count": 99,
   "id": "929ca599-1440-4388-b16e-890da5b250ab",
   "metadata": {},
   "outputs": [
    {
     "name": "stdout",
     "output_type": "stream",
     "text": [
      "<class 'str'>\n"
     ]
    }
   ],
   "source": [
    "print(type(binary))"
   ]
  },
  {
   "cell_type": "code",
   "execution_count": 101,
   "id": "ad11d441-d6c4-42d3-8597-a5fc64bff6e0",
   "metadata": {},
   "outputs": [
    {
     "data": {
      "text/plain": [
       "str"
      ]
     },
     "execution_count": 101,
     "metadata": {},
     "output_type": "execute_result"
    }
   ],
   "source": [
    "type(binary)"
   ]
  },
  {
   "cell_type": "markdown",
   "id": "a40c95bb-404f-4de8-b26a-7795c138f895",
   "metadata": {},
   "source": [
    "# arimatic operations\n",
    "### addition\n",
    "### subtraction\n",
    "### multiplication\n",
    "### division\n"
   ]
  },
  {
   "cell_type": "code",
   "execution_count": 107,
   "id": "07ab053e-cd48-423e-b76e-87fd28e3097d",
   "metadata": {},
   "outputs": [
    {
     "name": "stdout",
     "output_type": "stream",
     "text": [
      "0.6\n",
      "0\n",
      "3\n",
      "8\n",
      "15\n",
      "-2\n"
     ]
    }
   ],
   "source": [
    "print(3/5)\n",
    "print(3//5)\n",
    "print(3%5)\n",
    "print(3+5)\n",
    "print(3*5)\n",
    "print(3-5)"
   ]
  },
  {
   "cell_type": "markdown",
   "id": "dec0acc4-76f7-4e9e-b57a-9907fd9abc64",
   "metadata": {},
   "source": [
    "# assignment operators"
   ]
  },
  {
   "cell_type": "code",
   "execution_count": 116,
   "id": "1424a93f-92bc-42c5-a530-4c9726f25295",
   "metadata": {},
   "outputs": [
    {
     "name": "stdout",
     "output_type": "stream",
     "text": [
      "23\n",
      "33\n"
     ]
    }
   ],
   "source": [
    "a=23\n",
    "print(a)\n",
    "a+=10\n",
    "print(a)"
   ]
  },
  {
   "cell_type": "code",
   "execution_count": 137,
   "id": "9331ce0d-fe19-4f4c-bdb9-6ed5d8994135",
   "metadata": {},
   "outputs": [
    {
     "name": "stdout",
     "output_type": "stream",
     "text": [
      "the average of the marks: 64.66666666666667\n",
      "the percentage of the marks: 64.66666666666666\n"
     ]
    }
   ],
   "source": [
    "maths=56\n",
    "science=78\n",
    "social=60\n",
    "total=maths+science+social\n",
    "avg=total/3\n",
    "print(\"the average of the marks :\",avg)\n",
    "percentage=total/300*100\n",
    "print(\"the percentage of the marks:\",percentage)"
   ]
  },
  {
   "cell_type": "code",
   "execution_count": 139,
   "id": "5ef581a2-1b17-4dae-bb08-e97bd105daaf",
   "metadata": {},
   "outputs": [
    {
     "data": {
      "text/plain": [
       "35"
      ]
     },
     "execution_count": 139,
     "metadata": {},
     "output_type": "execute_result"
    }
   ],
   "source": [
    "round(34.555)"
   ]
  },
  {
   "cell_type": "code",
   "execution_count": null,
   "id": "fff2a11e-6563-4b0f-812c-fd118e5634d2",
   "metadata": {},
   "outputs": [],
   "source": []
  }
 ],
 "metadata": {
  "kernelspec": {
   "display_name": "Python 3 (ipykernel)",
   "language": "python",
   "name": "python3"
  },
  "language_info": {
   "codemirror_mode": {
    "name": "ipython",
    "version": 3
   },
   "file_extension": ".py",
   "mimetype": "text/x-python",
   "name": "python",
   "nbconvert_exporter": "python",
   "pygments_lexer": "ipython3",
   "version": "3.12.4"
  }
 },
 "nbformat": 4,
 "nbformat_minor": 5
}
