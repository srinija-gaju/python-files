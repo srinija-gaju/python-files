{
 "cells": [
  {
   "cell_type": "code",
   "execution_count": 36,
   "id": "69096194-fd84-407a-8177-812fe489d8a6",
   "metadata": {},
   "outputs": [
    {
     "name": "stdin",
     "output_type": "stream",
     "text": [
      "enter a number -4\n"
     ]
    },
    {
     "name": "stdout",
     "output_type": "stream",
     "text": [
      "-4 is negative number\n"
     ]
    }
   ],
   "source": [
    "num=int(input(\"enter a number\"))\n",
    "if num>0:\n",
    "    print(num,\"is positive number\")\n",
    "else:\n",
    "    print(num,\"is negative number\")\n",
    "    "
   ]
  },
  {
   "cell_type": "code",
   "execution_count": 34,
   "id": "b703fc89-65c1-44e2-b89d-c43219cc2fee",
   "metadata": {},
   "outputs": [
    {
     "name": "stdin",
     "output_type": "stream",
     "text": [
      "enter a number 5\n"
     ]
    },
    {
     "name": "stdout",
     "output_type": "stream",
     "text": [
      "5 is odd number\n"
     ]
    }
   ],
   "source": [
    "num=int(input(\"enter a number\"))\n",
    "if num%2==0:\n",
    "    print(num,\"is even number\")\n",
    "else:\n",
    "    print(num,\"is odd number\")"
   ]
  },
  {
   "cell_type": "code",
   "execution_count": 30,
   "id": "44376cdb-775c-42ec-a654-833b8d5454e2",
   "metadata": {},
   "outputs": [
    {
     "name": "stdin",
     "output_type": "stream",
     "text": [
      "enter a number 12\n"
     ]
    },
    {
     "name": "stdout",
     "output_type": "stream",
     "text": [
      "12  is not divisible by 9\n"
     ]
    }
   ],
   "source": [
    "num=int(input(\"enter a number\"))\n",
    "\n",
    "if(num%9==0):\n",
    "    print(\"number is divisible by 9\")\n",
    "else:\n",
    "    print(num,\" is not divisible by 9\")"
   ]
  },
  {
   "cell_type": "code",
   "execution_count": 52,
   "id": "2ed69272-7a4d-47ec-bee9-6f6e3e8fc880",
   "metadata": {},
   "outputs": [
    {
     "name": "stdin",
     "output_type": "stream",
     "text": [
      "enter marks 90\n"
     ]
    },
    {
     "name": "stdout",
     "output_type": "stream",
     "text": [
      "Grade A\n"
     ]
    }
   ],
   "source": [
    "marks=int(input(\"enter marks\"))\n",
    "if marks>85:\n",
    "          print(\"Grade A\")\n",
    "elif marks>75 and marks<=85:\n",
    "          print(\"Grade B\")\n",
    "elif marks>26 and marks<=75:\n",
    "          print(\"Grade C\")\n",
    "else:\n",
    "          print(\"Fail\")\n"
   ]
  },
  {
   "cell_type": "code",
   "execution_count": 50,
   "id": "0a030bf8-abce-4612-bf07-39c6f5193821",
   "metadata": {},
   "outputs": [
    {
     "name": "stdout",
     "output_type": "stream",
     "text": [
      "Grade B\n",
      "Grade A\n",
      "Grade C\n"
     ]
    }
   ],
   "source": [
    "marks=[80,90,70]\n",
    "for i in marks:\n",
    "    if i>85:\n",
    "          print(\"Grade A\")\n",
    "    elif i>75 and i<=85:\n",
    "          print(\"Grade B\")\n",
    "    elif i>26 and i<=75:\n",
    "          print(\"Grade C\")\n",
    "    else:\n",
    "          print(\"Fail\")"
   ]
  },
  {
   "cell_type": "code",
   "execution_count": 58,
   "id": "d25d0090-7fef-4df9-b836-14e15a28b014",
   "metadata": {},
   "outputs": [
    {
     "ename": "SyntaxError",
     "evalue": "invalid syntax (50060025.py, line 1)",
     "output_type": "error",
     "traceback": [
      "\u001b[1;36m  Cell \u001b[1;32mIn[58], line 1\u001b[1;36m\u001b[0m\n\u001b[1;33m    def(marks)\u001b[0m\n\u001b[1;37m       ^\u001b[0m\n\u001b[1;31mSyntaxError\u001b[0m\u001b[1;31m:\u001b[0m invalid syntax\n"
     ]
    }
   ],
   "source": [
    "def(marks)\n",
    "  for i in marks:\n",
    "    if i>85:\n",
    "          print(\"Grade A\")\n",
    "    elif i>75 and i<=85:\n",
    "          print(\"Grade B\")\n",
    "    elif i>26 and i<=75:\n",
    "          print(\"Grade C\")\n",
    "    else:\n",
    "          print(\"Fail\")"
   ]
  },
  {
   "cell_type": "code",
   "execution_count": null,
   "id": "701554e4-633f-4f76-9dd7-72eb744a6e46",
   "metadata": {},
   "outputs": [],
   "source": []
  }
 ],
 "metadata": {
  "kernelspec": {
   "display_name": "Python 3 (ipykernel)",
   "language": "python",
   "name": "python3"
  },
  "language_info": {
   "codemirror_mode": {
    "name": "ipython",
    "version": 3
   },
   "file_extension": ".py",
   "mimetype": "text/x-python",
   "name": "python",
   "nbconvert_exporter": "python",
   "pygments_lexer": "ipython3",
   "version": "3.12.4"
  }
 },
 "nbformat": 4,
 "nbformat_minor": 5
}
