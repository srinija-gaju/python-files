{
 "cells": [
  {
   "cell_type": "code",
   "execution_count": 1,
   "id": "7ff7a46a-53cc-4f14-9b66-25218062c506",
   "metadata": {},
   "outputs": [
    {
     "name": "stdout",
     "output_type": "stream",
     "text": [
      "Helloworld\n"
     ]
    }
   ],
   "source": [
    "#capitalize()-converts only first letter of the string into uppercase a\n",
    "text=\"HelloWorld\"\n",
    "print(text.capitalize())\n",
    "\n",
    "\n"
   ]
  },
  {
   "cell_type": "code",
   "execution_count": 33,
   "id": "a95fb367-baef-4d68-830a-934cbda4dfce",
   "metadata": {},
   "outputs": [
    {
     "name": "stdout",
     "output_type": "stream",
     "text": [
      "                                             HelloWorld                                             \n",
      "HelloWorld @@\n"
     ]
    }
   ],
   "source": [
    "#center()-returns a centered string\n",
    "text=\"HelloWorld\"\n",
    "print(text.center(100))\n",
    "print(text.center(2),'@@')"
   ]
  },
  {
   "cell_type": "code",
   "execution_count": 11,
   "id": "75dc3527-2b37-4df0-a113-1a48e2c04fb8",
   "metadata": {},
   "outputs": [
    {
     "name": "stdout",
     "output_type": "stream",
     "text": [
      "3\n"
     ]
    }
   ],
   "source": [
    "#count()-returns the no. of times a specified value occurs in a string\n",
    "text=\"HelloWorld\"\n",
    "print(text.count(\"l\"))"
   ]
  },
  {
   "cell_type": "code",
   "execution_count": 19,
   "id": "ea59a52e-4c11-4040-9d1b-7c85858958fd",
   "metadata": {},
   "outputs": [
    {
     "name": "stdout",
     "output_type": "stream",
     "text": [
      "True\n",
      "False\n"
     ]
    }
   ],
   "source": [
    "#endswith()-returns true if the string ends with the specified character \n",
    "text=\"Hello World\"\n",
    "print(text.endswith(\"World\"))\n",
    "print(text.endswith(\"world\"))\n",
    "\n"
   ]
  },
  {
   "cell_type": "code",
   "execution_count": 39,
   "id": "3f0ee4a2-18a5-432e-8b6b-4723838414b7",
   "metadata": {},
   "outputs": [
    {
     "name": "stdout",
     "output_type": "stream",
     "text": [
      "False\n",
      "True\n"
     ]
    }
   ],
   "source": [
    "#startswith()-returns true if the string start with the specified character \n",
    "text=\"Hello World\"\n",
    "print(text.startswith(\"hello\"))\n",
    "print(text.lower().startswith(\"hello\"))#it will converts the text into lower first and checks if it starts with hello or no\n"
   ]
  },
  {
   "cell_type": "code",
   "execution_count": 3,
   "id": "d0675181-d20d-435f-8e7a-1e0d111c39e4",
   "metadata": {},
   "outputs": [
    {
     "name": "stdout",
     "output_type": "stream",
     "text": [
      "helloworld\n"
     ]
    }
   ],
   "source": [
    "#casefold()-converts text into lowercase\n",
    "text=\"HelloWorld\"\n",
    "print(text.casefold())\n"
   ]
  },
  {
   "cell_type": "code",
   "execution_count": 41,
   "id": "c650d6a3-e4fc-4f12-aa40-5b2848f6f9cd",
   "metadata": {},
   "outputs": [
    {
     "name": "stdout",
     "output_type": "stream",
     "text": [
      "hello world\n"
     ]
    }
   ],
   "source": [
    "#lower-converts string into lowercase\n",
    "text=\"Hello World\"\n",
    "print(text.lower())"
   ]
  },
  {
   "cell_type": "code",
   "execution_count": 121,
   "id": "e9b6b5bc-be30-4096-9de8-a50e461d062d",
   "metadata": {},
   "outputs": [
    {
     "name": "stdout",
     "output_type": "stream",
     "text": [
      "HELLO WORLD\n"
     ]
    }
   ],
   "source": [
    "#upper-converts string into uppercase\n",
    "text=\"Hello World\"\n",
    "print(text.upper())"
   ]
  },
  {
   "cell_type": "code",
   "execution_count": 127,
   "id": "6ca2629d-b5d5-4778-b180-7aaeceb412cb",
   "metadata": {},
   "outputs": [
    {
     "name": "stdout",
     "output_type": "stream",
     "text": [
      "hELLO wOrlD\n"
     ]
    }
   ],
   "source": [
    "#swapcase-converts upper into lower and lower into upper\n",
    "text=\"Hello WoRLd\"\n",
    "print(text.swapcase())"
   ]
  },
  {
   "cell_type": "code",
   "execution_count": 49,
   "id": "e2cbaf0d-1014-4879-8144-b19492fe8dd2",
   "metadata": {},
   "outputs": [
    {
     "name": "stdout",
     "output_type": "stream",
     "text": [
      "0\n",
      "1\n"
     ]
    }
   ],
   "source": [
    "#find()-searches string for a specified value and returns the position of where it was found\n",
    "text=\"Hello World\"\n",
    "print(text.find(\"Hello\"))\n",
    "print(text.find(\"e\"))"
   ]
  },
  {
   "cell_type": "code",
   "execution_count": 119,
   "id": "d1af8a7c-02a9-4006-a0c9-6f7f3721bd9b",
   "metadata": {},
   "outputs": [
    {
     "name": "stdout",
     "output_type": "stream",
     "text": [
      "1\n"
     ]
    }
   ],
   "source": [
    "#index()-searches the string for a specified value and returns the position of where it was found\n",
    "text=\"123\"\n",
    "print(text.index('2'))"
   ]
  },
  {
   "cell_type": "code",
   "execution_count": 149,
   "id": "124971e0-9ddf-42e7-8b4a-9774f30ed224",
   "metadata": {},
   "outputs": [
    {
     "name": "stdout",
     "output_type": "stream",
     "text": [
      "True\n"
     ]
    }
   ],
   "source": [
    "#isalnum()-returns true if all thecharacters in the string are alphanumeric[aplhabets+numbers]\n",
    "text=\"456ab567gbbhj\"#it will not accept spaces and any special characters\n",
    "print(text.isalnum())\n"
   ]
  },
  {
   "cell_type": "code",
   "execution_count": 89,
   "id": "5dace828-a81d-40b1-80dc-f93f0f4f71f3",
   "metadata": {},
   "outputs": [
    {
     "name": "stdout",
     "output_type": "stream",
     "text": [
      "True\n",
      "False\n"
     ]
    }
   ],
   "source": [
    "#isalpha()-returns true if all thecharacters in the string are alphabets\n",
    "text=\"helloworld\"#it will not accept spaces and any special characters\n",
    "print(text.isalpha())\n",
    "a=\"hello \"\n",
    "print(a.isalpha())\n",
    "\n",
    "\n"
   ]
  },
  {
   "cell_type": "code",
   "execution_count": 95,
   "id": "18ce586c-fea8-40a5-86bb-c96b98435923",
   "metadata": {},
   "outputs": [
    {
     "name": "stdout",
     "output_type": "stream",
     "text": [
      "True\n",
      "False\n"
     ]
    }
   ],
   "source": [
    "#isnum()-returns true if all thecharacters in the string are numbers\n",
    "text=\"123\"#it will not accept spaces and any special characters\n",
    "print(text.isdecimal())\n",
    "a=\"123 \"\n",
    "print(a.isdecimal())"
   ]
  },
  {
   "cell_type": "code",
   "execution_count": 97,
   "id": "6735fd75-1c0c-4c95-9c6c-c5ddf07d233d",
   "metadata": {},
   "outputs": [
    {
     "name": "stdout",
     "output_type": "stream",
     "text": [
      "True\n",
      "False\n"
     ]
    }
   ],
   "source": [
    "#isdigit()-returns true if all thecharacters in the string are digits\n",
    "text=\"123\"#it will not accept spaces and any special characters\n",
    "print(text.isdigit())\n",
    "a=\"123 \"\n",
    "print(a.isdigit())"
   ]
  },
  {
   "cell_type": "code",
   "execution_count": 107,
   "id": "0d40313c-d0f9-406d-8ec9-539bd8fbee2e",
   "metadata": {},
   "outputs": [
    {
     "name": "stdout",
     "output_type": "stream",
     "text": [
      "True\n",
      "False\n"
     ]
    }
   ],
   "source": [
    "#isdecimal()-returns true if all thecharacters in the string are digits\n",
    "text=\"123\"#it will not accept spaces and any special characters\n",
    "print(text.isdecimal())\n",
    "a=\"123 \"\n",
    "print(a.isdecimal())"
   ]
  },
  {
   "cell_type": "code",
   "execution_count": 131,
   "id": "f3bff5c5-a403-4b5d-8adf-0f355e965133",
   "metadata": {},
   "outputs": [
    {
     "name": "stdout",
     "output_type": "stream",
     "text": [
      "True\n",
      "False\n"
     ]
    }
   ],
   "source": [
    "#isnumeric()-returns true if all thecharacters in the string are numbers\n",
    "text=\"123\"#it will not accept spaces and any special characters\n",
    "print(text.isnumeric())\n",
    "a=\"123a\"\n",
    "print(a.isnumeric())"
   ]
  },
  {
   "cell_type": "code",
   "execution_count": 155,
   "id": "5fe7752c-1dd4-4d74-8686-dafd92e0fc4d",
   "metadata": {},
   "outputs": [
    {
     "name": "stdout",
     "output_type": "stream",
     "text": [
      "False\n",
      "False\n",
      "True\n",
      "True\n"
     ]
    }
   ],
   "source": [
    "#isidentifier()-returns true if the string is an identifier\n",
    "text=\"123\"\n",
    "print(text.isidentifier())\n",
    "print(\"@seft\".isidentifier())\n",
    "print(\"_seft\".isidentifier())\n",
    "print(\"is\".isidentifier())#we cannot give keyword as identifier but here it is showing result as true\n"
   ]
  },
  {
   "cell_type": "code",
   "execution_count": 189,
   "id": "114ea3ae-7f48-4dd9-bb37-14138d3b0ab3",
   "metadata": {},
   "outputs": [
    {
     "name": "stdout",
     "output_type": "stream",
     "text": [
      "False\n",
      "True\n",
      "False\n",
      "True\n",
      "False\n"
     ]
    }
   ],
   "source": [
    "#islower()-returns true if all thecharacters in the string are in the lowercase\n",
    "text=\"SrinijA\"\n",
    "print(text.islower())\n",
    "print(\"123a\".islower())#if numbers are also present in a lowercase then it will result as true\n",
    "print(\"123Bn\".islower())\n",
    "print(\"abc\".islower())\n",
    "print(\"123\".islower())#only numbers in the input string cannot be givesn as true"
   ]
  },
  {
   "cell_type": "code",
   "execution_count": 197,
   "id": "363f31ac-9dd4-4e97-b8e1-81ba863d622f",
   "metadata": {},
   "outputs": [
    {
     "name": "stdout",
     "output_type": "stream",
     "text": [
      "False\n",
      "True\n",
      "False\n",
      "True\n"
     ]
    }
   ],
   "source": [
    "#isupper()-returns true if all thecharacters in the string are in the uppercase\n",
    "text=\"SrinijA\"\n",
    "print(text.isupper())\n",
    "print(\"GAJU\".isupper())\n",
    "print(\"123\".isupper())#only numbers in the input string cannot be givesn as true\n",
    "print(\"123A\".isupper())\n"
   ]
  },
  {
   "cell_type": "code",
   "execution_count": 211,
   "id": "548962d4-e703-4c07-8528-6308a715ee83",
   "metadata": {},
   "outputs": [
    {
     "name": "stdout",
     "output_type": "stream",
     "text": [
      "s r i n i j a\n",
      "srinija gaju hello\n",
      "srinija@!gaju@!hello\n"
     ]
    }
   ],
   "source": [
    "#join()-converts the elemnets of an terable into string\n",
    "text=\"srinija\"\n",
    "print(\" \".join(text))\n",
    "print(\" \".join(['srinija','gaju','hello']))\n",
    "print(\"@!\".join(['srinija','gaju','hello']))"
   ]
  },
  {
   "cell_type": "code",
   "execution_count": 213,
   "id": "8d4f23fa-b635-4a73-b4f0-adc83c7d11fc",
   "metadata": {},
   "outputs": [
    {
     "name": "stdin",
     "output_type": "stream",
     "text": [
      "enter your surname: gaju\n",
      "enter your firstname: srinija\n",
      "enter your lastname: patel\n"
     ]
    },
    {
     "name": "stdout",
     "output_type": "stream",
     "text": [
      "gaju srinija patel\n"
     ]
    }
   ],
   "source": [
    "##example for join\n",
    "sur_name=input(\"enter your surname:\")\n",
    "first_name=input(\"enter your firstname:\")\n",
    "last_name=input(\"enter your lastname:\")\n",
    "print(\" \".join([sur_name,first_name,last_name]))\n",
    "\n"
   ]
  },
  {
   "cell_type": "code",
   "execution_count": 223,
   "id": "114cb56b-3359-4bac-8612-68fd75900ff2",
   "metadata": {},
   "outputs": [
    {
     "name": "stdout",
     "output_type": "stream",
     "text": [
      "srinija*******\n"
     ]
    }
   ],
   "source": [
    "#ljust-returns left justified version of the string\n",
    "text=\"srinija\"\n",
    "print(text.ljust(14,\"*\"))\n"
   ]
  },
  {
   "cell_type": "code",
   "execution_count": 225,
   "id": "d296fa7e-166b-4f90-9dba-1f15eb9573b2",
   "metadata": {},
   "outputs": [
    {
     "name": "stdout",
     "output_type": "stream",
     "text": [
      "*******srinija\n"
     ]
    }
   ],
   "source": [
    "#rjust-returns left justified version of the string\n",
    "text=\"srinija\"\n",
    "print(text.rjust(14,\"*\"))"
   ]
  },
  {
   "cell_type": "code",
   "execution_count": 241,
   "id": "e454171e-077f-4194-8697-2c8c195ff2af",
   "metadata": {},
   "outputs": [
    {
     "data": {
      "text/plain": [
       "'hello Good morning     '"
      ]
     },
     "execution_count": 241,
     "metadata": {},
     "output_type": "execute_result"
    }
   ],
   "source": [
    "#lstrip()-removes spaces at left side \n",
    "\"      hello Good morning     \".lstrip()"
   ]
  },
  {
   "cell_type": "code",
   "execution_count": 247,
   "id": "ab95cd62-90cc-4b70-b963-235a8ccb92d2",
   "metadata": {},
   "outputs": [
    {
     "name": "stdout",
     "output_type": "stream",
     "text": [
      "      hello Good morning\n",
      "      Hello\n"
     ]
    }
   ],
   "source": [
    "#rstrip()-removes spaces at right side \n",
    "print(\"      hello Good morning     \".rstrip())\n",
    "a=\"      Hello    \"\n",
    "print(a.rstrip())"
   ]
  },
  {
   "cell_type": "code",
   "execution_count": 255,
   "id": "530f32a3-7505-41b6-a4ff-c6ffbb1a70a6",
   "metadata": {},
   "outputs": [
    {
     "name": "stdout",
     "output_type": "stream",
     "text": [
      "I earn 2000 per month\n",
      "my salary is one lakh\n"
     ]
    }
   ],
   "source": [
    "#replace()-returns a string where a specified value is replaced with specified value\n",
    "print(\"I earn 2k per month\".replace(\"2k\",\"2000\"))\n",
    "a=\"my salary is 1 lakh\"\n",
    "print(a.replace(\"1\",\"one\"))"
   ]
  },
  {
   "cell_type": "code",
   "execution_count": 265,
   "id": "f7ac6685-08cd-4fc6-8a90-7a0feba4a554",
   "metadata": {},
   "outputs": [
    {
     "name": "stdout",
     "output_type": "stream",
     "text": [
      "14\n",
      "4\n"
     ]
    }
   ],
   "source": [
    "#rfind()-searches for the string for a specified value and returns the last position of whwre it was found\n",
    "print(\"Apple is red red\".rfind(\"e\"))#gives the index of first specified character from the last\n",
    "print(\"Apple is red\".index(\"e\"))#gives the index of first specified character from the last\n"
   ]
  },
  {
   "cell_type": "code",
   "execution_count": 271,
   "id": "d3fee46c-211a-4233-9f4f-8d83df6de9a3",
   "metadata": {},
   "outputs": [
    {
     "name": "stdout",
     "output_type": "stream",
     "text": [
      "('Apple is red r', 'e', 'd')\n",
      "('moye moye ', '$', ' datascience')\n"
     ]
    }
   ],
   "source": [
    "#rpartition()-returns a tuple where string is divided into 3 parts\n",
    "print(\"Apple is red red\".rpartition(\"e\"))\n",
    "text=\"moye moye $ datascience\".rpartition('$')\n",
    "print(text)\n",
    "\n"
   ]
  },
  {
   "cell_type": "code",
   "execution_count": 285,
   "id": "957b159a-925f-4920-abbf-6f403dd00084",
   "metadata": {},
   "outputs": [
    {
     "name": "stdout",
     "output_type": "stream",
     "text": [
      "['hello', 'world']\n",
      "['hello', 'iam', 'srinija']\n",
      "['hello iam srinija']\n"
     ]
    }
   ],
   "source": [
    "#split()-split the string at the specified at the specified operator and returns a list\n",
    "print(\"hello world\".split())\n",
    "a=\"hello iam srinija\"\n",
    "print(a.split(\" \"))\n",
    "print(a.split(\"/\"))#/ is not found in the string so it will give as single elment\n"
   ]
  },
  {
   "cell_type": "code",
   "execution_count": 289,
   "id": "ddeede5f-a306-4601-b202-05dd97493d8a",
   "metadata": {},
   "outputs": [
    {
     "name": "stdout",
     "output_type": "stream",
     "text": [
      "000000000hello world\n"
     ]
    }
   ],
   "source": [
    "#zill()-fill the string with a specified no. of 0 values at the following\n",
    "print(\"hello world\".zfill(20))"
   ]
  },
  {
   "cell_type": "code",
   "execution_count": null,
   "id": "295cd35a-07e0-4a7e-82a0-40e9dd17f939",
   "metadata": {},
   "outputs": [],
   "source": []
  }
 ],
 "metadata": {
  "kernelspec": {
   "display_name": "Python 3 (ipykernel)",
   "language": "python",
   "name": "python3"
  },
  "language_info": {
   "codemirror_mode": {
    "name": "ipython",
    "version": 3
   },
   "file_extension": ".py",
   "mimetype": "text/x-python",
   "name": "python",
   "nbconvert_exporter": "python",
   "pygments_lexer": "ipython3",
   "version": "3.12.4"
  }
 },
 "nbformat": 4,
 "nbformat_minor": 5
}
