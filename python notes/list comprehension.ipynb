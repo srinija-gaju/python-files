{
 "cells": [
  {
   "cell_type": "markdown",
   "id": "3adc09b3-8f9d-4bbe-94d7-255bf61bdca6",
   "metadata": {},
   "source": [
    "# List comprehension"
   ]
  },
  {
   "cell_type": "code",
   "execution_count": 1,
   "id": "c7dd819a-e93c-4c7e-b518-617d8bfb64f3",
   "metadata": {},
   "outputs": [
    {
     "data": {
      "text/plain": [
       "[0, 1, 2, 3, 4, 5, 6, 7, 8, 9]"
      ]
     },
     "execution_count": 1,
     "metadata": {},
     "output_type": "execute_result"
    }
   ],
   "source": [
    "[x for x in range(10)]"
   ]
  },
  {
   "cell_type": "code",
   "execution_count": 1,
   "id": "0593e45b-2269-42b0-854f-6be1ee876a49",
   "metadata": {},
   "outputs": [
    {
     "data": {
      "text/plain": [
       "[0, 5, 10, 15, 20, 25, 30, 35, 40, 45, 50, 55, 60, 65, 70, 75, 80, 85, 90, 95]"
      ]
     },
     "execution_count": 1,
     "metadata": {},
     "output_type": "execute_result"
    }
   ],
   "source": [
    "[x*5 for x in range(20)]"
   ]
  },
  {
   "cell_type": "code",
   "execution_count": 5,
   "id": "e94929d5-07de-4486-82ea-c048a4cd9958",
   "metadata": {},
   "outputs": [
    {
     "data": {
      "text/plain": [
       "[1, 3, 5, 7, 9, 11, 13, 15, 17, 19]"
      ]
     },
     "execution_count": 5,
     "metadata": {},
     "output_type": "execute_result"
    }
   ],
   "source": [
    "[x for x in range(1,20,2)]"
   ]
  },
  {
   "cell_type": "code",
   "execution_count": 7,
   "id": "1436d847-804e-48fa-a2d6-148c218f5643",
   "metadata": {},
   "outputs": [
    {
     "data": {
      "text/plain": [
       "[30, 33, 36, 39, 42]"
      ]
     },
     "execution_count": 7,
     "metadata": {},
     "output_type": "execute_result"
    }
   ],
   "source": [
    "[x for x in range(30,45,3)]"
   ]
  },
  {
   "cell_type": "code",
   "execution_count": 11,
   "id": "978365eb-fd44-49ed-9878-e70e72e956f4",
   "metadata": {},
   "outputs": [
    {
     "data": {
      "text/plain": [
       "[90, 85, 80, 75, 70, 65]"
      ]
     },
     "execution_count": 11,
     "metadata": {},
     "output_type": "execute_result"
    }
   ],
   "source": [
    "[x for x in range(90,60,-5)]"
   ]
  },
  {
   "cell_type": "code",
   "execution_count": 18,
   "id": "508fd173-a882-4d7f-a11e-49cd346bb9ed",
   "metadata": {},
   "outputs": [
    {
     "data": {
      "text/plain": [
       "[2, 4, 6, 8, 10, 12, 14, 16, 18]"
      ]
     },
     "execution_count": 18,
     "metadata": {},
     "output_type": "execute_result"
    }
   ],
   "source": [
    "[x for x in range(1,20) if x%2==0]"
   ]
  },
  {
   "cell_type": "code",
   "execution_count": 20,
   "id": "6de35aef-ba80-425e-bda4-8952fff95a38",
   "metadata": {},
   "outputs": [
    {
     "name": "stdout",
     "output_type": "stream",
     "text": [
      "[2, 4, 6, 8, 10, 12, 14, 16, 18]\n"
     ]
    }
   ],
   "source": [
    "F=[x for x in range(1,20) if x%2==0]\n",
    "print(F)"
   ]
  },
  {
   "cell_type": "code",
   "execution_count": 22,
   "id": "04196bf7-5d76-4035-a5c7-736b74446648",
   "metadata": {},
   "outputs": [
    {
     "data": {
      "text/plain": [
       "['welcome', 'to', 'innomatics']"
      ]
     },
     "execution_count": 22,
     "metadata": {},
     "output_type": "execute_result"
    }
   ],
   "source": [
    "[x for x in \"welcome to innomatics\".split(\" \")]"
   ]
  },
  {
   "cell_type": "code",
   "execution_count": 30,
   "id": "12bec0cc-2e8d-4e11-953d-9e0c02e43ae3",
   "metadata": {},
   "outputs": [
    {
     "data": {
      "text/plain": [
       "['welcome', 'to', 'innnnnnnomatics']"
      ]
     },
     "execution_count": 30,
     "metadata": {},
     "output_type": "execute_result"
    }
   ],
   "source": [
    "[x for x in \"welcome to INNNNNnnomatics\".lower().split(\" \")]"
   ]
  },
  {
   "cell_type": "code",
   "execution_count": 38,
   "id": "4693ba58-92d9-4aa9-b06e-0ca0c2bfb06e",
   "metadata": {},
   "outputs": [
    {
     "data": {
      "text/plain": [
       "['scitamonnnnnnni', 'ot', 'emoclew']"
      ]
     },
     "execution_count": 38,
     "metadata": {},
     "output_type": "execute_result"
    }
   ],
   "source": [
    "[x for x in \"welcome to INNNNNnnomatics\"[::-1].lower().split(\" \")]"
   ]
  },
  {
   "cell_type": "code",
   "execution_count": 46,
   "id": "29dedc71-e752-433a-8d05-961b344057b6",
   "metadata": {},
   "outputs": [
    {
     "data": {
      "text/plain": [
       "['welcome', 'four', 'innomatics']"
      ]
     },
     "execution_count": 46,
     "metadata": {},
     "output_type": "execute_result"
    }
   ],
   "source": [
    "[x for x in \"welcome to wel four innomatics\".split(\" \") if len(x)>3]"
   ]
  },
  {
   "cell_type": "code",
   "execution_count": 52,
   "id": "9c5f7d26-4281-47f5-875d-9252a04b9b21",
   "metadata": {},
   "outputs": [
    {
     "data": {
      "text/plain": [
       "['welcome', 'to', 'four', 'innomatics']"
      ]
     },
     "execution_count": 52,
     "metadata": {},
     "output_type": "execute_result"
    }
   ],
   "source": [
    "[x for x in \"welcome to wel four innomatics\".split(\" \") if len(x)>3 or len(x)<3]"
   ]
  },
  {
   "cell_type": "code",
   "execution_count": 54,
   "id": "cb560240-7c98-4c12-87b2-6e41fab30e7b",
   "metadata": {},
   "outputs": [
    {
     "data": {
      "text/plain": [
       "['welcome', 'to', 'innnnnnnomatics']"
      ]
     },
     "execution_count": 54,
     "metadata": {},
     "output_type": "execute_result"
    }
   ],
   "source": [
    "[x.lower() for x in \"welcome to INNNNNnnomatics\".split(\" \")]"
   ]
  },
  {
   "cell_type": "code",
   "execution_count": 20,
   "id": "434693b4-8670-4bb3-bd1a-a64c293f87ac",
   "metadata": {},
   "outputs": [
    {
     "data": {
      "text/plain": [
       "{2: 'even', 4: 'even', 6: 'even', 8: 'even', 10: 'even'}"
      ]
     },
     "execution_count": 20,
     "metadata": {},
     "output_type": "execute_result"
    }
   ],
   "source": [
    "{i:\"even\" for i in range(1,11) if i%2==0}"
   ]
  },
  {
   "cell_type": "code",
   "execution_count": 26,
   "id": "0707518b-bdc6-4384-93cb-7a1ac4e9cdfc",
   "metadata": {},
   "outputs": [
    {
     "data": {
      "text/plain": [
       "['B', 'C']"
      ]
     },
     "execution_count": 26,
     "metadata": {},
     "output_type": "execute_result"
    }
   ],
   "source": [
    "lst=[\"A\",\"B\",\"C\"]\n",
    "[x for x in lst if x != 'A']"
   ]
  },
  {
   "cell_type": "code",
   "execution_count": 32,
   "id": "e85cf96a-aca1-4e0b-877d-14a33845db50",
   "metadata": {},
   "outputs": [
    {
     "data": {
      "text/plain": [
       "['C', 'D']"
      ]
     },
     "execution_count": 32,
     "metadata": {},
     "output_type": "execute_result"
    }
   ],
   "source": [
    "list = ['A','B','C', 'D']\n",
    "not_allowed = ['A', 'B']\n",
    "[x for x in list if x not in not_allowed]"
   ]
  },
  {
   "cell_type": "code",
   "execution_count": 25,
   "id": "756a1d6b-df74-42f1-a352-8f436900d38d",
   "metadata": {},
   "outputs": [
    {
     "data": {
      "text/plain": [
       "['SRINIJAhi']"
      ]
     },
     "execution_count": 25,
     "metadata": {},
     "output_type": "execute_result"
    }
   ],
   "source": [
    "[x.upper()+\"hi\" for x in ['srinija']]"
   ]
  },
  {
   "cell_type": "code",
   "execution_count": 104,
   "id": "54a89e74-3bbb-4328-b0ea-c731c6b22fb9",
   "metadata": {},
   "outputs": [
    {
     "name": "stdout",
     "output_type": "stream",
     "text": [
      "[72, 132, 192]\n"
     ]
    }
   ],
   "source": [
    "nums=[12,22,32]\n",
    "def mul(nums):\n",
    "    return nums*6\n",
    "result=[mul(i) for i in nums]\n",
    "print(result)\n"
   ]
  },
  {
   "cell_type": "code",
   "execution_count": 90,
   "id": "882e794e-5c8b-44f7-afc1-27502a6db884",
   "metadata": {},
   "outputs": [
    {
     "data": {
      "text/plain": [
       "['name', 'batch']"
      ]
     },
     "execution_count": 90,
     "metadata": {},
     "output_type": "execute_result"
    }
   ],
   "source": [
    "dicts={'name':\"srinija\",'batch':\"321\"}\n",
    "res=[i for i in dicts]\n",
    "res"
   ]
  },
  {
   "cell_type": "code",
   "execution_count": 102,
   "id": "7702e9bc-627d-44f2-bbf5-13e379d182c5",
   "metadata": {},
   "outputs": [
    {
     "ename": "SyntaxError",
     "evalue": "invalid syntax (2854717795.py, line 1)",
     "output_type": "error",
     "traceback": [
      "\u001b[1;36m  Cell \u001b[1;32mIn[102], line 1\u001b[1;36m\u001b[0m\n\u001b[1;33m    dicts={['name':\"srinija\"]['batch':\"321\"]}\u001b[0m\n\u001b[1;37m                  ^\u001b[0m\n\u001b[1;31mSyntaxError\u001b[0m\u001b[1;31m:\u001b[0m invalid syntax\n"
     ]
    }
   ],
   "source": []
  },
  {
   "cell_type": "markdown",
   "id": "7569ab43-df8b-4098-9463-e9658cf94718",
   "metadata": {},
   "source": [
    "# lamda functions\n",
    "\n",
    "**syntax:function_name=lambda inputs:expression**"
   ]
  },
  {
   "cell_type": "code",
   "execution_count": 6,
   "id": "25b69a68-11c0-4979-a51b-a016ff9076ae",
   "metadata": {},
   "outputs": [
    {
     "data": {
      "text/plain": [
       "6"
      ]
     },
     "execution_count": 6,
     "metadata": {},
     "output_type": "execute_result"
    }
   ],
   "source": [
    "mul=lambda x:x*2\n",
    "mul(3)"
   ]
  },
  {
   "cell_type": "code",
   "execution_count": 8,
   "id": "97538885-db12-45a1-8eeb-fedc7f748ba2",
   "metadata": {},
   "outputs": [
    {
     "data": {
      "text/plain": [
       "7"
      ]
     },
     "execution_count": 8,
     "metadata": {},
     "output_type": "execute_result"
    }
   ],
   "source": [
    "mul=lambda x,y:x+y\n",
    "mul(3,4)"
   ]
  },
  {
   "cell_type": "code",
   "execution_count": 18,
   "id": "7b3acb52-b50b-40d4-a1e9-64435c25c309",
   "metadata": {},
   "outputs": [
    {
     "name": "stdout",
     "output_type": "stream",
     "text": [
      "set()\n"
     ]
    },
    {
     "data": {
      "text/plain": [
       "set"
      ]
     },
     "execution_count": 18,
     "metadata": {},
     "output_type": "execute_result"
    }
   ],
   "source": [
    "i"
   ]
  },
  {
   "cell_type": "code",
   "execution_count": null,
   "id": "a97ceda9-f4ac-44a1-b92f-e8baa6b59d6e",
   "metadata": {},
   "outputs": [],
   "source": []
  }
 ],
 "metadata": {
  "kernelspec": {
   "display_name": "Python 3 (ipykernel)",
   "language": "python",
   "name": "python3"
  },
  "language_info": {
   "codemirror_mode": {
    "name": "ipython",
    "version": 3
   },
   "file_extension": ".py",
   "mimetype": "text/x-python",
   "name": "python",
   "nbconvert_exporter": "python",
   "pygments_lexer": "ipython3",
   "version": "3.12.4"
  }
 },
 "nbformat": 4,
 "nbformat_minor": 5
}
