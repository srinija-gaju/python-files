{
 "cells": [
  {
   "cell_type": "markdown",
   "id": "0843f97e-832a-4ecc-9165-23f6a21b6842",
   "metadata": {},
   "source": [
    "# Dictionary\n",
    "###### word and its meaning"
   ]
  },
  {
   "cell_type": "code",
   "execution_count": 7,
   "id": "9d28cf2b-cbd5-40c7-8892-f6a15dc6a329",
   "metadata": {},
   "outputs": [
    {
     "name": "stdout",
     "output_type": "stream",
     "text": [
      "srinija\n",
      "21\n",
      "90\n"
     ]
    }
   ],
   "source": [
    "my_dict={\"name\":\"srinija\",\"age\":21,\"weight\":90}\n",
    "print(my_dict[\"name\"])\n",
    "print(my_dict[\"age\"])\n",
    "print(my_dict[\"weight\"])"
   ]
  },
  {
   "cell_type": "code",
   "execution_count": 15,
   "id": "d8fd5d49-2cb5-4880-9066-a4ac4c5b7acd",
   "metadata": {},
   "outputs": [
    {
     "data": {
      "text/plain": [
       "dict_keys(['name', 'age', 'weight'])"
      ]
     },
     "execution_count": 15,
     "metadata": {},
     "output_type": "execute_result"
    }
   ],
   "source": [
    "my_dict.keys()\n"
   ]
  },
  {
   "cell_type": "code",
   "execution_count": 19,
   "id": "557dacf9-3787-4c5b-af86-73bd11f44cf0",
   "metadata": {},
   "outputs": [
    {
     "data": {
      "text/plain": [
       "dict_values(['srinija', 21, 90])"
      ]
     },
     "execution_count": 19,
     "metadata": {},
     "output_type": "execute_result"
    }
   ],
   "source": [
    "my_dict.values()"
   ]
  },
  {
   "cell_type": "code",
   "execution_count": 21,
   "id": "ae5b4d14-eb23-4b60-bddf-ea69360231eb",
   "metadata": {},
   "outputs": [
    {
     "name": "stdout",
     "output_type": "stream",
     "text": [
      "dict_keys(['name', 'age', 'weight'])\n",
      "dict_values(['srinija', 21, 90])\n"
     ]
    }
   ],
   "source": [
    "my_dictionary={\"maths\":99,\"science\":98,\"social\":97}\n",
    "print(my_dict.keys())\n",
    "print(my_dict.values())"
   ]
  },
  {
   "cell_type": "code",
   "execution_count": 23,
   "id": "94d1c796-27ea-460d-a9f9-a26502e7c9bc",
   "metadata": {},
   "outputs": [
    {
     "name": "stdout",
     "output_type": "stream",
     "text": [
      "99\n",
      "98\n",
      "97\n"
     ]
    }
   ],
   "source": [
    "my_dictionary={\"maths\":99,\"science\":98,\"social\":97}\n",
    "for every_datapoint in my_dictionary.keys():\n",
    "    print(my_dictionary[every_datapoint])"
   ]
  },
  {
   "cell_type": "code",
   "execution_count": 150,
   "id": "d4c548c6-13df-4767-acd6-dfa1dc6b5aad",
   "metadata": {},
   "outputs": [
    {
     "name": "stdout",
     "output_type": "stream",
     "text": [
      "119\n",
      "118\n",
      "117\n"
     ]
    }
   ],
   "source": [
    "my_dictionary={\"maths\":99,\"science\":98,\"social\":97}\n",
    "for every_datapoint in my_dictionary.keys():\n",
    "    res = my_dictionary[every_datapoint]+20\n",
    "    #res +=20\n",
    "    print(res)\n",
    "       # print(my_dictionary[every_datapoint])"
   ]
  },
  {
   "cell_type": "code",
   "execution_count": 94,
   "id": "7968e756-3ea2-4c16-8af1-d24d753c8ecc",
   "metadata": {},
   "outputs": [
    {
     "data": {
      "text/plain": [
       "294"
      ]
     },
     "execution_count": 94,
     "metadata": {},
     "output_type": "execute_result"
    }
   ],
   "source": [
    "sum(my_dictionary.values())"
   ]
  },
  {
   "cell_type": "code",
   "execution_count": 96,
   "id": "c9e81ef6-37c6-4265-84ab-379a4393cc22",
   "metadata": {},
   "outputs": [
    {
     "data": {
      "text/plain": [
       "3"
      ]
     },
     "execution_count": 96,
     "metadata": {},
     "output_type": "execute_result"
    }
   ],
   "source": [
    "len(my_dictionary.values())"
   ]
  },
  {
   "cell_type": "code",
   "execution_count": 100,
   "id": "c35b458a-127b-49f2-96be-ea09e87e17a2",
   "metadata": {},
   "outputs": [
    {
     "name": "stdout",
     "output_type": "stream",
     "text": [
      "98.0\n"
     ]
    }
   ],
   "source": [
    "avg=sum(my_dictionary.values())/len(my_dictionary.values())\n",
    "print(avg)"
   ]
  },
  {
   "cell_type": "code",
   "execution_count": 102,
   "id": "37df6411-439d-4855-925e-f587cb3b667d",
   "metadata": {},
   "outputs": [
    {
     "data": {
      "text/plain": [
       "{'maths': 99, 'science': 98, 'social': 97, 'average': 98.0}"
      ]
     },
     "execution_count": 102,
     "metadata": {},
     "output_type": "execute_result"
    }
   ],
   "source": [
    "#it adds the updated  values to the string\n",
    "my_dictionary[\"average\"]=avg\n",
    "my_dictionary"
   ]
  },
  {
   "cell_type": "code",
   "execution_count": 110,
   "id": "3a9cccb7-94bd-4c78-a951-cc6d1facb2d8",
   "metadata": {},
   "outputs": [
    {
     "name": "stdout",
     "output_type": "stream",
     "text": [
      "{'maths': [45, 80], 'science': [54, 32]}\n",
      "dict_keys(['maths', 'science'])\n",
      "dict_values([[45, 80], [54, 32]])\n"
     ]
    }
   ],
   "source": [
    "my_dict={\"maths\":[45,80],\"science\":[54,32]}\n",
    "print(my_dict)\n",
    "print(my_dict.keys())\n",
    "print(my_dict.values())"
   ]
  },
  {
   "cell_type": "code",
   "execution_count": 124,
   "id": "5e368aea-3cd2-481d-9090-14eac18d193a",
   "metadata": {},
   "outputs": [],
   "source": [
    "v = 2"
   ]
  },
  {
   "cell_type": "code",
   "execution_count": 126,
   "id": "a63f9470-cf2b-48c2-a189-9f5261377448",
   "metadata": {},
   "outputs": [],
   "source": [
    "v+=2"
   ]
  },
  {
   "cell_type": "code",
   "execution_count": 136,
   "id": "5ce4906c-b2d9-4398-8993-bfb3b9e8ce71",
   "metadata": {},
   "outputs": [],
   "source": [
    "v =98\n",
    "v+=20"
   ]
  },
  {
   "cell_type": "code",
   "execution_count": 138,
   "id": "c90ca307-ddeb-418b-8cff-0159c4c3f42e",
   "metadata": {},
   "outputs": [
    {
     "data": {
      "text/plain": [
       "118"
      ]
     },
     "execution_count": 138,
     "metadata": {},
     "output_type": "execute_result"
    }
   ],
   "source": [
    "v"
   ]
  },
  {
   "cell_type": "code",
   "execution_count": 144,
   "id": "394c91d7-255b-45fe-a0be-8e216ec029fb",
   "metadata": {},
   "outputs": [],
   "source": [
    "res = 20\n",
    "res+=4"
   ]
  },
  {
   "cell_type": "code",
   "execution_count": 146,
   "id": "e845b244-4454-4904-931a-686c66ce441d",
   "metadata": {},
   "outputs": [
    {
     "data": {
      "text/plain": [
       "24"
      ]
     },
     "execution_count": 146,
     "metadata": {},
     "output_type": "execute_result"
    }
   ],
   "source": [
    "res"
   ]
  },
  {
   "cell_type": "code",
   "execution_count": null,
   "id": "b959d5b2-9c08-4e8e-ba2d-428fae23aaf3",
   "metadata": {},
   "outputs": [],
   "source": [
    "  setdefault(self, key, default=None, /)"
   ]
  },
  {
   "cell_type": "code",
   "execution_count": 62,
   "id": "48e280ee-f524-4017-a17b-ab9c050e945c",
   "metadata": {},
   "outputs": [
    {
     "name": "stdout",
     "output_type": "stream",
     "text": [
      "Help on dict object:\n",
      "\n",
      "class dict(object)\n",
      " |  dict() -> new empty dictionary\n",
      " |  dict(mapping) -> new dictionary initialized from a mapping object's\n",
      " |      (key, value) pairs\n",
      " |  dict(iterable) -> new dictionary initialized as if via:\n",
      " |      d = {}\n",
      " |      for k, v in iterable:\n",
      " |          d[k] = v\n",
      " |  dict(**kwargs) -> new dictionary initialized with the name=value pairs\n",
      " |      in the keyword argument list.  For example:  dict(one=1, two=2)\n",
      " |\n",
      " |  Built-in subclasses:\n",
      " |      StgDict\n",
      " |\n",
      " |  Methods defined here:\n",
      " |\n",
      " |  __contains__(self, key, /)\n",
      " |      True if the dictionary has the specified key, else False.\n",
      " |\n",
      " |  __delitem__(self, key, /)\n",
      " |      Delete self[key].\n",
      " |\n",
      " |  __eq__(self, value, /)\n",
      " |      Return self==value.\n",
      " |\n",
      " |  __ge__(self, value, /)\n",
      " |      Return self>=value.\n",
      " |\n",
      " |  __getattribute__(self, name, /)\n",
      " |      Return getattr(self, name).\n",
      " |\n",
      " |  __getitem__(self, key, /)\n",
      " |      Return self[key].\n",
      " |\n",
      " |  __gt__(self, value, /)\n",
      " |      Return self>value.\n",
      " |\n",
      " |  __init__(self, /, *args, **kwargs)\n",
      " |      Initialize self.  See help(type(self)) for accurate signature.\n",
      " |\n",
      " |  __ior__(self, value, /)\n",
      " |      Return self|=value.\n",
      " |\n",
      " |  __iter__(self, /)\n",
      " |      Implement iter(self).\n",
      " |\n",
      " |  __le__(self, value, /)\n",
      " |      Return self<=value.\n",
      " |\n",
      " |  __len__(self, /)\n",
      " |      Return len(self).\n",
      " |\n",
      " |  __lt__(self, value, /)\n",
      " |      Return self<value.\n",
      " |\n",
      " |  __ne__(self, value, /)\n",
      " |      Return self!=value.\n",
      " |\n",
      " |  __or__(self, value, /)\n",
      " |      Return self|value.\n",
      " |\n",
      " |  __repr__(self, /)\n",
      " |      Return repr(self).\n",
      " |\n",
      " |  __reversed__(self, /)\n",
      " |      Return a reverse iterator over the dict keys.\n",
      " |\n",
      " |  __ror__(self, value, /)\n",
      " |      Return value|self.\n",
      " |\n",
      " |  __setitem__(self, key, value, /)\n",
      " |      Set self[key] to value.\n",
      " |\n",
      " |  __sizeof__(...)\n",
      " |      D.__sizeof__() -> size of D in memory, in bytes\n",
      " |\n",
      " |  clear(...)\n",
      " |      D.clear() -> None.  Remove all items from D.\n",
      " |\n",
      " |  copy(...)\n",
      " |      D.copy() -> a shallow copy of D\n",
      " |\n",
      " |  get(self, key, default=None, /)\n",
      " |      Return the value for key if key is in the dictionary, else default.\n",
      " |\n",
      " |  items(...)\n",
      " |      D.items() -> a set-like object providing a view on D's items\n",
      " |\n",
      " |  keys(...)\n",
      " |      D.keys() -> a set-like object providing a view on D's keys\n",
      " |\n",
      " |  pop(...)\n",
      " |      D.pop(k[,d]) -> v, remove specified key and return the corresponding value.\n",
      " |\n",
      " |      If the key is not found, return the default if given; otherwise,\n",
      " |      raise a KeyError.\n",
      " |\n",
      " |  popitem(self, /)\n",
      " |      Remove and return a (key, value) pair as a 2-tuple.\n",
      " |\n",
      " |      Pairs are returned in LIFO (last-in, first-out) order.\n",
      " |      Raises KeyError if the dict is empty.\n",
      " |\n",
      " |  setdefault(self, key, default=None, /)\n",
      " |      Insert key with a value of default if key is not in the dictionary.\n",
      " |\n",
      " |      Return the value for key if key is in the dictionary, else default.\n",
      " |\n",
      " |  update(...)\n",
      " |      D.update([E, ]**F) -> None.  Update D from dict/iterable E and F.\n",
      " |      If E is present and has a .keys() method, then does:  for k in E: D[k] = E[k]\n",
      " |      If E is present and lacks a .keys() method, then does:  for k, v in E: D[k] = v\n",
      " |      In either case, this is followed by: for k in F:  D[k] = F[k]\n",
      " |\n",
      " |  values(...)\n",
      " |      D.values() -> an object providing a view on D's values\n",
      " |\n",
      " |  ----------------------------------------------------------------------\n",
      " |  Class methods defined here:\n",
      " |\n",
      " |  __class_getitem__(...)\n",
      " |      See PEP 585\n",
      " |\n",
      " |  fromkeys(iterable, value=None, /)\n",
      " |      Create a new dictionary with keys from iterable and values set to value.\n",
      " |\n",
      " |  ----------------------------------------------------------------------\n",
      " |  Static methods defined here:\n",
      " |\n",
      " |  __new__(*args, **kwargs)\n",
      " |      Create and return a new object.  See help(type) for accurate signature.\n",
      " |\n",
      " |  ----------------------------------------------------------------------\n",
      " |  Data and other attributes defined here:\n",
      " |\n",
      " |  __hash__ = None\n",
      "\n"
     ]
    }
   ],
   "source": [
    "\n",
    "help(dict)"
   ]
  },
  {
   "cell_type": "markdown",
   "id": "0820cadb-37fc-41f2-8f5d-4c4b40dea70c",
   "metadata": {},
   "source": [
    "# properties"
   ]
  },
  {
   "cell_type": "code",
   "execution_count": 71,
   "id": "2722538b-3f5e-43c2-b164-40d93e2ebcc4",
   "metadata": {},
   "outputs": [],
   "source": [
    "#1.allows different datatypes\n",
    "dict={\"name\":\"srinija\",\"age\":21,\"graduated\":True,\"cgpa\":7.6}"
   ]
  },
  {
   "cell_type": "code",
   "execution_count": 77,
   "id": "9ff9a4e4-c689-438b-80e6-11a770004b8d",
   "metadata": {},
   "outputs": [
    {
     "name": "stdout",
     "output_type": "stream",
     "text": [
      "{'name': 'srinija gaju', 'age': 21, 'graduated': True, 'cgpa': 7.6}\n"
     ]
    }
   ],
   "source": [
    "#2.not ordered and mutable\n",
    "dict={\"name\":\"srinija\",\"age\":21,\"graduated\":True,\"cgpa\":7.6}\n",
    "dict[\"name\"]=\"srinija gaju\"\n",
    "print(dict)\n"
   ]
  },
  {
   "cell_type": "code",
   "execution_count": 97,
   "id": "6eab422a-1768-46ff-8573-ea255371ce8e",
   "metadata": {},
   "outputs": [
    {
     "name": "stdout",
     "output_type": "stream",
     "text": [
      "{'name': 'gajusrinija ', 'age': 21, 'graduated': True, 'cgpa': 7.6}\n"
     ]
    }
   ],
   "source": [
    "#3.it does not allow duplicates\n",
    "dict={\"name\":\"srinija\",\"name\":\"gajusrinijarr \",\"age\":21,\"graduated\":True,\"cgpa\":7.6,\"name\":\"gajusrinija \"}#it takes last input from the dictionart\n",
    "print(dict)\n",
    "\n"
   ]
  },
  {
   "cell_type": "code",
   "execution_count": 113,
   "id": "cbac4388-55a4-4e91-9442-20610e6392dd",
   "metadata": {},
   "outputs": [
    {
     "name": "stdout",
     "output_type": "stream",
     "text": [
      "[12, 34, 16]\n",
      "['a', 'b', 'c']\n",
      "['female', 'male', 'female']\n",
      "dict_keys(['names', 'age', 'gender'])\n",
      "dict_values([['a', 'b', 'c'], [12, 34, 16], ['female', 'male', 'female']])\n"
     ]
    }
   ],
   "source": [
    "#we take list in dictionary because list is mutable \n",
    "my_dict={\"names\":[\"a\",\"b\",\"c\"],\"age\":[12,34,16],\"gender\":[\"female\",\"male\",\"female\"]}\n",
    "print(my_dict[\"age\"])\n",
    "print(my_dict[\"names\"])\n",
    "print(my_dict[\"gender\"])\n",
    "print(my_dict.keys())\n",
    "print(my_dict.values())"
   ]
  },
  {
   "cell_type": "code",
   "execution_count": 117,
   "id": "925459a7-0cf6-4bc3-978b-a0c15a06f539",
   "metadata": {},
   "outputs": [
    {
     "name": "stdin",
     "output_type": "stream",
     "text": [
      "enter your name: srinija\n",
      "enter your age: 21\n",
      "enter your gender: female\n"
     ]
    },
    {
     "name": "stdout",
     "output_type": "stream",
     "text": [
      "age is entered wrong you have to update it by +2\n",
      "{'name': 'srinija', 'age': 23, 'gender': 'female'}\n"
     ]
    }
   ],
   "source": [
    "#task1 in class\n",
    "name=input(\"enter your name:\")\n",
    "age=int(input(\"enter your age:\"))\n",
    "gender=input(\"enter your gender:\")\n",
    "my_dict={\"name\":name,\"age\":age,\"gender\":gender}\n",
    "print(\"age is entered wrong you have to update it by +2\")\n",
    "my_dict[\"age\"]+=2\n",
    "print(my_dict)\n",
    "\n"
   ]
  },
  {
   "cell_type": "code",
   "execution_count": 71,
   "id": "a5dbd77c-901a-400c-82fe-28aa1ef851e3",
   "metadata": {},
   "outputs": [
    {
     "name": "stdout",
     "output_type": "stream",
     "text": [
      "{'name': ['srinija', 'gaju'], 'age': [26, 21, 50], 'gender': ['female', 'male'], 'average': 32}\n"
     ]
    }
   ],
   "source": [
    "#task2 in class\n",
    "dict={\"name\":[\"srinija\",\"gaju\"],\"age\":[21,23,25],\"gender\":[\"female\",\"male\"]}\n",
    "dict[\"age\"][0]+=5 #add age to 5\n",
    "dict[\"age\"][1]-=2 #sub 2 \n",
    "dict[\"age\"][2]*=2 #mul 2\n",
    "sum(dict[\"age\"])\n",
    "len(dict[\"age\"])\n",
    "\n",
    "avg=round(sum(dict[\"age\"])/len(dict[\"age\"]))\n",
    "\n",
    "dict[\"average\"]=avg\n",
    "print(dict)\n",
    "\n",
    "\n",
    "\n"
   ]
  },
  {
   "cell_type": "markdown",
   "id": "eedda092-a25e-489f-b47c-f06dde7693e9",
   "metadata": {},
   "source": [
    "# methods"
   ]
  },
  {
   "cell_type": "code",
   "execution_count": 128,
   "id": "d5dccfea-3954-428b-8b7d-de283acfa706",
   "metadata": {},
   "outputs": [
    {
     "name": "stdout",
     "output_type": "stream",
     "text": [
      "{}\n"
     ]
    }
   ],
   "source": [
    "#1.clear()-empty all the key and values\n",
    "dict={\"name\":[\"srinija\",\"gaju\"],\"age\":[21,23,25],\"gender\":[\"female\",\"male\"]}\n",
    "dict.clear()\n",
    "print(dict)"
   ]
  },
  {
   "cell_type": "code",
   "execution_count": 136,
   "id": "967426a4-e49b-41e4-b674-1f8a9178d90d",
   "metadata": {},
   "outputs": [
    {
     "data": {
      "text/plain": [
       "dict_items([('name', ['srinija', 'gaju']), ('age', [21, 23, 25]), ('gender', ['female', 'male'])])"
      ]
     },
     "execution_count": 136,
     "metadata": {},
     "output_type": "execute_result"
    }
   ],
   "source": [
    "#2.items,get,pop,popitem,update\n",
    "dict={\"name\":[\"srinija\",\"gaju\"],\"age\":[21,23,25],\"gender\":[\"female\",\"male\"]}\n",
    "dict.items()\n",
    "\n"
   ]
  },
  {
   "cell_type": "code",
   "execution_count": 156,
   "id": "983d68d0-d4f8-4076-a9c1-4c5ee9fa18ad",
   "metadata": {},
   "outputs": [
    {
     "name": "stdout",
     "output_type": "stream",
     "text": [
      "{'age': [21, 23, 25], 'gender': ['female', 'male']}\n"
     ]
    }
   ],
   "source": [
    "#3.pop()\n",
    "dict={\"name\":[\"srinija\",\"gaju\"],\"age\":[21,23,25],\"gender\":[\"female\",\"male\"]}\n",
    "dict.pop(\"name\")\n",
    "print(dict)\n",
    "#dict.pop()#empty argument is not accepted\n"
   ]
  },
  {
   "cell_type": "code",
   "execution_count": 168,
   "id": "959f1b65-08c5-48de-a2a7-b6259dccc325",
   "metadata": {},
   "outputs": [
    {
     "name": "stdout",
     "output_type": "stream",
     "text": [
      "{'name': ['srinija', 'gaju'], 'age': [21, 23, 25]}\n"
     ]
    }
   ],
   "source": [
    "#4.popitem()\n",
    "dict={\"name\":[\"srinija\",\"gaju\"],\"age\":[21,23,25],\"gender\":[\"female\",\"male\"]}\n",
    "dict.popitem()#it does not take any argument\n",
    "print(dict)\n"
   ]
  },
  {
   "cell_type": "code",
   "execution_count": 178,
   "id": "83877794-5fb8-46e2-8c32-7e948bce51e6",
   "metadata": {},
   "outputs": [
    {
     "name": "stdout",
     "output_type": "stream",
     "text": [
      "{'name': ['ss', 'rr'], 'age': [21, 23, 25], 'gender': ['female', 'male', 'none']}\n"
     ]
    }
   ],
   "source": [
    "#4.update()\n",
    "dict={\"name\":[\"ss\",\"rr\"],\"age\":[21,23,25],\"gender\":[\"female\",\"male\"]}\n",
    "dict.update({\"gender\":[\"female\",\"male\",\"none\"]})\n",
    "print(dict)\n"
   ]
  },
  {
   "cell_type": "code",
   "execution_count": 1,
   "id": "d9dca29a-d36f-427d-bb42-b7b7e6c32490",
   "metadata": {},
   "outputs": [
    {
     "name": "stdout",
     "output_type": "stream",
     "text": [
      "{'a': 1, 'b': 2, 'c': 3, 'd': 4}\n"
     ]
    }
   ],
   "source": [
    "#to swap keys and values\n",
    "Dic1={1: \"a\", 2: \"b\", 3: \"c\", 4: \"d\"}\n",
    "keys=Dic1.keys()\n",
    "values=Dic1.values()\n",
    "Dic2={}\n",
    "for i in range(len(keys)):\n",
    "            Dic2[list(Dic1.values())[i]]=list(Dic1.keys())[i]\n",
    "print(Dic2)"
   ]
  },
  {
   "cell_type": "code",
   "execution_count": null,
   "id": "52a66820-3f58-4daa-8c77-1cc83368eec4",
   "metadata": {},
   "outputs": [],
   "source": []
  }
 ],
 "metadata": {
  "kernelspec": {
   "display_name": "Python 3 (ipykernel)",
   "language": "python",
   "name": "python3"
  },
  "language_info": {
   "codemirror_mode": {
    "name": "ipython",
    "version": 3
   },
   "file_extension": ".py",
   "mimetype": "text/x-python",
   "name": "python",
   "nbconvert_exporter": "python",
   "pygments_lexer": "ipython3",
   "version": "3.12.4"
  }
 },
 "nbformat": 4,
 "nbformat_minor": 5
}
