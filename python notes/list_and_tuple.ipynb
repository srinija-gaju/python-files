{
 "cells": [
  {
   "cell_type": "markdown",
   "id": "f5c1dc74-d59c-47af-acba-861dcd836a7f",
   "metadata": {},
   "source": [
    "# Data Structure\n",
    "###    Don't use keywords as variable "
   ]
  },
  {
   "cell_type": "code",
   "execution_count": 11,
   "id": "9a3fadad-e34c-4077-aca5-ef7f959a0a8f",
   "metadata": {},
   "outputs": [
    {
     "name": "stdout",
     "output_type": "stream",
     "text": [
      "['srinija', 'gaju', 'srujana', 'nandu']\n",
      "<class 'list'>\n",
      "srinija\n",
      "['gaju', 'srujana']\n"
     ]
    }
   ],
   "source": [
    "# List\n",
    "names=['srinija','gaju','srujana','nandu']\n",
    "print(names)\n",
    "print(type(list))\n",
    "print(name[0])#for accessing one element\n",
    "print(name[1:3])#for accessing multiple elementes using slicing\n"
   ]
  },
  {
   "cell_type": "code",
   "execution_count": 15,
   "id": "848188d6-831a-4e45-a696-e2675518c2d3",
   "metadata": {},
   "outputs": [
    {
     "name": "stdout",
     "output_type": "stream",
     "text": [
      "srinija\n",
      "gaju\n"
     ]
    }
   ],
   "source": [
    "list=['srinija','gaju']\n",
    "for every_element in list:\n",
    "                   print(every_element)\n",
    "                  "
   ]
  },
  {
   "cell_type": "code",
   "execution_count": 17,
   "id": "63133aa4-d24e-4389-a1a4-f5715e703219",
   "metadata": {},
   "outputs": [
    {
     "name": "stdout",
     "output_type": "stream",
     "text": [
      "[5, 2, 3, 10]\n"
     ]
    }
   ],
   "source": [
    "#To update values in a list\n",
    "a=[1,2,3,4]\n",
    "a[0]=5\n",
    "a[3]=10\n",
    "print(a)"
   ]
  },
  {
   "cell_type": "code",
   "execution_count": 21,
   "id": "d15e2134-f59c-4444-bf3e-b631872e70f9",
   "metadata": {},
   "outputs": [
    {
     "name": "stdout",
     "output_type": "stream",
     "text": [
      "srinija Hello gaju Hello patel\n"
     ]
    }
   ],
   "source": [
    "list=['srinija','gaju','patel']\n",
    "#full_name=list[0]+list[1]+list[2]\n",
    "full_name=\" Hello \".join(list)\n",
    "print(full_name)"
   ]
  },
  {
   "cell_type": "code",
   "execution_count": 27,
   "id": "1f17f9b1-6ab2-4f69-9302-8c33d1d92e40",
   "metadata": {},
   "outputs": [
    {
     "name": "stdout",
     "output_type": "stream",
     "text": [
      "srinija Hello\n",
      "gaju Hello\n",
      "patel Hello\n"
     ]
    }
   ],
   "source": [
    "#For accessing data from more number of inputs-for is used\n",
    "list1=['srinija','gaju','patel']\n",
    "for every_element in list:\n",
    "           print(\"\".join(every_element)+\" Hello\")\n",
    "        "
   ]
  },
  {
   "cell_type": "code",
   "execution_count": 29,
   "id": "71f21d39-c050-4a5d-bf52-dc8376527f44",
   "metadata": {},
   "outputs": [
    {
     "name": "stdout",
     "output_type": "stream",
     "text": [
      "ORANGE\n"
     ]
    }
   ],
   "source": [
    "my_list=[\"apple\",\"Banana\",\"Orange\",\"guava\"]\n",
    "my_list[0]\n",
    "print(my_list[2].upper())"
   ]
  },
  {
   "cell_type": "code",
   "execution_count": 31,
   "id": "c54b2e9c-0f6a-4c5f-a29a-583cfe12e7b9",
   "metadata": {},
   "outputs": [
    {
     "name": "stdout",
     "output_type": "stream",
     "text": [
      "['apple']\n",
      "['Banana']\n",
      "['Orange']\n",
      "['guava']\n"
     ]
    }
   ],
   "source": [
    "my_list=[\"apple\",\"Banana\",\"Orange\",\"guava\"]\n",
    "for every_element in my_list:\n",
    "                   #print(every_element.upper())\n",
    "                   print(every_element.split())\n",
    "                    "
   ]
  },
  {
   "cell_type": "markdown",
   "id": "bdaeb5b2-1486-46b1-8427-f9051061c80e",
   "metadata": {},
   "source": [
    "#  List Functions"
   ]
  },
  {
   "cell_type": "code",
   "execution_count": 180,
   "id": "bb9ab9cd-4aa7-4a20-ad98-5104f3654ef0",
   "metadata": {},
   "outputs": [
    {
     "name": "stdout",
     "output_type": "stream",
     "text": [
      "['Tshirt', 'jeans', 'shirt', 'shrug']\n"
     ]
    }
   ],
   "source": [
    "#append()-adds as a single elments\n",
    "cup_board=['Tshirt','jeans','shirt']\n",
    "cup_board.append(\"shrug\")\n",
    "print(cup_board)\n"
   ]
  },
  {
   "cell_type": "code",
   "execution_count": 184,
   "id": "ef823aad-d0bb-40c6-a6ac-713cefe4af12",
   "metadata": {},
   "outputs": [
    {
     "name": "stdout",
     "output_type": "stream",
     "text": [
      "['Tshirt', 'jeans', 'shirt', 's', 'h', 'r', 'u', 'g']\n"
     ]
    }
   ],
   "source": [
    "#extend()-adds as different elements.d\n",
    "cup_board=['Tshirt','jeans','shirt']\n",
    "cup_board.extend(\"shrug\")\n",
    "print(cup_board)\n",
    "\n",
    "\n"
   ]
  },
  {
   "cell_type": "code",
   "execution_count": 202,
   "id": "b3f8a6cb-2f87-4f36-b4ec-efa6543dcced",
   "metadata": {},
   "outputs": [
    {
     "name": "stdout",
     "output_type": "stream",
     "text": [
      "shirt\n",
      "['Tshirt', 'jeans']\n",
      "jeans\n",
      "['Tshirt', 'shirt']\n"
     ]
    }
   ],
   "source": [
    "#pop()-last element in the list is removed\n",
    "cup_board=['Tshirt','jeans','shirt']\n",
    "cup_board1=['Tshirt','jeans','shirt']\n",
    "print(cup_board.pop())\n",
    "print(cup_board)\n",
    "print(cup_board1.pop(1))\n",
    "print(cup_board1)"
   ]
  },
  {
   "cell_type": "code",
   "execution_count": 228,
   "id": "01b8f8d2-8d9e-4014-90b3-60fad33fac01",
   "metadata": {},
   "outputs": [
    {
     "name": "stdout",
     "output_type": "stream",
     "text": [
      "['srinija', 'gaju', ['maggidi', 'armoor', 'iiit', 'basar']]\n",
      "['srinija', 'gaju', ['maggidi', 'armoor', 'iiit', 'basar'], 'iiit', 'basar']\n"
     ]
    }
   ],
   "source": [
    "#difference between append and extend\n",
    "my_var=['srinija','gaju']\n",
    "my_var.append([\"maggidi\",\"armoor\",\"iiit\",\"basar\"])\n",
    "print(my_var)\n",
    "my_var.extend([\"iiit\",\"basar\"])\n",
    "print(my_var)\n",
    "\n"
   ]
  },
  {
   "cell_type": "code",
   "execution_count": 244,
   "id": "85135294-c5d3-4e3a-8ded-daae40ecbe5b",
   "metadata": {},
   "outputs": [
    {
     "name": "stdout",
     "output_type": "stream",
     "text": [
      "[1, 2, 3, ['a', 'b']]\n",
      "[1, 2, 3, ['a', 'b'], 'c', 'd']\n",
      "['a', 'b']\n",
      "a\n"
     ]
    }
   ],
   "source": [
    "g=[1,2,3]\n",
    "g.append(['a','b'])\n",
    "print(g)\n",
    "g.extend(['c','d'])\n",
    "print(g)\n",
    "print(g[3])\n",
    "print(g[3][0])\n"
   ]
  },
  {
   "cell_type": "code",
   "execution_count": 10,
   "id": "316f5bc0-0281-40dd-a30d-b630ac4f811a",
   "metadata": {},
   "outputs": [
    {
     "name": "stdout",
     "output_type": "stream",
     "text": [
      "Help on method_descriptor:\n",
      "\n",
      "append(self, object, /) unbound builtins.list method\n",
      "    Append object to the end of the list.\n",
      "\n"
     ]
    }
   ],
   "source": [
    "help(list.append)"
   ]
  },
  {
   "cell_type": "code",
   "execution_count": 264,
   "id": "63fe66e5-c4b6-4cd9-875d-6c988c2e29a6",
   "metadata": {},
   "outputs": [
    {
     "name": "stdout",
     "output_type": "stream",
     "text": [
      "[]\n"
     ]
    }
   ],
   "source": [
    "#clear()-removes all elments in the list but variable can be accessed\n",
    "cup_board=['Tshirt','jeans','shirt']\n",
    "cup_board.clear()\n",
    "print(cup_board)\n",
    "\n",
    "\n"
   ]
  },
  {
   "cell_type": "code",
   "execution_count": 266,
   "id": "34adc3b0-b8d8-42ad-bc92-77ef579d71b9",
   "metadata": {},
   "outputs": [
    {
     "ename": "SyntaxError",
     "evalue": "invalid syntax (2538802793.py, line 3)",
     "output_type": "error",
     "traceback": [
      "\u001b[1;36m  Cell \u001b[1;32mIn[266], line 3\u001b[1;36m\u001b[0m\n\u001b[1;33m    cup_board.del()\u001b[0m\n\u001b[1;37m              ^\u001b[0m\n\u001b[1;31mSyntaxError\u001b[0m\u001b[1;31m:\u001b[0m invalid syntax\n"
     ]
    }
   ],
   "source": [
    "#del()-removes all elments in the list but variable can't be accessed it completely erases from its memory\n",
    "cup_board=['Tshirt','jeans','shirt']\n",
    "cup_board.del()\n",
    "print(cup_board)"
   ]
  },
  {
   "cell_type": "code",
   "execution_count": 294,
   "id": "10c6ef95-b0bf-4bb2-b0f9-ec98ce405eb9",
   "metadata": {},
   "outputs": [
    {
     "name": "stdout",
     "output_type": "stream",
     "text": [
      "5\n",
      "3\n"
     ]
    }
   ],
   "source": [
    "#count()-counts number of repetitions of a datapoint\n",
    "cup_board1=[1,2,3,4,5,2,2,2,2]\n",
    "print(cup_board1.count(2))\n",
    "cup_board=['Tshirt','jeans','shirt','Tshirt','Tshirt']\n",
    "print(cup_board.count('Tshirt'))\n",
    "\n"
   ]
  },
  {
   "cell_type": "code",
   "execution_count": 304,
   "id": "bbf9ba09-819e-49e2-9b22-dc2f4b1a3535",
   "metadata": {},
   "outputs": [
    {
     "name": "stdout",
     "output_type": "stream",
     "text": [
      "['Tshirt', 'jeans', 'shirt', 'sweater']\n"
     ]
    }
   ],
   "source": [
    "#insert()-it inserts or adds at which index we want to add\n",
    "cup_board=['Tshirt','jeans','shirt']\n",
    "cup_board.insert(3,\"sweater\")\n",
    "print(cup_board)"
   ]
  },
  {
   "cell_type": "code",
   "execution_count": 308,
   "id": "6726f64f-f37e-4e78-ba3a-4c918cfd7d71",
   "metadata": {},
   "outputs": [
    {
     "name": "stdout",
     "output_type": "stream",
     "text": [
      "5\n"
     ]
    }
   ],
   "source": [
    "#len(variable)\n",
    "cup_board=['Tshirt','jeans','shirt','s','r']\n",
    "print(len(cup_board))"
   ]
  },
  {
   "cell_type": "code",
   "execution_count": 326,
   "id": "ac2e5d75-c48d-4c5c-9d3b-a23ee55e36f9",
   "metadata": {},
   "outputs": [
    {
     "name": "stdout",
     "output_type": "stream",
     "text": [
      "average 33.0\n",
      "minimum 12\n",
      "maximum 53\n"
     ]
    }
   ],
   "source": [
    "#sum()-adds \n",
    "#min()-gives minimum\n",
    "#max()=gives maximum\n",
    "s=[12,34,53]\n",
    "avg=sum(s)/len(s)\n",
    "\n",
    "print(\"average\",avg)\n",
    "print(\"minimum\",min(s))\n",
    "print(\"maximum\",max(s))\n",
    "\n",
    "\n",
    "\n"
   ]
  },
  {
   "cell_type": "code",
   "execution_count": 334,
   "id": "77422cc8-5a09-4af9-a768-a36ba55a2e66",
   "metadata": {},
   "outputs": [
    {
     "name": "stdout",
     "output_type": "stream",
     "text": [
      "1\n"
     ]
    }
   ],
   "source": [
    "#index()-gives index value-if duplicates are present gives index value of first value\n",
    "cup_board=['Tshirt','jeans','shirt']\n",
    "print(cup_board.index('jeans'))\n"
   ]
  },
  {
   "cell_type": "code",
   "execution_count": 344,
   "id": "517b63e1-4832-4053-9e4b-66ccd840aceb",
   "metadata": {},
   "outputs": [
    {
     "name": "stdout",
     "output_type": "stream",
     "text": [
      "['Tshirt', 'jeans']\n",
      "[2, 4, 54]\n"
     ]
    }
   ],
   "source": [
    "#removes()-removes a particular element\n",
    "cup_board=['Tshirt','jeans','shirt']\n",
    "cup_board.remove(\"shirt\")\n",
    "print(cup_board)\n",
    "a=[2,3,4,54]\n",
    "a.remove(3)\n",
    "print(a)"
   ]
  },
  {
   "cell_type": "code",
   "execution_count": 350,
   "id": "1167001d-22c7-4e4a-b6e3-8fe6f5975336",
   "metadata": {},
   "outputs": [
    {
     "name": "stdout",
     "output_type": "stream",
     "text": [
      "[2, 3, 4, 54]\n"
     ]
    }
   ],
   "source": [
    "#copy()-copies the elements\n",
    "\n",
    "a=[2,3,4,54]\n",
    "b=a.copy()\n",
    "print(b)"
   ]
  },
  {
   "cell_type": "code",
   "execution_count": 352,
   "id": "b1cae6b9-7b73-40b6-a8c7-d46c08a35724",
   "metadata": {},
   "outputs": [
    {
     "name": "stdout",
     "output_type": "stream",
     "text": [
      "[54, 4, 3, 2]\n"
     ]
    }
   ],
   "source": [
    "#reverse()-it prints reverse of the given input\n",
    "a=[2,3,4,54]\n",
    "a.reverse()\n",
    "print(a)"
   ]
  },
  {
   "cell_type": "code",
   "execution_count": 362,
   "id": "ee59602d-8160-44c0-ba31-398c8053f967",
   "metadata": {},
   "outputs": [
    {
     "name": "stdout",
     "output_type": "stream",
     "text": [
      "[54, 9, 7, 4, 3, 2, 1]\n",
      "[1, 2, 3, 4, 7, 9, 54]\n"
     ]
    }
   ],
   "source": [
    "#sort()\n",
    "a=[2,3,4,7,9,1,54]\n",
    "a.sort(reverse=True)\n",
    "print(a)\n",
    "a.sort(reverse=False)\n",
    "print(a)\n"
   ]
  },
  {
   "cell_type": "markdown",
   "id": "58d98d8c-845a-4e36-863e-e6997c8b4fe6",
   "metadata": {},
   "source": [
    "# Tuple"
   ]
  },
  {
   "cell_type": "code",
   "execution_count": 372,
   "id": "baee142b-f210-4f01-a9f1-6de0b6449c6e",
   "metadata": {},
   "outputs": [
    {
     "name": "stdout",
     "output_type": "stream",
     "text": [
      "(1, 2, 3, 4)\n"
     ]
    },
    {
     "ename": "TypeError",
     "evalue": "'tuple' object does not support item assignment",
     "output_type": "error",
     "traceback": [
      "\u001b[1;31m---------------------------------------------------------------------------\u001b[0m",
      "\u001b[1;31mTypeError\u001b[0m                                 Traceback (most recent call last)",
      "Cell \u001b[1;32mIn[372], line 4\u001b[0m\n\u001b[0;32m      2\u001b[0m \u001b[38;5;28mprint\u001b[39m(my_tuple)\n\u001b[0;32m      3\u001b[0m my_tuple[\u001b[38;5;241m0\u001b[39m]\n\u001b[1;32m----> 4\u001b[0m my_tuple[\u001b[38;5;241m0\u001b[39m]\u001b[38;5;241m=\u001b[39m\u001b[38;5;124m\"\u001b[39m\u001b[38;5;124msrinija\u001b[39m\u001b[38;5;124m\"\u001b[39m\n",
      "\u001b[1;31mTypeError\u001b[0m: 'tuple' object does not support item assignment"
     ]
    }
   ],
   "source": [
    "my_tuple=(1,2,3,4)\n",
    "print(my_tuple)\n",
    "my_tuple[0]\n",
    "my_tuple[0]=\"srinija\"#does not accepts inputs because tuple is immutable\n"
   ]
  },
  {
   "cell_type": "code",
   "execution_count": 2,
   "id": "ec1a9e0e-6210-4f24-976c-37de70ca3e77",
   "metadata": {},
   "outputs": [],
   "source": [
    "# tuple properties"
   ]
  },
  {
   "cell_type": "code",
   "execution_count": 4,
   "id": "aed67faf-3291-4242-afe2-9350bdd92f21",
   "metadata": {},
   "outputs": [
    {
     "name": "stdout",
     "output_type": "stream",
     "text": [
      "('srinija', 'g', 3, True)\n"
     ]
    }
   ],
   "source": [
    "#1.allows different datattypes\n",
    "tuple_1=(\"srinija\",'g',3,True)\n",
    "print(tuple_1)"
   ]
  },
  {
   "cell_type": "code",
   "execution_count": 6,
   "id": "4857b8c2-f705-4e8c-b554-de723c036098",
   "metadata": {},
   "outputs": [
    {
     "name": "stdout",
     "output_type": "stream",
     "text": [
      "(1, 2, 3, 4, 5, 3, 4, 3, 3)\n"
     ]
    }
   ],
   "source": [
    "#2.It allows duplicates\n",
    "tuple_1=(1,2,3,4,5,3,4,3,3)\n",
    "print(tuple_1)"
   ]
  },
  {
   "cell_type": "code",
   "execution_count": 8,
   "id": "112a5342-8873-4bd7-b90e-2a994df2ab47",
   "metadata": {},
   "outputs": [
    {
     "data": {
      "text/plain": [
       "1"
      ]
     },
     "execution_count": 8,
     "metadata": {},
     "output_type": "execute_result"
    }
   ],
   "source": [
    "#3.can access by indexing ordered data structure\n",
    "tuple_1=(1,2,3,4,5,3,4,3,3)\n",
    "tuple_1[0]"
   ]
  },
  {
   "cell_type": "markdown",
   "id": "95684dca-397a-41d8-8659-513576747013",
   "metadata": {},
   "source": [
    "#To know all the methods\n",
    "help(list)\n",
    "help(tuple)"
   ]
  },
  {
   "cell_type": "code",
   "execution_count": 16,
   "id": "b44eb582-5e20-4d55-b35f-7166d7b0c259",
   "metadata": {},
   "outputs": [
    {
     "data": {
      "text/plain": [
       "4"
      ]
     },
     "execution_count": 16,
     "metadata": {},
     "output_type": "execute_result"
    }
   ],
   "source": [
    "# Tuple Methods\n",
    "#1.count()\n",
    "tuple_1=(1,2,3,4,5,3,4,3,3)\n",
    "tuple_1.count(3)"
   ]
  },
  {
   "cell_type": "code",
   "execution_count": 18,
   "id": "cfc79b56-ae15-4aad-b71f-7b5af29cc5b3",
   "metadata": {},
   "outputs": [
    {
     "data": {
      "text/plain": [
       "2"
      ]
     },
     "execution_count": 18,
     "metadata": {},
     "output_type": "execute_result"
    }
   ],
   "source": [
    "#2.index()\n",
    "tuple_1=(1,2,3,4,5,3,4,3,3)#gives the index value of the beginning element\n",
    "tuple_1.index(3)\n",
    "\n"
   ]
  },
  {
   "cell_type": "code",
   "execution_count": 25,
   "id": "21379554-986d-479c-8725-833df51013a8",
   "metadata": {},
   "outputs": [
    {
     "name": "stdout",
     "output_type": "stream",
     "text": [
      "1\n",
      "2\n",
      "3\n",
      "4\n",
      "5\n",
      "3\n",
      "4\n",
      "3\n",
      "3\n"
     ]
    }
   ],
   "source": [
    "tuple_1=(1,2,3,4,5,3,4,3,3)\n",
    "for every_datapoint in tuple_1:\n",
    "              print(every_datapoint)"
   ]
  },
  {
   "cell_type": "code",
   "execution_count": 27,
   "id": "fafb0198-4295-4ec6-a6c3-bfa45289efe0",
   "metadata": {},
   "outputs": [
    {
     "name": "stdout",
     "output_type": "stream",
     "text": [
      "1\n",
      "2\n",
      "3\n",
      "4\n"
     ]
    }
   ],
   "source": [
    "list_1=[1,2,3,4]\n",
    "for every_datapoint in list_1:\n",
    "              print(every_datapoint)\n"
   ]
  },
  {
   "cell_type": "code",
   "execution_count": null,
   "id": "f3100256-61a4-4715-9c47-f71e6cbf7165",
   "metadata": {},
   "outputs": [],
   "source": []
  }
 ],
 "metadata": {
  "kernelspec": {
   "display_name": "Python 3 (ipykernel)",
   "language": "python",
   "name": "python3"
  },
  "language_info": {
   "codemirror_mode": {
    "name": "ipython",
    "version": 3
   },
   "file_extension": ".py",
   "mimetype": "text/x-python",
   "name": "python",
   "nbconvert_exporter": "python",
   "pygments_lexer": "ipython3",
   "version": "3.12.4"
  }
 },
 "nbformat": 4,
 "nbformat_minor": 5
}
