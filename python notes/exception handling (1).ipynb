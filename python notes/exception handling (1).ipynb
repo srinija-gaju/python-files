{
 "cells": [
  {
   "cell_type": "markdown",
   "id": "bc7d446a-2d7b-4e3f-bb85-611da5c188ff",
   "metadata": {},
   "source": [
    "# exception handling"
   ]
  },
  {
   "cell_type": "code",
   "execution_count": 24,
   "id": "78acbd17-e147-492c-bf83-e9ec15c2e880",
   "metadata": {},
   "outputs": [
    {
     "ename": "ZeroDivisionError",
     "evalue": "division by zero",
     "output_type": "error",
     "traceback": [
      "\u001b[1;31m---------------------------------------------------------------------------\u001b[0m",
      "\u001b[1;31mZeroDivisionError\u001b[0m                         Traceback (most recent call last)",
      "Cell \u001b[1;32mIn[24], line 1\u001b[0m\n\u001b[1;32m----> 1\u001b[0m \u001b[38;5;241m5\u001b[39m\u001b[38;5;241m/\u001b[39m\u001b[38;5;241m0\u001b[39m\n",
      "\u001b[1;31mZeroDivisionError\u001b[0m: division by zero"
     ]
    }
   ],
   "source": [
    "5/0"
   ]
  },
  {
   "cell_type": "code",
   "execution_count": 44,
   "id": "fceb70c4-13c9-4fb7-ab2d-e5130255fc52",
   "metadata": {},
   "outputs": [
    {
     "name": "stdout",
     "output_type": "stream",
     "text": [
      "you cant divide a number by zero\n"
     ]
    }
   ],
   "source": [
    "#ZeroDivisionError\n",
    "try:\n",
    "    5/0\n",
    "except ZeroDivisionError:\n",
    "    print(\"you cant divide a number by zero\")"
   ]
  },
  {
   "cell_type": "code",
   "execution_count": 42,
   "id": "955683dc-8245-476b-9adc-039031288764",
   "metadata": {},
   "outputs": [
    {
     "ename": "TypeError",
     "evalue": "can only concatenate str (not \"int\") to str",
     "output_type": "error",
     "traceback": [
      "\u001b[1;31m---------------------------------------------------------------------------\u001b[0m",
      "\u001b[1;31mTypeError\u001b[0m                                 Traceback (most recent call last)",
      "Cell \u001b[1;32mIn[42], line 3\u001b[0m\n\u001b[0;32m      1\u001b[0m a\u001b[38;5;241m=\u001b[39m\u001b[38;5;124m\"\u001b[39m\u001b[38;5;124mhello\u001b[39m\u001b[38;5;124m\"\u001b[39m\n\u001b[0;32m      2\u001b[0m b\u001b[38;5;241m=\u001b[39m\u001b[38;5;241m3\u001b[39m\n\u001b[1;32m----> 3\u001b[0m \u001b[38;5;28mprint\u001b[39m(a\u001b[38;5;241m+\u001b[39mb)\n",
      "\u001b[1;31mTypeError\u001b[0m: can only concatenate str (not \"int\") to str"
     ]
    }
   ],
   "source": [
    "#type error\n",
    "a=\"hello\"\n",
    "b=3\n",
    "print(a+b)"
   ]
  },
  {
   "cell_type": "code",
   "execution_count": 32,
   "id": "3d0432d3-c8d6-48ae-930b-81e178edec18",
   "metadata": {},
   "outputs": [
    {
     "name": "stdout",
     "output_type": "stream",
     "text": [
      "have some sense\n"
     ]
    }
   ],
   "source": [
    "try :\n",
    "    a=\"hello\"\n",
    "    b=3\n",
    "    print(a+b)\n",
    "except TypeError:\n",
    "   print(\"have some sense\")"
   ]
  },
  {
   "cell_type": "code",
   "execution_count": 46,
   "id": "9983a373-00c1-4221-a6f8-d05a49dcf6b8",
   "metadata": {},
   "outputs": [
    {
     "name": "stdout",
     "output_type": "stream",
     "text": [
      "hello3\n"
     ]
    }
   ],
   "source": [
    "try :\n",
    "    a=\"hello\"\n",
    "    b=\"3\"\n",
    "    print(a+b)\n",
    "except TypeError:\n",
    "   print(\"have some sense\")"
   ]
  },
  {
   "cell_type": "code",
   "execution_count": 50,
   "id": "01620260-f67b-4b42-8c05-0957ac3ae475",
   "metadata": {},
   "outputs": [
    {
     "ename": "NameError",
     "evalue": "name 'r' is not defined",
     "output_type": "error",
     "traceback": [
      "\u001b[1;31m---------------------------------------------------------------------------\u001b[0m",
      "\u001b[1;31mNameError\u001b[0m                                 Traceback (most recent call last)",
      "Cell \u001b[1;32mIn[50], line 2\u001b[0m\n\u001b[0;32m      1\u001b[0m \u001b[38;5;66;03m#NameError\u001b[39;00m\n\u001b[1;32m----> 2\u001b[0m s\u001b[38;5;241m=\u001b[39mr\u001b[38;5;241m+\u001b[39m\u001b[38;5;241m3\u001b[39m\n",
      "\u001b[1;31mNameError\u001b[0m: name 'r' is not defined"
     ]
    }
   ],
   "source": [
    "#NameError\n",
    "s=r+3\n",
    "\n"
   ]
  },
  {
   "cell_type": "code",
   "execution_count": 52,
   "id": "8035539c-f07f-4256-ba56-add3889c45c6",
   "metadata": {},
   "outputs": [
    {
     "name": "stdout",
     "output_type": "stream",
     "text": [
      "it is a name error\n"
     ]
    }
   ],
   "source": [
    "try:\n",
    "    s=r+3\n",
    "except NameError:\n",
    "    print(\"it is a name error\")"
   ]
  },
  {
   "cell_type": "code",
   "execution_count": 146,
   "id": "1a3ae56e-c45b-488e-93a9-8d6c4abb0124",
   "metadata": {},
   "outputs": [
    {
     "name": "stdout",
     "output_type": "stream",
     "text": [
      "check the variables usage\n"
     ]
    }
   ],
   "source": [
    "def fun(x1,y1,z1):\n",
    "    try:\n",
    "        zz=x1+y1+c1\n",
    "    except NameError:\n",
    "        print(\"check the variables usage\")\n",
    "    else:\n",
    "        return zz\n",
    "fun(1,2,3)"
   ]
  },
  {
   "cell_type": "code",
   "execution_count": 148,
   "id": "81b407e9-7b91-4518-8d0f-dc88add81494",
   "metadata": {},
   "outputs": [
    {
     "name": "stdout",
     "output_type": "stream",
     "text": [
      "cannot divide a number with a zero\n"
     ]
    }
   ],
   "source": [
    "def fun(x,y):\n",
    "    try:\n",
    "        z=x/y\n",
    "    except ZeroDivisionError:\n",
    "        print(\"cannot divide a number with a zero\")\n",
    "\n",
    "fun(1,0)"
   ]
  },
  {
   "cell_type": "code",
   "execution_count": 150,
   "id": "a987f0d3-0578-485b-bbe7-59bed43fd2e7",
   "metadata": {},
   "outputs": [
    {
     "name": "stdout",
     "output_type": "stream",
     "text": [
      "cannot divide a number with a zero\n",
      "hurray we solved the error\n"
     ]
    }
   ],
   "source": [
    "def fun(x,y):\n",
    "    try:\n",
    "        z=x/y\n",
    "    except ZeroDivisionError:\n",
    "        print(\"cannot divide a number with a zero\")\n",
    "    finally:\n",
    "        print(\"hurray we solved the error\")\n",
    "\n",
    "fun(1,0)"
   ]
  },
  {
   "cell_type": "markdown",
   "id": "c5e46cb7-4e02-47ba-8ea7-9a80722fc5f1",
   "metadata": {},
   "source": [
    ">**custom error**\n"
   ]
  },
  {
   "cell_type": "code",
   "execution_count": 166,
   "id": "f3b0b03f-a6c6-44fb-8d78-d2d71302d681",
   "metadata": {},
   "outputs": [],
   "source": [
    "class custom_error(Exception):\n",
    "    def __init__(self,message=0):\n",
    "        self.message=message\n",
    "def square_root(x):\n",
    "    if x<0:\n",
    "        raise custom_error(\"cant calculate square error\")\n",
    "    return x**0.5"
   ]
  },
  {
   "cell_type": "code",
   "execution_count": 168,
   "id": "8ebfc726-4c47-420a-ab8e-d86108e70462",
   "metadata": {},
   "outputs": [
    {
     "ename": "custom_error",
     "evalue": "this is  my custom error",
     "output_type": "error",
     "traceback": [
      "\u001b[1;31m---------------------------------------------------------------------------\u001b[0m",
      "\u001b[1;31mcustom_error\u001b[0m                              Traceback (most recent call last)",
      "Cell \u001b[1;32mIn[168], line 3\u001b[0m\n\u001b[0;32m      1\u001b[0m \u001b[38;5;66;03m#custom error\u001b[39;00m\n\u001b[0;32m      2\u001b[0m \u001b[38;5;28;01mif\u001b[39;00m \u001b[38;5;241m3\u001b[39m\u001b[38;5;241m<\u001b[39m\u001b[38;5;241m4\u001b[39m:\n\u001b[1;32m----> 3\u001b[0m     \u001b[38;5;28;01mraise\u001b[39;00m custom_error(\u001b[38;5;124m\"\u001b[39m\u001b[38;5;124mthis is  my custom error\u001b[39m\u001b[38;5;124m\"\u001b[39m)\n",
      "\u001b[1;31mcustom_error\u001b[0m: this is  my custom error"
     ]
    }
   ],
   "source": [
    "#custom error\n",
    "if 3<4:\n",
    "    raise custom_error(\"this is  my custom error\")\n",
    "    "
   ]
  },
  {
   "cell_type": "code",
   "execution_count": 192,
   "id": "3a675196-52a4-40dd-958e-5da3f8d6d2bc",
   "metadata": {},
   "outputs": [],
   "source": [
    "class innomatics(Exception):\n",
    "    def __init__(self,message1):\n",
    "     self.message1=message1\n",
    "    "
   ]
  },
  {
   "cell_type": "code",
   "execution_count": 188,
   "id": "5aeed30b-5c1d-43f2-8315-073807dbf94f",
   "metadata": {},
   "outputs": [
    {
     "data": {
      "text/plain": [
       "True"
      ]
     },
     "execution_count": 188,
     "metadata": {},
     "output_type": "execute_result"
    }
   ],
   "source": [
    "4>2"
   ]
  },
  {
   "cell_type": "code",
   "execution_count": 194,
   "id": "1f547b3a-6cb2-47c5-a947-09a655123c5f",
   "metadata": {},
   "outputs": [
    {
     "ename": "innomatics",
     "evalue": "this is my custom error",
     "output_type": "error",
     "traceback": [
      "\u001b[1;31m---------------------------------------------------------------------------\u001b[0m",
      "\u001b[1;31minnomatics\u001b[0m                                Traceback (most recent call last)",
      "Cell \u001b[1;32mIn[194], line 2\u001b[0m\n\u001b[0;32m      1\u001b[0m \u001b[38;5;28;01mif\u001b[39;00m \u001b[38;5;241m4\u001b[39m\u001b[38;5;241m>\u001b[39m\u001b[38;5;241m2\u001b[39m:\n\u001b[1;32m----> 2\u001b[0m     \u001b[38;5;28;01mraise\u001b[39;00m innomatics(\u001b[38;5;124m\"\u001b[39m\u001b[38;5;124mthis is my custom error\u001b[39m\u001b[38;5;124m\"\u001b[39m)\n",
      "\u001b[1;31minnomatics\u001b[0m: this is my custom error"
     ]
    }
   ],
   "source": [
    "if 4>2:\n",
    "    raise innomatics(\"this is my custom error\")\n",
    "    "
   ]
  },
  {
   "cell_type": "code",
   "execution_count": null,
   "id": "2b0cbfd3-3c1b-4066-afc8-307a3cb89085",
   "metadata": {},
   "outputs": [],
   "source": []
  }
 ],
 "metadata": {
  "kernelspec": {
   "display_name": "Python 3 (ipykernel)",
   "language": "python",
   "name": "python3"
  },
  "language_info": {
   "codemirror_mode": {
    "name": "ipython",
    "version": 3
   },
   "file_extension": ".py",
   "mimetype": "text/x-python",
   "name": "python",
   "nbconvert_exporter": "python",
   "pygments_lexer": "ipython3",
   "version": "3.12.4"
  }
 },
 "nbformat": 4,
 "nbformat_minor": 5
}
