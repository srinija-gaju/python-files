{
 "cells": [
  {
   "cell_type": "code",
   "execution_count": 36,
   "id": "69096194-fd84-407a-8177-812fe489d8a6",
   "metadata": {},
   "outputs": [
    {
     "name": "stdin",
     "output_type": "stream",
     "text": [
      "enter a number -4\n"
     ]
    },
    {
     "name": "stdout",
     "output_type": "stream",
     "text": [
      "-4 is negative number\n"
     ]
    }
   ],
   "source": [
    "#find whetther it is a positive or negative number from the given number\n",
    "num=int(input(\"enter a number\"))\n",
    "if num>0:\n",
    "    print(num,\"is positive number\")\n",
    "else:\n",
    "    print(num,\"is negative number\")\n",
    "    "
   ]
  },
  {
   "cell_type": "code",
   "execution_count": 34,
   "id": "b703fc89-65c1-44e2-b89d-c43219cc2fee",
   "metadata": {},
   "outputs": [
    {
     "name": "stdin",
     "output_type": "stream",
     "text": [
      "enter a number 5\n"
     ]
    },
    {
     "name": "stdout",
     "output_type": "stream",
     "text": [
      "5 is odd number\n"
     ]
    }
   ],
   "source": [
    "#find whether a number is even or odd\n",
    "num=int(input(\"enter a number\"))\n",
    "if num%2==0:\n",
    "    print(num,\"is even number\")\n",
    "else:\n",
    "    print(num,\"is odd number\")"
   ]
  },
  {
   "cell_type": "code",
   "execution_count": 30,
   "id": "44376cdb-775c-42ec-a654-833b8d5454e2",
   "metadata": {},
   "outputs": [
    {
     "name": "stdin",
     "output_type": "stream",
     "text": [
      "enter a number 12\n"
     ]
    },
    {
     "name": "stdout",
     "output_type": "stream",
     "text": [
      "12  is not divisible by 9\n"
     ]
    }
   ],
   "source": [
    "#Find whether a given number is divisible by 9 or not\n",
    "num=int(input(\"enter a number\"))\n",
    "\n",
    "if(num%9==0):\n",
    "    print(\"number is divisible by 9\")\n",
    "else:\n",
    "    print(num,\" is not divisible by 9\")"
   ]
  },
  {
   "cell_type": "code",
   "execution_count": 52,
   "id": "2ed69272-7a4d-47ec-bee9-6f6e3e8fc880",
   "metadata": {},
   "outputs": [
    {
     "name": "stdin",
     "output_type": "stream",
     "text": [
      "enter marks 90\n"
     ]
    },
    {
     "name": "stdout",
     "output_type": "stream",
     "text": [
      "Grade A\n"
     ]
    }
   ],
   "source": [
    "#find grades of the stdents\n",
    "marks=int(input(\"enter marks\"))\n",
    "if marks>85:\n",
    "          print(\"Grade A\")\n",
    "elif marks>75 and marks<=85:\n",
    "          print(\"Grade B\")\n",
    "elif marks>26 and marks<=75:\n",
    "          print(\"Grade C\")\n",
    "else:\n",
    "          print(\"Fail\")\n"
   ]
  },
  {
   "cell_type": "code",
   "execution_count": 50,
   "id": "0a030bf8-abce-4612-bf07-39c6f5193821",
   "metadata": {},
   "outputs": [
    {
     "name": "stdout",
     "output_type": "stream",
     "text": [
      "Grade B\n",
      "Grade A\n",
      "Grade C\n"
     ]
    }
   ],
   "source": [
    "marks=[80,90,70]\n",
    "for i in marks:\n",
    "    if i>85:\n",
    "          print(\"Grade A\")\n",
    "    elif i>75 and i<=85:\n",
    "          print(\"Grade B\")\n",
    "    elif i>26 and i<=75:\n",
    "          print(\"Grade C\")\n",
    "    else:\n",
    "          print(\"Fail\")"
   ]
  },
  {
   "cell_type": "code",
   "execution_count": 1,
   "id": "701554e4-633f-4f76-9dd7-72eb744a6e46",
   "metadata": {},
   "outputs": [
    {
     "name": "stdout",
     "output_type": "stream",
     "text": [
      "0\n",
      "1\n",
      "2\n",
      "3\n",
      "4\n",
      "5\n",
      "6\n",
      "7\n",
      "8\n",
      "9\n"
     ]
    }
   ],
   "source": [
    "#print first 10 natural numbers\n",
    "i=0\n",
    "while i<10:\n",
    "    print(i)\n",
    "    i=i+1"
   ]
  },
  {
   "cell_type": "code",
   "execution_count": 5,
   "id": "93f40d4f-7041-4f6d-b166-375d7a36b1d4",
   "metadata": {},
   "outputs": [
    {
     "name": "stdout",
     "output_type": "stream",
     "text": [
      "[0, 5, 10, 15, 20, 25, 30, 35, 40, 45]\n"
     ]
    }
   ],
   "source": [
    "#multiply each element by 5\n",
    "i=0\n",
    "list1=[]\n",
    "while i<10:\n",
    "    list1.append(i*5)\n",
    "    i=i+1\n",
    "print(list1)"
   ]
  },
  {
   "cell_type": "code",
   "execution_count": 7,
   "id": "f86a9d8e-2f4b-4fb4-8585-9df140ca83c6",
   "metadata": {},
   "outputs": [
    {
     "name": "stdin",
     "output_type": "stream",
     "text": [
      "enter a number 7\n"
     ]
    },
    {
     "name": "stdout",
     "output_type": "stream",
     "text": [
      "7 * 1 = 7\n",
      "7 * 2 = 14\n",
      "7 * 3 = 21\n",
      "7 * 4 = 28\n",
      "7 * 5 = 35\n",
      "7 * 6 = 42\n",
      "7 * 7 = 49\n",
      "7 * 8 = 56\n",
      "7 * 9 = 63\n",
      "7 * 10 = 70\n"
     ]
    }
   ],
   "source": [
    "#write 7 table\n",
    "i=1\n",
    "n=int(input(\"enter a number\"))\n",
    "while i<11:\n",
    "    print(n,\"*\",i,\"=\",n*i)\n",
    "    i=i+1"
   ]
  },
  {
   "cell_type": "code",
   "execution_count": null,
   "id": "05c9ccaa-15f3-4184-b946-f16f424a403f",
   "metadata": {},
   "outputs": [],
   "source": []
  },
  {
   "cell_type": "code",
   "execution_count": 13,
   "id": "e863025d-3e56-4133-b85c-a88f83535c64",
   "metadata": {},
   "outputs": [
    {
     "name": "stdin",
     "output_type": "stream",
     "text": [
      "enter a number 7\n"
     ]
    },
    {
     "name": "stdout",
     "output_type": "stream",
     "text": [
      "7 X 1 = 7\n",
      "7 X 2 = 14\n",
      "7 X 3 = 21\n",
      "7 X 4 = 28\n",
      "7 X 5 = 35\n",
      "7 X 6 = 42\n",
      "7 X 7 = 49\n",
      "7 X 8 = 56\n",
      "7 X 9 = 63\n",
      "7 X 10 = 70\n"
     ]
    }
   ],
   "source": [
    "n=int(input(\"enter a number\"))\n",
    "for i in range(1,11):\n",
    "    print(n,\"X\",i,\"=\",n*i)\n",
    "    "
   ]
  },
  {
   "cell_type": "code",
   "execution_count": 9,
   "id": "b6311f6e-c45e-49a4-8434-4ec4064533ef",
   "metadata": {},
   "outputs": [
    {
     "name": "stdin",
     "output_type": "stream",
     "text": [
      "enter a number 10\n"
     ]
    },
    {
     "name": "stdout",
     "output_type": "stream",
     "text": [
      "sum of numbers is 55\n"
     ]
    }
   ],
   "source": [
    "#calculate the sum of all numbers from 1 to given number\n",
    "n=int(input(\"enter a number\"))\n",
    "sum=0\n",
    "for i in range(1,n+1):\n",
    "    sum=sum+i\n",
    "print(\"sum of numbers is\",sum)"
   ]
  },
  {
   "cell_type": "code",
   "execution_count": 13,
   "id": "58ffa52d-164b-4a41-aa6d-c6831f9b8929",
   "metadata": {},
   "outputs": [
    {
     "name": "stdin",
     "output_type": "stream",
     "text": [
      "enter a number 5\n"
     ]
    },
    {
     "name": "stdout",
     "output_type": "stream",
     "text": [
      "product of numbers 120\n"
     ]
    }
   ],
   "source": [
    "#calculate the product of numbers from 1 to given number(factorial)\n",
    "n=int(input(\"enter a number\"))\n",
    "product=1\n",
    "for i in range(1,n+1):\n",
    "    product=product*i\n",
    "print(\"product of numbers\",product)"
   ]
  },
  {
   "cell_type": "code",
   "execution_count": 47,
   "id": "4662e546-b311-4f97-8c4f-e7f8a60dad99",
   "metadata": {},
   "outputs": [
    {
     "name": "stdin",
     "output_type": "stream",
     "text": [
      "enter a number 5\n"
     ]
    },
    {
     "name": "stdout",
     "output_type": "stream",
     "text": [
      "120\n"
     ]
    }
   ],
   "source": [
    "n=int(input(\"enter a number\"))\n",
    "product=1\n",
    "for i in range(5,0,-1):\n",
    "    product=product*i\n",
    "print(product)"
   ]
  },
  {
   "cell_type": "code",
   "execution_count": 55,
   "id": "a8def44b-eae6-4125-89a8-8a98435fde41",
   "metadata": {},
   "outputs": [
    {
     "name": "stdout",
     "output_type": "stream",
     "text": [
      "2\n",
      "4\n",
      "6\n",
      "8\n"
     ]
    }
   ],
   "source": [
    "#use a lo0p to display elemens from a given list present at odd index\n",
    "list=[1,2,3,4,5,6,7,8,9]\n",
    "for i in list:\n",
    "    if i%2==0:\n",
    "        print(i)\n",
    "\n",
    "        \n"
   ]
  },
  {
   "cell_type": "code",
   "execution_count": 91,
   "id": "6490bfe8-79a2-4aca-b33c-155f3e3ad094",
   "metadata": {},
   "outputs": [
    {
     "name": "stdout",
     "output_type": "stream",
     "text": [
      "squares of a given number [1, 4, 9, 16, 25, 36, 49, 64, 81]\n",
      "cubes of a given number [1, 8, 27, 64, 125, 216, 343, 512, 729]\n"
     ]
    }
   ],
   "source": [
    "#calculate square and cubes of of a given range\n",
    "squares=[]\n",
    "cubes=[]\n",
    "for i in range(1,10):\n",
    "    square=i**2\n",
    "    squares.append(square)\n",
    "    cube=i**3\n",
    "    cubes.append(cube)\n",
    "    \n",
    "    \n",
    "print(\"squares of a given number\",squares)\n",
    "print(\"cubes of a given number\",cubes)\n",
    "    \n",
    "\n"
   ]
  },
  {
   "cell_type": "code",
   "execution_count": 123,
   "id": "7dd1e99a-445d-4dfd-9940-d5ed00c22223",
   "metadata": {},
   "outputs": [
    {
     "name": "stdout",
     "output_type": "stream",
     "text": [
      "maximum number is 200\n"
     ]
    }
   ],
   "source": [
    "#print maximum number from a given list\n",
    "a=[35,63,200,78,25,99,100]\n",
    "#max(a)\n",
    "max=1\n",
    "for i in a:\n",
    "    if (i>max):\n",
    "        max=i\n",
    "print(\"maximum number is\",max)"
   ]
  },
  {
   "cell_type": "code",
   "execution_count": 135,
   "id": "a5a57552-d1be-4a20-b139-7638235bd5f5",
   "metadata": {},
   "outputs": [
    {
     "data": {
      "text/plain": [
       "2.5"
      ]
     },
     "execution_count": 135,
     "metadata": {},
     "output_type": "execute_result"
    }
   ],
   "source": [
    "#average of the numbers in a list by using for\n",
    "list1=[1,2,3,4]\n",
    "#length=len(list1)\n",
    "length=0\n",
    "sum1=0\n",
    "for i in list1:\n",
    "    sum1=sum1+i\n",
    "    length=length+1\n",
    "avg=sum1/length\n",
    "avg\n",
    "    "
   ]
  },
  {
   "cell_type": "code",
   "execution_count": 155,
   "id": "8880ebfa-185f-4d1f-80c6-08872d3c0b66",
   "metadata": {},
   "outputs": [
    {
     "name": "stdin",
     "output_type": "stream",
     "text": [
      "enter a string srinija gaju\n"
     ]
    },
    {
     "name": "stdout",
     "output_type": "stream",
     "text": [
      "['i', 'i', 'a', 'a', 'u']\n",
      "5\n"
     ]
    }
   ],
   "source": [
    "#take a string and count vowels iside it\n",
    "vowels=[]\n",
    "my_string=input(\"enter a string\")\n",
    "for i in my_string.lower():\n",
    "    if i==\"a\" or i==\"e\" or i==\"i\" or i==\"o\" or i==\"u\":\n",
    "           vowels.append(i)\n",
    "print(vowels)\n",
    "print(len(vowels))"
   ]
  },
  {
   "cell_type": "code",
   "execution_count": 123,
   "id": "315d1d7b-be04-4d2b-9764-359945943d03",
   "metadata": {},
   "outputs": [
    {
     "data": {
      "text/plain": [
       "0"
      ]
     },
     "execution_count": 123,
     "metadata": {},
     "output_type": "execute_result"
    }
   ],
   "source": [
    "#print prime numbers between 1 and 30\n",
    "n=123\n",
    "i=n//10\n",
    "i1=i//10\n",
    "i2=i1//10\n",
    "i2\n",
    "\n"
   ]
  },
  {
   "cell_type": "code",
   "execution_count": 153,
   "id": "08dfda63-261b-4d68-8541-c9f6145d7bc4",
   "metadata": {},
   "outputs": [
    {
     "name": "stdin",
     "output_type": "stream",
     "text": [
      "enter a number 50000\n"
     ]
    },
    {
     "name": "stdout",
     "output_type": "stream",
     "text": [
      "5\n"
     ]
    }
   ],
   "source": [
    "#to count number of digits in a number\n",
    "n=int(input(\"enter a number\"))\n",
    "i=0\n",
    "while(n>0):\n",
    "    n=n//10\n",
    "    i=i+1\n",
    "print(i)\n",
    "    "
   ]
  },
  {
   "cell_type": "code",
   "execution_count": 167,
   "id": "d39abfb8-c86e-458c-b42c-593e18ec1d92",
   "metadata": {},
   "outputs": [
    {
     "name": "stdout",
     "output_type": "stream",
     "text": [
      "1\n",
      "3\n",
      "5\n",
      "7\n",
      "9\n",
      "11\n",
      "13\n",
      "15\n",
      "17\n",
      "19\n",
      "21\n",
      "23\n",
      "25\n",
      "27\n",
      "29\n"
     ]
    }
   ],
   "source": [
    "for i in range(1,30):\n",
    "    if i%2!=0:\n",
    "        print(i)"
   ]
  },
  {
   "cell_type": "code",
   "execution_count": 173,
   "id": "6c084dd8-d151-451c-a329-7ad0600791a4",
   "metadata": {},
   "outputs": [
    {
     "name": "stdin",
     "output_type": "stream",
     "text": [
      "enter a string srinija\n"
     ]
    },
    {
     "name": "stdout",
     "output_type": "stream",
     "text": [
      "ajinirs\n"
     ]
    }
   ],
   "source": [
    "#reverse of a strin\n",
    "my_string=input(\"enter a string\")\n",
    "i=len(my_string)-1\n",
    "reversed_string=[]\n",
    "#my_string=input(\"enter a string\")\n",
    "while i>=0:\n",
    "    reversed_string+=my_string[i]\n",
    "    i=i-1\n",
    "print(\"\".join(reversed_string))"
   ]
  },
  {
   "cell_type": "code",
   "execution_count": null,
   "id": "016b05fd-3810-4e8f-b803-87dd2395fda9",
   "metadata": {},
   "outputs": [],
   "source": [
    "#num=int(input(\"enter a number\"))\n",
    "fact1=1\n",
    "for i in range(5):\n",
    "     fact=fact*i\n",
    "     print(fact)\n",
    "    "
   ]
  },
  {
   "cell_type": "code",
   "execution_count": 23,
   "id": "530deb46-91a0-428b-a5d6-2df30e7628ec",
   "metadata": {},
   "outputs": [
    {
     "name": "stdout",
     "output_type": "stream",
     "text": [
      "1\n"
     ]
    }
   ],
   "source": [
    "#i=3//2\n",
    "print(i%2)"
   ]
  },
  {
   "cell_type": "code",
   "execution_count": 37,
   "id": "dcdbf4a7-600a-4be9-9f2a-90988480e5b1",
   "metadata": {},
   "outputs": [
    {
     "data": {
      "text/plain": [
       "True"
      ]
     },
     "execution_count": 37,
     "metadata": {},
     "output_type": "execute_result"
    }
   ],
   "source": []
  },
  {
   "cell_type": "code",
   "execution_count": 10,
   "id": "86728284-823a-431a-ba79-127c3912c10c",
   "metadata": {},
   "outputs": [
    {
     "ename": "IndentationError",
     "evalue": "unindent does not match any outer indentation level (<string>, line 6)",
     "output_type": "error",
     "traceback": [
      "\u001b[1;36m  File \u001b[1;32m<string>:6\u001b[1;36m\u001b[0m\n\u001b[1;33m    if fact>2:\u001b[0m\n\u001b[1;37m              ^\u001b[0m\n\u001b[1;31mIndentationError\u001b[0m\u001b[1;31m:\u001b[0m unindent does not match any outer indentation level\n"
     ]
    }
   ],
   "source": [
    "#num=int(input(\"enter a number\"))\n",
    "fact=1\n",
    "for i in range(1,5):\n",
    "     fact=fact*i\n",
    "     print(fact)\n",
    "    if fact>2:\n",
    "        print(\"it is nt a prime number\")"
   ]
  },
  {
   "cell_type": "code",
   "execution_count": null,
   "id": "a7cefd54-fb58-474f-ae7d-7149856fa57b",
   "metadata": {},
   "outputs": [],
   "source": []
  }
 ],
 "metadata": {
  "kernelspec": {
   "display_name": "Python 3 (ipykernel)",
   "language": "python",
   "name": "python3"
  },
  "language_info": {
   "codemirror_mode": {
    "name": "ipython",
    "version": 3
   },
   "file_extension": ".py",
   "mimetype": "text/x-python",
   "name": "python",
   "nbconvert_exporter": "python",
   "pygments_lexer": "ipython3",
   "version": "3.12.4"
  }
 },
 "nbformat": 4,
 "nbformat_minor": 5
}
