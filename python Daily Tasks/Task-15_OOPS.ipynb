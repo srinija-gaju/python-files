{
 "cells": [
  {
   "cell_type": "markdown",
   "id": "14783658-ac3d-471d-8368-79362e5c107d",
   "metadata": {},
   "source": [
    "# Task-15_OOPS"
   ]
  },
  {
   "cell_type": "markdown",
   "id": "89d7fbf1-723b-49bc-9dfc-8befa9f04c0a",
   "metadata": {},
   "source": [
    "**Q1.**\n",
    "**Write a Python program to create a ‘Vehicle’ class with static variables max_speed and mileage instance attributes. Print the attributes.\n",
    "Example output:**\n",
    "**max_speed = 240\n",
    "mileage = 18**\n"
   ]
  },
  {
   "cell_type": "code",
   "execution_count": 7,
   "id": "1354fb1e-d404-4be2-b8a3-67d61ac5e6b4",
   "metadata": {},
   "outputs": [
    {
     "name": "stdout",
     "output_type": "stream",
     "text": [
      "max_speed= 240\n",
      "mileage= 18\n"
     ]
    }
   ],
   "source": [
    "class vehicle:\n",
    "    max_speed=240\n",
    "    mileage=18\n",
    "v1=vehicle()\n",
    "print(\"max_speed=\",v1.max_speed)\n",
    "print(\"mileage=\",v1.mileage)"
   ]
  },
  {
   "cell_type": "markdown",
   "id": "01f2ae66-79f6-42f4-a7a6-5be0bdd698af",
   "metadata": {},
   "source": [
    "**Q2.** \n",
    "**a.Create a Python class called 'Car' with attributes 'make' and 'model'. Instantiate an object of this class and print its attributes.**\n",
    "\n",
    "**b.Expand the 'Car' class by adding a method called ‘display_info’ that prints the make and model of the car. Create an object and call this method.**\n"
   ]
  },
  {
   "cell_type": "code",
   "execution_count": 30,
   "id": "3483a6e1-01a2-4960-8cac-84a971381f37",
   "metadata": {},
   "outputs": [
    {
     "name": "stdout",
     "output_type": "stream",
     "text": [
      "Bayerische Motoren Werke AG\n",
      "BMW\n"
     ]
    }
   ],
   "source": [
    "#a\n",
    "class car:\n",
    "        make=\"Bayerische Motoren Werke AG\"\n",
    "        model=\"BMW\"\n",
    "c1=car()\n",
    "print(c1.make)\n",
    "print(c1.model)"
   ]
  },
  {
   "cell_type": "code",
   "execution_count": 152,
   "id": "e0ed84c8-1862-4b5c-b53b-5bb5a112ff75",
   "metadata": {},
   "outputs": [
    {
     "name": "stdout",
     "output_type": "stream",
     "text": [
      "DaimlerAG\n",
      "Benz\n",
      "make=DaimlerAG  model=Benz\n"
     ]
    }
   ],
   "source": [
    "#b\n",
    "class car:\n",
    "       make=\"DaimlerAG\"\n",
    "       model=\"Benz\"\n",
    "       \n",
    "       def display_info(self):\n",
    "          return \"make=\"+self.make+\"  model=\"+self.model\n",
    "          \n",
    "c1=car()\n",
    "print(c1.make)\n",
    "print(c1.model)\n",
    "print(c1.display_info())\n"
   ]
  },
  {
   "cell_type": "markdown",
   "id": "60f4c837-2571-4961-bcaf-090a681d093f",
   "metadata": {},
   "source": [
    "**Q3**\n",
    "**a.Modify the ‘Car’ class to include a constructor (__init__) that initializes the make and model attributes. Instantiate an object using the constructor.**\n",
    "\n",
    "**b.Add a method 'get_total_cars' to the 'Car' class that returns the total number of cars created.**\n"
   ]
  },
  {
   "cell_type": "code",
   "execution_count": 163,
   "id": "b3d9a5f9-2e65-461c-b560-735cc8497335",
   "metadata": {},
   "outputs": [
    {
     "name": "stdout",
     "output_type": "stream",
     "text": [
      "Audi AG\n",
      "Audi\n"
     ]
    }
   ],
   "source": [
    "class car:\n",
    "    def __init__(self,make,model):\n",
    "        self.make=make\n",
    "        self.model=model\n",
    "\n",
    "c1=car(make=\"Audi AG\",model=\"Audi\")\n",
    "print(c1.make)\n",
    "print(c1.model)"
   ]
  },
  {
   "cell_type": "code",
   "execution_count": 120,
   "id": "95809bdb-8f7d-4313-8cca-4efda80e1a7d",
   "metadata": {},
   "outputs": [
    {
     "name": "stdout",
     "output_type": "stream",
     "text": [
      "2\n"
     ]
    }
   ],
   "source": [
    "#b\n",
    "class car:\n",
    "    def __init__(self,make,model,count):\n",
    "        self.make=make\n",
    "        self.model=model\n",
    "        self.count=count\n",
    "    def get_total_cars(self):\n",
    "         return count1+count2\n",
    "c1=car(make=\"Audi AG\",model=\"Audi\",count=1\n",
    "count1=c1.count\n",
    "\n",
    "c2=car(make=\"Daimler AG\",model=\"Benz\",count=1)\n",
    "count2=c2.count\n",
    "print(c2.get_total_cars())\n"
   ]
  },
  {
   "cell_type": "code",
   "execution_count": null,
   "id": "56d67848-89af-4e43-ab99-3822770387f7",
   "metadata": {},
   "outputs": [],
   "source": [
    "#b\n"
   ]
  }
 ],
 "metadata": {
  "kernelspec": {
   "display_name": "Python 3 (ipykernel)",
   "language": "python",
   "name": "python3"
  },
  "language_info": {
   "codemirror_mode": {
    "name": "ipython",
    "version": 3
   },
   "file_extension": ".py",
   "mimetype": "text/x-python",
   "name": "python",
   "nbconvert_exporter": "python",
   "pygments_lexer": "ipython3",
   "version": "3.12.4"
  }
 },
 "nbformat": 4,
 "nbformat_minor": 5
}
