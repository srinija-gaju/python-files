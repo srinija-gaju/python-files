{
 "cells": [
  {
   "cell_type": "markdown",
   "id": "d2e7cbea-f59b-4abe-b422-10eb0559c188",
   "metadata": {},
   "source": [
    "# Task-18 NUMPY"
   ]
  },
  {
   "cell_type": "code",
   "execution_count": 3,
   "id": "5e32bb82-0203-4ee9-b857-9e2ebb46383c",
   "metadata": {},
   "outputs": [],
   "source": [
    "import numpy as np"
   ]
  },
  {
   "cell_type": "markdown",
   "id": "43a08583-e25a-4773-89bf-e4c62d3ce521",
   "metadata": {},
   "source": [
    "**Q1.** \n",
    "**a. Create a 1D array using arange().**\n",
    "\n",
    "   **- Use the flip() function to reverse the order of elements in a 1D array.**\n",
    "   \n",
    "   **- Achieve the same above output without using flip().**"
   ]
  },
  {
   "cell_type": "code",
   "execution_count": 33,
   "id": "a867ed34-7360-416e-852c-ec36aa001598",
   "metadata": {},
   "outputs": [
    {
     "name": "stdout",
     "output_type": "stream",
     "text": [
      "[0 1 2 3 4]\n",
      "arr_1D with flip(): [4 3 2 1 0]\n",
      "arr_1D without flip(): [4 3 2 1 0]\n"
     ]
    }
   ],
   "source": [
    "arr_1D=np.arange(5)\n",
    "print(arr_1D)\n",
    "print(\"arr_1D with flip():\",np.flip(arr_1D))\n",
    "print(\"arr_1D without flip():\",arr_1D[::-1])"
   ]
  },
  {
   "cell_type": "code",
   "execution_count": null,
   "id": "9268b9f4-79c1-447e-a6af-b3152a8637ef",
   "metadata": {},
   "outputs": [],
   "source": []
  },
  {
   "cell_type": "markdown",
   "id": "4fecfc91-2c20-4dec-ae12-05cf8c379018",
   "metadata": {},
   "source": [
    "**b.**\n",
    "\n",
    "**- Create a boolean array indicating which elements of the above 1D array are greater than 3.**\n",
    "\n",
    "**- Replace all even numbers in the array with -1**"
   ]
  },
  {
   "cell_type": "code",
   "execution_count": 352,
   "id": "e511470a-b8b9-429e-94dc-df3dc6f066cc",
   "metadata": {},
   "outputs": [
    {
     "name": "stdout",
     "output_type": "stream",
     "text": [
      "[1 2 3 4 5 6 7 8]\n",
      "\n",
      "[False False False  True  True  True  True  True]\n",
      "\n",
      "***Replacing all even numbers in the array with -1 usig oolean indexing**\n",
      "[ 1 -1  3 -1  5 -1  7 -1]\n"
     ]
    }
   ],
   "source": [
    "arr=np.array([1,2,3,4,5,6,7,8])\n",
    "print(arr)\n",
    "print()\n",
    "print(arr>3)\n",
    "print()\n",
    "print(\"***Replacing all even numbers in the array with -1 using boolean indexing**\")\n",
    "arr[arr%2==0]=-1\n",
    "print(arr)\n"
   ]
  },
  {
   "cell_type": "code",
   "execution_count": 356,
   "id": "332d7e2d-7281-4600-92af-c367a0d06052",
   "metadata": {},
   "outputs": [
    {
     "name": "stdout",
     "output_type": "stream",
     "text": [
      "\n",
      "***Replacing all even numbers in the array with -1 using where function**\n"
     ]
    },
    {
     "data": {
      "text/plain": [
       "array(['1', '-1', '3', '-1', '5', '-1', '7', '-1'], dtype='<U11')"
      ]
     },
     "execution_count": 356,
     "metadata": {},
     "output_type": "execute_result"
    }
   ],
   "source": [
    "print()\n",
    "print(\"***Replacing all even numbers in the array with -1 using where function**\")\n",
    "np.where(arr%2==0,\"-1\",arr)"
   ]
  },
  {
   "cell_type": "markdown",
   "id": "da705f08-7681-4f52-966a-f9613ca1fa00",
   "metadata": {},
   "source": [
    "**Q2.a. Generate a 2D array with random elements.** \n",
    "\n",
    "   **- Transpose the array.**\n",
    "   \n",
    "   **- Flatten the array**"
   ]
  },
  {
   "cell_type": "code",
   "execution_count": 388,
   "id": "e78ba70f-ce8d-42af-8ba3-e066fdf692ac",
   "metadata": {},
   "outputs": [
    {
     "name": "stdout",
     "output_type": "stream",
     "text": [
      "[[0 1 2]\n",
      " [3 4 5]\n",
      " [6 7 8]]\n"
     ]
    }
   ],
   "source": [
    "arr_2d=np.arange(9).reshape(3,3)\n",
    "print(arr_2d)"
   ]
  },
  {
   "cell_type": "code",
   "execution_count": 390,
   "id": "f8e6c3f1-ee23-4827-9fa5-6270f8f1a693",
   "metadata": {},
   "outputs": [
    {
     "name": "stdout",
     "output_type": "stream",
     "text": [
      "[[0 3 6]\n",
      " [1 4 7]\n",
      " [2 5 8]]\n"
     ]
    }
   ],
   "source": [
    "print(arr_2d.transpose())"
   ]
  },
  {
   "cell_type": "code",
   "execution_count": 392,
   "id": "795fec5a-8866-4231-a1f7-7eef6014e955",
   "metadata": {},
   "outputs": [
    {
     "name": "stdout",
     "output_type": "stream",
     "text": [
      "[0 1 2 3 4 5 6 7 8]\n"
     ]
    }
   ],
   "source": [
    "print(arr_2d.flatten())"
   ]
  },
  {
   "cell_type": "markdown",
   "id": "cf69a7eb-9a78-4305-a7e9-cf169083a2f3",
   "metadata": {},
   "source": [
    "**b.**\n",
    "\n",
    "**- Include a value of 99 at index 2 in the above array.**\n",
    "    \n",
    "**- Add a value of 100 to the end of a given array.**\n",
    "    \n",
    "**- Delete the element at index 3 from the array.**"
   ]
  },
  {
   "cell_type": "code",
   "execution_count": 395,
   "id": "d0ed2dde-9520-4067-a6e4-cc99dd86a2ea",
   "metadata": {},
   "outputs": [
    {
     "name": "stdout",
     "output_type": "stream",
     "text": [
      "[[0 1 2]\n",
      " [3 4 5]\n",
      " [6 7 8]]\n"
     ]
    },
    {
     "data": {
      "text/plain": [
       "array([[ 0,  1, 22],\n",
       "       [ 3,  4,  5],\n",
       "       [ 6,  7,  8]])"
      ]
     },
     "execution_count": 395,
     "metadata": {},
     "output_type": "execute_result"
    }
   ],
   "source": [
    "#Include a value of 99 at index 2 in the above array by boolean indexing\n",
    "print(arr_2d)\n",
    "arr_2d[[0],[2]]=22\n",
    "arr_2d"
   ]
  },
  {
   "cell_type": "code",
   "execution_count": 411,
   "id": "2aa5042a-ba35-42d4-a28e-6718f58fc05c",
   "metadata": {},
   "outputs": [
    {
     "name": "stdout",
     "output_type": "stream",
     "text": [
      "[[ 0  1 22]\n",
      " [ 3  4  5]\n",
      " [ 6  7  8]]\n"
     ]
    },
    {
     "data": {
      "text/plain": [
       "array([ 0,  1, 55, 22,  3,  4,  5,  6,  7,  8])"
      ]
     },
     "execution_count": 411,
     "metadata": {},
     "output_type": "execute_result"
    }
   ],
   "source": [
    "#replacing with insert-but it will convert the into 1D-array\n",
    "print(arr_2d)\n",
    "a=np.insert(arr_2d,obj=2,values=55)\n",
    "a"
   ]
  },
  {
   "cell_type": "code",
   "execution_count": 431,
   "id": "7c9210de-2431-415a-abaa-87664b3257cc",
   "metadata": {},
   "outputs": [
    {
     "name": "stdout",
     "output_type": "stream",
     "text": [
      "[[  0   1  22]\n",
      " [  3   4   5]\n",
      " [  6   7 100]]\n",
      "\n"
     ]
    },
    {
     "data": {
      "text/plain": [
       "array([[  0,   1,  22],\n",
       "       [  3,   4,   5],\n",
       "       [  6,   7, 100]])"
      ]
     },
     "execution_count": 431,
     "metadata": {},
     "output_type": "execute_result"
    }
   ],
   "source": [
    "##Add a value of 100 to the end of a given array.-using boolean indexing\n",
    "print(arr_2d)\n",
    "print()\n",
    "arr_2d[[2],[2]]=100\n",
    "arr_2d"
   ]
  },
  {
   "cell_type": "code",
   "execution_count": 413,
   "id": "d62dcdf2-59c2-4296-a06d-5dce60a31b6c",
   "metadata": {},
   "outputs": [
    {
     "name": "stdout",
     "output_type": "stream",
     "text": [
      "[[ 0  1 22]\n",
      " [ 3  4  5]\n",
      " [ 6  7  8]]\n"
     ]
    },
    {
     "data": {
      "text/plain": [
       "array([  0,   1,  22,   3,   4,   5,   6,   7,   8, 100])"
      ]
     },
     "execution_count": 413,
     "metadata": {},
     "output_type": "execute_result"
    }
   ],
   "source": [
    "#Add a value of 100 to the end of a given array.-converts into 1D array\n",
    "print(arr_2d)\n",
    "b=np.append(arr_2d,100)\n",
    "b"
   ]
  },
  {
   "cell_type": "code",
   "execution_count": 493,
   "id": "56034f9d-2638-401a-af4d-7fee5444b0e2",
   "metadata": {},
   "outputs": [
    {
     "data": {
      "text/plain": [
       "array([ 1,  2,  3,  5,  6,  7,  8,  9, 10])"
      ]
     },
     "execution_count": 493,
     "metadata": {},
     "output_type": "execute_result"
    }
   ],
   "source": [
    "#It is only removing element in the 1D array\n",
    "arr=np.array([1,2,3,4,5,6,7,8,9,10])\n",
    "indexarray=[0,1,2,4,5,6,7,8,9]\n",
    "arr=arr[indexarray]\n",
    "arr"
   ]
  },
  {
   "cell_type": "code",
   "execution_count": null,
   "id": "12e7df4a-6108-40a7-bb2d-a61594653f67",
   "metadata": {},
   "outputs": [],
   "source": []
  },
  {
   "cell_type": "code",
   "execution_count": 561,
   "id": "79ac7e0a-bc0d-4aba-9887-e005428b93aa",
   "metadata": {},
   "outputs": [
    {
     "name": "stdout",
     "output_type": "stream",
     "text": [
      "[[  0   1  22]\n",
      " [  3   4   5]\n",
      " [  6   7 100]]\n"
     ]
    },
    {
     "data": {
      "text/plain": [
       "array([  0,   1,  22,   4,   5,   6,   7, 100])"
      ]
     },
     "execution_count": 561,
     "metadata": {},
     "output_type": "execute_result"
    }
   ],
   "source": [
    "#removing element by using delete method\n",
    "print(arr_2d)\n",
    "c=np.delete(arr_2d,3)\n",
    "c"
   ]
  },
  {
   "cell_type": "markdown",
   "id": "c6169f2f-b675-4d30-a085-3b3a73e547e7",
   "metadata": {},
   "source": [
    "**Q3.a. Create a 2D array. Iterate through the elements of the array and print elements using both nditer() and for loop.**\n"
   ]
  },
  {
   "cell_type": "code",
   "execution_count": 60,
   "id": "13c5da54-b2ac-4cfe-b62b-6d7ab92a7fbc",
   "metadata": {},
   "outputs": [
    {
     "name": "stdout",
     "output_type": "stream",
     "text": [
      "[73 31 44]\n",
      "[73 34 28]\n",
      "[79 72 65]\n"
     ]
    }
   ],
   "source": [
    "arr_3=np.random.randint(100,size=(3,3))\n",
    "#prints the elements in the row wise\n",
    "for i in arr_3:\n",
    "    print(i)"
   ]
  },
  {
   "cell_type": "code",
   "execution_count": 62,
   "id": "75e8f777-289f-40e4-8a39-77173f75cd11",
   "metadata": {},
   "outputs": [
    {
     "name": "stdout",
     "output_type": "stream",
     "text": [
      "73\n",
      "31\n",
      "44\n",
      "73\n",
      "34\n",
      "28\n",
      "79\n",
      "72\n",
      "65\n"
     ]
    }
   ],
   "source": [
    "for i in arr_3:\n",
    "    for j in  i:\n",
    "        print(j)"
   ]
  },
  {
   "cell_type": "code",
   "execution_count": 64,
   "id": "ebbd7ffd-8f46-41a3-a4fd-dbedee6afaa2",
   "metadata": {},
   "outputs": [
    {
     "name": "stdout",
     "output_type": "stream",
     "text": [
      "73 31 44 \n",
      "73 34 28 \n",
      "79 72 65 \n"
     ]
    }
   ],
   "source": [
    "# To access every element we have to use another for loop\n",
    "for i in arr_3:\n",
    "    for j in  i:\n",
    "        print(j,end=\" \")\n",
    "    print()"
   ]
  },
  {
   "cell_type": "code",
   "execution_count": 66,
   "id": "37c70727-7f41-48f8-ae43-3e9cf7469d49",
   "metadata": {},
   "outputs": [
    {
     "name": "stdout",
     "output_type": "stream",
     "text": [
      "(0, 0) 73\n",
      "(0, 1) 31\n",
      "(0, 2) 44\n",
      "(1, 0) 73\n",
      "(1, 1) 34\n",
      "(1, 2) 28\n",
      "(2, 0) 79\n",
      "(2, 1) 72\n",
      "(2, 2) 65\n"
     ]
    }
   ],
   "source": [
    "#to print index and element\n",
    "for i,j in np.ndenumerate(arr_3):\n",
    "    print(i,j)\n"
   ]
  },
  {
   "cell_type": "code",
   "execution_count": 161,
   "id": "40ac3c61-d023-43a4-ac87-288061b1c133",
   "metadata": {},
   "outputs": [
    {
     "name": "stdout",
     "output_type": "stream",
     "text": [
      "13\n",
      "4\n",
      "30\n",
      "28\n",
      "13\n",
      "2\n",
      "1\n",
      "27\n",
      "23\n"
     ]
    }
   ],
   "source": [
    "#prints elements in row wise\n",
    "for i in np.nditer(arr_3):\n",
    "    print(i)"
   ]
  },
  {
   "cell_type": "code",
   "execution_count": 179,
   "id": "826c6092-67f5-4cfc-84c8-9a436ee08f7c",
   "metadata": {},
   "outputs": [
    {
     "name": "stdout",
     "output_type": "stream",
     "text": [
      "13\n",
      "4\n",
      "30\n",
      "28\n",
      "13\n",
      "2\n",
      "1\n",
      "27\n",
      "23\n"
     ]
    }
   ],
   "source": [
    "#prits every elements in row wise\n",
    "for i in np.nditer(arr_3):\n",
    "    print(i)"
   ]
  },
  {
   "cell_type": "markdown",
   "id": "7cca79bb-728e-494f-8903-b2aa302c26cb",
   "metadata": {},
   "source": [
    "**b. Generate two arrays with random float elements in it.**\n",
    "\n",
    "**-perform all python operations(\"*\" + - / % //).**\n",
    "\n",
    "**- Also apply all mathematical functions on the two arrays**"
   ]
  },
  {
   "cell_type": "code",
   "execution_count": 712,
   "id": "19035fce-3020-4468-9555-7ba721aa9f2c",
   "metadata": {},
   "outputs": [
    {
     "name": "stdout",
     "output_type": "stream",
     "text": [
      "[[0.14781876 0.56126317 0.28260707]\n",
      " [0.60330054 0.74592181 0.80283431]\n",
      " [0.31504438 0.19713987 0.33905859]]\n",
      "\n",
      "[[0.85329785 0.61799098 0.61460607]\n",
      " [0.20601985 0.12277918 0.07753033]\n",
      " [0.39359741 0.00206054 0.5845483 ]]\n"
     ]
    }
   ],
   "source": [
    "a=np.random.rand(3,3)\n",
    "b=np.random.rand(3,3)\n",
    "print(a)\n",
    "print()\n",
    "print(b)"
   ]
  },
  {
   "cell_type": "code",
   "execution_count": 265,
   "id": "7f0c6a7e-747f-4f8c-8a56-1ad9b1d68bfa",
   "metadata": {},
   "outputs": [
    {
     "name": "stdout",
     "output_type": "stream",
     "text": [
      "[[0.02068251 0.00626875 0.34277171]\n",
      " [0.02962767 0.16993985 0.09975256]\n",
      " [0.65404177 0.43086245 0.06013546]]\n",
      "\n",
      "[[0.02068251 0.00626875 0.34277171]\n",
      " [0.02962767 0.16993985 0.09975256]\n",
      " [0.65404177 0.43086245 0.06013546]]\n"
     ]
    }
   ],
   "source": [
    "#multiplication\n",
    "print(np.multiply(a,b))\n",
    "print()\n",
    "print(a*b)"
   ]
  },
  {
   "cell_type": "code",
   "execution_count": 269,
   "id": "ce4dfecf-1fae-4817-85bc-cfb3d9d9b295",
   "metadata": {},
   "outputs": [
    {
     "name": "stdout",
     "output_type": "stream",
     "text": [
      "[[ 0.57146184  0.21431363 -0.40746198]\n",
      " [-0.49813036  0.59552521  0.52522225]\n",
      " [ 0.25738278  0.52053919  0.22968483]]\n",
      "\n",
      "[[ 0.57146184  0.21431363 -0.40746198]\n",
      " [-0.49813036  0.59552521  0.52522225]\n",
      " [ 0.25738278  0.52053919  0.22968483]]\n"
     ]
    }
   ],
   "source": [
    "#suntraction\n",
    "print(np.subtract(a,b))\n",
    "print()\n",
    "print(a-b)"
   ]
  },
  {
   "cell_type": "code",
   "execution_count": 273,
   "id": "e2e2e6ef-39f2-4687-b3a9-1e5fc2955d5c",
   "metadata": {},
   "outputs": [
    {
     "name": "stdout",
     "output_type": "stream",
     "text": [
      "[[17.73320936  9.21839904  0.50528674]\n",
      " [ 0.09729734  3.82551373  4.54542545]\n",
      " [ 1.37290379  2.16752493  2.47288551]]\n",
      "\n",
      "[[17.73320936  9.21839904  0.50528674]\n",
      " [ 0.09729734  3.82551373  4.54542545]\n",
      " [ 1.37290379  2.16752493  2.47288551]]\n"
     ]
    }
   ],
   "source": [
    "#division\n",
    "print(np.divide(a,b))\n",
    "print()\n",
    "print(a/b)"
   ]
  },
  {
   "cell_type": "code",
   "execution_count": 275,
   "id": "3b47c7cf-889d-4571-a613-3358c0d0ff31",
   "metadata": {},
   "outputs": [
    {
     "name": "stdout",
     "output_type": "stream",
     "text": [
      "[[0.63976456 0.26646822 1.23980326]\n",
      " [0.60551181 1.01705932 0.82150391]\n",
      " [1.63780737 1.41223611 0.54156898]]\n",
      "\n",
      "[[0.63976456 0.26646822 1.23980326]\n",
      " [0.60551181 1.01705932 0.82150391]\n",
      " [1.63780737 1.41223611 0.54156898]]\n"
     ]
    }
   ],
   "source": [
    "#addition\n",
    "print(np.add(a,b))\n",
    "print()\n",
    "print(a+b)"
   ]
  },
  {
   "cell_type": "code",
   "execution_count": 281,
   "id": "0d94fb11-8cce-4d68-a49f-3c5dcd15cfe1",
   "metadata": {},
   "outputs": [
    {
     "name": "stdout",
     "output_type": "stream",
     "text": [
      "[[17.  9.  0.]\n",
      " [ 0.  3.  4.]\n",
      " [ 1.  2.  2.]]\n",
      "\n",
      "[[17.  9.  0.]\n",
      " [ 0.  3.  4.]\n",
      " [ 1.  2.  2.]]\n"
     ]
    }
   ],
   "source": [
    "#floor division\n",
    "print(np.floor_divide(a,b))\n",
    "print()\n",
    "print(a//b)"
   ]
  },
  {
   "cell_type": "code",
   "execution_count": 283,
   "id": "fae82378-5aec-4b1a-aee1-d85ccf7ba6b9",
   "metadata": {},
   "outputs": [
    {
     "name": "stdout",
     "output_type": "stream",
     "text": [
      "[[0.0250401  0.00569526 0.41617064]\n",
      " [0.05369072 0.1739911  0.08079978]\n",
      " [0.25738278 0.07469073 0.07374275]]\n",
      "\n",
      "[[0.0250401  0.00569526 0.41617064]\n",
      " [0.05369072 0.1739911  0.08079978]\n",
      " [0.25738278 0.07469073 0.07374275]]\n"
     ]
    }
   ],
   "source": [
    "#remainder\n",
    "print(np.remainder(a,b))\n",
    "print()\n",
    "print(a%b)"
   ]
  },
  {
   "cell_type": "code",
   "execution_count": 307,
   "id": "e10a3a56-5cf3-443c-8210-f82cc3b719ea",
   "metadata": {},
   "outputs": [
    {
     "name": "stdout",
     "output_type": "stream",
     "text": [
      "5.095130464979675\n",
      "[1.606899   2.01307084 1.47516062]\n",
      "[1.26217477 1.53334607 2.29960963]\n"
     ]
    }
   ],
   "source": [
    "#sum\n",
    "print(np.sum(a)) #sum of all elements\n",
    "print(np.sum(a,axis=0)) #col wise sum\n",
    "print(np.sum(a,axis=1)) #row wise sum"
   ]
  },
  {
   "cell_type": "code",
   "execution_count": 675,
   "id": "4f0831b4-2d7d-46d4-9e2f-563dd111ac04",
   "metadata": {},
   "outputs": [
    {
     "name": "stdout",
     "output_type": "stream",
     "text": [
      "total sum\n",
      "8.818060653335204\n",
      "row wise sum\n",
      "[1.68452377 3.72582143 2.56370217]\n",
      "col wise sum\n",
      "[0.78128028 1.66790916 1.53783424]\n"
     ]
    }
   ],
   "source": [
    "print(\"total sum\")\n",
    "print(np.sum(a)+np.sum(b)) #total sum\n",
    "print(\"row wise sum\")\n",
    "print(np.sum(a,axis=0)+np.sum(a,axis=0)) #col wise sum\n",
    "print(\"col wise sum\")\n",
    "print(np.sum(a,axis=1)) #row wise sum"
   ]
  },
  {
   "cell_type": "code",
   "execution_count": 585,
   "id": "392d4fab-eb37-40fd-b0d4-634dcd3ee974",
   "metadata": {},
   "outputs": [
    {
     "name": "stdout",
     "output_type": "stream",
     "text": [
      "[[0.81269546 0.59077497 0.73888067]\n",
      " [0.60639489 0.69655919 0.77450616]\n",
      " [0.43028423 0.71289234 0.77955115]]\n"
     ]
    }
   ],
   "source": [
    "#matrix multiplication\n",
    "print(np.matmul(a,b))"
   ]
  },
  {
   "cell_type": "code",
   "execution_count": 587,
   "id": "fc66562d-3207-4809-8db3-85cce7afb130",
   "metadata": {},
   "outputs": [
    {
     "name": "stdout",
     "output_type": "stream",
     "text": [
      "[[0.81269546 0.59077497 0.73888067]\n",
      " [0.60639489 0.69655919 0.77450616]\n",
      " [0.43028423 0.71289234 0.77955115]]\n"
     ]
    }
   ],
   "source": [
    "#multiplication multiplication using @ \n",
    "print(a @ b)"
   ]
  },
  {
   "cell_type": "code",
   "execution_count": 657,
   "id": "752630b3-59c9-45f7-8834-c5c3fe32ed98",
   "metadata": {},
   "outputs": [
    {
     "name": "stdout",
     "output_type": "stream",
     "text": [
      "[[2.87660624 2.83152863 3.83189452]\n",
      " [1.70577954 2.74570117 3.31940246]\n",
      " [2.0701373  2.3254075  3.06107818]]\n"
     ]
    }
   ],
   "source": [
    "#dot\n",
    "print(np.dot(a,b))"
   ]
  },
  {
   "cell_type": "code",
   "execution_count": 661,
   "id": "a7c58c73-8b28-47d1-8bcc-fc7744978fda",
   "metadata": {},
   "outputs": [
    {
     "name": "stdout",
     "output_type": "stream",
     "text": [
      "0.04282639970724145\n",
      "\n",
      "[0.0428264  0.19873833 0.55685309]\n",
      "\n",
      "[0.0428264  0.19873833 0.14964336]\n"
     ]
    }
   ],
   "source": [
    "#minimum\n",
    "print(np.min(a))\n",
    "print()\n",
    "print(np.min(a,axis=0))\n",
    "print()\n",
    "print(np.min(a,axis=1))"
   ]
  },
  {
   "cell_type": "code",
   "execution_count": 665,
   "id": "92591529-aa3a-4f57-a60e-3c2415b008bc",
   "metadata": {},
   "outputs": [
    {
     "name": "stdout",
     "output_type": "stream",
     "text": [
      "0.8158267503233232\n",
      "\n",
      "[0.45992833 0.81582675 0.60579584]\n",
      "\n",
      "[0.41074867 0.81582675 0.6363353 ]\n"
     ]
    }
   ],
   "source": [
    "#maximum\n",
    "print(np.max(a))\n",
    "print()\n",
    "print(np.max(a,axis=0))\n",
    "print()\n",
    "print(np.max(a,axis=1))"
   ]
  },
  {
   "cell_type": "code",
   "execution_count": 653,
   "id": "477c4ff6-984c-4fe1-9b3d-8361327bf17c",
   "metadata": {},
   "outputs": [
    {
     "name": "stdout",
     "output_type": "stream",
     "text": [
      "[[1.04375668 2.41367445 2.67813311]\n",
      " [1.91541444 1.21986272 1.74517196]\n",
      " [1.16141996 1.67824974 2.21236105]]\n"
     ]
    }
   ],
   "source": [
    "#exponential\n",
    "print(np.exp(a,b))"
   ]
  },
  {
   "cell_type": "code",
   "execution_count": 551,
   "id": "d12ac40e-3ee2-4bd3-98fe-0f24a8df8dfd",
   "metadata": {},
   "outputs": [
    {
     "name": "stdout",
     "output_type": "stream",
     "text": [
      "====matrix a====\n",
      "[[0 1 2]\n",
      " [3 4 5]\n",
      " [6 7 8]]\n",
      "====transpose of a====\n",
      "[[0 3 6]\n",
      " [1 4 7]\n",
      " [2 5 8]]\n",
      "====matrix a====\n",
      "[[ 0  1  2  3]\n",
      " [ 4  5  6  7]\n",
      " [ 8  9 10 11]\n",
      " [12 13 14 15]]\n",
      "=====transpose of b====\n",
      "[[ 0  4  8 12]\n",
      " [ 1  5  9 13]\n",
      " [ 2  6 10 14]\n",
      " [ 3  7 11 15]]\n"
     ]
    }
   ],
   "source": [
    "#transpose\n",
    "a=np.arange(9).reshape(3,3)\n",
    "b=np.arange(16).reshape(4,4)\n",
    "print(\"====matrix a====\")\n",
    "print(a)\n",
    "print(\"====transpose of a====\")\n",
    "print(a.T)\n",
    "print(\"====matrix a====\")\n",
    "print(b)\n",
    "print(\"=====transpose of b====\")\n",
    "print(b.T)"
   ]
  },
  {
   "cell_type": "code",
   "execution_count": 716,
   "id": "626b8859-83b5-43e1-83ef-3be0929e918a",
   "metadata": {},
   "outputs": [
    {
     "data": {
      "text/plain": [
       "array([[0.14728104, 0.532256  , 0.27886025],\n",
       "       [0.56736344, 0.67864914, 0.71932789],\n",
       "       [0.30985867, 0.1958654 , 0.33259942]])"
      ]
     },
     "execution_count": 716,
     "metadata": {},
     "output_type": "execute_result"
    }
   ],
   "source": [
    "#sin\n",
    "d=np.sin(a,b)\n",
    "d"
   ]
  },
  {
   "cell_type": "code",
   "execution_count": null,
   "id": "c64e7ae5-9c67-448d-b257-bc42a7d3de05",
   "metadata": {},
   "outputs": [],
   "source": []
  },
  {
   "cell_type": "code",
   "execution_count": 720,
   "id": "c299b10d-a6bc-4d88-b37e-663f53612f4e",
   "metadata": {},
   "outputs": [
    {
     "data": {
      "text/plain": [
       "array([[0.98909469, 0.84658346, 0.96033169],\n",
       "       [0.8234675 , 0.73446263, 0.69467071],\n",
       "       [0.95078263, 0.98063079, 0.9430682 ]])"
      ]
     },
     "execution_count": 720,
     "metadata": {},
     "output_type": "execute_result"
    }
   ],
   "source": [
    "#cos\n",
    "e=np.cos(a,b)\n",
    "e"
   ]
  },
  {
   "cell_type": "code",
   "execution_count": 724,
   "id": "3dd4e041-8113-482b-8d5e-1a13ace9381e",
   "metadata": {},
   "outputs": [
    {
     "data": {
      "text/plain": [
       "array([[0.38447206, 0.74917499, 0.531608  ],\n",
       "       [0.77672423, 0.86366765, 0.89601022],\n",
       "       [0.56128814, 0.44400436, 0.58228738]])"
      ]
     },
     "execution_count": 724,
     "metadata": {},
     "output_type": "execute_result"
    }
   ],
   "source": [
    "#sqrt\n",
    "f=np.sqrt(a,b)\n",
    "f"
   ]
  },
  {
   "cell_type": "markdown",
   "id": "14df8d3c-f5b0-45a4-852a-c8138d679087",
   "metadata": {},
   "source": [
    "**Q3.4.Create a random NumPy array. Generate mean, mode, median, variance and standard deviation of that array.**"
   ]
  },
  {
   "cell_type": "code",
   "execution_count": 746,
   "id": "16de3b75-5b8f-4c58-98f8-a965532a622e",
   "metadata": {},
   "outputs": [
    {
     "name": "stdout",
     "output_type": "stream",
     "text": [
      "[[8 3 0]\n",
      " [5 6 1]\n",
      " [1 8 7]]\n"
     ]
    }
   ],
   "source": [
    "s=np.random.randint(10,size=(3,3))\n",
    "print(s)"
   ]
  },
  {
   "cell_type": "code",
   "execution_count": 748,
   "id": "f5c3a4d6-ecb8-4d2d-bc7b-6cdaa7ff67ea",
   "metadata": {},
   "outputs": [
    {
     "name": "stdout",
     "output_type": "stream",
     "text": [
      "===total mean===\n",
      "\n",
      "4.333333333333333\n",
      "\n",
      "===col wise mean===\n",
      "\n",
      "[4.66666667 5.66666667 2.66666667]\n",
      "\n",
      "===row wise mean===\n",
      "\n",
      "[3.66666667 4.         5.33333333]\n"
     ]
    }
   ],
   "source": [
    "#mean\n",
    "\n",
    "print(\"===total mean===\")\n",
    "print()\n",
    "a=np.mean(s) #total mean\n",
    "print(a)\n",
    "print()\n",
    "print(\"===col wise mean===\")\n",
    "print()\n",
    "print(np.mean(s,axis=0))\n",
    "print()\n",
    "print(\"===row wise mean===\")\n",
    "print()\n",
    "print(np.mean(s,axis=1))\n",
    "\n"
   ]
  },
  {
   "cell_type": "code",
   "execution_count": 750,
   "id": "31f51412-88bc-4271-a202-979e075cbf35",
   "metadata": {},
   "outputs": [
    {
     "ename": "AttributeError",
     "evalue": "module 'numpy' has no attribute 'mode'",
     "output_type": "error",
     "traceback": [
      "\u001b[1;31m---------------------------------------------------------------------------\u001b[0m",
      "\u001b[1;31mAttributeError\u001b[0m                            Traceback (most recent call last)",
      "Cell \u001b[1;32mIn[750], line 2\u001b[0m\n\u001b[0;32m      1\u001b[0m \u001b[38;5;66;03m#mode-numpy has no attribute 'mode'\u001b[39;00m\n\u001b[1;32m----> 2\u001b[0m b\u001b[38;5;241m=\u001b[39mnp\u001b[38;5;241m.\u001b[39mmode(s)\n",
      "File \u001b[1;32mC:\\ProgramData\\anaconda3\\Lib\\site-packages\\numpy\\__init__.py:333\u001b[0m, in \u001b[0;36m__getattr__\u001b[1;34m(attr)\u001b[0m\n\u001b[0;32m    330\u001b[0m     \u001b[38;5;124m\"\u001b[39m\u001b[38;5;124mRemoved in NumPy 1.25.0\u001b[39m\u001b[38;5;124m\"\u001b[39m\n\u001b[0;32m    331\u001b[0m     \u001b[38;5;28;01mraise\u001b[39;00m \u001b[38;5;167;01mRuntimeError\u001b[39;00m(\u001b[38;5;124m\"\u001b[39m\u001b[38;5;124mTester was removed in NumPy 1.25.\u001b[39m\u001b[38;5;124m\"\u001b[39m)\n\u001b[1;32m--> 333\u001b[0m \u001b[38;5;28;01mraise\u001b[39;00m \u001b[38;5;167;01mAttributeError\u001b[39;00m(\u001b[38;5;124m\"\u001b[39m\u001b[38;5;124mmodule \u001b[39m\u001b[38;5;132;01m{!r}\u001b[39;00m\u001b[38;5;124m has no attribute \u001b[39m\u001b[38;5;124m\"\u001b[39m\n\u001b[0;32m    334\u001b[0m                      \u001b[38;5;124m\"\u001b[39m\u001b[38;5;132;01m{!r}\u001b[39;00m\u001b[38;5;124m\"\u001b[39m\u001b[38;5;241m.\u001b[39mformat(\u001b[38;5;18m__name__\u001b[39m, attr))\n",
      "\u001b[1;31mAttributeError\u001b[0m: module 'numpy' has no attribute 'mode'"
     ]
    }
   ],
   "source": [
    "#mode-numpy has no attribute 'mode'\n",
    "b=np.mode(s)"
   ]
  },
  {
   "cell_type": "code",
   "execution_count": 752,
   "id": "305e673a-0fc7-4ab3-b39c-1006417cda29",
   "metadata": {},
   "outputs": [
    {
     "name": "stdout",
     "output_type": "stream",
     "text": [
      "[[8 3 0]\n",
      " [5 6 1]\n",
      " [1 8 7]]\n",
      "total median\n",
      "5.0\n",
      "\n",
      "col wise median\n",
      "[5. 6. 1.]\n",
      "\n",
      "row wise median\n",
      "[3. 5. 7.]\n",
      "\n"
     ]
    }
   ],
   "source": [
    "#median-\n",
    "print(s)\n",
    "c=np.median(s)\n",
    "print(\"total median\")\n",
    "print(c)\n",
    "print()\n",
    "print(\"col wise median\")\n",
    "print(np.median(s,axis=0))\n",
    "print()\n",
    "print(\"row wise median\")\n",
    "print(np.median(s,axis=1))\n",
    "print()\n"
   ]
  },
  {
   "cell_type": "code",
   "execution_count": 762,
   "id": "02f2e7c2-9c32-425c-bd5b-572d0c76af3d",
   "metadata": {},
   "outputs": [
    {
     "data": {
      "text/plain": [
       "6.666666666666667"
      ]
     },
     "execution_count": 762,
     "metadata": {},
     "output_type": "execute_result"
    }
   ],
   "source": [
    "#variance\n",
    "f=np.var(a)\n",
    "f"
   ]
  },
  {
   "cell_type": "code",
   "execution_count": 768,
   "id": "bc63cf42-9131-463b-9460-d76f300ac3e7",
   "metadata": {},
   "outputs": [
    {
     "data": {
      "text/plain": [
       "2.581988897471611"
      ]
     },
     "execution_count": 768,
     "metadata": {},
     "output_type": "execute_result"
    }
   ],
   "source": [
    "#standard deviation\n",
    "g=np.std(a)\n",
    "g"
   ]
  },
  {
   "cell_type": "markdown",
   "id": "c44393b5-c673-48b1-acd9-b5d406607ca7",
   "metadata": {},
   "source": [
    "**b.Create two NumPy arrays of the same length with random numerical values. Compute the correlation coefficient between the two arrays**"
   ]
  },
  {
   "cell_type": "code",
   "execution_count": 822,
   "id": "cf5f8404-8965-435f-ad22-b04f77e64e13",
   "metadata": {},
   "outputs": [
    {
     "data": {
      "text/plain": [
       "array([[ 1.        ,  0.85513825, -0.97323721, -0.02137846, -0.33229303,\n",
       "        -0.51472745],\n",
       "       [ 0.85513825,  1.        , -0.71312259,  0.5       , -0.77309904,\n",
       "        -0.88461538],\n",
       "       [-0.97323721, -0.71312259,  1.        ,  0.25055659,  0.10665542,\n",
       "         0.30392959],\n",
       "       [-0.02137846,  0.5       ,  0.25055659,  1.        , -0.93585673,\n",
       "        -0.84615385],\n",
       "       [-0.33229303, -0.77309904,  0.10665542, -0.93585673,  1.        ,\n",
       "         0.97967611],\n",
       "       [-0.51472745, -0.88461538,  0.30392959, -0.84615385,  0.97967611,\n",
       "         1.        ]])"
      ]
     },
     "execution_count": 822,
     "metadata": {},
     "output_type": "execute_result"
    }
   ],
   "source": [
    "x=np.random.randint(100,size=(3,3))\n",
    "y=np.random.randint(50,size=(3,3))\n",
    "z=np.corrcoef(x,y)\n",
    "z"
   ]
  },
  {
   "cell_type": "code",
   "execution_count": null,
   "id": "0eb0b0c8-12b4-42a0-96d2-2597de259ebe",
   "metadata": {},
   "outputs": [],
   "source": []
  },
  {
   "cell_type": "code",
   "execution_count": null,
   "id": "93687ee4-313c-4f8e-808c-f99acd08aaa0",
   "metadata": {},
   "outputs": [],
   "source": []
  }
 ],
 "metadata": {
  "kernelspec": {
   "display_name": "Python 3 (ipykernel)",
   "language": "python",
   "name": "python3"
  },
  "language_info": {
   "codemirror_mode": {
    "name": "ipython",
    "version": 3
   },
   "file_extension": ".py",
   "mimetype": "text/x-python",
   "name": "python",
   "nbconvert_exporter": "python",
   "pygments_lexer": "ipython3",
   "version": "3.12.4"
  }
 },
 "nbformat": 4,
 "nbformat_minor": 5
}
