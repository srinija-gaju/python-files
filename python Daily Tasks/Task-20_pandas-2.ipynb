{
 "cells": [
  {
   "cell_type": "markdown",
   "id": "bfb3b709-4698-4028-a30e-24b2ab864d0e",
   "metadata": {},
   "source": [
    "# Pandas-2"
   ]
  },
  {
   "cell_type": "code",
   "execution_count": 1,
   "id": "a2c07ebd-5a33-4eff-8dc4-eccb2924d5c4",
   "metadata": {},
   "outputs": [],
   "source": [
    "import pandas as pd"
   ]
  },
  {
   "cell_type": "markdown",
   "id": "ba311372-438c-44ce-91e7-b849e4c56748",
   "metadata": {},
   "source": [
    "**Q1. Create a Pandas DataFrame with columns 'City', 'Temperature', and 'Humidity' containing the following data:**\n",
    "\n",
    "**City                  Temperature    Humidity**\n",
    "\n",
    "**New York                75             60**\n",
    "\n",
    "**Chicago                 68             55**\n",
    "\n",
    "**Los Angeles             85             45**\n",
    "\n",
    "**Miami                   80             70**\n",
    "       \n",
    "**Display the rows where the Temperature is above 70.**\n",
    "\n",
    "**Display the rows where the Humidity is below 60.**\n",
    "\n",
    "**Display city with temperature 68 and humidity 55.**\n"
   ]
  },
  {
   "cell_type": "code",
   "execution_count": 12,
   "id": "d1bde703-c3e7-4227-b10a-b720325a062d",
   "metadata": {},
   "outputs": [
    {
     "data": {
      "text/html": [
       "<div>\n",
       "<style scoped>\n",
       "    .dataframe tbody tr th:only-of-type {\n",
       "        vertical-align: middle;\n",
       "    }\n",
       "\n",
       "    .dataframe tbody tr th {\n",
       "        vertical-align: top;\n",
       "    }\n",
       "\n",
       "    .dataframe thead th {\n",
       "        text-align: right;\n",
       "    }\n",
       "</style>\n",
       "<table border=\"1\" class=\"dataframe\">\n",
       "  <thead>\n",
       "    <tr style=\"text-align: right;\">\n",
       "      <th></th>\n",
       "      <th>City</th>\n",
       "      <th>Temperature</th>\n",
       "      <th>Humidity</th>\n",
       "    </tr>\n",
       "  </thead>\n",
       "  <tbody>\n",
       "    <tr>\n",
       "      <th>0</th>\n",
       "      <td>New York</td>\n",
       "      <td>75</td>\n",
       "      <td>60</td>\n",
       "    </tr>\n",
       "    <tr>\n",
       "      <th>1</th>\n",
       "      <td>Chicago</td>\n",
       "      <td>68</td>\n",
       "      <td>55</td>\n",
       "    </tr>\n",
       "    <tr>\n",
       "      <th>2</th>\n",
       "      <td>Los Angeles</td>\n",
       "      <td>85</td>\n",
       "      <td>45</td>\n",
       "    </tr>\n",
       "    <tr>\n",
       "      <th>3</th>\n",
       "      <td>Miami</td>\n",
       "      <td>80</td>\n",
       "      <td>70</td>\n",
       "    </tr>\n",
       "  </tbody>\n",
       "</table>\n",
       "</div>"
      ],
      "text/plain": [
       "          City  Temperature  Humidity\n",
       "0     New York           75        60\n",
       "1      Chicago           68        55\n",
       "2  Los Angeles           85        45\n",
       "3        Miami           80        70"
      ]
     },
     "execution_count": 12,
     "metadata": {},
     "output_type": "execute_result"
    }
   ],
   "source": [
    "#method-1\n",
    "cities=[\"New York\",\"Chicago\",\"Los Angeles\",\"Miami\"]\n",
    "temp=[75,68,85,80]\n",
    "humidity=[60,55,45,70]\n",
    "df1=pd.DataFrame({\"City\":cities,\"Temperature\":temp,\"Humidity\":humidity})\n",
    "df1"
   ]
  },
  {
   "cell_type": "code",
   "execution_count": 14,
   "id": "65a845d4-8a66-449b-979d-e5d248bacb65",
   "metadata": {},
   "outputs": [
    {
     "data": {
      "text/html": [
       "<div>\n",
       "<style scoped>\n",
       "    .dataframe tbody tr th:only-of-type {\n",
       "        vertical-align: middle;\n",
       "    }\n",
       "\n",
       "    .dataframe tbody tr th {\n",
       "        vertical-align: top;\n",
       "    }\n",
       "\n",
       "    .dataframe thead th {\n",
       "        text-align: right;\n",
       "    }\n",
       "</style>\n",
       "<table border=\"1\" class=\"dataframe\">\n",
       "  <thead>\n",
       "    <tr style=\"text-align: right;\">\n",
       "      <th></th>\n",
       "      <th>City</th>\n",
       "      <th>Temperature</th>\n",
       "      <th>Humidity</th>\n",
       "    </tr>\n",
       "  </thead>\n",
       "  <tbody>\n",
       "    <tr>\n",
       "      <th>0</th>\n",
       "      <td>New York</td>\n",
       "      <td>75</td>\n",
       "      <td>60</td>\n",
       "    </tr>\n",
       "    <tr>\n",
       "      <th>2</th>\n",
       "      <td>Los Angeles</td>\n",
       "      <td>85</td>\n",
       "      <td>45</td>\n",
       "    </tr>\n",
       "    <tr>\n",
       "      <th>3</th>\n",
       "      <td>Miami</td>\n",
       "      <td>80</td>\n",
       "      <td>70</td>\n",
       "    </tr>\n",
       "  </tbody>\n",
       "</table>\n",
       "</div>"
      ],
      "text/plain": [
       "          City  Temperature  Humidity\n",
       "0     New York           75        60\n",
       "2  Los Angeles           85        45\n",
       "3        Miami           80        70"
      ]
     },
     "execution_count": 14,
     "metadata": {},
     "output_type": "execute_result"
    }
   ],
   "source": [
    "df1[df1[\"Temperature\"]>70]"
   ]
  },
  {
   "cell_type": "code",
   "execution_count": 16,
   "id": "e3e75153-9ee0-4c78-88e0-c2459d56ddbd",
   "metadata": {},
   "outputs": [
    {
     "data": {
      "text/html": [
       "<div>\n",
       "<style scoped>\n",
       "    .dataframe tbody tr th:only-of-type {\n",
       "        vertical-align: middle;\n",
       "    }\n",
       "\n",
       "    .dataframe tbody tr th {\n",
       "        vertical-align: top;\n",
       "    }\n",
       "\n",
       "    .dataframe thead th {\n",
       "        text-align: right;\n",
       "    }\n",
       "</style>\n",
       "<table border=\"1\" class=\"dataframe\">\n",
       "  <thead>\n",
       "    <tr style=\"text-align: right;\">\n",
       "      <th></th>\n",
       "      <th>City</th>\n",
       "      <th>Temperature</th>\n",
       "      <th>Humidity</th>\n",
       "    </tr>\n",
       "  </thead>\n",
       "  <tbody>\n",
       "    <tr>\n",
       "      <th>1</th>\n",
       "      <td>Chicago</td>\n",
       "      <td>68</td>\n",
       "      <td>55</td>\n",
       "    </tr>\n",
       "    <tr>\n",
       "      <th>2</th>\n",
       "      <td>Los Angeles</td>\n",
       "      <td>85</td>\n",
       "      <td>45</td>\n",
       "    </tr>\n",
       "  </tbody>\n",
       "</table>\n",
       "</div>"
      ],
      "text/plain": [
       "          City  Temperature  Humidity\n",
       "1      Chicago           68        55\n",
       "2  Los Angeles           85        45"
      ]
     },
     "execution_count": 16,
     "metadata": {},
     "output_type": "execute_result"
    }
   ],
   "source": [
    "df1[df1[\"Humidity\"]<60]"
   ]
  },
  {
   "cell_type": "code",
   "execution_count": 18,
   "id": "5cdf82b3-c6b5-40a4-b409-f837c6f7ef78",
   "metadata": {},
   "outputs": [
    {
     "data": {
      "text/html": [
       "<div>\n",
       "<style scoped>\n",
       "    .dataframe tbody tr th:only-of-type {\n",
       "        vertical-align: middle;\n",
       "    }\n",
       "\n",
       "    .dataframe tbody tr th {\n",
       "        vertical-align: top;\n",
       "    }\n",
       "\n",
       "    .dataframe thead th {\n",
       "        text-align: right;\n",
       "    }\n",
       "</style>\n",
       "<table border=\"1\" class=\"dataframe\">\n",
       "  <thead>\n",
       "    <tr style=\"text-align: right;\">\n",
       "      <th></th>\n",
       "      <th>City</th>\n",
       "      <th>Temperature</th>\n",
       "      <th>Humidity</th>\n",
       "    </tr>\n",
       "  </thead>\n",
       "  <tbody>\n",
       "    <tr>\n",
       "      <th>1</th>\n",
       "      <td>Chicago</td>\n",
       "      <td>68</td>\n",
       "      <td>55</td>\n",
       "    </tr>\n",
       "  </tbody>\n",
       "</table>\n",
       "</div>"
      ],
      "text/plain": [
       "      City  Temperature  Humidity\n",
       "1  Chicago           68        55"
      ]
     },
     "execution_count": 18,
     "metadata": {},
     "output_type": "execute_result"
    }
   ],
   "source": [
    "df1[(df1['Temperature']==68) | (['Humidity']==55)]"
   ]
  },
  {
   "cell_type": "markdown",
   "id": "7968844f-af70-4a66-a410-c091593f7775",
   "metadata": {},
   "source": [
    "**Q2. Create a Pandas DataFrame with the following data:**\n",
    "    \n",
    "**data = {'Name': ['Alice', 'Bob', 'Charlie', 'David'],'EmpID': [100,103,105,102]'Age': [25, 30, 35, 40],'Salary': [50000, 60000, 75000, 90000]}**\n",
    "\n",
    "**Sort the DataFrame based on 'Age' in descending order and display it.**\n",
    "\n",
    "**Convert the above Pandas DataFrame into a CSV file named 'employees.csv'. Replace the index with the 'EmpID' column permanently.**\n"
   ]
  },
  {
   "cell_type": "code",
   "execution_count": 20,
   "id": "4b5e2809-f29e-43d2-8412-0b20de54c6f5",
   "metadata": {},
   "outputs": [
    {
     "data": {
      "text/html": [
       "<div>\n",
       "<style scoped>\n",
       "    .dataframe tbody tr th:only-of-type {\n",
       "        vertical-align: middle;\n",
       "    }\n",
       "\n",
       "    .dataframe tbody tr th {\n",
       "        vertical-align: top;\n",
       "    }\n",
       "\n",
       "    .dataframe thead th {\n",
       "        text-align: right;\n",
       "    }\n",
       "</style>\n",
       "<table border=\"1\" class=\"dataframe\">\n",
       "  <thead>\n",
       "    <tr style=\"text-align: right;\">\n",
       "      <th></th>\n",
       "      <th>Name</th>\n",
       "      <th>EmpID</th>\n",
       "      <th>Age</th>\n",
       "      <th>Salary</th>\n",
       "    </tr>\n",
       "  </thead>\n",
       "  <tbody>\n",
       "    <tr>\n",
       "      <th>0</th>\n",
       "      <td>Alice</td>\n",
       "      <td>100</td>\n",
       "      <td>25</td>\n",
       "      <td>50000</td>\n",
       "    </tr>\n",
       "    <tr>\n",
       "      <th>1</th>\n",
       "      <td>Bob</td>\n",
       "      <td>103</td>\n",
       "      <td>30</td>\n",
       "      <td>60000</td>\n",
       "    </tr>\n",
       "    <tr>\n",
       "      <th>2</th>\n",
       "      <td>Charlie</td>\n",
       "      <td>105</td>\n",
       "      <td>35</td>\n",
       "      <td>75000</td>\n",
       "    </tr>\n",
       "    <tr>\n",
       "      <th>3</th>\n",
       "      <td>David</td>\n",
       "      <td>102</td>\n",
       "      <td>40</td>\n",
       "      <td>90000</td>\n",
       "    </tr>\n",
       "  </tbody>\n",
       "</table>\n",
       "</div>"
      ],
      "text/plain": [
       "      Name  EmpID  Age  Salary\n",
       "0    Alice    100   25   50000\n",
       "1      Bob    103   30   60000\n",
       "2  Charlie    105   35   75000\n",
       "3    David    102   40   90000"
      ]
     },
     "execution_count": 20,
     "metadata": {},
     "output_type": "execute_result"
    }
   ],
   "source": [
    "data = {'Name': ['Alice', 'Bob', 'Charlie', 'David'],'EmpID': [100,103,105,102],'Age': [25, 30, 35, 40],'Salary': [50000, 60000, 75000, 90000]}\n",
    "df2=pd.DataFrame(data)\n",
    "df2"
   ]
  },
  {
   "cell_type": "code",
   "execution_count": 22,
   "id": "1554b9d0-988c-445e-aa69-f4b7ed484e8c",
   "metadata": {},
   "outputs": [
    {
     "data": {
      "text/html": [
       "<div>\n",
       "<style scoped>\n",
       "    .dataframe tbody tr th:only-of-type {\n",
       "        vertical-align: middle;\n",
       "    }\n",
       "\n",
       "    .dataframe tbody tr th {\n",
       "        vertical-align: top;\n",
       "    }\n",
       "\n",
       "    .dataframe thead th {\n",
       "        text-align: right;\n",
       "    }\n",
       "</style>\n",
       "<table border=\"1\" class=\"dataframe\">\n",
       "  <thead>\n",
       "    <tr style=\"text-align: right;\">\n",
       "      <th></th>\n",
       "      <th>Name</th>\n",
       "      <th>EmpID</th>\n",
       "      <th>Age</th>\n",
       "      <th>Salary</th>\n",
       "    </tr>\n",
       "  </thead>\n",
       "  <tbody>\n",
       "    <tr>\n",
       "      <th>3</th>\n",
       "      <td>David</td>\n",
       "      <td>102</td>\n",
       "      <td>40</td>\n",
       "      <td>90000</td>\n",
       "    </tr>\n",
       "    <tr>\n",
       "      <th>2</th>\n",
       "      <td>Charlie</td>\n",
       "      <td>105</td>\n",
       "      <td>35</td>\n",
       "      <td>75000</td>\n",
       "    </tr>\n",
       "    <tr>\n",
       "      <th>1</th>\n",
       "      <td>Bob</td>\n",
       "      <td>103</td>\n",
       "      <td>30</td>\n",
       "      <td>60000</td>\n",
       "    </tr>\n",
       "    <tr>\n",
       "      <th>0</th>\n",
       "      <td>Alice</td>\n",
       "      <td>100</td>\n",
       "      <td>25</td>\n",
       "      <td>50000</td>\n",
       "    </tr>\n",
       "  </tbody>\n",
       "</table>\n",
       "</div>"
      ],
      "text/plain": [
       "      Name  EmpID  Age  Salary\n",
       "3    David    102   40   90000\n",
       "2  Charlie    105   35   75000\n",
       "1      Bob    103   30   60000\n",
       "0    Alice    100   25   50000"
      ]
     },
     "execution_count": 22,
     "metadata": {},
     "output_type": "execute_result"
    }
   ],
   "source": [
    "df2.sort_values(by='Age',ascending=False)"
   ]
  },
  {
   "cell_type": "code",
   "execution_count": 24,
   "id": "cd13ca5d-305a-497b-90aa-b5cebba77f6e",
   "metadata": {},
   "outputs": [
    {
     "data": {
      "text/html": [
       "<div>\n",
       "<style scoped>\n",
       "    .dataframe tbody tr th:only-of-type {\n",
       "        vertical-align: middle;\n",
       "    }\n",
       "\n",
       "    .dataframe tbody tr th {\n",
       "        vertical-align: top;\n",
       "    }\n",
       "\n",
       "    .dataframe thead th {\n",
       "        text-align: right;\n",
       "    }\n",
       "</style>\n",
       "<table border=\"1\" class=\"dataframe\">\n",
       "  <thead>\n",
       "    <tr style=\"text-align: right;\">\n",
       "      <th></th>\n",
       "      <th>Name</th>\n",
       "      <th>EmpID</th>\n",
       "      <th>Age</th>\n",
       "      <th>Salary</th>\n",
       "    </tr>\n",
       "  </thead>\n",
       "  <tbody>\n",
       "    <tr>\n",
       "      <th>0</th>\n",
       "      <td>Alice</td>\n",
       "      <td>100</td>\n",
       "      <td>25</td>\n",
       "      <td>50000</td>\n",
       "    </tr>\n",
       "    <tr>\n",
       "      <th>1</th>\n",
       "      <td>Bob</td>\n",
       "      <td>103</td>\n",
       "      <td>30</td>\n",
       "      <td>60000</td>\n",
       "    </tr>\n",
       "    <tr>\n",
       "      <th>2</th>\n",
       "      <td>Charlie</td>\n",
       "      <td>105</td>\n",
       "      <td>35</td>\n",
       "      <td>75000</td>\n",
       "    </tr>\n",
       "    <tr>\n",
       "      <th>3</th>\n",
       "      <td>David</td>\n",
       "      <td>102</td>\n",
       "      <td>40</td>\n",
       "      <td>90000</td>\n",
       "    </tr>\n",
       "  </tbody>\n",
       "</table>\n",
       "</div>"
      ],
      "text/plain": [
       "      Name  EmpID  Age  Salary\n",
       "0    Alice    100   25   50000\n",
       "1      Bob    103   30   60000\n",
       "2  Charlie    105   35   75000\n",
       "3    David    102   40   90000"
      ]
     },
     "execution_count": 24,
     "metadata": {},
     "output_type": "execute_result"
    }
   ],
   "source": [
    "df_csv=df2.to_csv('employees.csv',index=False)\n",
    "readcsv=pd.read_csv(r'employees.csv')\n",
    "readcsv"
   ]
  },
  {
   "cell_type": "code",
   "execution_count": 26,
   "id": "25e68d57-a1d3-4967-961b-a9aa46bec8b8",
   "metadata": {},
   "outputs": [
    {
     "data": {
      "text/plain": [
       "Index(['Name', 'EmpID', 'Age', 'Salary'], dtype='object')"
      ]
     },
     "execution_count": 26,
     "metadata": {},
     "output_type": "execute_result"
    }
   ],
   "source": [
    "readcsv.columns"
   ]
  },
  {
   "cell_type": "code",
   "execution_count": 28,
   "id": "1584fbf9-1e33-48e1-83d2-a0a8c891ef3a",
   "metadata": {},
   "outputs": [
    {
     "data": {
      "text/html": [
       "<div>\n",
       "<style scoped>\n",
       "    .dataframe tbody tr th:only-of-type {\n",
       "        vertical-align: middle;\n",
       "    }\n",
       "\n",
       "    .dataframe tbody tr th {\n",
       "        vertical-align: top;\n",
       "    }\n",
       "\n",
       "    .dataframe thead th {\n",
       "        text-align: right;\n",
       "    }\n",
       "</style>\n",
       "<table border=\"1\" class=\"dataframe\">\n",
       "  <thead>\n",
       "    <tr style=\"text-align: right;\">\n",
       "      <th></th>\n",
       "      <th>Name</th>\n",
       "      <th>Age</th>\n",
       "      <th>Salary</th>\n",
       "    </tr>\n",
       "    <tr>\n",
       "      <th>EmpID</th>\n",
       "      <th></th>\n",
       "      <th></th>\n",
       "      <th></th>\n",
       "    </tr>\n",
       "  </thead>\n",
       "  <tbody>\n",
       "    <tr>\n",
       "      <th>100</th>\n",
       "      <td>Alice</td>\n",
       "      <td>25</td>\n",
       "      <td>50000</td>\n",
       "    </tr>\n",
       "    <tr>\n",
       "      <th>103</th>\n",
       "      <td>Bob</td>\n",
       "      <td>30</td>\n",
       "      <td>60000</td>\n",
       "    </tr>\n",
       "    <tr>\n",
       "      <th>105</th>\n",
       "      <td>Charlie</td>\n",
       "      <td>35</td>\n",
       "      <td>75000</td>\n",
       "    </tr>\n",
       "    <tr>\n",
       "      <th>102</th>\n",
       "      <td>David</td>\n",
       "      <td>40</td>\n",
       "      <td>90000</td>\n",
       "    </tr>\n",
       "  </tbody>\n",
       "</table>\n",
       "</div>"
      ],
      "text/plain": [
       "          Name  Age  Salary\n",
       "EmpID                      \n",
       "100      Alice   25   50000\n",
       "103        Bob   30   60000\n",
       "105    Charlie   35   75000\n",
       "102      David   40   90000"
      ]
     },
     "execution_count": 28,
     "metadata": {},
     "output_type": "execute_result"
    }
   ],
   "source": [
    "set=readcsv.set_index('EmpID',inplace=True)\n",
    "readcsv"
   ]
  },
  {
   "cell_type": "code",
   "execution_count": 30,
   "id": "467bb9df-d017-43fc-a104-679be0c439e8",
   "metadata": {},
   "outputs": [
    {
     "data": {
      "text/plain": [
       "Index([100, 103, 105, 102], dtype='int64', name='EmpID')"
      ]
     },
     "execution_count": 30,
     "metadata": {},
     "output_type": "execute_result"
    }
   ],
   "source": [
    "readcsv.index"
   ]
  },
  {
   "cell_type": "markdown",
   "id": "0c88d648-71ac-41a3-87fb-cb3644696884",
   "metadata": {},
   "source": [
    "**Q3. a.Add column 'Category' in the dataframe.**\n",
    "\n",
    "**{'Category': ['A', 'B', 'C', 'A']}**\n",
    "  \n",
    "**b.Find and display the unique values in the 'Category' column.**\n",
    "\n",
    "**c.Display only the rows where 'Salaries' are greater than 60000.**\n"
   ]
  },
  {
   "cell_type": "code",
   "execution_count": 36,
   "id": "08dd0582-d4f8-4df8-8def-383e2eda2684",
   "metadata": {},
   "outputs": [
    {
     "data": {
      "text/html": [
       "<div>\n",
       "<style scoped>\n",
       "    .dataframe tbody tr th:only-of-type {\n",
       "        vertical-align: middle;\n",
       "    }\n",
       "\n",
       "    .dataframe tbody tr th {\n",
       "        vertical-align: top;\n",
       "    }\n",
       "\n",
       "    .dataframe thead th {\n",
       "        text-align: right;\n",
       "    }\n",
       "</style>\n",
       "<table border=\"1\" class=\"dataframe\">\n",
       "  <thead>\n",
       "    <tr style=\"text-align: right;\">\n",
       "      <th></th>\n",
       "      <th>Name</th>\n",
       "      <th>EmpID</th>\n",
       "      <th>Age</th>\n",
       "      <th>Salary</th>\n",
       "      <th>Category</th>\n",
       "    </tr>\n",
       "  </thead>\n",
       "  <tbody>\n",
       "    <tr>\n",
       "      <th>0</th>\n",
       "      <td>Alice</td>\n",
       "      <td>100</td>\n",
       "      <td>25</td>\n",
       "      <td>50000</td>\n",
       "      <td>A</td>\n",
       "    </tr>\n",
       "    <tr>\n",
       "      <th>1</th>\n",
       "      <td>Bob</td>\n",
       "      <td>103</td>\n",
       "      <td>30</td>\n",
       "      <td>60000</td>\n",
       "      <td>B</td>\n",
       "    </tr>\n",
       "    <tr>\n",
       "      <th>2</th>\n",
       "      <td>Charlie</td>\n",
       "      <td>105</td>\n",
       "      <td>35</td>\n",
       "      <td>75000</td>\n",
       "      <td>C</td>\n",
       "    </tr>\n",
       "    <tr>\n",
       "      <th>3</th>\n",
       "      <td>David</td>\n",
       "      <td>102</td>\n",
       "      <td>40</td>\n",
       "      <td>90000</td>\n",
       "      <td>A</td>\n",
       "    </tr>\n",
       "  </tbody>\n",
       "</table>\n",
       "</div>"
      ],
      "text/plain": [
       "      Name  EmpID  Age  Salary Category\n",
       "0    Alice    100   25   50000        A\n",
       "1      Bob    103   30   60000        B\n",
       "2  Charlie    105   35   75000        C\n",
       "3    David    102   40   90000        A"
      ]
     },
     "execution_count": 36,
     "metadata": {},
     "output_type": "execute_result"
    }
   ],
   "source": [
    "data={'Category': ['A', 'B', 'C', 'A']}\n",
    "df2['Category']=pd.DataFrame(data)\n",
    "df2"
   ]
  },
  {
   "cell_type": "code",
   "execution_count": 38,
   "id": "f3bce6b0-aabc-4439-a0e5-6ac6b051b3f3",
   "metadata": {},
   "outputs": [
    {
     "data": {
      "text/plain": [
       "array(['A', 'B', 'C'], dtype=object)"
      ]
     },
     "execution_count": 38,
     "metadata": {},
     "output_type": "execute_result"
    }
   ],
   "source": [
    "#b\n",
    "unique=df2['Category'].unique()\n",
    "unique"
   ]
  },
  {
   "cell_type": "code",
   "execution_count": 40,
   "id": "27ce3b28-a1f8-4b74-a440-4b0dc95f508f",
   "metadata": {},
   "outputs": [
    {
     "data": {
      "text/plain": [
       "Category\n",
       "A    2\n",
       "B    1\n",
       "C    1\n",
       "Name: count, dtype: int64"
      ]
     },
     "execution_count": 40,
     "metadata": {},
     "output_type": "execute_result"
    }
   ],
   "source": [
    "unique_count=df2['Category'].value_counts()\n",
    "unique_count"
   ]
  },
  {
   "cell_type": "code",
   "execution_count": 42,
   "id": "58107045-1c4d-483b-9019-97d386e7ab04",
   "metadata": {},
   "outputs": [
    {
     "data": {
      "text/html": [
       "<div>\n",
       "<style scoped>\n",
       "    .dataframe tbody tr th:only-of-type {\n",
       "        vertical-align: middle;\n",
       "    }\n",
       "\n",
       "    .dataframe tbody tr th {\n",
       "        vertical-align: top;\n",
       "    }\n",
       "\n",
       "    .dataframe thead th {\n",
       "        text-align: right;\n",
       "    }\n",
       "</style>\n",
       "<table border=\"1\" class=\"dataframe\">\n",
       "  <thead>\n",
       "    <tr style=\"text-align: right;\">\n",
       "      <th></th>\n",
       "      <th>Name</th>\n",
       "      <th>EmpID</th>\n",
       "      <th>Age</th>\n",
       "      <th>Salary</th>\n",
       "      <th>Category</th>\n",
       "    </tr>\n",
       "  </thead>\n",
       "  <tbody>\n",
       "    <tr>\n",
       "      <th>2</th>\n",
       "      <td>Charlie</td>\n",
       "      <td>105</td>\n",
       "      <td>35</td>\n",
       "      <td>75000</td>\n",
       "      <td>C</td>\n",
       "    </tr>\n",
       "    <tr>\n",
       "      <th>3</th>\n",
       "      <td>David</td>\n",
       "      <td>102</td>\n",
       "      <td>40</td>\n",
       "      <td>90000</td>\n",
       "      <td>A</td>\n",
       "    </tr>\n",
       "  </tbody>\n",
       "</table>\n",
       "</div>"
      ],
      "text/plain": [
       "      Name  EmpID  Age  Salary Category\n",
       "2  Charlie    105   35   75000        C\n",
       "3    David    102   40   90000        A"
      ]
     },
     "execution_count": 42,
     "metadata": {},
     "output_type": "execute_result"
    }
   ],
   "source": [
    "#c\n",
    "sal=df2[df2['Salary']>60000]\n",
    "sal"
   ]
  },
  {
   "cell_type": "markdown",
   "id": "d358eef8-9eec-4b98-82a3-c5b0ff8b63b3",
   "metadata": {},
   "source": [
    "# pandas Outliers"
   ]
  },
  {
   "cell_type": "markdown",
   "id": "ff5b73c4-3f92-477d-a0fa-363398063263",
   "metadata": {},
   "source": [
    "**Q1. Identifying Outliers in Data:**\n",
    "\n",
    "**a.You have a DataFrame sales_data with a column 'Revenue'. Identify and display the outliers in the 'Revenue' column.**\n",
    "\n",
    "**data = {'Revenue': [1000, 1200, 950, 1300, 800, 15000, 1100, 1050, 1400, 900]}**\n",
    "\n",
    "**b.You have a DataFrame stock_prices with columns 'Date' and 'Closing_Price'. Identify and display the outliers in the 'Closing_Price' column.**\n",
    "\n",
    "**data = {'Date': ['2022-01-01', '2022-01-02', '2022-01-03', '2022-01-04', '2022-01-05'],'Closing_Price': [100, 120, 95, 130, 800]}**\n"
   ]
  },
  {
   "cell_type": "code",
   "execution_count": 44,
   "id": "92be6dde-638b-489b-b5f8-039ffa3fae69",
   "metadata": {},
   "outputs": [
    {
     "data": {
      "text/html": [
       "<div>\n",
       "<style scoped>\n",
       "    .dataframe tbody tr th:only-of-type {\n",
       "        vertical-align: middle;\n",
       "    }\n",
       "\n",
       "    .dataframe tbody tr th {\n",
       "        vertical-align: top;\n",
       "    }\n",
       "\n",
       "    .dataframe thead th {\n",
       "        text-align: right;\n",
       "    }\n",
       "</style>\n",
       "<table border=\"1\" class=\"dataframe\">\n",
       "  <thead>\n",
       "    <tr style=\"text-align: right;\">\n",
       "      <th></th>\n",
       "      <th>Revenue</th>\n",
       "    </tr>\n",
       "  </thead>\n",
       "  <tbody>\n",
       "    <tr>\n",
       "      <th>0</th>\n",
       "      <td>1000</td>\n",
       "    </tr>\n",
       "    <tr>\n",
       "      <th>1</th>\n",
       "      <td>1200</td>\n",
       "    </tr>\n",
       "    <tr>\n",
       "      <th>2</th>\n",
       "      <td>950</td>\n",
       "    </tr>\n",
       "    <tr>\n",
       "      <th>3</th>\n",
       "      <td>1300</td>\n",
       "    </tr>\n",
       "    <tr>\n",
       "      <th>4</th>\n",
       "      <td>800</td>\n",
       "    </tr>\n",
       "    <tr>\n",
       "      <th>5</th>\n",
       "      <td>15000</td>\n",
       "    </tr>\n",
       "    <tr>\n",
       "      <th>6</th>\n",
       "      <td>1100</td>\n",
       "    </tr>\n",
       "    <tr>\n",
       "      <th>7</th>\n",
       "      <td>1050</td>\n",
       "    </tr>\n",
       "    <tr>\n",
       "      <th>8</th>\n",
       "      <td>1400</td>\n",
       "    </tr>\n",
       "    <tr>\n",
       "      <th>9</th>\n",
       "      <td>900</td>\n",
       "    </tr>\n",
       "  </tbody>\n",
       "</table>\n",
       "</div>"
      ],
      "text/plain": [
       "   Revenue\n",
       "0     1000\n",
       "1     1200\n",
       "2      950\n",
       "3     1300\n",
       "4      800\n",
       "5    15000\n",
       "6     1100\n",
       "7     1050\n",
       "8     1400\n",
       "9      900"
      ]
     },
     "execution_count": 44,
     "metadata": {},
     "output_type": "execute_result"
    }
   ],
   "source": [
    "#a\n",
    "data = {'Revenue': [1000, 1200, 950, 1300, 800, 15000, 1100, 1050, 1400, 900]}\n",
    "outlayer1=pd.DataFrame(data)\n",
    "outlayer1"
   ]
  },
  {
   "cell_type": "code",
   "execution_count": 46,
   "id": "7efd5b3b-7f9c-4e8f-810b-be1467ef3d8d",
   "metadata": {},
   "outputs": [
    {
     "data": {
      "text/plain": [
       "15000"
      ]
     },
     "execution_count": 46,
     "metadata": {},
     "output_type": "execute_result"
    }
   ],
   "source": [
    "#outlayer in the dataframe\n",
    "outlayer1['Revenue'].max()"
   ]
  },
  {
   "cell_type": "code",
   "execution_count": 48,
   "id": "c970a047-1b99-4807-b570-73be45e6fd47",
   "metadata": {},
   "outputs": [
    {
     "data": {
      "text/plain": [
       "<Axes: >"
      ]
     },
     "execution_count": 48,
     "metadata": {},
     "output_type": "execute_result"
    },
    {
     "data": {
      "image/png": "[encoded data removed]",
      "text/plain": [
       "<Figure size 640x480 with 1 Axes>"
      ]
     },
     "metadata": {},
     "output_type": "display_data"
    }
   ],
   "source": [
    "new=outlayer1['Revenue'].plot(kind='box',vert=False)\n",
    "new"
   ]
  },
  {
   "cell_type": "code",
   "execution_count": 50,
   "id": "f353a0a4-6d1e-4c38-90f6-f3e0ea211d2e",
   "metadata": {},
   "outputs": [
    {
     "name": "stdout",
     "output_type": "stream",
     "text": [
      "962.5\n",
      "1275.0\n",
      "312.5\n",
      "highest_point 493.75\n",
      "lowest_point 1743.75\n"
     ]
    }
   ],
   "source": [
    "#treating outliers\n",
    "q1=outlayer1['Revenue'].quantile(0.25)\n",
    "q3=outlayer1['Revenue'].quantile(0.75)\n",
    "print(q1)\n",
    "print(q3)\n",
    "iqr=q3-q1\n",
    "print(iqr)\n",
    "lowest=q1-1.5*iqr\n",
    "highest=q3+1.5*iqr\n",
    "print(\"highest_point\",lowest)\n",
    "print(\"lowest_point\",highest)"
   ]
  },
  {
   "cell_type": "code",
   "execution_count": 109,
   "id": "3664c9e4-c03e-46fe-8b18-395460994a8a",
   "metadata": {},
   "outputs": [
    {
     "data": {
      "text/plain": [
       "<Axes: >"
      ]
     },
     "execution_count": 109,
     "metadata": {},
     "output_type": "execute_result"
    },
    {
     "data": {
      "image/png": "[encoded data removed]",
      "text/plain": [
       "<Figure size 640x480 with 1 Axes>"
      ]
     },
     "metadata": {},
     "output_type": "display_data"
    }
   ],
   "source": [
    "#removing and visualizing outliers\n",
    "new_data=outlayer1[(outlayer1['Revenue']>=lowest) & (outlayer1['Revenue']<=highest)]\n",
    "new_data['Revenue'].plot(kind='box',vert=False)"
   ]
  },
  {
   "cell_type": "code",
   "execution_count": 52,
   "id": "021f7ef8-a917-4552-ac30-e371983ec9b5",
   "metadata": {},
   "outputs": [
    {
     "data": {
      "text/html": [
       "<div>\n",
       "<style scoped>\n",
       "    .dataframe tbody tr th:only-of-type {\n",
       "        vertical-align: middle;\n",
       "    }\n",
       "\n",
       "    .dataframe tbody tr th {\n",
       "        vertical-align: top;\n",
       "    }\n",
       "\n",
       "    .dataframe thead th {\n",
       "        text-align: right;\n",
       "    }\n",
       "</style>\n",
       "<table border=\"1\" class=\"dataframe\">\n",
       "  <thead>\n",
       "    <tr style=\"text-align: right;\">\n",
       "      <th></th>\n",
       "      <th>Date</th>\n",
       "      <th>Closing_Price</th>\n",
       "    </tr>\n",
       "  </thead>\n",
       "  <tbody>\n",
       "    <tr>\n",
       "      <th>0</th>\n",
       "      <td>2022-01-01</td>\n",
       "      <td>100</td>\n",
       "    </tr>\n",
       "    <tr>\n",
       "      <th>1</th>\n",
       "      <td>2022-01-02</td>\n",
       "      <td>120</td>\n",
       "    </tr>\n",
       "    <tr>\n",
       "      <th>2</th>\n",
       "      <td>2022-01-03</td>\n",
       "      <td>95</td>\n",
       "    </tr>\n",
       "    <tr>\n",
       "      <th>3</th>\n",
       "      <td>2022-01-04</td>\n",
       "      <td>130</td>\n",
       "    </tr>\n",
       "    <tr>\n",
       "      <th>4</th>\n",
       "      <td>2022-01-05</td>\n",
       "      <td>800</td>\n",
       "    </tr>\n",
       "  </tbody>\n",
       "</table>\n",
       "</div>"
      ],
      "text/plain": [
       "         Date  Closing_Price\n",
       "0  2022-01-01            100\n",
       "1  2022-01-02            120\n",
       "2  2022-01-03             95\n",
       "3  2022-01-04            130\n",
       "4  2022-01-05            800"
      ]
     },
     "execution_count": 52,
     "metadata": {},
     "output_type": "execute_result"
    }
   ],
   "source": [
    "#b\n",
    "data = {'Date': ['2022-01-01', '2022-01-02', '2022-01-03', '2022-01-04', '2022-01-05'],'Closing_Price': [100, 120, 95, 130, 800]}\n",
    "outlayer2=pd.DataFrame(data)\n",
    "outlayer2"
   ]
  },
  {
   "cell_type": "code",
   "execution_count": 40,
   "id": "f624a84d-c0ee-4aea-81c8-fe0199f7f5b6",
   "metadata": {},
   "outputs": [
    {
     "data": {
      "text/plain": [
       "<Axes: >"
      ]
     },
     "execution_count": 40,
     "metadata": {},
     "output_type": "execute_result"
    },
    {
     "data": {
      "image/png": "[encoded data removed]",
      "text/plain": [
       "<Figure size 640x480 with 1 Axes>"
      ]
     },
     "metadata": {},
     "output_type": "display_data"
    }
   ],
   "source": [
    "#dataFrame with outliers\n",
    "outlayer2['Closing_Price'].plot(kind='box',vert=False)"
   ]
  },
  {
   "cell_type": "code",
   "execution_count": 54,
   "id": "b3429df6-1a47-4001-9854-1f34d2bdc2f9",
   "metadata": {},
   "outputs": [
    {
     "name": "stdout",
     "output_type": "stream",
     "text": [
      "100.0\n",
      "130.0\n",
      "30.0\n",
      "highest_point 55.0\n",
      "lowest_point 175.0\n"
     ]
    }
   ],
   "source": [
    "#treating outliers\n",
    "q1_2=outlayer2['Closing_Price'].quantile(0.25)\n",
    "q3_2=outlayer2['Closing_Price'].quantile(0.75)\n",
    "print(q1_2)\n",
    "print(q3_2)\n",
    "iqr=q3_2-q1_2\n",
    "print(iqr)\n",
    "lowest=q1_2-1.5*iqr\n",
    "highest=q3_2+1.5*iqr\n",
    "print(\"highest_point\",lowest)\n",
    "print(\"lowest_point\",highest)"
   ]
  },
  {
   "cell_type": "code",
   "execution_count": 121,
   "id": "9cbe45de-ae73-471a-9979-0968a99722ff",
   "metadata": {},
   "outputs": [
    {
     "data": {
      "text/plain": [
       "<Axes: >"
      ]
     },
     "execution_count": 121,
     "metadata": {},
     "output_type": "execute_result"
    },
    {
     "data": {
      "image/png": "[encoded data removed]",
      "text/plain": [
       "<Figure size 640x480 with 1 Axes>"
      ]
     },
     "metadata": {},
     "output_type": "display_data"
    }
   ],
   "source": [
    "#removing and visualizing outliers\n",
    "new_data=outlayer2[(outlayer2['Closing_Price']>=lowest) & (outlayer2['Closing_Price']<=highest)]\n",
    "new_data['Closing_Price'].plot(kind='box',vert=False)"
   ]
  },
  {
   "cell_type": "markdown",
   "id": "5d1ed1d8-b42b-48b1-bed8-20febb375ef7",
   "metadata": {},
   "source": [
    "**Q2. Handling Outliers in Sales Data:**\n",
    "    \n",
    "**You have a DataFrame sales_data with columns 'Product', 'Quantity_Sold', and 'Price_Per_Unit'. Some entries have unusually high quantities sold.**\n",
    "\n",
    "**data = {'Product': ['A', 'B', 'C', 'A', 'B', 'C'],\n",
    "        'Quantity_Sold': [100, 1500, 120, 200, 80, 110],\n",
    "        'Price_Per_Unit': [10, 5, 8, 12, 6, 10]}**\n",
    "\n",
    "**Perform the following tasks-**\n",
    "    \n",
    "**a. Display the entries with unusually high quantities (potential outliers).**\n",
    "\n",
    "**b. Replace the outliers with the median quantity sold.**\n"
   ]
  },
  {
   "cell_type": "code",
   "execution_count": 213,
   "id": "6b7cb410-e1b2-4554-9249-d3e3d3c71ccf",
   "metadata": {},
   "outputs": [
    {
     "data": {
      "text/html": [
       "<div>\n",
       "<style scoped>\n",
       "    .dataframe tbody tr th:only-of-type {\n",
       "        vertical-align: middle;\n",
       "    }\n",
       "\n",
       "    .dataframe tbody tr th {\n",
       "        vertical-align: top;\n",
       "    }\n",
       "\n",
       "    .dataframe thead th {\n",
       "        text-align: right;\n",
       "    }\n",
       "</style>\n",
       "<table border=\"1\" class=\"dataframe\">\n",
       "  <thead>\n",
       "    <tr style=\"text-align: right;\">\n",
       "      <th></th>\n",
       "      <th>Product</th>\n",
       "      <th>Quantity_Sold</th>\n",
       "      <th>Price_Per_Unit</th>\n",
       "    </tr>\n",
       "  </thead>\n",
       "  <tbody>\n",
       "    <tr>\n",
       "      <th>0</th>\n",
       "      <td>A</td>\n",
       "      <td>100</td>\n",
       "      <td>10</td>\n",
       "    </tr>\n",
       "    <tr>\n",
       "      <th>1</th>\n",
       "      <td>B</td>\n",
       "      <td>1500</td>\n",
       "      <td>5</td>\n",
       "    </tr>\n",
       "    <tr>\n",
       "      <th>2</th>\n",
       "      <td>C</td>\n",
       "      <td>120</td>\n",
       "      <td>8</td>\n",
       "    </tr>\n",
       "    <tr>\n",
       "      <th>3</th>\n",
       "      <td>A</td>\n",
       "      <td>200</td>\n",
       "      <td>12</td>\n",
       "    </tr>\n",
       "    <tr>\n",
       "      <th>4</th>\n",
       "      <td>B</td>\n",
       "      <td>80</td>\n",
       "      <td>6</td>\n",
       "    </tr>\n",
       "    <tr>\n",
       "      <th>5</th>\n",
       "      <td>C</td>\n",
       "      <td>110</td>\n",
       "      <td>10</td>\n",
       "    </tr>\n",
       "  </tbody>\n",
       "</table>\n",
       "</div>"
      ],
      "text/plain": [
       "  Product  Quantity_Sold  Price_Per_Unit\n",
       "0       A            100              10\n",
       "1       B           1500               5\n",
       "2       C            120               8\n",
       "3       A            200              12\n",
       "4       B             80               6\n",
       "5       C            110              10"
      ]
     },
     "execution_count": 213,
     "metadata": {},
     "output_type": "execute_result"
    }
   ],
   "source": [
    "data = {'Product': ['A', 'B', 'C', 'A', 'B', 'C'], 'Quantity_Sold': [100, 1500, 120, 200, 80, 110], 'Price_Per_Unit': [10, 5, 8, 12, 6, 10]}\n",
    "outlayer3=pd.DataFrame(data)\n",
    "outlayer3"
   ]
  },
  {
   "cell_type": "code",
   "execution_count": 221,
   "id": "1d6efa8c-3c12-4ae8-bd0b-6a9546a43b45",
   "metadata": {},
   "outputs": [
    {
     "data": {
      "text/plain": [
       "<Axes: >"
      ]
     },
     "execution_count": 221,
     "metadata": {},
     "output_type": "execute_result"
    },
    {
     "data": {
      "image/png": "[encoded data removed]",
      "text/plain": [
       "<Figure size 640x480 with 1 Axes>"
      ]
     },
     "metadata": {},
     "output_type": "display_data"
    }
   ],
   "source": [
    "#plotting outlier\n",
    "outlayer3['Quantity_Sold'].plot(kind='box',vert=False)"
   ]
  },
  {
   "cell_type": "code",
   "execution_count": 197,
   "id": "cd49687e-9ade-4599-b304-6fbaae4afe43",
   "metadata": {},
   "outputs": [
    {
     "data": {
      "text/plain": [
       "115.0"
      ]
     },
     "execution_count": 197,
     "metadata": {},
     "output_type": "execute_result"
    }
   ],
   "source": [
    "median=outlayer3['Quantity_Sold'].median()\n",
    "median"
   ]
  },
  {
   "cell_type": "code",
   "execution_count": 199,
   "id": "d95ecbf8-fb6c-4a48-be9b-f0863b702aa4",
   "metadata": {},
   "outputs": [
    {
     "data": {
      "text/plain": [
       "1500"
      ]
     },
     "execution_count": 199,
     "metadata": {},
     "output_type": "execute_result"
    }
   ],
   "source": [
    "outlayer_max=outlayer3['Quantity_Sold'].max()\n",
    "outlayer_max"
   ]
  },
  {
   "cell_type": "code",
   "execution_count": 223,
   "id": "3595d24a-c639-4f8d-b4c7-a5b7fe185439",
   "metadata": {},
   "outputs": [
    {
     "data": {
      "text/plain": [
       "0    100\n",
       "1    115\n",
       "2    120\n",
       "3    200\n",
       "4     80\n",
       "5    110\n",
       "Name: Quantity_Sold, dtype: int64"
      ]
     },
     "execution_count": 223,
     "metadata": {},
     "output_type": "execute_result"
    }
   ],
   "source": [
    "#treating outliers\n",
    "new=outlayer3['Quantity_Sold'].replace(outlayer_max,median)\n",
    "new"
   ]
  },
  {
   "cell_type": "code",
   "execution_count": 211,
   "id": "f1081fc6-528f-43af-ab21-43eec2c7d930",
   "metadata": {},
   "outputs": [
    {
     "data": {
      "text/plain": [
       "<Axes: >"
      ]
     },
     "execution_count": 211,
     "metadata": {},
     "output_type": "execute_result"
    },
    {
     "data": {
      "image/png": "[encoded data removed]",
      "text/plain": [
       "<Figure size 640x480 with 1 Axes>"
      ]
     },
     "metadata": {},
     "output_type": "display_data"
    }
   ],
   "source": [
    "#plotting outlier after replacing it with median\n",
    "new.plot(kind='box',vert=False)"
   ]
  },
  {
   "cell_type": "markdown",
   "id": "651ffd2d-2c2d-4d30-b26d-9dfaae3b7797",
   "metadata": {},
   "source": [
    "**Q3. Visualizing Outliers:**\n",
    "\n",
    "**a.You have a DataFrame exam_scores with a column 'Score'. Create a plot to visualize the distribution of exam scores and identify potential outliers.**\n",
    "    \n",
    "**data = {'Score': [85, 92, 78, 89, 95, 70, 88, 92, 78, 85]}**\n",
    "\n",
    "**b.You have a DataFrame customer_data with columns 'CustomerID' and 'Spend'. Create a plot to visualize the relationship between customer spending and identify potential outliers.**\n",
    "**data = {'CustomerID': [101, 102, 103, 104, 105],'Spend': [100, 150, 120, 800, 110]}**\n"
   ]
  },
  {
   "cell_type": "code",
   "execution_count": 193,
   "id": "8c4286d2-ba10-4802-a6ca-3f91c323e55d",
   "metadata": {},
   "outputs": [
    {
     "data": {
      "text/html": [
       "<div>\n",
       "<style scoped>\n",
       "    .dataframe tbody tr th:only-of-type {\n",
       "        vertical-align: middle;\n",
       "    }\n",
       "\n",
       "    .dataframe tbody tr th {\n",
       "        vertical-align: top;\n",
       "    }\n",
       "\n",
       "    .dataframe thead th {\n",
       "        text-align: right;\n",
       "    }\n",
       "</style>\n",
       "<table border=\"1\" class=\"dataframe\">\n",
       "  <thead>\n",
       "    <tr style=\"text-align: right;\">\n",
       "      <th></th>\n",
       "      <th>Score</th>\n",
       "    </tr>\n",
       "  </thead>\n",
       "  <tbody>\n",
       "    <tr>\n",
       "      <th>0</th>\n",
       "      <td>85</td>\n",
       "    </tr>\n",
       "    <tr>\n",
       "      <th>1</th>\n",
       "      <td>92</td>\n",
       "    </tr>\n",
       "    <tr>\n",
       "      <th>2</th>\n",
       "      <td>78</td>\n",
       "    </tr>\n",
       "    <tr>\n",
       "      <th>3</th>\n",
       "      <td>89</td>\n",
       "    </tr>\n",
       "    <tr>\n",
       "      <th>4</th>\n",
       "      <td>95</td>\n",
       "    </tr>\n",
       "    <tr>\n",
       "      <th>5</th>\n",
       "      <td>70</td>\n",
       "    </tr>\n",
       "    <tr>\n",
       "      <th>6</th>\n",
       "      <td>88</td>\n",
       "    </tr>\n",
       "    <tr>\n",
       "      <th>7</th>\n",
       "      <td>92</td>\n",
       "    </tr>\n",
       "    <tr>\n",
       "      <th>8</th>\n",
       "      <td>78</td>\n",
       "    </tr>\n",
       "    <tr>\n",
       "      <th>9</th>\n",
       "      <td>85</td>\n",
       "    </tr>\n",
       "  </tbody>\n",
       "</table>\n",
       "</div>"
      ],
      "text/plain": [
       "   Score\n",
       "0     85\n",
       "1     92\n",
       "2     78\n",
       "3     89\n",
       "4     95\n",
       "5     70\n",
       "6     88\n",
       "7     92\n",
       "8     78\n",
       "9     85"
      ]
     },
     "execution_count": 193,
     "metadata": {},
     "output_type": "execute_result"
    }
   ],
   "source": [
    "#a\n",
    "data = {'Score': [85, 92, 78, 89, 95, 70, 88, 92, 78, 85]}\n",
    "df=pd.DataFrame(data)\n",
    "df"
   ]
  },
  {
   "cell_type": "code",
   "execution_count": 197,
   "id": "b950d118-e374-4aad-8382-a6e77fbcf579",
   "metadata": {},
   "outputs": [
    {
     "data": {
      "image/png": "[encoded data removed]",
      "text/plain": [
       "<Figure size 640x480 with 1 Axes>"
      ]
     },
     "metadata": {},
     "output_type": "display_data"
    }
   ],
   "source": [
    "#no outliers are present in the data\n",
    "df_1=df.plot(kind='box',vert=False)"
   ]
  },
  {
   "cell_type": "code",
   "execution_count": 66,
   "id": "68b84f92-dd7c-4212-b9c9-7ee7463cc4b5",
   "metadata": {},
   "outputs": [
    {
     "data": {
      "text/html": [
       "<div>\n",
       "<style scoped>\n",
       "    .dataframe tbody tr th:only-of-type {\n",
       "        vertical-align: middle;\n",
       "    }\n",
       "\n",
       "    .dataframe tbody tr th {\n",
       "        vertical-align: top;\n",
       "    }\n",
       "\n",
       "    .dataframe thead th {\n",
       "        text-align: right;\n",
       "    }\n",
       "</style>\n",
       "<table border=\"1\" class=\"dataframe\">\n",
       "  <thead>\n",
       "    <tr style=\"text-align: right;\">\n",
       "      <th></th>\n",
       "      <th>CustomerID</th>\n",
       "      <th>Spend</th>\n",
       "    </tr>\n",
       "  </thead>\n",
       "  <tbody>\n",
       "    <tr>\n",
       "      <th>0</th>\n",
       "      <td>101</td>\n",
       "      <td>100</td>\n",
       "    </tr>\n",
       "    <tr>\n",
       "      <th>1</th>\n",
       "      <td>102</td>\n",
       "      <td>150</td>\n",
       "    </tr>\n",
       "    <tr>\n",
       "      <th>2</th>\n",
       "      <td>103</td>\n",
       "      <td>120</td>\n",
       "    </tr>\n",
       "    <tr>\n",
       "      <th>3</th>\n",
       "      <td>104</td>\n",
       "      <td>800</td>\n",
       "    </tr>\n",
       "    <tr>\n",
       "      <th>4</th>\n",
       "      <td>105</td>\n",
       "      <td>110</td>\n",
       "    </tr>\n",
       "  </tbody>\n",
       "</table>\n",
       "</div>"
      ],
      "text/plain": [
       "   CustomerID  Spend\n",
       "0         101    100\n",
       "1         102    150\n",
       "2         103    120\n",
       "3         104    800\n",
       "4         105    110"
      ]
     },
     "execution_count": 66,
     "metadata": {},
     "output_type": "execute_result"
    }
   ],
   "source": [
    "#b.\n",
    "data = {'CustomerID': [101, 102, 103, 104, 105],'Spend': [100, 150, 120, 800, 110]}\n",
    "dff=pd.DataFrame(data)\n",
    "dff"
   ]
  },
  {
   "cell_type": "code",
   "execution_count": 68,
   "id": "b6cdaa62-3965-42c1-8c98-804569af7e0c",
   "metadata": {},
   "outputs": [
    {
     "data": {
      "image/png": "[encoded data removed]",
      "text/plain": [
       "<Figure size 640x480 with 1 Axes>"
      ]
     },
     "metadata": {},
     "output_type": "display_data"
    }
   ],
   "source": [
    "#identifying the plot\n",
    "dff=dff.plot(kind='box',vert=False)"
   ]
  },
  {
   "cell_type": "code",
   "execution_count": 207,
   "id": "999ddf45-7c00-47eb-8758-f110a3a8bf88",
   "metadata": {},
   "outputs": [
    {
     "data": {
      "text/plain": [
       "<Axes: >"
      ]
     },
     "execution_count": 207,
     "metadata": {},
     "output_type": "execute_result"
    },
    {
     "data": {
      "image/png": "[encoded data removed]",
      "text/plain": [
       "<Figure size 640x480 with 1 Axes>"
      ]
     },
     "metadata": {},
     "output_type": "display_data"
    }
   ],
   "source": [
    "new_bar=dff.plot(kind='bar')"
   ]
  },
  {
   "cell_type": "code",
   "execution_count": null,
   "id": "afb3cf61-0e70-4aab-8e4a-d9adf2339670",
   "metadata": {},
   "outputs": [],
   "source": []
  },
  {
   "cell_type": "code",
   "execution_count": null,
   "id": "968d23c3-b51e-4862-b0e1-76b9d0b50069",
   "metadata": {},
   "outputs": [],
   "source": []
  },
  {
   "cell_type": "code",
   "execution_count": null,
   "id": "d39cc187-25c1-4b3d-bb91-ef776adcc5a0",
   "metadata": {},
   "outputs": [],
   "source": []
  },
  {
   "cell_type": "code",
   "execution_count": null,
   "id": "3f518f80-764d-469a-a845-67c3818e9eee",
   "metadata": {},
   "outputs": [],
   "source": []
  }
 ],
 "metadata": {
  "kernelspec": {
   "display_name": "Python 3 (ipykernel)",
   "language": "python",
   "name": "python3"
  },
  "language_info": {
   "codemirror_mode": {
    "name": "ipython",
    "version": 3
   },
   "file_extension": ".py",
   "mimetype": "text/x-python",
   "name": "python",
   "nbconvert_exporter": "python",
   "pygments_lexer": "ipython3",
   "version": "3.12.4"
  }
 },
 "nbformat": 4,
 "nbformat_minor": 5
}
