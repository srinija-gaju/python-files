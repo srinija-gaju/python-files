{
 "cells": [
  {
   "cell_type": "markdown",
   "id": "5a2be252-2f9e-4fb1-adf8-4c8a6a88fb91",
   "metadata": {},
   "source": [
    "# Task-13 Functions-3"
   ]
  },
  {
   "cell_type": "markdown",
   "id": "bd2b8ca4-e610-4878-abf5-522f78f224b3",
   "metadata": {},
   "source": [
    "**Q1 \n",
    "Using in-built function filter() with a lambda function filter even numbers from a given list.\n",
    "num = [17, 20, 32, 45, 53, 61, 72, 84, 97]**\n"
   ]
  },
  {
   "cell_type": "code",
   "execution_count": 223,
   "id": "d72b06b8-04ce-4c7d-a624-ff5602bfb3ad",
   "metadata": {},
   "outputs": [
    {
     "data": {
      "text/plain": [
       "[20, 32, 72, 84]"
      ]
     },
     "execution_count": 223,
     "metadata": {},
     "output_type": "execute_result"
    }
   ],
   "source": [
    "num = [17, 20, 32, 45, 53, 61, 72, 84, 97]\n",
    "fun=lambda x:(x % 2==0)\n",
    "list(filter(fun,num))"
   ]
  },
  {
   "cell_type": "markdown",
   "id": "ea25e2a6-7866-4a61-af07-1a4cf448efe4",
   "metadata": {},
   "source": [
    "**Q2.Write a Python function to find the maximum of three numbers.**"
   ]
  },
  {
   "cell_type": "code",
   "execution_count": 53,
   "id": "f8a2f68f-f256-44d7-81e5-eb2226f57625",
   "metadata": {},
   "outputs": [
    {
     "data": {
      "text/plain": [
       "4"
      ]
     },
     "execution_count": 53,
     "metadata": {},
     "output_type": "execute_result"
    }
   ],
   "source": [
    "def maximum(x):\n",
    "    maxima=1\n",
    "    for i in x:\n",
    "        if i>maxima:\n",
    "            maxima=i\n",
    "    return maxima\n",
    "maximum([2,3,4])\n"
   ]
  },
  {
   "cell_type": "code",
   "execution_count": null,
   "id": "2aafb2bb-ad8f-447f-84d5-24adc584c5f6",
   "metadata": {},
   "outputs": [],
   "source": []
  },
  {
   "cell_type": "code",
   "execution_count": 59,
   "id": "76e51dd7-dafb-45f6-96b0-675cd760f4c6",
   "metadata": {},
   "outputs": [
    {
     "data": {
      "text/plain": [
       "22"
      ]
     },
     "execution_count": 59,
     "metadata": {},
     "output_type": "execute_result"
    }
   ],
   "source": [
    "#method-2\n",
    "def maximum(x,y,z):\n",
    "    if x>y and x>z:\n",
    "         return x\n",
    "    elif y>z and y>x:\n",
    "         return y\n",
    "    else:\n",
    "         return z    \n",
    "maximum(6,22,9)"
   ]
  },
  {
   "cell_type": "markdown",
   "id": "d85d8849-4499-4b2d-a242-6070768f7a87",
   "metadata": {},
   "source": [
    "**Q3.** \n",
    "**a.Write a Python function to check whether a number falls within a given range.**\n",
    "\n",
    "**b.Write a Python function that takes a list and returns a new list with distinct elements from the first list.**\n"
   ]
  },
  {
   "cell_type": "code",
   "execution_count": 49,
   "id": "fb074335-ddab-47ca-97fd-3b759899fb48",
   "metadata": {},
   "outputs": [
    {
     "name": "stdout",
     "output_type": "stream",
     "text": [
      "not in range\n"
     ]
    },
    {
     "data": {
      "text/plain": [
       "False"
      ]
     },
     "execution_count": 49,
     "metadata": {},
     "output_type": "execute_result"
    }
   ],
   "source": [
    "def number(num,range):\n",
    "    if num in range:\n",
    "        print(\"in range\")\n",
    "        return True\n",
    "    else:\n",
    "        print(\"not in range\")\n",
    "        return False\n",
    "number(89,range(1,20))"
   ]
  },
  {
   "cell_type": "code",
   "execution_count": 61,
   "id": "d463ff31-4643-461d-95f2-be41ef6c992a",
   "metadata": {},
   "outputs": [
    {
     "data": {
      "text/plain": [
       "[1, 2, 3, 5]"
      ]
     },
     "execution_count": 61,
     "metadata": {},
     "output_type": "execute_result"
    }
   ],
   "source": [
    "#3b\n",
    "def distinct(first_list):\n",
    "    new_list=first_list.copy()\n",
    "    return new_list\n",
    "distinct([1,2,3,5])"
   ]
  },
  {
   "cell_type": "code",
   "execution_count": null,
   "id": "d03ff80f-daef-4cc1-bfe3-1831b8b5645d",
   "metadata": {},
   "outputs": [],
   "source": []
  },
  {
   "cell_type": "markdown",
   "id": "2fd5d309-079d-4f58-bf0c-85c615a79eaf",
   "metadata": {},
   "source": [
    "**Q4. Write a Python function that accepts a string and counts the number of upper and lower case letters.**"
   ]
  },
  {
   "cell_type": "code",
   "execution_count": 597,
   "id": "457607d2-57d4-4790-a1a7-29f38b570fc5",
   "metadata": {},
   "outputs": [
    {
     "name": "stdout",
     "output_type": "stream",
     "text": [
      "number of uppercase letters are: 14\n",
      "number of lowercase letters are: 4\n"
     ]
    },
    {
     "data": {
      "text/plain": [
       "['done']"
      ]
     },
     "execution_count": 597,
     "metadata": {},
     "output_type": "execute_result"
    }
   ],
   "source": [
    "#using map\n",
    "def string_input(s):\n",
    "    count_upper=0\n",
    "    count_lower=0\n",
    "    for i in s:\n",
    "        if i.isupper():\n",
    "            count_upper+=1\n",
    "        elif i.islower():\n",
    "            count_lower+=1\n",
    "    print(\"number of uppercase letters are:\",count_upper)\n",
    "    print(\"number of lowercase letters are:\",count_lower)\n",
    "    return 'done'\n",
    "\n",
    "list(map(string_input,['WELOME tO INNoMAtiCS']))\n"
   ]
  },
  {
   "cell_type": "markdown",
   "id": "432b6c88-5643-4042-a247-b6cd4a7c27b7",
   "metadata": {},
   "source": [
    "**Q5. Write a function to check if the given number if even or not.**"
   ]
  },
  {
   "cell_type": "code",
   "execution_count": 687,
   "id": "9e245f34-fbb6-41a2-8d98-45e421f895c6",
   "metadata": {},
   "outputs": [
    {
     "name": "stdout",
     "output_type": "stream",
     "text": [
      "[(1, False), (8, True), (9, False), (3, False)]\n"
     ]
    }
   ],
   "source": [
    "#using map\n",
    "lst=[1,8,9,3]\n",
    "def even_odd(x):\n",
    "    if x%2==0:\n",
    "        return x,True\n",
    "    else:\n",
    "        return x,False\n",
    "print(list(map(even_odd,lst)))\n",
    "    "
   ]
  },
  {
   "cell_type": "code",
   "execution_count": 41,
   "id": "928e8165-e3e1-43de-9416-8822ae8881bd",
   "metadata": {},
   "outputs": [
    {
     "data": {
      "text/plain": [
       "[False, True, False, True]"
      ]
     },
     "execution_count": 41,
     "metadata": {},
     "output_type": "execute_result"
    }
   ],
   "source": [
    "\n",
    "list(map(lambda i:i%2==0,[1,2,3,4]))"
   ]
  },
  {
   "cell_type": "markdown",
   "id": "b73b62f2-751e-4c0c-bdf9-f419677c4eb4",
   "metadata": {},
   "source": [
    "**6Q.a.Write a function square(x) that returns the square of the number x.**\n",
    "\n",
    "**b.Write a function to_uppercase(s) that converts all characters in a string s to uppercase**\n",
    "\n",
    "**c.Write a function find_max(a, b) that returns the maximum of two numbers a and b**\n"
   ]
  },
  {
   "cell_type": "code",
   "execution_count": 451,
   "id": "752bc446-9805-4454-9d19-81c8fe7441e0",
   "metadata": {},
   "outputs": [
    {
     "data": {
      "text/plain": [
       "25"
      ]
     },
     "execution_count": 451,
     "metadata": {},
     "output_type": "execute_result"
    }
   ],
   "source": [
    "#a-method1\n",
    "def square(x):\n",
    "    return x*x\n",
    "square(5)\n",
    "    "
   ]
  },
  {
   "cell_type": "code",
   "execution_count": 81,
   "id": "2580d4cc-2535-4a00-8fd2-cae472d182ca",
   "metadata": {},
   "outputs": [
    {
     "name": "stdout",
     "output_type": "stream",
     "text": [
      "[4, 16, 36]\n"
     ]
    }
   ],
   "source": [
    "#a-using map\n",
    "lst=[2,4,6]\n",
    "def square(x):\n",
    "      return x*x\n",
    "print(list(map(square,lst)))"
   ]
  },
  {
   "cell_type": "code",
   "execution_count": 37,
   "id": "1d6b7a71-7baf-49f2-ab3d-a3d8fe371014",
   "metadata": {},
   "outputs": [
    {
     "name": "stdout",
     "output_type": "stream",
     "text": [
      "['SRINIJA', 'GAJU', 'INNOMATICS']\n"
     ]
    }
   ],
   "source": [
    "#b-using map\n",
    "def to_uppercase(s):\n",
    "    s=s.upper()\n",
    "    return s\n",
    "print(list(map(to_uppercase,['srinija','gaju','innomatics'])))\n"
   ]
  },
  {
   "cell_type": "code",
   "execution_count": 65,
   "id": "e2fd10df-09a8-43e7-905c-be968f3e1aa8",
   "metadata": {},
   "outputs": [
    {
     "data": {
      "text/plain": [
       "(8, 'a is maximum')"
      ]
     },
     "execution_count": 65,
     "metadata": {},
     "output_type": "execute_result"
    }
   ],
   "source": [
    "#c.\n",
    "\n",
    "def find_max(a,b):\n",
    "    if a>b:\n",
    "        return a,'a is maximum'\n",
    "    else:\n",
    "        return b,'b is maximum'\n",
    "find_max(8,2)\n",
    "        "
   ]
  },
  {
   "cell_type": "code",
   "execution_count": null,
   "id": "9c99464b-d224-42a1-9fbe-4dea66fae20e",
   "metadata": {},
   "outputs": [],
   "source": []
  }
 ],
 "metadata": {
  "kernelspec": {
   "display_name": "Python 3 (ipykernel)",
   "language": "python",
   "name": "python3"
  },
  "language_info": {
   "codemirror_mode": {
    "name": "ipython",
    "version": 3
   },
   "file_extension": ".py",
   "mimetype": "text/x-python",
   "name": "python",
   "nbconvert_exporter": "python",
   "pygments_lexer": "ipython3",
   "version": "3.12.4"
  }
 },
 "nbformat": 4,
 "nbformat_minor": 5
}
