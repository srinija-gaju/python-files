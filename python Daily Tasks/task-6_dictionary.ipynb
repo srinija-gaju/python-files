{
  "nbformat": 4,
  "nbformat_minor": 0,
  "metadata": {
    "colab": {
      "provenance": []
    },
    "kernelspec": {
      "name": "python3",
      "display_name": "Python 3"
    },
    "language_info": {
      "name": "python"
    }
  },
  "cells": [
    {
      "cell_type": "code",
      "execution_count": null,
      "metadata": {
        "id": "cPnfcuIVnXsa"
      },
      "outputs": [],
      "source": []
    },
    {
      "cell_type": "markdown",
      "source": [
        "# Daily Task6-Dictionary"
      ],
      "metadata": {
        "id": "jLSE3R-Vnept"
      }
    },
    {
      "cell_type": "markdown",
      "source": [
        "**1Q.Create Dictionary for following information as “Student”:\n",
        "Name =  Lakshmi\n",
        "Gender= Female\n",
        "Occupation = Data Scientist\n",
        "Location = Nizampet, Hyderabad\n",
        "print keys in Student as a list.**"
      ],
      "metadata": {
        "id": "fwuaf2gSnqER"
      }
    },
    {
      "cell_type": "code",
      "source": [
        "Student= {\"Name\":\"Lakshmi\",\"Gender\":\"Female\",\"Occupation\":\"Data Scientist\", \"Location\":\"Nizampet,Hyderabad\"}\n",
        "print(Student.keys())\n",
        "print(list(Student.keys()))\n"
      ],
      "metadata": {
        "colab": {
          "base_uri": "https://localhost:8080/"
        },
        "id": "FBX_VaplniZj",
        "outputId": "e4f6f54c-c4fb-42cf-fae3-39253bffced3"
      },
      "execution_count": null,
      "outputs": [
        {
          "output_type": "stream",
          "name": "stdout",
          "text": [
            "dict_keys(['Name', 'Gender', 'Occupation', 'Location'])\n",
            "['Name', 'Gender', 'Occupation', 'Location']\n"
          ]
        }
      ]
    },
    {
      "cell_type": "markdown",
      "source": [
        " **2Q. Create a dictionary with key-value pairs for a person's name and age**\n",
        "\n",
        " **a.Add a new key-value pair \"city\" with the value \"Delhi\" to the person dictionary.**\n",
        "\n",
        "**b.Remove the last key-value pair from the person dictionary.**\n",
        "\n",
        "**c.Include {\"Car_color\": \"White\"} in the person's dictionary**\n",
        "\n",
        "**d.Sort the above person's dictionary by its keys.**\n",
        "\n",
        "**e.Remove ‘city’ from this dictionary.**\n",
        "\n",
        "**f.Clear all key-value pairs from the above dictionary.**\n",
        "\n",
        "**g.Print list of all the values in the dictionary. Also print a list of all the keys.**\n"
      ],
      "metadata": {
        "id": "PAXMSJ7QqdLJ"
      }
    },
    {
      "cell_type": "code",
      "source": [
        "#a.Add a new key-value pair \"city\" with the value \"Delhi\" to the person dictionary.\n",
        "dictionary_1={\"name\":\"srinija\",\"age\":21}\n",
        "dictionary_1[\"city\"]=\"Delhi\"\n",
        "print(dictionary_1)"
      ],
      "metadata": {
        "colab": {
          "base_uri": "https://localhost:8080/"
        },
        "id": "u0azyIEhqtNk",
        "outputId": "4ddd84a9-83aa-44af-e979-73f060e9ec73"
      },
      "execution_count": null,
      "outputs": [
        {
          "output_type": "stream",
          "name": "stdout",
          "text": [
            "{'name': 'srinija', 'age': 21, 'city': 'Delhi'}\n"
          ]
        }
      ]
    },
    {
      "cell_type": "code",
      "source": [
        "#b.Remove the last key-value pair from the person dictionary.\n",
        "dictionary_1.popitem()\n",
        "print(dictionary_1)"
      ],
      "metadata": {
        "colab": {
          "base_uri": "https://localhost:8080/"
        },
        "id": "0b1LiwVTssr6",
        "outputId": "47526a5c-5b81-46af-c4b6-11d4fd732af5"
      },
      "execution_count": null,
      "outputs": [
        {
          "output_type": "stream",
          "name": "stdout",
          "text": [
            "{'name': 'srinija', 'age': 21}\n"
          ]
        }
      ]
    },
    {
      "cell_type": "code",
      "source": [
        "#c.Include {\"Car_color\": \"White\"} in the person's dictionary\n",
        "dictionary_1.update({\"Car_color\":\"White\"})\n",
        "print(dictionary_1)\n"
      ],
      "metadata": {
        "colab": {
          "base_uri": "https://localhost:8080/"
        },
        "id": "0hkdkQEXt8FR",
        "outputId": "b3629243-a4bd-4fe8-c5e8-f69a4f90e224"
      },
      "execution_count": null,
      "outputs": [
        {
          "output_type": "stream",
          "name": "stdout",
          "text": [
            "{'name': 'srinija', 'age': 21, 'Car_color': 'White'}\n"
          ]
        }
      ]
    },
    {
      "cell_type": "code",
      "source": [
        "#d.Sort the above person's dictionary by its keys.\n",
        "print(dictionary_1.keys())\n",
        "print(dictionary_1['name'])\n",
        "print(dictionary_1['age'])\n",
        "print(dictionary_1['Car_color'])\n",
        "\n",
        "\n",
        "\n",
        "\n"
      ],
      "metadata": {
        "colab": {
          "base_uri": "https://localhost:8080/"
        },
        "id": "AqJsDQ5ivuDq",
        "outputId": "7bd8599e-1daf-4548-bf73-fe6fe0e4a9ce"
      },
      "execution_count": null,
      "outputs": [
        {
          "output_type": "stream",
          "name": "stdout",
          "text": [
            "dict_keys(['name', 'age', 'Car_color'])\n",
            "srinija\n",
            "21\n",
            "White\n"
          ]
        }
      ]
    },
    {
      "cell_type": "code",
      "source": [
        "#e.Remove ‘city’ from this dictionary.\n",
        "dictionary_1.pop(\"city\")#city is removed from the dictionary so it will notgive us output"
      ],
      "metadata": {
        "colab": {
          "base_uri": "https://localhost:8080/",
          "height": 141
        },
        "id": "FLjveEcLv8gL",
        "outputId": "120eb5b3-6d54-4f9e-9207-f8a589474196"
      },
      "execution_count": null,
      "outputs": [
        {
          "output_type": "error",
          "ename": "KeyError",
          "evalue": "'city'",
          "traceback": [
            "\u001b[0;31m---------------------------------------------------------------------------\u001b[0m",
            "\u001b[0;31mKeyError\u001b[0m                                  Traceback (most recent call last)",
            "\u001b[0;32m<ipython-input-15-d1f37c88be74>\u001b[0m in \u001b[0;36m<cell line: 1>\u001b[0;34m()\u001b[0m\n\u001b[0;32m----> 1\u001b[0;31m \u001b[0mdictionary_1\u001b[0m\u001b[0;34m.\u001b[0m\u001b[0mpop\u001b[0m\u001b[0;34m(\u001b[0m\u001b[0;34m\"city\"\u001b[0m\u001b[0;34m)\u001b[0m\u001b[0;31m#city is removed from the dictionary so it will notgive us output\u001b[0m\u001b[0;34m\u001b[0m\u001b[0;34m\u001b[0m\u001b[0m\n\u001b[0m",
            "\u001b[0;31mKeyError\u001b[0m: 'city'"
          ]
        }
      ]
    },
    {
      "cell_type": "code",
      "source": [
        "#f.Clear all key-value pairs from the above dictionary.\n",
        "dictionary_1.clear()\n",
        "print(dictionary_1)"
      ],
      "metadata": {
        "colab": {
          "base_uri": "https://localhost:8080/"
        },
        "id": "NlYeLeNtdJUF",
        "outputId": "f14c2682-2632-4110-fe63-7d690a6b24f1"
      },
      "execution_count": null,
      "outputs": [
        {
          "output_type": "stream",
          "name": "stdout",
          "text": [
            "{}\n"
          ]
        }
      ]
    },
    {
      "cell_type": "code",
      "source": [
        "#g.Print list of all the values in the dictionary. Also print a list of all the keys.\n",
        "print(dictionary_1.keys())\n",
        "print(dictionary_1.values())\n",
        "#it gives empty keys and empty values because we have clear() has cleared all the key-value pairs"
      ],
      "metadata": {
        "colab": {
          "base_uri": "https://localhost:8080/"
        },
        "id": "_c2sfXQcfRA2",
        "outputId": "4cd935b8-104f-4d15-f7d9-0abdb7a52b7d"
      },
      "execution_count": null,
      "outputs": [
        {
          "output_type": "stream",
          "name": "stdout",
          "text": [
            "dict_keys([])\n",
            "dict_values([])\n"
          ]
        }
      ]
    },
    {
      "cell_type": "markdown",
      "source": [
        "**3Q.3.  Create a dictionary  Dic = {1: ”a”, 2: ”b”,  3: ”c”, 4: “d”}\n",
        "      Expected Output:  {”a”: 1 ,  ”b” : 2 ,  ”c” :3 , “d”:4}**\n",
        "\n"
      ],
      "metadata": {
        "id": "d67WwBcBgMjP"
      }
    },
    {
      "cell_type": "code",
      "source": [
        "Dic1={1: \"a\", 2: \"b\", 3: \"c\", 4: \"d\"}\n",
        "keys=Dic1.keys()\n",
        "values=Dic1.values()\n",
        "Dic2={}\n",
        "for i in range(len(keys)):\n",
        "            Dic2[list(Dic1.values())[i]]=list(Dic1.keys())[i]\n",
        "print(Dic2)\n",
        "\n",
        "\n",
        "\n"
      ],
      "metadata": {
        "colab": {
          "base_uri": "https://localhost:8080/"
        },
        "id": "_-xVlmrLfnbt",
        "outputId": "5aa3954c-ff00-4892-d3b0-a0f8dae4ebe9"
      },
      "execution_count": null,
      "outputs": [
        {
          "output_type": "stream",
          "name": "stdout",
          "text": [
            "{'a': 1, 'b': 2, 'c': 3, 'd': 4}\n"
          ]
        }
      ]
    },
    {
      "cell_type": "markdown",
      "source": [
        "**#4Q. Explain dictionary Properties/ Attributes. What is the difference between dict.pop() and dict.popitem() ? explain with examples.**\n",
        "\n"
      ],
      "metadata": {
        "id": "Uq40faLIuxjT"
      }
    },
    {
      "cell_type": "markdown",
      "source": [
        "**1.Allows different Data types\n",
        "  Ex:my_dict={\"name\":\"srinija\",\"age\":21,\"graduated\":True}\n",
        "  2.Not ordered and mutable\n",
        "  Ex:"
      ],
      "metadata": {
        "id": "V8ehIeq6u7ao"
      }
    },
    {
      "cell_type": "code",
      "source": [
        "#1.Allows different Data types\n",
        "my_dict={\"name\":\"srinija\",\"age\":21,\"graduated\":True}"
      ],
      "metadata": {
        "id": "qoUwLk-1gcaF"
      },
      "execution_count": null,
      "outputs": []
    },
    {
      "cell_type": "code",
      "source": [
        "#2.Not ordered and mutable\n",
        "my_dict={1:\"a\",2:\"b\",3:\"c\",4:\"d\"}\n",
        "my_dict[1]=\"e\"\n",
        "print(my_dict)"
      ],
      "metadata": {
        "colab": {
          "base_uri": "https://localhost:8080/"
        },
        "id": "UY5NFotnxutk",
        "outputId": "43f92981-70c3-436c-8c38-94632262cdf1"
      },
      "execution_count": null,
      "outputs": [
        {
          "output_type": "stream",
          "name": "stdout",
          "text": [
            "{1: 'e', 2: 'b', 3: 'c', 4: 'd'}\n"
          ]
        }
      ]
    },
    {
      "cell_type": "code",
      "source": [
        "#3.It does not allow duplicates.\n",
        "#--->duplicate values are accepted but keys are not accepted\n",
        "#--->if duplicate keys are present then it will return last value of that duplicate key\n",
        "my_dict_1={1:\"a\",2:\"b\",3:\"c\",4:\"d\",4:\"e\"}\n",
        "print(my_dict_1)\n"
      ],
      "metadata": {
        "colab": {
          "base_uri": "https://localhost:8080/"
        },
        "id": "Mn32gHrPyHs8",
        "outputId": "7fb6de21-f089-4dc6-d209-7791811ec360"
      },
      "execution_count": null,
      "outputs": [
        {
          "output_type": "stream",
          "name": "stdout",
          "text": [
            "{1: 'a', 2: 'b', 3: 'c', 4: 'e'}\n"
          ]
        }
      ]
    },
    {
      "cell_type": "code",
      "source": [
        "#.values can be stored in a list because list can store multiple values\n",
        "dict_1={\"names\":[\"srinija\",\"srujana\",\"nandu\"],\"age\":[21,25,23]}\n",
        "dict_1"
      ],
      "metadata": {
        "colab": {
          "base_uri": "https://localhost:8080/"
        },
        "id": "FwpHksWwzsOc",
        "outputId": "f694a32f-a7c7-448e-a7c4-4c0e63e1d9f5"
      },
      "execution_count": null,
      "outputs": [
        {
          "output_type": "execute_result",
          "data": {
            "text/plain": [
              "{'names': ['srinija', 'srujana', 'nandu'], 'age': [21, 25, 23]}"
            ]
          },
          "metadata": {},
          "execution_count": 102
        }
      ]
    },
    {
      "cell_type": "markdown",
      "source": [
        "**5. Create a dictionary  dic = { “Python” : 90 , “EDA” : 89 , “SQL” : 98 , “Machine Learning” :   95}  apply all dictionary built in functions.**\n"
      ],
      "metadata": {
        "id": "T7-Yfznu1jIH"
      }
    },
    {
      "cell_type": "code",
      "source": [
        "#1.len()-gives length of the dictionary\n",
        "dic={\"Python\":90,\"EDA\":89,\"SQL\":98,\"Machine Learning\":95}\n",
        "print(len(dic))\n"
      ],
      "metadata": {
        "colab": {
          "base_uri": "https://localhost:8080/"
        },
        "id": "_qb1PQm81Nby",
        "outputId": "095ebe2d-0410-4e0f-e9ea-92b7907d5668"
      },
      "execution_count": null,
      "outputs": [
        {
          "output_type": "stream",
          "name": "stdout",
          "text": [
            "4\n"
          ]
        }
      ]
    },
    {
      "cell_type": "code",
      "source": [
        "#2.clear()-clear all the key-value pairs from the dictionary and returns empty list\n",
        "dic={\"Python\":90,\"EDA\":89,\"SQL\":98,\"Machine Learning\":95}\n",
        "dic.clear()\n",
        "print(dic)\n",
        "\n"
      ],
      "metadata": {
        "colab": {
          "base_uri": "https://localhost:8080/"
        },
        "id": "Vbd1C__12PWU",
        "outputId": "a5c2e2bc-e3b5-4774-96b3-96b641446460"
      },
      "execution_count": null,
      "outputs": [
        {
          "output_type": "stream",
          "name": "stdout",
          "text": [
            "{}\n"
          ]
        }
      ]
    },
    {
      "cell_type": "code",
      "source": [
        "#3.get()-returns\n",
        "dic={\"Python\":90,\"EDA\":89,\"SQL\":98,\"Machine Learning\":95}\n",
        "print(dic.get(\"Python\"))\n",
        "print(dic.get(\"EDA\"))\n",
        "print(dic.get(\"SQL\"))\n",
        "print(dic.get(\"Machine Learning\"))\n",
        "\n"
      ],
      "metadata": {
        "colab": {
          "base_uri": "https://localhost:8080/"
        },
        "id": "cCebfdc72kbD",
        "outputId": "b1615b30-be6b-4c68-f31d-05203595631a"
      },
      "execution_count": null,
      "outputs": [
        {
          "output_type": "stream",
          "name": "stdout",
          "text": [
            "90\n",
            "89\n",
            "98\n",
            "95\n"
          ]
        }
      ]
    },
    {
      "cell_type": "code",
      "source": [
        "#4.pop()-removes values of a specified key,so it expects atleast one argument\n",
        "dic={\"Python\":90,\"EDA\":89,\"SQL\":98,\"Machine Learning\":95}\n",
        "dic.pop(\"Python\")\n",
        "print(dic)\n"
      ],
      "metadata": {
        "colab": {
          "base_uri": "https://localhost:8080/"
        },
        "id": "LQ7JBNd340GN",
        "outputId": "fe83896d-ada3-4ac9-c622-08cc04c0b935"
      },
      "execution_count": null,
      "outputs": [
        {
          "output_type": "stream",
          "name": "stdout",
          "text": [
            "{'EDA': 89, 'SQL': 98, 'Machine Learning': 95}\n"
          ]
        }
      ]
    },
    {
      "cell_type": "code",
      "source": [
        "#5.popitem()-removes last key-value pair from the dictionary it doesnt axpect arguments\n",
        "dic={\"Python\":90,\"EDA\":89,\"SQL\":98,\"Machine Learning\":95}\n",
        "dic.popitem()\n",
        "print(dic)\n"
      ],
      "metadata": {
        "colab": {
          "base_uri": "https://localhost:8080/"
        },
        "id": "6BL4aCO25SCH",
        "outputId": "a4555780-904e-4e79-dfb2-72fb71aed3d5"
      },
      "execution_count": null,
      "outputs": [
        {
          "output_type": "stream",
          "name": "stdout",
          "text": [
            "{'Python': 90, 'EDA': 89, 'SQL': 98}\n"
          ]
        }
      ]
    },
    {
      "cell_type": "code",
      "source": [
        "#6.update()-adding new key-value pair in the dictionary\n",
        "dic={\"Python\":90,\"EDA\":89,\"SQL\":98,\"Machine Learning\":95}\n",
        "dic.update({\"Excel\":99})\n",
        "print(dic)"
      ],
      "metadata": {
        "colab": {
          "base_uri": "https://localhost:8080/"
        },
        "id": "J9aUoP4Q6wKr",
        "outputId": "f878f259-5f71-41eb-9a0b-e722fd77da7e"
      },
      "execution_count": null,
      "outputs": [
        {
          "output_type": "stream",
          "name": "stdout",
          "text": [
            "{'Python': 90, 'EDA': 89, 'SQL': 98, 'Machine Learning': 95, 'Excel': 99}\n"
          ]
        }
      ]
    },
    {
      "cell_type": "code",
      "source": [],
      "metadata": {
        "id": "ZKfwbGdh8G2x"
      },
      "execution_count": null,
      "outputs": []
    }
  ]
}