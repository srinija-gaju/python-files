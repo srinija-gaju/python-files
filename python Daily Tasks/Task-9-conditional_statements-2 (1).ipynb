{
 "cells": [
  {
   "cell_type": "markdown",
   "id": "52cafbe0-cb87-43f3-bd26-4fd218b4af7c",
   "metadata": {},
   "source": [
    " # conditional statements-2"
   ]
  },
  {
   "cell_type": "markdown",
   "id": "f909b68c-70be-4dbc-995f-5b7b6b72d5ab",
   "metadata": {},
   "source": [
    "**1Q.Write a program to accept a number from a user and  calculate the sum of all numbers from 1 to a given number.**"
   ]
  },
  {
   "cell_type": "code",
   "execution_count": 3,
   "id": "92f7bf0c-cb85-4e40-8aeb-32c509c56077",
   "metadata": {},
   "outputs": [
    {
     "name": "stdin",
     "output_type": "stream",
     "text": [
      "enter a number 10\n"
     ]
    },
    {
     "name": "stdout",
     "output_type": "stream",
     "text": [
      "sum of 10 numbers is 55\n"
     ]
    }
   ],
   "source": [
    "number=int(input(\"enter a number\"))\n",
    "sum=0\n",
    "for i in range(1,number+1):\n",
    "    sum=i+sum\n",
    "print(\"sum of\",number,\"numbers is\",sum)\n",
    "    "
   ]
  },
  {
   "cell_type": "markdown",
   "id": "6c51d4ad-0eaf-4e46-b1e2-3838733b7423",
   "metadata": {},
   "source": [
    "**2Q.write a program to convert only odd indexed characters to lowercase.**"
   ]
  },
  {
   "cell_type": "code",
   "execution_count": 5,
   "id": "67af7ef9-9900-4d5a-aaec-3dc177abcfc9",
   "metadata": {},
   "outputs": [
    {
     "name": "stdin",
     "output_type": "stream",
     "text": [
      "enter a string SRINIJA\n"
     ]
    },
    {
     "data": {
      "text/plain": [
       "'SrInIjA'"
      ]
     },
     "execution_count": 5,
     "metadata": {},
     "output_type": "execute_result"
    }
   ],
   "source": [
    "my_string=input(\"enter a string\")\n",
    "r=[]\n",
    "for i in range(0,len(my_string)):\n",
    "    if i%2==0:\n",
    "        r.append(my_string[i])\n",
    "    else:\n",
    "        r.append(my_string[i].lower())\n",
    "\"\".join(r)\n",
    "    "
   ]
  },
  {
   "cell_type": "markdown",
   "id": "69625226-79d4-4fba-9ecf-f81b3151cfa0",
   "metadata": {},
   "source": [
    "**3Q.Write a python program which will print the sum of the two numbers if the two numbers are even or it will print the difference of two numbers.**\n"
   ]
  },
  {
   "cell_type": "code",
   "execution_count": 7,
   "id": "7ad03201-9771-4027-8491-0654482d180d",
   "metadata": {},
   "outputs": [
    {
     "name": "stdin",
     "output_type": "stream",
     "text": [
      "enter first number 4\n",
      "enter second number 4\n"
     ]
    },
    {
     "name": "stdout",
     "output_type": "stream",
     "text": [
      "the sum of two even numbers is  8\n"
     ]
    }
   ],
   "source": [
    "num1=int(input(\"enter first number\"))\n",
    "num2=int(input(\"enter second number\"))\n",
    "if num1%2==0 and num2%2==0:\n",
    "             print(\"the sum of two even numbers is \",num1+num2)\n",
    "elif num1%2!=0 and num2%2!=0: \n",
    "             print(\"the difference of two odd numbers is \", num1-num2)\n",
    "else:\n",
    "    print(\"you have entered one even number and one odd number\")\n",
    "    \n",
    "    \n",
    "               "
   ]
  },
  {
   "cell_type": "markdown",
   "id": "7af706e4-6137-4009-85ab-68d212e90be6",
   "metadata": {},
   "source": [
    "**4Q.Write a program to print a multiplication table of a given  number.**"
   ]
  },
  {
   "cell_type": "code",
   "execution_count": 13,
   "id": "d9f96517-f13e-4c0e-8202-424333df5e42",
   "metadata": {},
   "outputs": [
    {
     "name": "stdin",
     "output_type": "stream",
     "text": [
      "enter a number 9\n"
     ]
    },
    {
     "name": "stdout",
     "output_type": "stream",
     "text": [
      "9 x 1 = 9\n",
      "9 x 2 = 18\n",
      "9 x 3 = 27\n",
      "9 x 4 = 36\n",
      "9 x 5 = 45\n",
      "9 x 6 = 54\n",
      "9 x 7 = 63\n",
      "9 x 8 = 72\n",
      "9 x 9 = 81\n",
      "9 x 10 = 90\n"
     ]
    }
   ],
   "source": [
    "number=int(input(\"enter a number\"))\n",
    "for i in range(1,11):\n",
    "       print(number,\"x\",i,\"=\",number*i)"
   ]
  },
  {
   "cell_type": "markdown",
   "id": "99da73f4-5e5a-42ff-b547-379d5112541a",
   "metadata": {},
   "source": [
    "**5Q.Write a program to count the total number of digits in a  number.**"
   ]
  },
  {
   "cell_type": "code",
   "execution_count": 41,
   "id": "2b63479e-3365-4791-855d-8d9a5cc61e69",
   "metadata": {},
   "outputs": [
    {
     "name": "stdin",
     "output_type": "stream",
     "text": [
      "enter a number 1000000\n"
     ]
    },
    {
     "name": "stdout",
     "output_type": "stream",
     "text": [
      "the number of digits in a given number is\n",
      "7\n"
     ]
    }
   ],
   "source": [
    "n=int(input(\"enter a number\"))\n",
    "digits=0\n",
    "while n>0:\n",
    "    n=n//10\n",
    "    digits=digits+1\n",
    "print(\"the number of digits in a given number is\")\n",
    "print(digits)"
   ]
  },
  {
   "cell_type": "markdown",
   "id": "da829e03-a049-4c3d-8dca-0ad30b4946a1",
   "metadata": {},
   "source": [
    "**6Q.write a python program to create the total no of digits in a number .**\n",
    "\n",
    "**a.For example the number is 75869 so the output should be 5.for  abcdef5678 the  output should be 4.**"
   ]
  },
  {
   "cell_type": "code",
   "execution_count": 298,
   "id": "41d723b3-9b0b-461d-8a48-e3c3c2ec4c70",
   "metadata": {},
   "outputs": [
    {
     "name": "stdin",
     "output_type": "stream",
     "text": [
      "enter a string abcdef1234\n"
     ]
    },
    {
     "name": "stdout",
     "output_type": "stream",
     "text": [
      "the number of digits in the entered string 4\n"
     ]
    }
   ],
   "source": [
    "digits=0\n",
    "string=input(\"enter a string\")\n",
    "for i in string:\n",
    "    if i.isdigit():\n",
    "              digits=digits+1\n",
    "print(\"the number of digits in the entered string\",digits)"
   ]
  },
  {
   "cell_type": "markdown",
   "id": "8bf18538-f3b0-4b5e-ae4c-d5b7eb92fcdf",
   "metadata": {},
   "source": [
    "**7Q. Write a Python program which iterates the integers from 1 to 60. For multiples of three print \"Fizz\" instead of the number and for the multiples of five print \"Buzz”.**\n"
   ]
  },
  {
   "cell_type": "code",
   "execution_count": 243,
   "id": "e79ee857-ef22-4c66-9ea0-1ce7f415ca13",
   "metadata": {},
   "outputs": [
    {
     "name": "stdout",
     "output_type": "stream",
     "text": [
      "3 Fizz\n",
      "5 Buzz\n",
      "6 Fizz\n",
      "9 Fizz\n",
      "10 Buzz\n",
      "12 Fizz\n",
      "15 Fizz\n",
      "18 Fizz\n",
      "20 Buzz\n",
      "21 Fizz\n",
      "24 Fizz\n",
      "25 Buzz\n",
      "27 Fizz\n",
      "30 Fizz\n",
      "33 Fizz\n",
      "35 Buzz\n",
      "36 Fizz\n",
      "39 Fizz\n",
      "40 Buzz\n",
      "42 Fizz\n",
      "45 Fizz\n",
      "48 Fizz\n",
      "50 Buzz\n",
      "51 Fizz\n",
      "54 Fizz\n",
      "55 Buzz\n",
      "57 Fizz\n"
     ]
    }
   ],
   "source": [
    "for i in range(1,60):\n",
    "    if i%3==0:\n",
    "        print(i,\"Fizz\")\n",
    "    elif i%5==0:\n",
    "        print(i,\"Buzz\")    "
   ]
  },
  {
   "cell_type": "markdown",
   "id": "06fa704a-6a58-4145-9407-bcd7fb8c6a2b",
   "metadata": {},
   "source": [
    "**8Q.Write a Python program that accepts a string and calculates the number of digits and letters**"
   ]
  },
  {
   "cell_type": "code",
   "execution_count": 260,
   "id": "33582575-61e9-438c-bada-666a5fb85de0",
   "metadata": {},
   "outputs": [
    {
     "name": "stdin",
     "output_type": "stream",
     "text": [
      "enter a string 123456abcdefre5ty\n"
     ]
    },
    {
     "name": "stdout",
     "output_type": "stream",
     "text": [
      "7 digits\n",
      "10 alphabets\n"
     ]
    }
   ],
   "source": [
    "digits=0\n",
    "alphabets=0\n",
    "\n",
    "string=input(\"enter a string\")\n",
    "for i in string:\n",
    "    if i.isdigit():\n",
    "        digits=digits+1\n",
    "    else:\n",
    "        alphabets=alphabets+1\n",
    "print(digits,\"digits\")\n",
    "print(alphabets,\"alphabets\")"
   ]
  },
  {
   "cell_type": "markdown",
   "id": "72e3e37a-7049-41fe-8a82-dda495d7628c",
   "metadata": {},
   "source": [
    "**9Q.Write a Python program to check the validity of password input by users.Validation:\\n\",**\n",
    "\n",
    "**At least 1 letter between [a-z] and 1 letter between [A-Z].,**\n",
    "     \n",
    "**At least 1 number between [0-9].,**\n",
    "     \n",
    "**At least 1 character from [$#@].,**\n",
    "\n",
    "**Minimum length 6 characters.,Maximum length 16 characters.**\n"
   ]
  },
  {
   "cell_type": "code",
   "execution_count": 35,
   "id": "0d839524-0203-4aab-8c37-5d64d1c9c334",
   "metadata": {},
   "outputs": [
    {
     "name": "stdin",
     "output_type": "stream",
     "text": [
      "enter a password Sri12@\n"
     ]
    },
    {
     "name": "stdout",
     "output_type": "stream",
     "text": [
      "strong password\n"
     ]
    }
   ],
   "source": [
    "password=input(\"enter a password\")\n",
    "if len(password)>12 and len(password)<6:\n",
    "    print(\"enter password between 6 and 12\")\n",
    "elif len(password)>6 and len(password)<12:\n",
    "    print(\"password is valied\")   \n",
    "if password.isdigit()==password or password.upper()==password or password.lower()==password:\n",
    "     print(\"average\")\n",
    "elif password.isdigit()==password and password.upper()==password or password.lower()==password:\n",
    "     print(\"good\")\n",
    "elif password.isdigit()==password and password.upper()==password and password.lower()==password and password==\"@\" and password==\"#\" and password==\"$\":\n",
    "      print(\"nice\")\n",
    "else:\n",
    "       print(\"strong password\")\n",
    "       "
   ]
  },
  {
   "cell_type": "markdown",
   "id": "97b73a96-2dc4-4daf-b77a-521b82d028cf",
   "metadata": {},
   "source": [
    "**10Q.Write a program in Python to reverse a word by using while loop,for loop.**\n"
   ]
  },
  {
   "cell_type": "code",
   "execution_count": 336,
   "id": "fe28dc42-563a-411d-9080-bdfe858684e0",
   "metadata": {},
   "outputs": [
    {
     "name": "stdin",
     "output_type": "stream",
     "text": [
      "enter a string srinija\n"
     ]
    },
    {
     "name": "stdout",
     "output_type": "stream",
     "text": [
      "ajinirs\n"
     ]
    }
   ],
   "source": [
    "#for loop\n",
    "my_string=input(\"enter a string\")\n",
    "reversed_string=[]\n",
    "for i in my_string[::-1]:\n",
    "             r=i\n",
    "             reversed_string.append(r)\n",
    "print(\"\".join(reversed_string))\n",
    "    "
   ]
  },
  {
   "cell_type": "code",
   "execution_count": 1,
   "id": "b2f9d45c-9516-4ee7-91ce-5e046ad65e9c",
   "metadata": {},
   "outputs": [
    {
     "name": "stdin",
     "output_type": "stream",
     "text": [
      "enter a string srinija\n"
     ]
    },
    {
     "name": "stdout",
     "output_type": "stream",
     "text": [
      "ajinirs\n"
     ]
    }
   ],
   "source": [
    "#while\n",
    "my_string=input(\"enter a string\")\n",
    "i=len(my_string)-1\n",
    "reversed_string=[]\n",
    "while i>=0:\n",
    "    reversed_string+=my_string[i]\n",
    "    i=i-1\n",
    "print(\"\".join(reversed_string))"
   ]
  },
  {
   "cell_type": "markdown",
   "id": "c9058caa-924c-43ef-a154-12e2ea1176b3",
   "metadata": {},
   "source": [
    "**11Q.Write a program which takes 10 integers as input using loop and print their average value on the screen**"
   ]
  },
  {
   "cell_type": "code",
   "execution_count": null,
   "id": "cd4f9b22-90b7-4407-9cc5-4f0311f20613",
   "metadata": {},
   "outputs": [],
   "source": [
    "#method-1\n",
    "sums=0\n",
    "nums=0\n",
    "for i in range(1,11):\n",
    "             sums=sums+i\n",
    "             nums=nums+1\n",
    "avg=sums/nums\n",
    "print(\"the average of 10 numbers is\",avg)    "
   ]
  },
  {
   "cell_type": "code",
   "execution_count": 30,
   "id": "212ae3de-d0cd-4f3a-a50d-77c3198ecdc0",
   "metadata": {},
   "outputs": [
    {
     "name": "stdout",
     "output_type": "stream",
     "text": [
      "the average of 10 numbers is 5.5\n"
     ]
    }
   ],
   "source": [
    "#method-2:\n",
    "my_list=[1,2,3,4,5,6,7,8,9,10]\n",
    "sums=0\n",
    "nums=0\n",
    "for i in my_list:\n",
    "             sums=sums+i\n",
    "             nums=nums+1\n",
    "avg=sums/nums\n",
    "print(\"the average of 10 numbers is\",avg)"
   ]
  },
  {
   "cell_type": "code",
   "execution_count": null,
   "id": "c20b2b47-8547-4d03-9731-a2b37e77c641",
   "metadata": {},
   "outputs": [],
   "source": []
  }
 ],
 "metadata": {
  "kernelspec": {
   "display_name": "Python 3 (ipykernel)",
   "language": "python",
   "name": "python3"
  },
  "language_info": {
   "codemirror_mode": {
    "name": "ipython",
    "version": 3
   },
   "file_extension": ".py",
   "mimetype": "text/x-python",
   "name": "python",
   "nbconvert_exporter": "python",
   "pygments_lexer": "ipython3",
   "version": "3.12.4"
  }
 },
 "nbformat": 4,
 "nbformat_minor": 5
}
