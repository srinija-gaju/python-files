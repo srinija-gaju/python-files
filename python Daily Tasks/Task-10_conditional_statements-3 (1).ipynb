{
 "cells": [
  {
   "cell_type": "markdown",
   "id": "a8911c95-701a-4250-a7af-004985b01eae",
   "metadata": {},
   "source": [
    "# Task10-Conditional_statements-3"
   ]
  },
  {
   "cell_type": "markdown",
   "id": "68b58d7c-48ed-4b92-8bd7-de240daf6d0c",
   "metadata": {},
   "source": [
    "**1Q.Write a program that checks whether a given number is an Armstrong number. An Armstrong number is one that is equal to the sum of its own digits each raised to the power of the number of digits. Use a while loop.**\n"
   ]
  },
  {
   "cell_type": "code",
   "execution_count": 7,
   "id": "93098261-22f3-4950-97f2-3c73862b7ef1",
   "metadata": {},
   "outputs": [
    {
     "name": "stdin",
     "output_type": "stream",
     "text": [
      "enter a number 1634\n"
     ]
    },
    {
     "name": "stdout",
     "output_type": "stream",
     "text": [
      "1634 is the sum of its own digits each raised to the power of the number of the digits number\n",
      "Armstrong number\n"
     ]
    }
   ],
   "source": [
    "n=int(input(\"enter a number\"))\n",
    "b=str(n)\n",
    "c=len(b)\n",
    "a=n\n",
    "digits=0\n",
    "res=0\n",
    "while n>0:\n",
    "    sums=n%10\n",
    "    n=n//10\n",
    "    pow=sums**c\n",
    "    res=res+pow\n",
    "    digits=digits+1\n",
    "print(res,\"is the sum of its own digits each raised to the power of the number of the digits number\")\n",
    "if res==a:\n",
    "    print(\"Armstrong number\")\n",
    "else:\n",
    "    print(\"not a armstronng number\")    "
   ]
  },
  {
   "cell_type": "markdown",
   "id": "8d34035e-4fff-40bc-ae0b-20036c1c5d87",
   "metadata": {},
   "source": [
    "**2Q.Write a program to determine if a given year is a leap year.**\n"
   ]
  },
  {
   "cell_type": "code",
   "execution_count": 204,
   "id": "ac349804-39e7-42ed-8aa1-4d5f9f722fec",
   "metadata": {},
   "outputs": [
    {
     "name": "stdin",
     "output_type": "stream",
     "text": [
      "enter a number 2024\n"
     ]
    },
    {
     "name": "stdout",
     "output_type": "stream",
     "text": [
      "2024 is not a leap year\n"
     ]
    }
   ],
   "source": [
    "year=int(input(\"enter a number\"))\n",
    "if year%4==0 and year%400==0: \n",
    "    print(year,\"is a leap year\")\n",
    "else:\n",
    "    print(year,\"is not a leap year\")\n"
   ]
  },
  {
   "cell_type": "markdown",
   "id": "9125001b-081a-4a1e-878c-89c579b36cf2",
   "metadata": {},
   "source": [
    "**3Q.Write a program that generates the Fibonacci sequence up to a certain number using a while loop.**"
   ]
  },
  {
   "cell_type": "code",
   "execution_count": 57,
   "id": "13456e2d-8596-440a-9d27-53552aa8818f",
   "metadata": {},
   "outputs": [
    {
     "name": "stdin",
     "output_type": "stream",
     "text": [
      "enter a certain upto where you want to find fibonnaci series 9\n"
     ]
    },
    {
     "name": "stdout",
     "output_type": "stream",
     "text": [
      "21\n"
     ]
    }
   ],
   "source": [
    "#0+1+1+2+3+5+8+13+21\n",
    "number=int(input(\"enter a certain upto where you want to find fibonnaci series\"))\n",
    "i=2\n",
    "num1=0\n",
    "num2=1\n",
    "\n",
    "while i<number:\n",
    "    fib=num1+num2\n",
    "    num3=num2\n",
    "    num2=fib\n",
    "    num1=num3\n",
    "    i=i+1\n",
    "print(fib)\n",
    "  "
   ]
  },
  {
   "cell_type": "code",
   "execution_count": 1,
   "id": "ea817c3d-e4ab-4223-b46f-49aa3eb68871",
   "metadata": {},
   "outputs": [
    {
     "name": "stdin",
     "output_type": "stream",
     "text": [
      "enter a certain upto where you want to find fibonnaci series 8\n"
     ]
    },
    {
     "name": "stdout",
     "output_type": "stream",
     "text": [
      "13\n"
     ]
    }
   ],
   "source": [
    "#for loop\n",
    "number=int(input(\"enter a certain upto where you want to find fibonnaci series\"))\n",
    "i=2\n",
    "num1=0\n",
    "num2=1\n",
    "for i in range(2,number):\n",
    "    fib=num1+num2\n",
    "    num3=num2\n",
    "    num2=fib\n",
    "    num1=num3\n",
    "print(fib)"
   ]
  },
  {
   "cell_type": "markdown",
   "id": "7dd25765-1217-46b7-bf5f-5e58b92c6566",
   "metadata": {},
   "source": [
    "**4Q.Write a program to print the following pattern using a for loop*** *\r\n"
   ]
  },
  {
   "cell_type": "code",
   "execution_count": 515,
   "id": "a9f037bb-f801-4ef1-8808-a6360ec79089",
   "metadata": {},
   "outputs": [
    {
     "name": "stdout",
     "output_type": "stream",
     "text": [
      "\n",
      "* \n",
      "* * \n",
      "* * * \n",
      "* * * * \n",
      "* * * * * \n"
     ]
    }
   ],
   "source": [
    "for i in range(6):\n",
    "    for j in range(i):\n",
    "         print(\"*\",end=\" \")\n",
    "    print()"
   ]
  },
  {
   "cell_type": "markdown",
   "id": "ac6da013-23ed-4405-bd0f-7a9dfb3b8e72",
   "metadata": {},
   "source": [
    "**5Q.Write a program to print the following pattern using a for loop**"
   ]
  },
  {
   "cell_type": "code",
   "execution_count": 2,
   "id": "cac8f1a1-1c50-4956-a7a9-3498fb5a78e9",
   "metadata": {},
   "outputs": [
    {
     "name": "stdout",
     "output_type": "stream",
     "text": [
      "          1 \n",
      "         2 2 \n",
      "        3 3 3 \n",
      "       4 4 4 4 \n",
      "      5 5 5 5 5 \n",
      "       4 4 4 4 \n",
      "        3 3 3 \n",
      "         2 2 \n",
      "          1 \n"
     ]
    }
   ],
   "source": [
    "n=5\n",
    "for i in range(n-1):\n",
    "    for j in range(i,n):\n",
    "        print(\" \",end=\" \")\n",
    "    for j in range(i):\n",
    "        print(\" \",end=\"\")\n",
    "    for j in range(i+1):\n",
    "        print(i+1,end=\" \")\n",
    "    print()\n",
    "for i in range(n):\n",
    "    for j in range(i+1):\n",
    "        print(\" \",end=\" \")\n",
    "    for j in range(i,n-1):\n",
    "        print(\" \",end=\"\")\n",
    "    for j in range(i,n):\n",
    "        print(n-i,end=\" \")\n",
    "    \n",
    "    print()"
   ]
  },
  {
   "cell_type": "code",
   "execution_count": null,
   "id": "5a77db5b-bcce-4476-ae3c-83be0567c048",
   "metadata": {},
   "outputs": [],
   "source": []
  }
 ],
 "metadata": {
  "kernelspec": {
   "display_name": "Python 3 (ipykernel)",
   "language": "python",
   "name": "python3"
  },
  "language_info": {
   "codemirror_mode": {
    "name": "ipython",
    "version": 3
   },
   "file_extension": ".py",
   "mimetype": "text/x-python",
   "name": "python",
   "nbconvert_exporter": "python",
   "pygments_lexer": "ipython3",
   "version": "3.12.4"
  }
 },
 "nbformat": 4,
 "nbformat_minor": 5
}
