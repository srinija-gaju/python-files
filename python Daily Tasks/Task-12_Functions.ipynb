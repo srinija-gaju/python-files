{
 "cells": [
  {
   "cell_type": "markdown",
   "id": "672fb978-8a76-489d-90eb-83a3a93f7b93",
   "metadata": {},
   "source": [
    "# Daily Task-12 Functions"
   ]
  },
  {
   "cell_type": "markdown",
   "id": "a52f83c3-51c5-445d-8644-cb941e3fddeb",
   "metadata": {},
   "source": [
    "**1Q.Write a function square(x) that returns the square of the number x.**"
   ]
  },
  {
   "cell_type": "code",
   "execution_count": 36,
   "id": "65b0e1af-d637-4864-9880-3618f1e544cc",
   "metadata": {},
   "outputs": [
    {
     "name": "stdout",
     "output_type": "stream",
     "text": [
      "4\n"
     ]
    }
   ],
   "source": [
    "#method-1\n",
    "def square(x):\n",
    "      print(x*x)\n",
    "square(2)"
   ]
  },
  {
   "cell_type": "code",
   "execution_count": 29,
   "id": "28d3226f-0ee2-403b-a03a-563435e19c92",
   "metadata": {},
   "outputs": [
    {
     "name": "stdout",
     "output_type": "stream",
     "text": [
      "[25, 9]\n"
     ]
    }
   ],
   "source": [
    "#using for loop\n",
    "def square(x):\n",
    "    squares=[]\n",
    "    for i in x:\n",
    "        square=i**2\n",
    "        squares.append(square)\n",
    "    print(squares)\n",
    "square([5,3])\n",
    "         \n",
    "    "
   ]
  },
  {
   "cell_type": "markdown",
   "id": "074459b6-bb88-4b5e-a055-a17a35bb8f12",
   "metadata": {},
   "source": [
    "**2Q.Write a function to_uppercase(s) that converts all characters in a string s to uppercase**"
   ]
  },
  {
   "cell_type": "code",
   "execution_count": 56,
   "id": "1496b24c-245d-4dd5-9c08-0f6151ee0e25",
   "metadata": {},
   "outputs": [
    {
     "name": "stdout",
     "output_type": "stream",
     "text": [
      "SRINIJA GAJU\n"
     ]
    }
   ],
   "source": [
    "def to_uppercase(s):\n",
    "       print(s.upper())\n",
    "to_uppercase(\"srinija gaju\")\n",
    "    "
   ]
  },
  {
   "cell_type": "code",
   "execution_count": 54,
   "id": "09bc2648-f654-4766-8705-1186829ad0d0",
   "metadata": {},
   "outputs": [
    {
     "name": "stdout",
     "output_type": "stream",
     "text": [
      "SRINIJA GAJU WELCOME TO INNOMATICS\n"
     ]
    }
   ],
   "source": [
    "#using for loop\n",
    "def to_uppercase(s):\n",
    "     my_input=[]\n",
    "     for i in s:\n",
    "        res=i.upper()\n",
    "        my_input.append(res)\n",
    "     print(res)\n",
    "to_uppercase([\"srinija gaju welcome to innomatics\"])\n",
    "        \n",
    "         "
   ]
  },
  {
   "cell_type": "markdown",
   "id": "4b72d0e7-3abd-425e-a266-69ec6e4559ed",
   "metadata": {},
   "source": [
    "**3Q.Write a function find_max(a, b) that returns the maximum of two numbers a and b**"
   ]
  },
  {
   "cell_type": "code",
   "execution_count": 73,
   "id": "007fb376-d493-4cd9-93b1-b9923d259807",
   "metadata": {},
   "outputs": [
    {
     "data": {
      "text/plain": [
       "(15, 'b is maximum')"
      ]
     },
     "execution_count": 73,
     "metadata": {},
     "output_type": "execute_result"
    }
   ],
   "source": [
    "def find_max(a,b):\n",
    "    if a>b:\n",
    "        return a,\"a is maximum\"\n",
    "    else:\n",
    "        return b,\"b is maximum\"\n",
    "find_max(b=15,a=10)\n",
    "    \n",
    "        "
   ]
  },
  {
   "cell_type": "markdown",
   "id": "3b265ade-dcf4-417b-b334-973c0a1dd29a",
   "metadata": {},
   "source": [
    "**4Q.Write a function count_vowels(s) that returns the number of vowels (a, e, i, o, u) in a string s.**"
   ]
  },
  {
   "cell_type": "code",
   "execution_count": 92,
   "id": "a87d35c6-d397-4dc7-9a5b-bbe195bc2c01",
   "metadata": {},
   "outputs": [
    {
     "name": "stdout",
     "output_type": "stream",
     "text": [
      "['i', 'i', 'a', 'i', 'o', 'a', 'i', 'e', 'o', 'e', 'o', 'u']\n",
      "12\n"
     ]
    }
   ],
   "source": [
    "def count_vowels(s):\n",
    "    count=0\n",
    "    vowels=[]\n",
    "    for i in s:\n",
    "        if i=='a' or i=='e' or i=='i' or i=='o' or i=='u':\n",
    "               vowels.append(i)\n",
    "               count=count+1\n",
    "    print(vowels)\n",
    "    print(count)\n",
    "count_vowels(\"srinija innomatics welcomes you\")"
   ]
  },
  {
   "cell_type": "markdown",
   "id": "7ae798cd-b7ba-486d-ac3a-fb39b37fd91f",
   "metadata": {},
   "source": [
    "**5Q.Write a function concat_strings(s1, s2) that returns the concatenation of two strings s1 and s2.**\n"
   ]
  },
  {
   "cell_type": "code",
   "execution_count": 100,
   "id": "9037eafb-bfef-45b7-80a7-21234c891553",
   "metadata": {},
   "outputs": [
    {
     "data": {
      "text/plain": [
       "'gajusrinija'"
      ]
     },
     "execution_count": 100,
     "metadata": {},
     "output_type": "execute_result"
    }
   ],
   "source": [
    "def concat_strings(s1,s2):\n",
    "         return s1+s2\n",
    "concat_strings(s2=\"srinija\",s1=\"gaju\")\n",
    "    "
   ]
  },
  {
   "cell_type": "markdown",
   "id": "428e674f-8315-475b-af7b-5f5de60821b4",
   "metadata": {},
   "source": [
    "**6Q.Write a function remove_duplicates(lst) that takes a list lst and returns a new list with duplicate elements removed.**"
   ]
  },
  {
   "cell_type": "code",
   "execution_count": 223,
   "id": "7ab2c874-6d79-44b3-bbff-55d40884a2fa",
   "metadata": {},
   "outputs": [
    {
     "name": "stdout",
     "output_type": "stream",
     "text": [
      "[1, 2, 3, 4, 5, 6]\n"
     ]
    }
   ],
   "source": [
    "def remove_duplicates(lst):\n",
    "    new_list=set()\n",
    "    for i in lst:\n",
    "                  new_list.add(i)\n",
    "    print(list(new_list))\n",
    "remove_duplicates([1,2,3,3,3,3,4,5,6])\n",
    "      "
   ]
  },
  {
   "cell_type": "markdown",
   "id": "f30b2fc2-2508-42ea-9648-24c5f280d561",
   "metadata": {},
   "source": [
    "**7Q.Write a function char_frequency(s) that returns a dictionary where the keys are characters in the string s and the values are the number of times each character appears**"
   ]
  },
  {
   "cell_type": "code",
   "execution_count": 33,
   "id": "93330f5d-35be-4ce8-9b51-6d4624d720d0",
   "metadata": {},
   "outputs": [
    {
     "name": "stdout",
     "output_type": "stream",
     "text": [
      "Counter({'i': 2, 's': 1, 'r': 1, 'n': 1, 'j': 1, 'a': 1})\n"
     ]
    }
   ],
   "source": [
    "def char_frequency(s):\n",
    "    from collections import Counter\n",
    "    res=Counter(s)\n",
    "    print(res)\n",
    "char_frequency(\"srinija\")    "
   ]
  },
  {
   "cell_type": "markdown",
   "id": "bf015c78-ff76-4b77-b37e-3e18400dc092",
   "metadata": {},
   "source": [
    "**8Q.Write a function sum_even_numbers(lst) that returns the sum of all even numbers in a list lst.**"
   ]
  },
  {
   "cell_type": "code",
   "execution_count": 3,
   "id": "1fe572df-a69b-4fe5-99db-aaccc408ef55",
   "metadata": {},
   "outputs": [
    {
     "data": {
      "text/plain": [
       "20"
      ]
     },
     "execution_count": 3,
     "metadata": {},
     "output_type": "execute_result"
    }
   ],
   "source": [
    "def sum_even_numbers(lst):\n",
    "    sum=0\n",
    "    for i in lst:\n",
    "        if i%2==0:\n",
    "            sum=sum+i\n",
    "    return sum\n",
    "sum_even_numbers([1,2,3,4,5,6,7,8])\n",
    "    "
   ]
  },
  {
   "cell_type": "code",
   "execution_count": null,
   "id": "07bec6bf-7a48-41f1-8c22-e6f784e1c322",
   "metadata": {},
   "outputs": [],
   "source": []
  }
 ],
 "metadata": {
  "kernelspec": {
   "display_name": "Python 3 (ipykernel)",
   "language": "python",
   "name": "python3"
  },
  "language_info": {
   "codemirror_mode": {
    "name": "ipython",
    "version": 3
   },
   "file_extension": ".py",
   "mimetype": "text/x-python",
   "name": "python",
   "nbconvert_exporter": "python",
   "pygments_lexer": "ipython3",
   "version": "3.12.4"
  }
 },
 "nbformat": 4,
 "nbformat_minor": 5
}
