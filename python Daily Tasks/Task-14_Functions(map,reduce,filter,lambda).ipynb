{
 "cells": [
  {
   "cell_type": "markdown",
   "id": "3e41e5d6-421f-4f72-acd7-1bcb5578db26",
   "metadata": {},
   "source": [
    "# Task-14_Functions_4"
   ]
  },
  {
   "cell_type": "markdown",
   "id": "419913d4-f54d-46d8-bca9-5eae7b4186b4",
   "metadata": {},
   "source": [
    "**Q1.a.Say, a=27, b=15. Create a lambda function that multiplies argument 'a' with argument 'b' and prints the result.**\n",
    "\n",
    "**b.Use map() with a lambda function to square each element of a given list.**\n",
    "\n",
    "**list1 = [32,45,67,83,2,4,8,10]**\n"
   ]
  },
  {
   "cell_type": "code",
   "execution_count": 3,
   "id": "7606de40-6556-45bf-8a68-7087a5784be2",
   "metadata": {},
   "outputs": [
    {
     "data": {
      "text/plain": [
       "405"
      ]
     },
     "execution_count": 3,
     "metadata": {},
     "output_type": "execute_result"
    }
   ],
   "source": [
    "#a\n",
    "result=lambda a,b:a*b\n",
    "result(a=27,b=15)"
   ]
  },
  {
   "cell_type": "code",
   "execution_count": 4,
   "id": "537deeec-8b6b-4ef2-9fe5-d50e09b82ba3",
   "metadata": {},
   "outputs": [
    {
     "name": "stdout",
     "output_type": "stream",
     "text": [
      "[1024, 2025, 4489, 6889, 4, 16, 64, 100]\n"
     ]
    }
   ],
   "source": [
    "#b\n",
    "list1 = [32,45,67,83,2,4,8,10]\n",
    "print(list(map(lambda x:x*x,list1)))"
   ]
  },
  {
   "cell_type": "markdown",
   "id": "6c88aba5-666b-4235-b861-0d378b437ca6",
   "metadata": {},
   "source": [
    "**Q2.**\n",
    "  \n",
    "**a.Using in-built function filter() with a lambda function filter even numbers from a given list.\n",
    "num = [17, 20, 32, 45, 53, 61, 72, 84, 97]**\n",
    "\n",
    "**b.Find the product of all numbers in the list using reduce and lambda functions.\n",
    "nums = [15, 2, 31, 4, 56]**\n"
   ]
  },
  {
   "cell_type": "code",
   "execution_count": 6,
   "id": "dfcc0120-ea8b-4ac9-972c-12f705d9b759",
   "metadata": {},
   "outputs": [
    {
     "name": "stdout",
     "output_type": "stream",
     "text": [
      "[20, 32, 72, 84]\n"
     ]
    }
   ],
   "source": [
    "#a.\n",
    "num = [17, 20, 32, 45, 53, 61, 72, 84, 97]\n",
    "print(list(filter(lambda x:x%2==0 ,num)))\n"
   ]
  },
  {
   "cell_type": "code",
   "execution_count": 7,
   "id": "2bd461f8-1272-4d2e-9258-198b8f3fa388",
   "metadata": {},
   "outputs": [
    {
     "data": {
      "text/plain": [
       "208320"
      ]
     },
     "execution_count": 7,
     "metadata": {},
     "output_type": "execute_result"
    }
   ],
   "source": [
    "#b\n",
    "from functools import reduce\n",
    "nums = [15, 2, 31, 4, 56]\n",
    "reduce(lambda x,nums:x*nums,nums)\n"
   ]
  },
  {
   "cell_type": "markdown",
   "id": "9b930aee-f646-47ac-8674-85d1aa178dad",
   "metadata": {},
   "source": [
    "**Q3. Use a lambda function to create a grade list from a list of student scores.**\n",
    "\n",
    "**scores = [88, 92, 78, 95, 86]**\n",
    "\n",
    "**A grade if score greater than 90** \n",
    "\n",
    "**B grade if score greater than 80** \n",
    "\n",
    "**else grade C.**\n",
    "  \n",
    "**Expected Output: grade= ['B', 'A', 'C', 'A', 'B']**\n"
   ]
  },
  {
   "cell_type": "code",
   "execution_count": 25,
   "id": "07232bb7-7b78-4a2b-b4f4-886d398c79fc",
   "metadata": {},
   "outputs": [
    {
     "name": "stdout",
     "output_type": "stream",
     "text": [
      "['B', 'A', 'C', 'A', 'B']\n"
     ]
    }
   ],
   "source": [
    "scores =[88,92,78,95,86]\n",
    "grades = list(map(lambda x:\"A\" if x > 90  else (\"B\" if x > 80 else \"C\"),scores))\n",
    "print(grades)\n",
    "  "
   ]
  },
  {
   "cell_type": "markdown",
   "id": "37927ee7-ca9a-4720-b502-fcf3373d0b4a",
   "metadata": {},
   "source": [
    "**Q.4  Filter the palindromes from a given iterable.**\n",
    "\n",
    "**list2= [Java, mom, dad, nun, python]**\n",
    "\n",
    "**Expected o/p : [ mom, dad ,nun]**\n"
   ]
  },
  {
   "cell_type": "code",
   "execution_count": 27,
   "id": "639f8010-901c-43c4-b787-f5f982c2cb0c",
   "metadata": {},
   "outputs": [
    {
     "data": {
      "text/plain": [
       "['mom', 'dad', 'nun']"
      ]
     },
     "execution_count": 27,
     "metadata": {},
     "output_type": "execute_result"
    }
   ],
   "source": [
    "#function\n",
    "list2= ['Java', 'mom', 'dad', 'nun', 'python']\n",
    "list3=[]\n",
    "def palindromes(list2):\n",
    "    for i in list2:\n",
    "        if i==i[::-1]:\n",
    "              list3.append(i)\n",
    "    return list3\n",
    "palindromes(list2)"
   ]
  },
  {
   "cell_type": "code",
   "execution_count": 14,
   "id": "e202aab5-c489-44fb-bbdc-2248b2ccab69",
   "metadata": {},
   "outputs": [
    {
     "data": {
      "text/plain": [
       "['mom', 'dad', 'nun']"
      ]
     },
     "execution_count": 14,
     "metadata": {},
     "output_type": "execute_result"
    }
   ],
   "source": [
    "#list comprehension\n",
    "[x for x in list2 if x==x[::-1]]"
   ]
  },
  {
   "cell_type": "code",
   "execution_count": 31,
   "id": "f0217875-7659-4155-997a-7064fbddf232",
   "metadata": {},
   "outputs": [
    {
     "data": {
      "text/plain": [
       "['mom', 'dad', 'nun']"
      ]
     },
     "execution_count": 31,
     "metadata": {},
     "output_type": "execute_result"
    }
   ],
   "source": [
    "#lambda\n",
    "list(filter(lambda x:x if x==x[::-1] else False,list2))\n"
   ]
  },
  {
   "cell_type": "code",
   "execution_count": null,
   "id": "0414483c-3a7c-45ec-9d9a-991c66b5a883",
   "metadata": {},
   "outputs": [],
   "source": []
  }
 ],
 "metadata": {
  "kernelspec": {
   "display_name": "Python 3 (ipykernel)",
   "language": "python",
   "name": "python3"
  },
  "language_info": {
   "codemirror_mode": {
    "name": "ipython",
    "version": 3
   },
   "file_extension": ".py",
   "mimetype": "text/x-python",
   "name": "python",
   "nbconvert_exporter": "python",
   "pygments_lexer": "ipython3",
   "version": "3.12.4"
  }
 },
 "nbformat": 4,
 "nbformat_minor": 5
}
