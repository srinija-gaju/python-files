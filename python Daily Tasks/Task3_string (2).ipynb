{
  "nbformat": 4,
  "nbformat_minor": 0,
  "metadata": {
    "colab": {
      "provenance": []
    },
    "kernelspec": {
      "name": "python3",
      "display_name": "Python 3"
    },
    "language_info": {
      "name": "python"
    }
  },
  "cells": [
    {
      "cell_type": "markdown",
      "source": [
        "#Task 3"
      ],
      "metadata": {
        "id": "YRQHA2rqhQqt"
      }
    },
    {
      "cell_type": "markdown",
      "source": [
        "**Q1.A.Create a variable to store the string \"Earth revolves around the sun\"**\n",
        "**- Print \"revolves\" using slice operator**\n",
        "**- Print \"sun\" using negative index**\n",
        "**B.Create a string made of the middle two characters.**\n",
        "**Example input: Innomatics**\n",
        "**Example output: ma**\n"
      ],
      "metadata": {
        "id": "7wXkscF6fNpA"
      }
    },
    {
      "cell_type": "code",
      "source": [
        "string=\"Earth revolves around the sun\"\n",
        "print(string[6:14])\n",
        "print(string[-3:])\n",
        "string1='Innomatics'\n",
        "print(string1[4:6])\n",
        "\n"
      ],
      "metadata": {
        "colab": {
          "base_uri": "https://localhost:8080/"
        },
        "id": "O1JJP3DLfXkd",
        "outputId": "a0f340b6-5601-4778-a5c5-f2d2fa2aef0c"
      },
      "execution_count": null,
      "outputs": [
        {
          "output_type": "stream",
          "name": "stdout",
          "text": [
            "revolves\n",
            "sun\n",
            "ma\n"
          ]
        }
      ]
    },
    {
      "cell_type": "code",
      "source": [
        "dp=input(\"enter a string :\")\n",
        "b=len(dp)\n",
        "\n",
        "if b%2==0:\n",
        "   middile_char=dp[b//2 - 1]+dp[b//2]\n",
        "   print(middile_char)\n",
        "else:\n",
        "   middle_char=dp[b//2]\n",
        "   print(middle_char)"
      ],
      "metadata": {
        "id": "ZMggYmyYLMsL",
        "colab": {
          "base_uri": "https://localhost:8080/"
        },
        "outputId": "d81c28f0-23f5-4174-be92-dc5b4d37cd0d"
      },
      "execution_count": 2,
      "outputs": [
        {
          "output_type": "stream",
          "name": "stdout",
          "text": [
            "enter a string :Innomatics\n",
            "ma\n"
          ]
        }
      ]
    },
    {
      "cell_type": "markdown",
      "source": [
        "**Q2.  Write a program to create a new string made of an input string’s first, middle, and  last character.**\n",
        " **Example input: Holiday**\n",
        " **Example output: Hiy**"
      ],
      "metadata": {
        "id": "kFYP_1X6iN6U"
      }
    },
    {
      "cell_type": "code",
      "source": [
        "a=\"Holiday\"\n",
        "print(a[0]+a[3]+a[-1])\n"
      ],
      "metadata": {
        "colab": {
          "base_uri": "https://localhost:8080/"
        },
        "id": "srRC09NwiPF4",
        "outputId": "67675dca-e5ee-4f12-c999-5fa5af5faf3f"
      },
      "execution_count": null,
      "outputs": [
        {
          "output_type": "stream",
          "name": "stdout",
          "text": [
            "Hiy\n"
          ]
        }
      ]
    },
    {
      "cell_type": "code",
      "source": [
        "dp=input(\"enter a string:  \")\n",
        "b=len(dp)\n",
        "first_char=dp[0]\n",
        "last_char=dp[-1]\n",
        "if b%2==0:\n",
        "   middile_char=dp[b//2 - 1]+dp[b//2]\n",
        "   print(first_char+middile_char+last_char)\n",
        "else:\n",
        "   middle_char=dp[b//2]\n",
        "   print(first_char+middle_char+last_char)"
      ],
      "metadata": {
        "colab": {
          "base_uri": "https://localhost:8080/"
        },
        "id": "7aYrH0vVK7ca",
        "outputId": "7edc9018-5570-4f57-d924-19fb63605fd6"
      },
      "execution_count": null,
      "outputs": [
        {
          "output_type": "stream",
          "name": "stdout",
          "text": [
            "enter a string:  Holiday\n",
            "Hiy\n"
          ]
        }
      ]
    },
    {
      "cell_type": "markdown",
      "source": [
        "**Q3.  Explore five different string methods and explain with examples.**"
      ],
      "metadata": {
        "id": "mYD8-KEImQKo"
      }
    },
    {
      "cell_type": "code",
      "source": [
        "#upper()-converts a string into lowercase\n",
        "string=\"Innomatics Research and Labs\"\n",
        "print(string.upper())"
      ],
      "metadata": {
        "colab": {
          "base_uri": "https://localhost:8080/"
        },
        "id": "QhEYm4rwtT0Y",
        "outputId": "2e341a44-de76-45ff-f65a-b1d2f8e98f2f"
      },
      "execution_count": null,
      "outputs": [
        {
          "output_type": "stream",
          "name": "stdout",
          "text": [
            "INNOMATICS RESEARCH AND LABS\n"
          ]
        }
      ]
    },
    {
      "cell_type": "code",
      "source": [
        "#lower()-convert a string into uppercase\n",
        "string=\"Innomatics Research and Labs\"\n",
        "print(string1.lower())"
      ],
      "metadata": {
        "colab": {
          "base_uri": "https://localhost:8080/"
        },
        "id": "E_83D6iPthen",
        "outputId": "3774a28e-02f1-4c38-b48f-b194b9c59eab"
      },
      "execution_count": null,
      "outputs": [
        {
          "output_type": "stream",
          "name": "stdout",
          "text": [
            "innomatics research and labs\n"
          ]
        }
      ]
    },
    {
      "cell_type": "code",
      "source": [
        "#strip()-removes whitespaces from the string\n",
        "string=\"     Innomatics   Research and Labs   \"\n",
        "print(string.strip())"
      ],
      "metadata": {
        "colab": {
          "base_uri": "https://localhost:8080/"
        },
        "id": "OQQGPypYtrqI",
        "outputId": "4ca26e30-a8b1-42f4-87fe-d731e3660496"
      },
      "execution_count": null,
      "outputs": [
        {
          "output_type": "stream",
          "name": "stdout",
          "text": [
            "Innomatics   Research and Labs\n"
          ]
        }
      ]
    },
    {
      "cell_type": "code",
      "source": [
        "#replace()-replace a value in a string to a new value\n",
        "a=\"Iam from nizamabad\"\n",
        "b=a.replace(\"nizamabad\",\"warangal\")\n",
        "print(b)"
      ],
      "metadata": {
        "colab": {
          "base_uri": "https://localhost:8080/"
        },
        "id": "AYmJr6cxt9ua",
        "outputId": "84192200-ff76-42e1-9f06-fb7555da05dd"
      },
      "execution_count": null,
      "outputs": [
        {
          "output_type": "stream",
          "name": "stdout",
          "text": [
            "Iam from warangal\n"
          ]
        }
      ]
    },
    {
      "cell_type": "code",
      "source": [
        "#split()-split a string into a list of strings\n",
        "string=\"Innomatics and research and labs\"\n",
        "print(string.split())"
      ],
      "metadata": {
        "colab": {
          "base_uri": "https://localhost:8080/"
        },
        "id": "Wy9l8fMuvZwx",
        "outputId": "bcd0e11c-e3ff-489e-ffe0-1cbf3441e8f1"
      },
      "execution_count": null,
      "outputs": [
        {
          "output_type": "stream",
          "name": "stdout",
          "text": [
            "['Innomatics', 'and', 'research', 'and', 'labs']\n"
          ]
        }
      ]
    },
    {
      "cell_type": "code",
      "source": [
        "#capitalize()-converts the first character of a string to uppercase\n",
        "string=\"Innomatics and research and labs\"\n",
        "print(string.capitalize())"
      ],
      "metadata": {
        "colab": {
          "base_uri": "https://localhost:8080/"
        },
        "id": "wAc9E9Pmvm-M",
        "outputId": "a2d4eaa6-2381-4699-da0c-97df7b8fac80"
      },
      "execution_count": null,
      "outputs": [
        {
          "output_type": "stream",
          "name": "stdout",
          "text": [
            "Innomatics and research and labs\n"
          ]
        }
      ]
    },
    {
      "cell_type": "code",
      "source": [
        "#count()-returns the number of times a speciied value occurs in a string\n",
        "string=\"Innomatics and research and labs\"\n",
        "print(string.count(\"n\"))"
      ],
      "metadata": {
        "colab": {
          "base_uri": "https://localhost:8080/"
        },
        "id": "Ua26661cv_cB",
        "outputId": "8079fed1-5bf6-48b4-b2db-b54dad050c2b"
      },
      "execution_count": null,
      "outputs": [
        {
          "output_type": "stream",
          "name": "stdout",
          "text": [
            "4\n"
          ]
        }
      ]
    },
    {
      "cell_type": "code",
      "source": [
        "#find()-searches the string for a specified value and returns the position where it was found\n",
        "string=\"Innomatics and research and labs\"\n",
        "print(string.find(\"s\"))"
      ],
      "metadata": {
        "colab": {
          "base_uri": "https://localhost:8080/"
        },
        "id": "khly-q8ywIs-",
        "outputId": "70c8674e-3b66-45b9-e5ed-7931aac96a83"
      },
      "execution_count": null,
      "outputs": [
        {
          "output_type": "stream",
          "name": "stdout",
          "text": [
            "9\n"
          ]
        }
      ]
    },
    {
      "cell_type": "code",
      "source": [
        "#center()-returns a centered string\n",
        "input=\"python\"\n",
        "print(input.center(15,\"^\"))"
      ],
      "metadata": {
        "colab": {
          "base_uri": "https://localhost:8080/"
        },
        "id": "1aqi2rdHwQcq",
        "outputId": "548c2715-79db-4223-a740-604b6bbdc55f"
      },
      "execution_count": null,
      "outputs": [
        {
          "output_type": "stream",
          "name": "stdout",
          "text": [
            "^^^^^python^^^^\n"
          ]
        }
      ]
    },
    {
      "cell_type": "code",
      "source": [
        "#title()-coverts first character in  string to uppercase\n",
        "movie_title=\"bahubali-the beginning\"\n",
        "print(movie_title.title())"
      ],
      "metadata": {
        "colab": {
          "base_uri": "https://localhost:8080/"
        },
        "id": "L_EDapGgxOyO",
        "outputId": "c857d611-1248-4275-d507-9c1e31a99555"
      },
      "execution_count": null,
      "outputs": [
        {
          "output_type": "stream",
          "name": "stdout",
          "text": [
            "Bahubali-The Beginning\n"
          ]
        }
      ]
    },
    {
      "cell_type": "markdown",
      "source": [
        "**Q4.\n",
        "Write a program that takes a sentence ='Give papa a cup of proper coffee in a copper coffee cup' as input and replaces all occurrences of the word \"coffee\" with \"tea\".\n",
        "Check if the above sentence starts with \"Hello\" and ends with \"cup\".\n",
        "Return the above sentence in title case and capital case.**"
      ],
      "metadata": {
        "id": "G5w08512yVIO"
      }
    },
    {
      "cell_type": "code",
      "source": [
        " sentence ='Give papa a cup of proper coffee in a copper coffee cup'\n",
        " print(\"replacing coffee with tea:\", sentence.replace(\"coffee\",\"tea\"))\n",
        " print(\" Checking if the given sentence starts with Hello:\",sentence.startswith(\"Hello\"))\n",
        " print(\" Checking if the give sentence ends with cup:\",sentence.endswith(\"cup\"))\n",
        " print(\"returning the sentence in title case:\",sentence.title())\n",
        " print(\"returning the sentence in capital case:\",sentence.capitalize())"
      ],
      "metadata": {
        "colab": {
          "base_uri": "https://localhost:8080/"
        },
        "id": "MNno0eoVsvpX",
        "outputId": "bea77e50-20b7-4425-86b7-481629de591f"
      },
      "execution_count": null,
      "outputs": [
        {
          "output_type": "stream",
          "name": "stdout",
          "text": [
            "replacing coffee with tea: Give papa a cup of proper tea in a copper tea cup\n",
            " Checking if the given sentence starts with Hello: False\n",
            " Checking if the give sentence ends with cup: True\n",
            "returning the sentence in title case: Give Papa A Cup Of Proper Coffee In A Copper Coffee Cup\n",
            "returning the sentence in capital case: Give papa a cup of proper coffee in a copper coffee cup\n"
          ]
        }
      ]
    },
    {
      "cell_type": "code",
      "source": [],
      "metadata": {
        "id": "kj8cM7D7ywOA"
      },
      "execution_count": null,
      "outputs": []
    }
  ]
}