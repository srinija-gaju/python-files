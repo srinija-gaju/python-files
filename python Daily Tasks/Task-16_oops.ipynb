{
 "cells": [
  {
   "cell_type": "markdown",
   "id": "a268290b-3456-48ae-b688-0ceace677a54",
   "metadata": {},
   "source": [
    "# Task-16_OOPS"
   ]
  },
  {
   "cell_type": "markdown",
   "id": "a06a9bcc-14ef-4888-8f3f-a7b335c33c03",
   "metadata": {},
   "source": [
    "**1Q.Create a class named “Patterns”. Within this class, define three methods. Each method should return a specific pattern when called. For example:**\n",
    "\n",
    "**a.The first method should return the 1st pattern.**\n",
    "\n",
    "**b.The second method should return the 2nd pattern.**\n",
    "\n",
    "**c.The third method should return the 3rd pattern**\n"
   ]
  },
  {
   "cell_type": "code",
   "execution_count": 150,
   "id": "6a16ee6e-69b0-40aa-9813-21b1f54e67fd",
   "metadata": {},
   "outputs": [],
   "source": [
    "class patterns:\n",
    "    def pattern_1(self,n):\n",
    "        self.n=n\n",
    "        p=1\n",
    "        for i in range(n):\n",
    "          for j in range(1,i+1):\n",
    "            print(p,end=\" \")\n",
    "            p=p+1\n",
    "          print()\n",
    "     \n",
    "    def pattern_2(self,n):\n",
    "        self.n=n\n",
    "        for i in range(n):\n",
    "           for j in range(i,n):\n",
    "                  print(' ',end=\" \")\n",
    "           for j in range(1,i):\n",
    "                 print(j,end=' ')\n",
    "           for j in range(i,0,-1):\n",
    "                 print(j,end=\" \")\n",
    "           print()\n",
    "    def pattern_3(self,n):\n",
    "     self.n=n\n",
    "     for i in range(1,n):\n",
    "            if i%2==0:\n",
    "                continue\n",
    "            for j in range(1,i+1):\n",
    "                 print(\"*\",end=\"\")\n",
    "            print()\n",
    "    \n",
    "       \n",
    "         "
   ]
  },
  {
   "cell_type": "code",
   "execution_count": 152,
   "id": "146ffe5b-e916-47b7-9262-5471399162d7",
   "metadata": {},
   "outputs": [
    {
     "name": "stdout",
     "output_type": "stream",
     "text": [
      "\n",
      "1 \n",
      "2 3 \n",
      "4 5 6 \n",
      "7 8 9 10 \n",
      "11 12 13 14 15 \n"
     ]
    }
   ],
   "source": [
    "diff_pattern=patterns()\n",
    "diff_pattern.pattern_1(6)"
   ]
  },
  {
   "cell_type": "code",
   "execution_count": 154,
   "id": "fc0bac19-c540-46a6-8006-03a06b750310",
   "metadata": {},
   "outputs": [
    {
     "name": "stdout",
     "output_type": "stream",
     "text": [
      "            \n",
      "          1 \n",
      "        1 2 1 \n",
      "      1 2 3 2 1 \n",
      "    1 2 3 4 3 2 1 \n",
      "  1 2 3 4 5 4 3 2 1 \n"
     ]
    }
   ],
   "source": [
    "diff_pattern.pattern_2(6)"
   ]
  },
  {
   "cell_type": "code",
   "execution_count": 156,
   "id": "cb30edaa-b919-4909-84d9-ff6ae6c2feb6",
   "metadata": {},
   "outputs": [
    {
     "name": "stdout",
     "output_type": "stream",
     "text": [
      "*\n",
      "***\n",
      "*****\n",
      "*******\n"
     ]
    }
   ],
   "source": [
    "diff_pattern.pattern_3(8)"
   ]
  },
  {
   "cell_type": "markdown",
   "id": "db2da2d3-a981-44a4-b77a-0337dc086536",
   "metadata": {},
   "source": [
    "**2Q.Create a class named “your name” . Within this class, define four methods. Each method should return a specific calculation when called.**\n",
    "\n",
    "**For example:**\n",
    "\n",
    "**1.Fibonacci Sequence: The first method should return the Fibonacci sequence up to a specified number of terms.**\n",
    "\n",
    "**2.Armstrong Numbers: The second method should return a list of Armstrong numbers up to a specified limit.**\n",
    "\n",
    "**3.Palindrome Numbers: The third method should return a list of palindrome numbers up to a specified limit.**\n",
    "\n",
    "**4.Factorial: The fourth method should return the factorial of a specified number.**"
   ]
  },
  {
   "cell_type": "code",
   "execution_count": 158,
   "id": "15e33985-3f2f-401d-b0b8-df63e29f173e",
   "metadata": {},
   "outputs": [],
   "source": [
    "class srinija:\n",
    "    def fibonacci_sequence(self,n):\n",
    "        self.n=n\n",
    "        num1=0\n",
    "        num2=1\n",
    "        print(num1,num2,end=\" \")\n",
    "\n",
    "        sum=1\n",
    "        for i in range(2,n):\n",
    "            fib=num1+num2\n",
    "            print(fib,end=\" \")\n",
    "            sum=sum+fib\n",
    "            num3=num2\n",
    "            num2=fib\n",
    "            num1=num3\n",
    "        print()\n",
    "        print(\"sum=\",sum,end=\" \")\n",
    "    def armstrong_numbers(self,n):\n",
    "     self.n=n\n",
    "     armstrong=[]\n",
    "     for i in range(n):\n",
    "        sum=0\n",
    "        number=i\n",
    "        while number>0:\n",
    "            sum=sum+((number%10)**len(str(i)))\n",
    "            number=number//10\n",
    "        if sum==i:\n",
    "            armstrong.append(i)   \n",
    "     print(\"list of armstrong_numbers=\",armstrong)\n",
    "\n",
    "    def factorial(self,n):\n",
    "      self.n=n\n",
    "      fact=1\n",
    "      for i in range(1,n+1):\n",
    "            fact=fact*i\n",
    "      print(fact)\n",
    "        \n",
    "    def palindrome_numbers(self,n):\n",
    "      self.n=n\n",
    "      list1=[]\n",
    "      for i in range(n):\n",
    "         i=str(i)\n",
    "         if i==i[::-1]:\n",
    "          list1.append(int(i))\n",
    "      print(list1)       \n",
    "\n"
   ]
  },
  {
   "cell_type": "code",
   "execution_count": 160,
   "id": "86665304-16fc-4f24-8ea3-86e28e50a0bb",
   "metadata": {},
   "outputs": [
    {
     "name": "stdout",
     "output_type": "stream",
     "text": [
      "0 1 1 2 3 5 8 13 \n",
      "sum= 33 "
     ]
    }
   ],
   "source": [
    "method=srinija()\n",
    "method.fibonacci_sequence(8)\n"
   ]
  },
  {
   "cell_type": "code",
   "execution_count": 162,
   "id": "d5c59b59-4853-4899-b3f5-354ff3f5c616",
   "metadata": {},
   "outputs": [
    {
     "name": "stdout",
     "output_type": "stream",
     "text": [
      "list of armstrong_numbers= [0, 1, 2, 3, 4, 5, 6, 7, 8, 9, 153, 370, 371, 407]\n"
     ]
    }
   ],
   "source": [
    "method.armstrong_numbers(500)"
   ]
  },
  {
   "cell_type": "code",
   "execution_count": 164,
   "id": "8a8652ab-47f8-4fad-80b8-046a9510da5c",
   "metadata": {},
   "outputs": [
    {
     "name": "stdout",
     "output_type": "stream",
     "text": [
      "40320\n"
     ]
    }
   ],
   "source": [
    "method.factorial(8)"
   ]
  },
  {
   "cell_type": "code",
   "execution_count": 166,
   "id": "7c1eff75-9b39-4f57-bf7d-3f3f03d23bba",
   "metadata": {},
   "outputs": [
    {
     "name": "stdout",
     "output_type": "stream",
     "text": [
      "[0, 1, 2, 3, 4, 5, 6, 7, 8, 9, 11, 22, 33, 44, 55, 66, 77, 88, 99, 101, 111, 121, 131, 141]\n"
     ]
    }
   ],
   "source": [
    "method.palindrome_numbers(150)"
   ]
  },
  {
   "cell_type": "code",
   "execution_count": null,
   "id": "b595e03d-3dab-4f48-a775-87b741e54812",
   "metadata": {},
   "outputs": [],
   "source": []
  }
 ],
 "metadata": {
  "kernelspec": {
   "display_name": "Python 3 (ipykernel)",
   "language": "python",
   "name": "python3"
  },
  "language_info": {
   "codemirror_mode": {
    "name": "ipython",
    "version": 3
   },
   "file_extension": ".py",
   "mimetype": "text/x-python",
   "name": "python",
   "nbconvert_exporter": "python",
   "pygments_lexer": "ipython3",
   "version": "3.12.4"
  }
 },
 "nbformat": 4,
 "nbformat_minor": 5
}
