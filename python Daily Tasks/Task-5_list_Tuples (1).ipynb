{
  "nbformat": 4,
  "nbformat_minor": 0,
  "metadata": {
    "colab": {
      "provenance": []
    },
    "kernelspec": {
      "name": "python3",
      "display_name": "Python 3"
    },
    "language_info": {
      "name": "python"
    }
  },
  "cells": [
    {
      "cell_type": "markdown",
      "source": [
        "**DAILY CLASS TASK QUESTIONS-List and Tuples**"
      ],
      "metadata": {
        "id": "U1-TqSPa31cV"
      }
    },
    {
      "cell_type": "markdown",
      "source": [
        "**1Q.Explain the properties of list and tuple in the markdown cell.**\n"
      ],
      "metadata": {
        "id": "iiXk0UFQ4Dar"
      }
    },
    {
      "cell_type": "markdown",
      "source": [
        "### List properties\n",
        "\n",
        "1.   It can store different data types\n",
        "2.   It allows duplicates\n",
        "3.   Data pints are enclosed between square brackets \"[]\"\n",
        "4.   list is mutable\n",
        "5.   can access it by indexing-ordered data structure\n",
        "\n",
        "\n",
        "### Tuple properties\n",
        "\n",
        "1.   It can store different data types\n",
        "2.   It allows duplicates\n",
        "3.   Data points are enclosed between parenthesis \"()\"\n",
        "4.   Tuple is immutable\n",
        "5.   can access it by indexing-ordered data structure\n",
        "\n",
        "\n",
        "\n",
        "\n",
        "\n",
        "\n",
        "\n",
        "\n",
        "\n"
      ],
      "metadata": {
        "id": "1dJvwtuq4QZU"
      }
    },
    {
      "cell_type": "markdown",
      "source": [
        "**2Q.Create a list containing the numbers 1 to 5.**"
      ],
      "metadata": {
        "id": "PyGEFwkF7LON"
      }
    },
    {
      "cell_type": "code",
      "source": [
        "list=[1,2,3,4,5]"
      ],
      "metadata": {
        "id": "yan7iA3d4Mw0"
      },
      "execution_count": null,
      "outputs": []
    },
    {
      "cell_type": "markdown",
      "source": [
        "**3Q.Access the third element of the list [10, 20, 30, 40, 50].**\n"
      ],
      "metadata": {
        "id": "_2Aw99rO8zfu"
      }
    },
    {
      "cell_type": "code",
      "source": [
        "list=[10,20,30,40,50]\n",
        "print(\"Third element in the list is:\",list[2])\n",
        "\n",
        "\n"
      ],
      "metadata": {
        "colab": {
          "base_uri": "https://localhost:8080/"
        },
        "id": "IWBqBk6E7qPi",
        "outputId": "a035d227-bcc5-4c85-a1fa-9c71a397ab33"
      },
      "execution_count": null,
      "outputs": [
        {
          "output_type": "stream",
          "name": "stdout",
          "text": [
            "Third element in the list is: 30\n"
          ]
        }
      ]
    },
    {
      "cell_type": "markdown",
      "source": [
        "**4Q.Change the second element of the list [1, 2, 3, 4, 5] to 10.**"
      ],
      "metadata": {
        "id": "O3vUh5Ud9ZR4"
      }
    },
    {
      "cell_type": "code",
      "source": [
        "my_list=[1,2,3,4,5]\n",
        "my_list[1]=10\n",
        "print(my_list)"
      ],
      "metadata": {
        "colab": {
          "base_uri": "https://localhost:8080/"
        },
        "id": "7MLg9HAJ9n7S",
        "outputId": "d9ae893c-86a7-4236-bb0d-884bcd681413"
      },
      "execution_count": null,
      "outputs": [
        {
          "output_type": "stream",
          "name": "stdout",
          "text": [
            "[1, 10, 3, 4, 5]\n"
          ]
        }
      ]
    },
    {
      "cell_type": "markdown",
      "source": [
        "**5Q.Add the element 6 to the end of the list [1, 2, 3, 4, 5].**"
      ],
      "metadata": {
        "id": "0lE0DgXb98Cq"
      }
    },
    {
      "cell_type": "code",
      "source": [
        "list=[1,2,3,4,5]\n",
        "list.append(6)#appends adds the element at the end of the syntax\n",
        "print(list)"
      ],
      "metadata": {
        "colab": {
          "base_uri": "https://localhost:8080/"
        },
        "id": "u1xUILzS-FIz",
        "outputId": "9101acf5-5919-4713-842e-d57ce5e49b7f"
      },
      "execution_count": null,
      "outputs": [
        {
          "output_type": "stream",
          "name": "stdout",
          "text": [
            "[1, 2, 3, 4, 5, 6]\n"
          ]
        }
      ]
    },
    {
      "cell_type": "markdown",
      "source": [
        "**6Q.Concatenate the lists [1, 2, 3] and [4, 5, 6].**\n"
      ],
      "metadata": {
        "id": "_96vn9S5-WKd"
      }
    },
    {
      "cell_type": "code",
      "source": [
        "#method-1\n",
        "list1=[1,2,3]\n",
        "list2=[4,5,6]\n",
        "list1.extend(list2)\n",
        "print(list1)\n"
      ],
      "metadata": {
        "colab": {
          "base_uri": "https://localhost:8080/"
        },
        "id": "IMuZ3e-j-rfX",
        "outputId": "b1b80bd8-98f3-4ba8-d95f-9fc343f5b7a3"
      },
      "execution_count": null,
      "outputs": [
        {
          "output_type": "stream",
          "name": "stdout",
          "text": [
            "[1, 2, 3, 4, 5, 6]\n"
          ]
        }
      ]
    },
    {
      "cell_type": "code",
      "source": [
        "#method-2\n",
        "list1=[1,2,3]\n",
        "list2=[4,5,6]\n",
        "print(list1+list2)"
      ],
      "metadata": {
        "colab": {
          "base_uri": "https://localhost:8080/"
        },
        "id": "dVItbpfD_NNz",
        "outputId": "e9789097-ca3c-466c-8ffb-4690c6357114"
      },
      "execution_count": null,
      "outputs": [
        {
          "output_type": "stream",
          "name": "stdout",
          "text": [
            "[1, 2, 3, 4, 5, 6]\n"
          ]
        }
      ]
    },
    {
      "cell_type": "markdown",
      "source": [
        "**7Q.Create a tuple containing the strings \"apple\", \"banana\", and \"cherry\".**"
      ],
      "metadata": {
        "id": "tkHtrMYW_o2e"
      }
    },
    {
      "cell_type": "code",
      "source": [
        "tuple=(\"apple\",\"banana\",\"cherry\")"
      ],
      "metadata": {
        "id": "1VpZVE3o_zpG"
      },
      "execution_count": null,
      "outputs": []
    },
    {
      "cell_type": "markdown",
      "source": [
        "**8Q.Access the first element of the tuple (\"apple\", \"banana\", \"cherry\")**\n"
      ],
      "metadata": {
        "id": "3-8M80YqABzS"
      }
    },
    {
      "cell_type": "code",
      "source": [
        "tuple=(\"apple\", \"banana\", \"cherry\")\n",
        "print(\"First elemnt of the element:\",tuple[0])"
      ],
      "metadata": {
        "colab": {
          "base_uri": "https://localhost:8080/"
        },
        "id": "KUGO32cmAKOV",
        "outputId": "fde5fcab-7cc5-4c70-fd3e-840d72faea29"
      },
      "execution_count": null,
      "outputs": [
        {
          "output_type": "stream",
          "name": "stdout",
          "text": [
            "First elemnt of the element: apple\n"
          ]
        }
      ]
    },
    {
      "cell_type": "markdown",
      "source": [
        "**9Q.Check if the number 4 is in the list [1, 2, 3, 4, 5].**\n"
      ],
      "metadata": {
        "id": "Lw-yNeCQAumj"
      }
    },
    {
      "cell_type": "code",
      "source": [
        "list=[1,2,3,4,5]\n",
        "list.index(4)\n",
        "print(bool(list))\n"
      ],
      "metadata": {
        "colab": {
          "base_uri": "https://localhost:8080/"
        },
        "id": "rupjW1fJAXFB",
        "outputId": "1bec2367-7716-4b58-b942-de49b24bb7dd"
      },
      "execution_count": null,
      "outputs": [
        {
          "output_type": "stream",
          "name": "stdout",
          "text": [
            "True\n"
          ]
        }
      ]
    },
    {
      "cell_type": "code",
      "source": [
        "list=[1,2,3,4,5]\n",
        "print(4 in list)"
      ],
      "metadata": {
        "colab": {
          "base_uri": "https://localhost:8080/"
        },
        "id": "YcAvY0YUBfwU",
        "outputId": "5a1cd011-9b0b-4e0f-990d-8c4ffa6588db"
      },
      "execution_count": null,
      "outputs": [
        {
          "output_type": "stream",
          "name": "stdout",
          "text": [
            "True\n"
          ]
        }
      ]
    },
    {
      "cell_type": "markdown",
      "source": [
        "**10Q.Find the length of the list [10, 20, 30, 40, 50].**\n"
      ],
      "metadata": {
        "id": "J6-AXmxCDHcQ"
      }
    },
    {
      "cell_type": "code",
      "source": [
        "my_list=[10,20,30,40,50]\n",
        "print(len(my_list))"
      ],
      "metadata": {
        "colab": {
          "base_uri": "https://localhost:8080/"
        },
        "id": "J9dxs-O3CmT_",
        "outputId": "35a7138c-e3d3-40ea-9867-47f73ef68dc2"
      },
      "execution_count": null,
      "outputs": [
        {
          "output_type": "stream",
          "name": "stdout",
          "text": [
            "5\n"
          ]
        }
      ]
    },
    {
      "cell_type": "markdown",
      "source": [
        "**11Q.Slice the list [10, 20, 30, 40, 50] to get the sublist [20, 30, 40].**\n"
      ],
      "metadata": {
        "id": "3oqXRH8uDdfV"
      }
    },
    {
      "cell_type": "code",
      "source": [
        "list=[10,20,30,40,50]\n",
        "print(list[1:4])"
      ],
      "metadata": {
        "colab": {
          "base_uri": "https://localhost:8080/"
        },
        "id": "tPXJOb5wDah3",
        "outputId": "4ef1f5ed-5435-4ae9-dc77-96d75a209ace"
      },
      "execution_count": null,
      "outputs": [
        {
          "output_type": "stream",
          "name": "stdout",
          "text": [
            "[20, 30, 40]\n"
          ]
        }
      ]
    },
    {
      "cell_type": "markdown",
      "source": [
        "**12Q.Unpack the tuple (10, 20, 30) into three variables.**\n"
      ],
      "metadata": {
        "id": "754wNMiZDv9R"
      }
    },
    {
      "cell_type": "code",
      "source": [
        "my_tuple=(10,20,30)\n",
        "print(my_tuple[0])\n",
        "print(my_tuple[1])\n",
        "print(my_tuple[2])\n",
        "print(my_tuple)"
      ],
      "metadata": {
        "colab": {
          "base_uri": "https://localhost:8080/"
        },
        "id": "NDq3UxxhDt9E",
        "outputId": "f85639f8-377f-44d0-c7be-e2fc0bdbbade"
      },
      "execution_count": null,
      "outputs": [
        {
          "output_type": "stream",
          "name": "stdout",
          "text": [
            "10\n",
            "20\n",
            "30\n",
            "(10, 20, 30)\n"
          ]
        }
      ]
    },
    {
      "cell_type": "markdown",
      "source": [
        "**13Q.Count the number of times the element 2 appears in the list [1, 2, 2, 3, 4, 2, 5].**\n"
      ],
      "metadata": {
        "id": "C5qWRNAiESWh"
      }
    },
    {
      "cell_type": "code",
      "source": [
        "list=[1, 2, 2, 3, 4, 2, 5]\n",
        "print(list.count(2))\n",
        "print(\"The element 2 appears\",list.count(2),\"times in the tuple\")"
      ],
      "metadata": {
        "colab": {
          "base_uri": "https://localhost:8080/"
        },
        "id": "azgDEsrPEK3s",
        "outputId": "4dab2d07-5327-412a-8f4b-250c7b2a6e9c"
      },
      "execution_count": null,
      "outputs": [
        {
          "output_type": "stream",
          "name": "stdout",
          "text": [
            "3\n",
            "The element 2 appears 3 times in the tuple\n"
          ]
        }
      ]
    },
    {
      "cell_type": "markdown",
      "source": [
        "**14Q.Find the maximum element in the list [1, 2, 3, 4, 5].**\n"
      ],
      "metadata": {
        "id": "AVpCTW7bFMeo"
      }
    },
    {
      "cell_type": "code",
      "source": [
        "list=[1, 2, 3, 4, 5]\n",
        "print(max(list))\n",
        "print(\"The maximum element in the list is:\",max(list))"
      ],
      "metadata": {
        "colab": {
          "base_uri": "https://localhost:8080/"
        },
        "id": "KrlS8NU5FVnR",
        "outputId": "24100b67-a2f9-4893-fb0c-64ec9d3b0298"
      },
      "execution_count": null,
      "outputs": [
        {
          "output_type": "stream",
          "name": "stdout",
          "text": [
            "5\n",
            "The maximum element in the list is: 5\n"
          ]
        }
      ]
    },
    {
      "cell_type": "markdown",
      "source": [
        "**15Q.Convert the list [1, 2, 3, 4, 5] to a tuple.**"
      ],
      "metadata": {
        "id": "AQPbX50LGHTn"
      }
    },
    {
      "cell_type": "code",
      "source": [
        "list=[1,2,3,4,5]\n",
        "print(type(list))\n",
        "tuple_input=list[0],list[1],list[2],list[3],list[4]\n",
        "print(tuple_input)\n",
        "print(type(tuple_input))\n",
        "\n",
        "\n",
        "\n",
        "\n",
        "\n"
      ],
      "metadata": {
        "colab": {
          "base_uri": "https://localhost:8080/"
        },
        "id": "lOjkLAqrFbXg",
        "outputId": "84ea1e6b-234e-443a-938a-e14cf028cd4c"
      },
      "execution_count": null,
      "outputs": [
        {
          "output_type": "stream",
          "name": "stdout",
          "text": [
            "<class 'list'>\n",
            "(1, 2, 3, 4, 5)\n",
            "<class 'tuple'>\n"
          ]
        }
      ]
    },
    {
      "cell_type": "markdown",
      "source": [
        "**16Q.Extend the list [1, 2, 3] with elements from the list [4, 5, 6].**\n"
      ],
      "metadata": {
        "id": "CdyH9pMQTCNX"
      }
    },
    {
      "cell_type": "code",
      "source": [
        "list_1=[1,2,3]\n",
        "list_2=[4,5,6]\n",
        "list_1.extend(list_2)\n",
        "print(list_1)"
      ],
      "metadata": {
        "colab": {
          "base_uri": "https://localhost:8080/"
        },
        "id": "_RmYrJ--Gi2-",
        "outputId": "a5408eee-3c4b-47ca-8cc0-f0db3ba50aad"
      },
      "execution_count": null,
      "outputs": [
        {
          "output_type": "stream",
          "name": "stdout",
          "text": [
            "[1, 2, 3, 4, 5, 6]\n"
          ]
        }
      ]
    },
    {
      "cell_type": "markdown",
      "source": [
        "**17Q.Reverse the list [1, 2, 3, 4, 5].**"
      ],
      "metadata": {
        "id": "XW5SXS1qUSbV"
      }
    },
    {
      "cell_type": "code",
      "source": [
        "my_list=[1,2,3,4,5]\n",
        "my_list.reverse()\n",
        "print(my_list)"
      ],
      "metadata": {
        "colab": {
          "base_uri": "https://localhost:8080/"
        },
        "id": "7rOXfn8XUNIt",
        "outputId": "60d91ab8-e253-4b14-994b-483ebe0c9fc6"
      },
      "execution_count": null,
      "outputs": [
        {
          "output_type": "stream",
          "name": "stdout",
          "text": [
            "[5, 4, 3, 2, 1]\n"
          ]
        }
      ]
    },
    {
      "cell_type": "markdown",
      "source": [
        "**18Q.Access the element 3 in the nested list [[1, 2], [3, 4], [5, 6]].**"
      ],
      "metadata": {
        "id": "EWN4ytypUp6P"
      }
    },
    {
      "cell_type": "code",
      "source": [
        "list=[[1,2],[3,4],[5,6]]\n",
        "print(list[2])\n",
        "print(list[1][0])"
      ],
      "metadata": {
        "colab": {
          "base_uri": "https://localhost:8080/"
        },
        "id": "kVkUP0WAUikP",
        "outputId": "222c07ca-fbb6-43f4-c024-fcd34b2026d1"
      },
      "execution_count": null,
      "outputs": [
        {
          "output_type": "stream",
          "name": "stdout",
          "text": [
            "[5, 6]\n",
            "3\n"
          ]
        }
      ]
    },
    {
      "cell_type": "markdown",
      "source": [
        "**19Q.Remove the element 4 from the list [1, 2, 3, 4, 5].**\n"
      ],
      "metadata": {
        "id": "fW19O_YLVf3o"
      }
    },
    {
      "cell_type": "code",
      "source": [
        "list=[1,2,3,4,5]\n",
        "list.remove(4)\n",
        "print(list)"
      ],
      "metadata": {
        "colab": {
          "base_uri": "https://localhost:8080/"
        },
        "id": "cv1PHBYpVBtk",
        "outputId": "603a0b09-d3e3-4ad7-ffcc-ab8989a685e1"
      },
      "execution_count": null,
      "outputs": [
        {
          "output_type": "stream",
          "name": "stdout",
          "text": [
            "[1, 2, 3, 5]\n"
          ]
        }
      ]
    },
    {
      "cell_type": "markdown",
      "source": [
        "**20Q.Convert the tuple (1, 2, 3, 4, 5) to a list.**\n"
      ],
      "metadata": {
        "id": "XF7P-7sdWCPY"
      }
    },
    {
      "cell_type": "code",
      "source": [
        "tuple=(1,2,3,4,5)\n",
        "print(type(tuple))\n",
        "list_input=[tuple[0],tuple[1],tuple[2],tuple[3],tuple[4]]\n",
        "print(list_input)\n",
        "print(type(list_input))"
      ],
      "metadata": {
        "colab": {
          "base_uri": "https://localhost:8080/"
        },
        "id": "aEvZdvNwV6Et",
        "outputId": "55188208-ce24-4d1b-822c-48e9b9bbc97f"
      },
      "execution_count": null,
      "outputs": [
        {
          "output_type": "stream",
          "name": "stdout",
          "text": [
            "<class 'tuple'>\n",
            "[1, 2, 3, 4, 5]\n",
            "<class 'list'>\n"
          ]
        }
      ]
    },
    {
      "cell_type": "markdown",
      "source": [
        "**21Q.Find the index of the element 3 in the list [1, 2, 3, 4, 5].**"
      ],
      "metadata": {
        "id": "DSoCoFejXXKp"
      }
    },
    {
      "cell_type": "code",
      "source": [
        "list_input=[1,2,3,4,5]\n",
        "list_input.index(3)\n"
      ],
      "metadata": {
        "colab": {
          "base_uri": "https://localhost:8080/"
        },
        "id": "yRVsdREEWi4A",
        "outputId": "48b02d3e-981c-448c-989c-1761542a7873"
      },
      "execution_count": null,
      "outputs": [
        {
          "output_type": "execute_result",
          "data": {
            "text/plain": [
              "2"
            ]
          },
          "metadata": {},
          "execution_count": 100
        }
      ]
    },
    {
      "cell_type": "markdown",
      "source": [
        "**22Q.Explain why the following operation fails: t = (1, 2, 3); t[0] = 0.**\n"
      ],
      "metadata": {
        "id": "ck2SvVc2X1WD"
      }
    },
    {
      "cell_type": "code",
      "source": [
        "t=(1,2,3)\n",
        "t[0]=0 #Tuple is immutable.It does not support item assignment means we can assign a element in the tuple explicitly"
      ],
      "metadata": {
        "colab": {
          "base_uri": "https://localhost:8080/",
          "height": 158
        },
        "id": "F4teYw1YXnz7",
        "outputId": "8eff6c5b-65bd-4db5-9cd3-784dd66a2621"
      },
      "execution_count": null,
      "outputs": [
        {
          "output_type": "error",
          "ename": "TypeError",
          "evalue": "'tuple' object does not support item assignment",
          "traceback": [
            "\u001b[0;31m---------------------------------------------------------------------------\u001b[0m",
            "\u001b[0;31mTypeError\u001b[0m                                 Traceback (most recent call last)",
            "\u001b[0;32m<ipython-input-101-8e2a00d261fa>\u001b[0m in \u001b[0;36m<cell line: 2>\u001b[0;34m()\u001b[0m\n\u001b[1;32m      1\u001b[0m \u001b[0mt\u001b[0m\u001b[0;34m=\u001b[0m\u001b[0;34m(\u001b[0m\u001b[0;36m1\u001b[0m\u001b[0;34m,\u001b[0m\u001b[0;36m2\u001b[0m\u001b[0;34m,\u001b[0m\u001b[0;36m3\u001b[0m\u001b[0;34m)\u001b[0m\u001b[0;34m\u001b[0m\u001b[0;34m\u001b[0m\u001b[0m\n\u001b[0;32m----> 2\u001b[0;31m \u001b[0mt\u001b[0m\u001b[0;34m[\u001b[0m\u001b[0;36m0\u001b[0m\u001b[0;34m]\u001b[0m\u001b[0;34m=\u001b[0m\u001b[0;36m0\u001b[0m\u001b[0;34m\u001b[0m\u001b[0;34m\u001b[0m\u001b[0m\n\u001b[0m",
            "\u001b[0;31mTypeError\u001b[0m: 'tuple' object does not support item assignment"
          ]
        }
      ]
    },
    {
      "cell_type": "markdown",
      "source": [
        "**23Q.You have a list of your favorite Marvel superheroes.heroes=['spider man','thor','hulk','iron man','captain america']  Using this list,**\n",
        "\n",
        "**find Length of the list**\n",
        "\n",
        "**>Add 'black panther' at the end of this list.**\n",
        "\n",
        "**>You realize that you need to add 'black panther' after 'hulk', so remove it from the list first and then add it after 'hulk'.**\n",
        "\n",
        "**>Now you don't like thor and hulk because they get angry easily 🙂. So you want to remove thor and hulk from the list and replace them with Doctor Strange (because he is cool).Do that with one line of code.**\n",
        "\n",
        "**>Sort the list in alphabetical order**\n",
        "\n",
        "\n",
        "\n",
        "\n"
      ],
      "metadata": {
        "id": "dB5YxPDCYf3n"
      }
    },
    {
      "cell_type": "code",
      "source": [
        "heroes=['spider man','thor','hulk','iron man','captain america']\n",
        "print(len(heroes))"
      ],
      "metadata": {
        "colab": {
          "base_uri": "https://localhost:8080/"
        },
        "id": "EtU-0o7bpF_H",
        "outputId": "0ad8a85c-4503-4158-94a6-e9b7da88ab03"
      },
      "execution_count": null,
      "outputs": [
        {
          "output_type": "stream",
          "name": "stdout",
          "text": [
            "5\n"
          ]
        }
      ]
    },
    {
      "cell_type": "code",
      "source": [
        "heroes.append(\"black panther\")\n",
        "print(heroes)"
      ],
      "metadata": {
        "colab": {
          "base_uri": "https://localhost:8080/"
        },
        "id": "TSoqa5RBpMJf",
        "outputId": "a4df778f-a7ed-42d5-a407-2837a8b87277"
      },
      "execution_count": null,
      "outputs": [
        {
          "output_type": "stream",
          "name": "stdout",
          "text": [
            "['spider man', 'thor', 'hulk', 'iron man', 'captain america', 'black panther']\n"
          ]
        }
      ]
    },
    {
      "cell_type": "code",
      "source": [
        "heroes.remove(\"black panther\")\n",
        "print(heroes)"
      ],
      "metadata": {
        "colab": {
          "base_uri": "https://localhost:8080/"
        },
        "id": "PsLdKKcXpRyx",
        "outputId": "d46c5bc2-b519-4e57-d3e9-148e23d80b06"
      },
      "execution_count": null,
      "outputs": [
        {
          "output_type": "stream",
          "name": "stdout",
          "text": [
            "['spider man', 'thor', 'hulk', 'iron man', 'captain america']\n"
          ]
        }
      ]
    },
    {
      "cell_type": "code",
      "source": [
        "heroes.insert(3,\"black panther\")\n",
        "print(heroes)"
      ],
      "metadata": {
        "colab": {
          "base_uri": "https://localhost:8080/"
        },
        "id": "lLpjoxe6pXyr",
        "outputId": "847891b4-59c6-466b-8957-4ed1e24065b3"
      },
      "execution_count": null,
      "outputs": [
        {
          "output_type": "stream",
          "name": "stdout",
          "text": [
            "['spider man', 'thor', 'hulk', 'black panther', 'iron man', 'captain america']\n"
          ]
        }
      ]
    },
    {
      "cell_type": "code",
      "source": [
        "heroes=['spider man', 'thor', 'hulk', 'black panther', 'iron man', 'captain america']\n",
        "heroes.remove(\"thor\")\n",
        "heroes.remove(\"hulk\")\n",
        "heroes.insert(1,\"doctor Strange\")\n",
        "print(heroes)"
      ],
      "metadata": {
        "colab": {
          "base_uri": "https://localhost:8080/"
        },
        "id": "uXsG9jL4pcR8",
        "outputId": "69c5c46b-cd75-4b5e-d985-267573de8a98"
      },
      "execution_count": null,
      "outputs": [
        {
          "output_type": "stream",
          "name": "stdout",
          "text": [
            "['spider man', 'doctor Strange', 'black panther', 'iron man', 'captain america']\n"
          ]
        }
      ]
    },
    {
      "cell_type": "code",
      "source": [
        "herpes=['spider man', 'doctor Strange', 'black panther', 'iron man', 'captain america']\n",
        "heroes.sort(reverse=False)\n",
        "print(heroes)\n",
        "\n"
      ],
      "metadata": {
        "colab": {
          "base_uri": "https://localhost:8080/"
        },
        "id": "HGvMnrbXmkB_",
        "outputId": "2641ac17-0475-4e75-88db-67d35c87c9ab"
      },
      "execution_count": null,
      "outputs": [
        {
          "output_type": "stream",
          "name": "stdout",
          "text": [
            "['black panther', 'captain america', 'doctor Strange', 'iron man', 'spider man']\n"
          ]
        }
      ]
    },
    {
      "cell_type": "markdown",
      "source": [
        "**24Q.Write a program to add item 7000 after 6000 in the following Python List:list1 = [10, 20, [300, 400, [5000, 6000], 500], 30, 40]**\n"
      ],
      "metadata": {
        "id": "xEimDq8sd5_E"
      }
    },
    {
      "cell_type": "code",
      "source": [
        "list=[10,20,[300,400,[5000,6000],500],30,40]\n",
        "my_list=list[2][2]\n",
        "##print(my_list)\n",
        "my_list1=my_list.insert(2,7000)\n",
        "print(list)"
      ],
      "metadata": {
        "colab": {
          "base_uri": "https://localhost:8080/"
        },
        "id": "Xly4M7pQaIr1",
        "outputId": "78bb8849-5116-4d97-f05c-ab33c3e75111"
      },
      "execution_count": null,
      "outputs": [
        {
          "output_type": "stream",
          "name": "stdout",
          "text": [
            "[5000, 6000]\n",
            "[10, 20, [300, 400, [5000, 6000, 7000], 500], 30, 40]\n"
          ]
        }
      ]
    },
    {
      "cell_type": "code",
      "source": [],
      "metadata": {
        "id": "3zQRVA_WeR9a"
      },
      "execution_count": null,
      "outputs": []
    }
  ]
}