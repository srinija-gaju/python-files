{
  "nbformat": 4,
  "nbformat_minor": 0,
  "metadata": {
    "colab": {
      "provenance": []
    },
    "kernelspec": {
      "name": "python3",
      "display_name": "Python 3"
    },
    "language_info": {
      "name": "python"
    }
  },
  "cells": [
    {
      "cell_type": "markdown",
      "source": [
        "#Task1"
      ],
      "metadata": {
        "id": "STEskPmINveP"
      }
    },
    {
      "cell_type": "markdown",
      "source": [
        "**Q1.Create different variables to store your name,your age,and your parents name\n",
        "a.print your name\n",
        "b.create more variables needeed for the biodata\n",
        "c.Now print your whole biodata using above variables. bold text**\n"
      ],
      "metadata": {
        "id": "1A8owX2JN7Cu"
      }
    },
    {
      "cell_type": "code",
      "source": [
        "\n",
        "name=\"srinija\"\n",
        "age=21\n",
        "mother_name=\"Laxmi\"\n",
        "father_name=\"Ramesh\"\n",
        "qualification=\"B.TECH\"\n",
        "department=\"Electronics and Communiaction Engineering\"\n",
        "district=\"Nizamabad\"\n",
        "print(\"My name is:\",name)\n",
        "print(\"My age is:\",age)\n",
        "print(\"My mother name is:\",mother_name)\n",
        "print(\"My father name is:\",father_name)\n",
        "print(\"I completed my\",qualification,\"in\",department)\n",
        "print(\"I am from\",district,\"District\")\n",
        "\n"
      ],
      "metadata": {
        "colab": {
          "base_uri": "https://localhost:8080/"
        },
        "id": "a36ZRFS-Oqxu",
        "outputId": "d096b3e2-fd0d-41d7-be77-3bfcc830e63d"
      },
      "execution_count": null,
      "outputs": [
        {
          "output_type": "stream",
          "name": "stdout",
          "text": [
            "My name is: srinija\n",
            "My age is: 21\n",
            "My mother name is: Laxmi\n",
            "My father name is: Ramesh\n",
            "I completed my B.TECH in Electronics and Communiaction Engineering\n",
            "I am from Nizamabad District\n"
          ]
        }
      ]
    },
    {
      "cell_type": "markdown",
      "source": [
        "**Q2.Create two variables.One to store your first name and another to store your surname.Now print your name so that the surname prints first.**\n"
      ],
      "metadata": {
        "id": "Mg_t1YgsSxQm"
      }
    },
    {
      "cell_type": "code",
      "source": [
        "name=\"Srinija\"\n",
        "surname=\"Gaju\"\n",
        "fullname=surname+name\n",
        "print(\"my fullname is\",fullname)"
      ],
      "metadata": {
        "colab": {
          "base_uri": "https://localhost:8080/"
        },
        "id": "xqVmmsfXTihM",
        "outputId": "e075e220-a2fe-457b-e8e2-8c5a3cedd684"
      },
      "execution_count": null,
      "outputs": [
        {
          "output_type": "stream",
          "name": "stdout",
          "text": [
            "my fullname is GajuSrinija\n"
          ]
        }
      ]
    },
    {
      "cell_type": "markdown",
      "source": [
        "**Q3.Write rules on how to create a variable in markdown cell using text Formatting.**\n"
      ],
      "metadata": {
        "id": "PQ31wBeeUeNn"
      }
    },
    {
      "cell_type": "markdown",
      "source": [
        "we have to create a variable in a cell and assign a value to the variable.Then convert the cell to a markdown using **esc+m** keyword.Then we have to enter **shift+enter** to run the cell.To get a sentence or word in bold we have to use ** before and after the sentence or word .To get in italic we have to use * before and after the sentence.To convert a cell to code we have touse **esc+y**. To add a cell above-**esc+a**.To add a cell below-**esc+b**.\n"
      ],
      "metadata": {
        "id": "LEBoSJhOZ11F"
      }
    },
    {
      "cell_type": "markdown",
      "source": [
        "**Q4.Create a variable called break and assign it a value 16.see what happens, and find out the reason behind the behaviour that you see.**"
      ],
      "metadata": {
        "id": "vfS04eZsU-Tk"
      }
    },
    {
      "cell_type": "code",
      "source": [
        "break=16"
      ],
      "metadata": {
        "colab": {
          "base_uri": "https://localhost:8080/",
          "height": 106
        },
        "id": "RkzYXBw2Vo1Z",
        "outputId": "47fc88c6-67a3-4558-90b8-1f39547fca4a"
      },
      "execution_count": null,
      "outputs": [
        {
          "output_type": "error",
          "ename": "SyntaxError",
          "evalue": "invalid syntax (<ipython-input-9-e84173fcc9b2>, line 1)",
          "traceback": [
            "\u001b[0;36m  File \u001b[0;32m\"<ipython-input-9-e84173fcc9b2>\"\u001b[0;36m, line \u001b[0;32m1\u001b[0m\n\u001b[0;31m    break=16\u001b[0m\n\u001b[0m         ^\u001b[0m\n\u001b[0;31mSyntaxError\u001b[0m\u001b[0;31m:\u001b[0m invalid syntax\n"
          ]
        }
      ]
    },
    {
      "cell_type": "markdown",
      "source": [
        " Break is a keyword.we cannot assign a keyword to a variable.It gives as syntax error.Break keyword in python is used to stop the program execution."
      ],
      "metadata": {
        "id": "AyS_BK6UWxzU"
      }
    },
    {
      "cell_type": "markdown",
      "source": [
        "**Q5.a.Assign the values 1,2 and 3 to the variables x,y,z,respectively,in a single line.\n",
        "b.print the values of x,y,and z**"
      ],
      "metadata": {
        "id": "KCEmQRvmX3Ic"
      }
    },
    {
      "cell_type": "code",
      "source": [
        "x,y,z=1,2,3\n",
        "print(\"The values of x,y,z are\",x,y,z,\"respectively\")"
      ],
      "metadata": {
        "colab": {
          "base_uri": "https://localhost:8080/"
        },
        "id": "JQYTICLcVsBd",
        "outputId": "9f85d2eb-341a-45f1-ae04-47c4b8d5e6a2"
      },
      "execution_count": null,
      "outputs": [
        {
          "output_type": "stream",
          "name": "stdout",
          "text": [
            "The values of x,y,z are 1 2 3 respectively\n"
          ]
        }
      ]
    }
  ]
}