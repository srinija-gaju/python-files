{
  "nbformat": 4,
  "nbformat_minor": 0,
  "metadata": {
    "colab": {
      "provenance": []
    },
    "kernelspec": {
      "name": "python3",
      "display_name": "Python 3"
    },
    "language_info": {
      "name": "python"
    }
  },
  "cells": [
    {
      "cell_type": "markdown",
      "source": [
        "# Task 2"
      ],
      "metadata": {
        "id": "YeoAQo3tXi0K"
      }
    },
    {
      "cell_type": "markdown",
      "source": [
        "**Q1. Define two variables, a and b, with values 12 and 5 respectively. Write a Python program to calculate and print their sum, difference, product, quotient, and modulus.**"
      ],
      "metadata": {
        "id": "JA_MhLQkXw7K"
      }
    },
    {
      "cell_type": "code",
      "source": [
        "a=12\n",
        "b=5\n",
        "sum=a+b\n",
        "difference=a-b\n",
        "product=a*b\n",
        "quotient=a//b\n",
        "modulus=a%b\n",
        "print(\"sum of a and b is:\",\"12+5=\",sum)\n",
        "print(\"difference of a and b is:\",\"12-5=\",difference)\n",
        "print(\"product of a and b is:\",\"12*5=\",product)\n",
        "print(\"quotient of a and b is:\",\"12//5=\",quotient)\n",
        "print(\"modulus of a and b is:\",\"12%5=\",modulus)\n"
      ],
      "metadata": {
        "colab": {
          "base_uri": "https://localhost:8080/"
        },
        "id": "N31lCxOqX1kZ",
        "outputId": "2bc8b0f5-e317-4b18-85f9-45b1302a7a08"
      },
      "execution_count": null,
      "outputs": [
        {
          "output_type": "stream",
          "name": "stdout",
          "text": [
            "sum of a and b is: 12+5= 17\n",
            "difference of a and b is: 12-5= 7\n",
            "product of a and b is: 12*5= 60\n",
            "quotient of a and b is: 12//5= 2\n",
            "modulus of a and b is: 12%5= 2\n"
          ]
        }
      ]
    },
    {
      "cell_type": "markdown",
      "source": [
        "**Q2. Write a Python program to evaluate the expression (8 + 2) * (3 - 1) ** 2 / 2 and explain how the use of parentheses affects the result using comments.**\n"
      ],
      "metadata": {
        "id": "ngIlprB8bt3g"
      }
    },
    {
      "cell_type": "code",
      "source": [
        "#According to bodmas we have to  first solve brackets,and then power and roots, division,multiplication,addition and subtraction\n",
        "#In below expression  and expression1 there is difference in result with parenthesis and without parenthesis\n",
        "expression=(8+2)*(3-1)**2/2\n",
        "print(expression)\n",
        "#step1:10*2**2/2(brackets)\n",
        "#step2:10*4/2(power)\n",
        "#step3:10*2(division)\n",
        "#step4:20(multiplication)\n",
        "\n",
        "expression1=8+2*3-1**2/2 #8+6-1/5=14-0.5=13.5\n",
        "print(expression1)\n",
        "#step1:8+2*3-1/2(power)\n",
        "#step2:8+2*3-0.5(division)\n",
        "#step3:8+6-0.5(multiplication)\n",
        "#step4:14-0.5(addition)\n",
        "#step5:13.5(subtraction)"
      ],
      "metadata": {
        "colab": {
          "base_uri": "https://localhost:8080/"
        },
        "id": "5jr3h3-fb1af",
        "outputId": "d2c7a6a1-2cb1-46c2-8a30-e750fac77dab"
      },
      "execution_count": null,
      "outputs": [
        {
          "output_type": "stream",
          "name": "stdout",
          "text": [
            "20.0\n",
            "13.5\n"
          ]
        }
      ]
    },
    {
      "cell_type": "markdown",
      "source": [
        "**Q3.Given three boolean variables, p = True, q = False, and r = True, write a Python program that evaluates and prints the result of the logical expressions p and q, p or q, and not r.**\n",
        "\n"
      ],
      "metadata": {
        "id": "w8uDIG9Miz4j"
      }
    },
    {
      "cell_type": "code",
      "source": [
        "p=True\n",
        "q=False\n",
        "r=True\n",
        "print(\"result of p and q is:\",p and q)\n",
        "print(\"result of p or q is:\",p or q)\n",
        "print(\"result of p and q is:\",not r)"
      ],
      "metadata": {
        "colab": {
          "base_uri": "https://localhost:8080/"
        },
        "id": "RbKjPHFhi8vD",
        "outputId": "0a4c9951-79b0-45c0-bdc2-8bed6665d0fd"
      },
      "execution_count": null,
      "outputs": [
        {
          "output_type": "stream",
          "name": "stdout",
          "text": [
            "result of p and q is: False\n",
            "result of p or q is: True\n",
            "result of p and q is: False\n"
          ]
        }
      ]
    },
    {
      "cell_type": "markdown",
      "source": [
        "**Q4. Write a Python program to evaluate the expression 10 + 2 * 3 / 4 - 5 ** 2 and print the result. Explain the order in which the operations are performed using comments.**"
      ],
      "metadata": {
        "id": "IVoBLeXEjs1P"
      }
    },
    {
      "cell_type": "code",
      "source": [
        "expression=10+2*3/4-5**2\n",
        "print(expression)\n",
        "#step1:10+2*3/4-25(power)\n",
        "#step2:10+2*0.75-25(division)\n",
        "#step3:10+1.5-25(multiplication)\n",
        "#step4:11.5-25(addition)\n",
        "#step5:-13.5(subtraction)\n"
      ],
      "metadata": {
        "colab": {
          "base_uri": "https://localhost:8080/"
        },
        "id": "sVVQW1DAj06r",
        "outputId": "cc94f6af-9ba1-4ec9-ba9d-ceed93d40bbb"
      },
      "execution_count": null,
      "outputs": [
        {
          "output_type": "stream",
          "name": "stdout",
          "text": [
            "-13.5\n"
          ]
        }
      ]
    },
    {
      "cell_type": "markdown",
      "source": [
        "**Q5. Explain the difference between logical operators (and, or, not) and bitwise operators (&, |, ~) with examples.**\n"
      ],
      "metadata": {
        "id": "lLeMmK6YoknR"
      }
    },
    {
      "cell_type": "code",
      "source": [
        "#Difference between logical and ,bitwise and\n",
        "print(4 and 7)#logical and operator check whether the statement is true or false.It checks 4 first,if it is true then checks 7 and give as 7 as output\n",
        "print(4&7)#it will represent the numbers in bit level and perform and operation\n",
        "#0 1 0 0(4)\n",
        "#0 1 1 1(7)\n",
        "#0 1 0 0(4&7=4)"
      ],
      "metadata": {
        "colab": {
          "base_uri": "https://localhost:8080/"
        },
        "id": "PZrGVr2yos-z",
        "outputId": "ff6bf3ce-ba7b-4d33-e107-8c96c5e892a8"
      },
      "execution_count": null,
      "outputs": [
        {
          "output_type": "stream",
          "name": "stdout",
          "text": [
            "7\n",
            "4\n"
          ]
        }
      ]
    },
    {
      "cell_type": "code",
      "source": [
        "#Difference between logical or and bitwise or\n",
        "print(4 or 7)#logicalor operator check whether the statement is true or false.It checks 4 first,if it is true then it gives result as true\n",
        "print(4|7)##it will represent the numbers in bit level and perform and operation\n",
        "#0 1 0 0(4)\n",
        "#0 1 1 1(7)\n",
        "#0 1 1 1(4|7=7)\n"
      ],
      "metadata": {
        "colab": {
          "base_uri": "https://localhost:8080/"
        },
        "id": "W9GIO7WEuwdX",
        "outputId": "02699c5c-6246-49a5-ca00-abeeb7e56797"
      },
      "execution_count": null,
      "outputs": [
        {
          "output_type": "stream",
          "name": "stdout",
          "text": [
            "4\n",
            "7\n"
          ]
        }
      ]
    },
    {
      "cell_type": "code",
      "source": [
        "#Difference between logical not and bitwise ~\n",
        "print(not 23)#logical not gives complent of the input.if input is true then output is false and viceversa\n",
        "print(~23)#It is represented in bit level and find's its 2's complement and return its output\n"
      ],
      "metadata": {
        "colab": {
          "base_uri": "https://localhost:8080/"
        },
        "id": "-R5OGOzMwQ03",
        "outputId": "6e76d10d-43ef-4525-d8f2-474d3d175625"
      },
      "execution_count": null,
      "outputs": [
        {
          "output_type": "stream",
          "name": "stdout",
          "text": [
            "False\n",
            "-24\n"
          ]
        }
      ]
    }
  ]
}