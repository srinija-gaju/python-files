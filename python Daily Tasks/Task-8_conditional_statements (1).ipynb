{
 "cells": [
  {
   "cell_type": "markdown",
   "id": "d1dc0ba2-22a7-4e94-9f3a-91ddab68f35f",
   "metadata": {},
   "source": [
    "# Task_8_Conditional statemenets"
   ]
  },
  {
   "cell_type": "markdown",
   "id": "6e76952d-a489-48e1-9c82-ef23de6d6168",
   "metadata": {},
   "source": [
    "**1Q.Write a Python program that asks the user for their age and prints \"You are an adult\" if the age is 18 or older; otherwise, it prints \"You are a minor’’.**\n"
   ]
  },
  {
   "cell_type": "code",
   "execution_count": 17,
   "id": "3fb65bb2-fea9-439d-bfd9-019613d77d04",
   "metadata": {},
   "outputs": [
    {
     "name": "stdin",
     "output_type": "stream",
     "text": [
      "enter your age 21\n"
     ]
    },
    {
     "name": "stdout",
     "output_type": "stream",
     "text": [
      "You are an adult\n"
     ]
    }
   ],
   "source": [
    "age=int(input(\"enter your age\"))\n",
    "if  age>=18:\n",
    "    print(\"You are an adult\")\n",
    "else:\n",
    "    print(\"you are a minor\")"
   ]
  },
  {
   "cell_type": "markdown",
   "id": "8ef3fc85-3532-4009-9b92-5ab173a64c68",
   "metadata": {},
   "source": [
    "**2Q.write a program that takes a numerical grade (out of 100) as input and prints the corresponding letter grade according to the following scale:**\n",
    "\n",
    " **90-100: A**\n",
    " \n",
    " **80-89: B**\n",
    " \n",
    " **70-79: C**\n",
    " \n",
    " **60-69: D**\n",
    " \n",
    " **Below 60: F**\n"
   ]
  },
  {
   "cell_type": "code",
   "execution_count": 30,
   "id": "0b7c7318-1697-4f55-9d00-e41c5b9e4eb7",
   "metadata": {},
   "outputs": [
    {
     "name": "stdin",
     "output_type": "stream",
     "text": [
      "enter your numerical grade 68\n"
     ]
    },
    {
     "name": "stdout",
     "output_type": "stream",
     "text": [
      "your grade is D\n"
     ]
    }
   ],
   "source": [
    "numerical_grade=int(input(\"enter your numerical grade\"))\n",
    "if numerical_grade>=90 and numerical_grade<=100:\n",
    "    print(\"your grade is A\")\n",
    "elif numerical_grade>=80 and numerical_grade<=89:\n",
    "    print(\"your grade is B\")\n",
    "elif numerical_grade>=70 and numerical_grade<=79:\n",
    "    print(\"your grade is C\")\n",
    "elif numerical_grade>=60 and numerical_grade<=69:\n",
    "    print(\"your grade is D\")\n",
    "else:\n",
    "    print(\"your grade is F\")\n",
    "  "
   ]
  },
  {
   "cell_type": "markdown",
   "id": "fb330197-f203-4c39-a60d-d3232d6dd4f1",
   "metadata": {},
   "source": [
    "**3Q.Write a program that asks the user for three numbers and prints the maximum of the three.**\n"
   ]
  },
  {
   "cell_type": "code",
   "execution_count": 37,
   "id": "501a9592-9b75-4cd6-a81a-b7e43d787823",
   "metadata": {},
   "outputs": [
    {
     "name": "stdin",
     "output_type": "stream",
     "text": [
      "enter first number 99\n",
      "enter second number 11\n",
      "enter third number 92\n"
     ]
    },
    {
     "name": "stdout",
     "output_type": "stream",
     "text": [
      "99 is maximum number\n"
     ]
    }
   ],
   "source": [
    "num1=int(input(\"enter first number\"))\n",
    "num2=int(input(\"enter second number\"))\n",
    "num3=int(input(\"enter third number\"))\n",
    "if num1>num2 and num1>num3:\n",
    "    print(num1,\"is maximum number\")\n",
    "elif num2>num1 and num2>num3:\n",
    "    print(num2,\"is maximum number\")\n",
    "else:\n",
    "    print(num3,\"is the maximum number\")\n",
    "\n"
   ]
  },
  {
   "cell_type": "markdown",
   "id": "237fc863-5a07-42f4-98c7-7e48e540e749",
   "metadata": {},
   "source": [
    "**4Q.Write a program that asks the user for a temperature (in Celsius) and prints \"It's freezing\" if the temperature is below 0, \"It's cool\" if it's between 0 and 10, \"It's warm\" if it's between 10 and 20, and \"It's hot\" if it's above 20**\n"
   ]
  },
  {
   "cell_type": "code",
   "execution_count": 46,
   "id": "d408807f-80b9-4a1c-81fc-610f7262899a",
   "metadata": {},
   "outputs": [
    {
     "name": "stdin",
     "output_type": "stream",
     "text": [
      "enter the temperature in celsius -3\n"
     ]
    },
    {
     "name": "stdout",
     "output_type": "stream",
     "text": [
      "it's freezing\n"
     ]
    }
   ],
   "source": [
    "temperature=int(input(\"enter the temperature in celsius\"))\n",
    "if temperature<0:\n",
    "     print(\"it's freezing\")\n",
    "elif temperature>0 and temperature<=10:\n",
    "     print(\"it's cool\")\n",
    "elif temperature>10 and temperature<=20:\n",
    "     print(\"it's warm\")\n",
    "else:\n",
    "    print(\"it's hot\")\n",
    "    "
   ]
  },
  {
   "cell_type": "markdown",
   "id": "b01fb0b2-4250-45bc-b311-3f037b67de89",
   "metadata": {},
   "source": [
    "**5Q.Write python Program for factorial of the give number**\n"
   ]
  },
  {
   "cell_type": "code",
   "execution_count": 11,
   "id": "9e57d989-bca1-4198-a40c-0994fa6e483f",
   "metadata": {},
   "outputs": [
    {
     "name": "stdin",
     "output_type": "stream",
     "text": [
      "enter a number 4\n"
     ]
    },
    {
     "name": "stdout",
     "output_type": "stream",
     "text": [
      "factorial of 4 is 24\n"
     ]
    }
   ],
   "source": [
    "num=int(input(\"enter a number\"))\n",
    "fact=1\n",
    "if num==0:\n",
    "    print(\"factorial is 1\")\n",
    "else:\n",
    "  for i in range(1,num+1):\n",
    "              fact=fact*i\n",
    "  print(\"factorial of\",num,\"is\",fact)\n",
    "    \n",
    "    "
   ]
  },
  {
   "cell_type": "markdown",
   "id": "4b882b19-f4b6-4374-aaa9-0ab1a3f6e233",
   "metadata": {},
   "source": [
    "**6Q.Write a program that asks the user for a number and prints \"In range\" if the number is between 10 and 20 (inclusive), and \"Out of range\" otherwise..**"
   ]
  },
  {
   "cell_type": "code",
   "execution_count": 32,
   "id": "d08132a1-e3e6-4064-ab73-7e581dfe2ade",
   "metadata": {},
   "outputs": [
    {
     "name": "stdin",
     "output_type": "stream",
     "text": [
      "enter a number 19\n"
     ]
    },
    {
     "name": "stdout",
     "output_type": "stream",
     "text": [
      "inclusive\n"
     ]
    }
   ],
   "source": [
    "number=int(input(\"enter a number\"))\n",
    "if number>=10 and number<=20:\n",
    "    print(\"inclusive\")\n",
    "else:\n",
    "    print(\"Out if range\")\n"
   ]
  },
  {
   "cell_type": "markdown",
   "id": "688249bf-389a-4c7f-aa4a-74f573ab925d",
   "metadata": {},
   "source": [
    "**7Q.Write a Python program to add 'ing' at the end of a given string (string length should be equal to or more than 3). If the given string already ends with 'ing' then add 'ly' instead.If the string length of the given string is less than 3, leave it unchanged**\n"
   ]
  },
  {
   "cell_type": "code",
   "execution_count": 67,
   "id": "6df4e32c-d3fa-4080-9675-7d3780912570",
   "metadata": {},
   "outputs": [
    {
     "name": "stdin",
     "output_type": "stream",
     "text": [
      "enter a string madding\n"
     ]
    },
    {
     "name": "stdout",
     "output_type": "stream",
     "text": [
      "maddly\n"
     ]
    }
   ],
   "source": [
    "string=input(\"enter a string\")\n",
    "if len(string)>=3:\n",
    "      \n",
    "      if string.endswith(\"ing\"):\n",
    "              new_string=string.replace(\"ing\",\"ly\")\n",
    "              print(new_string)\n",
    "              \n",
    "      else:\n",
    "          print(string+\"ing\")\n",
    "else:\n",
    "    print(\"Don't change the string\",string)"
   ]
  },
  {
   "cell_type": "markdown",
   "id": "9844dd23-4441-4f47-81fb-c274aae30b6d",
   "metadata": {},
   "source": [
    "**8Q.Manoj Kumar has family and friends. Help him remind them who is who. Given a string with a name, return the relation of that person to Manoj Kumar.,\n",
    " Person Relation,Shiva father ,Letha mother, Tarun brother,Kavitha sister ,,Stranger.**\n"
   ]
  },
  {
   "cell_type": "code",
   "execution_count": 160,
   "id": "d53540c0-e3a1-4479-bfc6-f6f676856401",
   "metadata": {},
   "outputs": [
    {
     "name": "stdin",
     "output_type": "stream",
     "text": [
      "enter his/her  family and freinds names letha\n"
     ]
    },
    {
     "name": "stdout",
     "output_type": "stream",
     "text": [
      "She is manoj kumar's mother\n"
     ]
    }
   ],
   "source": [
    "relation=input(\"enter his/her  family and freinds names\")\n",
    "if relation==\"shiva\":\n",
    "    print(\"He is manoj Kumar's Father\")\n",
    "elif relation==\"letha\":\n",
    "    print(\"She is manoj kumar's mother\")\n",
    "elif relation==\"tarun\":\n",
    "    print(\"he is manoj kumar's brother\")\n",
    "elif relation==\"kavitha\":\n",
    "    print(\"she is manoj kumar's sister\")\n",
    "else:\n",
    "    print(\"He/she is a stranger to manoj kumar\")\n",
    "    "
   ]
  },
  {
   "cell_type": "markdown",
   "id": "e304e69f-3505-4f04-9d15-71554fb940b7",
   "metadata": {},
   "source": [
    "**9Q. Write a python program that takes in a word and determines whether or not it is   plural. A plural word is one that ends with “s”**\n"
   ]
  },
  {
   "cell_type": "code",
   "execution_count": 93,
   "id": "f33bad8f-1b68-4882-93a6-efab4cc782ed",
   "metadata": {},
   "outputs": [
    {
     "name": "stdin",
     "output_type": "stream",
     "text": [
      "enter a word book\n"
     ]
    },
    {
     "name": "stdout",
     "output_type": "stream",
     "text": [
      "book is not a plural word\n"
     ]
    }
   ],
   "source": [
    "word=input(\"enter a word\")\n",
    "if word.endswith(\"s\"):\n",
    "     print(word,\"is plural word\")\n",
    "else:\n",
    "    print(word,\"is not a plural word\")"
   ]
  },
  {
   "cell_type": "markdown",
   "id": "b658f498-d5f3-4cb8-9d06-d80e9fc52aa1",
   "metadata": {},
   "source": [
    "**10Q. A company decided to give a bonus of 5% to employees if his/her year of service is more than 5 years.Ask user for their salary and year of service and print the net bonus amount.**"
   ]
  },
  {
   "cell_type": "code",
   "execution_count": 263,
   "id": "30b059f4-08da-4d05-ac5f-755e52172fb6",
   "metadata": {},
   "outputs": [
    {
     "name": "stdin",
     "output_type": "stream",
     "text": [
      "enter your salary 50000\n",
      "enter of year of service to the company 7\n"
     ]
    },
    {
     "name": "stdout",
     "output_type": "stream",
     "text": [
      "the net bonus amount is 2500.0\n"
     ]
    }
   ],
   "source": [
    "salary=int(input(\"enter your salary\"))\n",
    "year_of_service=int(input(\"enter of year of service to the company\"))\n",
    "if year_of_service>5:\n",
    "      bonus=salary*5/100\n",
    "      print(\"the net bonus amount is\",bonus)\n",
    "else:\n",
    "    print(\"you are not eligible for bonus because your is less than 5 years\")"
   ]
  },
  {
   "cell_type": "markdown",
   "id": "1602dae1-25e1-4a08-bdda-018769538133",
   "metadata": {},
   "source": [
    "**11Q.Take values of length and breadth of a rectangle from the user and check if it is square or not.**"
   ]
  },
  {
   "cell_type": "code",
   "execution_count": 121,
   "id": "302ade29-8d81-4a62-b327-1bd91125a532",
   "metadata": {},
   "outputs": [
    {
     "name": "stdin",
     "output_type": "stream",
     "text": [
      "enter length of the rectangle 10\n",
      "enter breadth of the rectangle 5\n"
     ]
    },
    {
     "name": "stdout",
     "output_type": "stream",
     "text": [
      "it is not a square\n",
      "length and breadth are equal for square\n"
     ]
    }
   ],
   "source": [
    "length=int(input(\"enter length of the rectangle\"))\n",
    "breadth=int(input(\"enter breadth of the rectangle\"))\n",
    "if length==breadth:\n",
    "     print(\"it's a square\")\n",
    "else:\n",
    "    print(\"it is not a square\")\n",
    "print(\"length and breadth are equal for square\")"
   ]
  },
  {
   "cell_type": "markdown",
   "id": "282fa3cc-9d2e-4f64-9c44-5060680d343d",
   "metadata": {},
   "source": [
    "**12Q.Write a program to check whether a person is eligible for voting or not  (voting age>=18).**"
   ]
  },
  {
   "cell_type": "code",
   "execution_count": 126,
   "id": "2033b8f0-08ee-4f6b-8351-ce8acf9e8a93",
   "metadata": {},
   "outputs": [
    {
     "name": "stdin",
     "output_type": "stream",
     "text": [
      "enter the age of the person 17\n"
     ]
    },
    {
     "name": "stdout",
     "output_type": "stream",
     "text": [
      "person is not eligible to vote\n"
     ]
    }
   ],
   "source": [
    "age=int(input(\"enter the age of the person\"))\n",
    "if age>=18:\n",
    "    print(\"person is eligible to vote\")\n",
    "else:\n",
    "    print(\"person is not eligible to vote\")"
   ]
  },
  {
   "cell_type": "markdown",
   "id": "da232b84-43fa-4426-bcb4-fb1b5c25104e",
   "metadata": {},
   "source": [
    "**13. Accept three sides of the triangle and check whether the triangle is possible or not.(Triangle is possible only when the sum of any two sides is greater than 3 rd side).**\n"
   ]
  },
  {
   "cell_type": "code",
   "execution_count": 141,
   "id": "b2d99b16-acec-4e35-a1f2-ebd4e42030d2",
   "metadata": {},
   "outputs": [
    {
     "name": "stdin",
     "output_type": "stream",
     "text": [
      "enter first side of the triangle 2\n",
      "enter second side of the triangle 5\n",
      "enter third side of the triangle 9\n"
     ]
    },
    {
     "name": "stdout",
     "output_type": "stream",
     "text": [
      "triangle is possible\n"
     ]
    }
   ],
   "source": [
    "first_side=int(input(\"enter first side of the triangle\"))\n",
    "second_side=int(input(\"enter second side of the triangle\"))\n",
    "third_side=int(input(\"enter third side of the triangle\"))\n",
    "if (first_side+second_side)>third_side:\n",
    "     print(\"triangle is possible\")\n",
    "elif (second_side+third_side)>first_side:\n",
    "     print(\"triangle is possible\")\n",
    "elif (first_side+third_side)>second_side:\n",
    "     print(\"triagle is possible\")\n",
    "else:\n",
    "    print(\"triangle is not possible\")\n",
    "         \n",
    "            \n"
   ]
  },
  {
   "cell_type": "markdown",
   "id": "b844f34a-b355-4701-b661-5e06d2886bb5",
   "metadata": {},
   "source": [
    "**14. Write a Python program that prints all the numbers from  0 to 6 except 3 and 6.**"
   ]
  },
  {
   "cell_type": "code",
   "execution_count": 3,
   "id": "ab129f38-783f-442b-b198-561be68c08d0",
   "metadata": {},
   "outputs": [
    {
     "name": "stdout",
     "output_type": "stream",
     "text": [
      "0\n",
      "1\n",
      "2\n",
      "4\n",
      "5\n"
     ]
    }
   ],
   "source": [
    "for i in range(7):\n",
    "    if i==3 or i==6:\n",
    "        continue\n",
    "    print(i)\n",
    "       "
   ]
  },
  {
   "cell_type": "markdown",
   "id": "f69e9c2b-8c94-44ec-a7e4-7f0b37f4f0b8",
   "metadata": {},
   "source": [
    "**15. Take String and check whether the string is palindrome or not**"
   ]
  },
  {
   "cell_type": "code",
   "execution_count": 259,
   "id": "ae0ff16f-09b5-4a4d-baef-4f779feb538b",
   "metadata": {},
   "outputs": [
    {
     "name": "stdin",
     "output_type": "stream",
     "text": [
      "enter a string madam\n"
     ]
    },
    {
     "name": "stdout",
     "output_type": "stream",
     "text": [
      "madam is a palindrome\n"
     ]
    }
   ],
   "source": [
    "string=input(\"enter a string\")\n",
    "if string==string[::-1]:\n",
    "    print(string,\"is a palindrome\")\n",
    "else:\n",
    "    print(string,\"is not a palindrome\")\n",
    "    "
   ]
  },
  {
   "cell_type": "code",
   "execution_count": null,
   "id": "c59fbeaa-1985-458b-b662-12ebe4360dcd",
   "metadata": {},
   "outputs": [],
   "source": []
  }
 ],
 "metadata": {
  "kernelspec": {
   "display_name": "Python 3 (ipykernel)",
   "language": "python",
   "name": "python3"
  },
  "language_info": {
   "codemirror_mode": {
    "name": "ipython",
    "version": 3
   },
   "file_extension": ".py",
   "mimetype": "text/x-python",
   "name": "python",
   "nbconvert_exporter": "python",
   "pygments_lexer": "ipython3",
   "version": "3.12.4"
  }
 },
 "nbformat": 4,
 "nbformat_minor": 5
}
