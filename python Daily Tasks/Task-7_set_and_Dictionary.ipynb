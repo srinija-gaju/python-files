{
  "nbformat": 4,
  "nbformat_minor": 0,
  "metadata": {
    "colab": {
      "provenance": []
    },
    "kernelspec": {
      "name": "python3",
      "display_name": "Python 3"
    },
    "language_info": {
      "name": "python"
    }
  },
  "cells": [
    {
      "cell_type": "markdown",
      "source": [
        "# Sets and Dictionary"
      ],
      "metadata": {
        "id": "JBWT36gdeWUy"
      }
    },
    {
      "cell_type": "markdown",
      "source": [
        "**1.What is a set in Python? How is it different from other data structures like lists or tuples? Explain with examples.**\n"
      ],
      "metadata": {
        "id": "rfJzHIhZe2KR"
      }
    },
    {
      "cell_type": "markdown",
      "source": [
        "List\n",
        "1. list is represented in square bracket \"[]\"\n",
        "2. It is mutable\n",
        "3. Allows duplicates\n",
        "4. stores different data types\n",
        "5. ordered data structure"
      ],
      "metadata": {
        "id": "XARpNQYkRFZ3"
      }
    },
    {
      "cell_type": "code",
      "source": [
        "#List Example:\n",
        "list_1=[1,2,3,2,2,4,5,True,False,\"srinija\"]\n",
        "print(list_1)\n",
        "list_1[0]=5 #mutable\n"
      ],
      "metadata": {
        "colab": {
          "base_uri": "https://localhost:8080/"
        },
        "id": "h5dPkPDtRI9N",
        "outputId": "cb1a65bd-809a-4857-ab3f-996bb16f8d79"
      },
      "execution_count": null,
      "outputs": [
        {
          "output_type": "stream",
          "name": "stdout",
          "text": [
            "[1, 2, 3, 2, 2, 4, 5, True, False, 'srinija']\n"
          ]
        }
      ]
    },
    {
      "cell_type": "markdown",
      "source": [
        "Tuple\n",
        "1. Tuple is represented in round bracket \"()\"\n",
        "2. It is immutable\n",
        "3. Allows duplicates\n",
        "4. stores different data types\n",
        "5. ordered data structure\n"
      ],
      "metadata": {
        "id": "7d_CPFQzR3Iv"
      }
    },
    {
      "cell_type": "code",
      "source": [
        "#List Example:\n",
        "tuple_1=(1,2,3,2,2,4,5,True,False,\"srinija\")\n",
        "print(tuple_1)\n",
        "#tuple[0]=5 ----it will not print value in the tuple\n"
      ],
      "metadata": {
        "colab": {
          "base_uri": "https://localhost:8080/"
        },
        "id": "6k7kpmpNR8D1",
        "outputId": "a409b7ea-7d8e-4711-d794-395e1d3d2898"
      },
      "execution_count": null,
      "outputs": [
        {
          "output_type": "stream",
          "name": "stdout",
          "text": [
            "(1, 2, 3, 2, 2, 4, 5, True, False, 'srinija')\n"
          ]
        }
      ]
    },
    {
      "cell_type": "markdown",
      "source": [
        "Set\n",
        "1. set is represented in flower bracket \"{}\"\n",
        "2. It is immutable\n",
        "3. Does not Allow duplicates\n",
        "4. stores different data types\n",
        "5. unordered data structure"
      ],
      "metadata": {
        "id": "3TdmqHQCTu8c"
      }
    },
    {
      "cell_type": "code",
      "source": [
        "set_1={1,2,3,2,2,4,5,True,False,\"srinija\"}\n",
        "print(set_1)\n",
        "#set_1[0]=5  ----it will not update value 5 in the set"
      ],
      "metadata": {
        "colab": {
          "base_uri": "https://localhost:8080/"
        },
        "id": "Ftgx7DAfTyhw",
        "outputId": "1329983d-347b-4bed-9562-968851b85772"
      },
      "execution_count": null,
      "outputs": [
        {
          "output_type": "stream",
          "name": "stdout",
          "text": [
            "{False, 1, 2, 3, 4, 5, 'srinija'}\n"
          ]
        }
      ]
    },
    {
      "cell_type": "markdown",
      "source": [
        "Dictonary\n",
        "1. Dictionary is represented in flower bracket \"{}\"\n",
        "2. It is mutable\n",
        "3. Does not Allow duplicates\n",
        "4. stores different data types\n",
        "5. unordered data structure"
      ],
      "metadata": {
        "id": "bCw3QrEfUx1w"
      }
    },
    {
      "cell_type": "code",
      "source": [
        "#Example:\n",
        "my_dict={\"name\":\"srinija\",\"age\":21,\"graduated\":True}\n",
        "my_dict[\"age\"]=22\n",
        "print(my_dict)\n"
      ],
      "metadata": {
        "colab": {
          "base_uri": "https://localhost:8080/"
        },
        "id": "nvKrp6OVU26S",
        "outputId": "e02d623c-7e66-4490-ea66-109a6479443a"
      },
      "execution_count": null,
      "outputs": [
        {
          "output_type": "stream",
          "name": "stdout",
          "text": [
            "{'name': 'srinija', 'age': 22, 'graduated': True}\n"
          ]
        }
      ]
    },
    {
      "cell_type": "markdown",
      "source": [
        "***2Q.What is the difference between set.pop() and list.pop()? Explain with examples.***\n",
        "\n"
      ],
      "metadata": {
        "id": "7e9-kLoGkxyt"
      }
    },
    {
      "cell_type": "code",
      "source": [
        "#list.pop()-removes element from the end of the list\n",
        "list_1=[1,2,3,4]\n",
        "list_1.pop()\n",
        "print(list_1)"
      ],
      "metadata": {
        "colab": {
          "base_uri": "https://localhost:8080/"
        },
        "id": "aplvZZiaet5z",
        "outputId": "395386f4-e9e9-4fb0-9b6e-d393367f79db"
      },
      "execution_count": null,
      "outputs": [
        {
          "output_type": "stream",
          "name": "stdout",
          "text": [
            "[1, 2, 3]\n"
          ]
        }
      ]
    },
    {
      "cell_type": "code",
      "source": [
        "#set.pop()-removes element from the beginning of the set\n",
        "my_set={1,2,3,4}\n",
        "my_set.pop()\n",
        "print(my_set)"
      ],
      "metadata": {
        "colab": {
          "base_uri": "https://localhost:8080/"
        },
        "id": "ifpVrIaJlQCa",
        "outputId": "07fa0993-7cb8-4ebd-ad34-9ebe27968b88"
      },
      "execution_count": null,
      "outputs": [
        {
          "output_type": "stream",
          "name": "stdout",
          "text": [
            "{2, 3, 4}\n"
          ]
        }
      ]
    },
    {
      "cell_type": "markdown",
      "source": [
        "**3Q.Given the set S = {1, 2, 3, 4, 5, 76, 32, 65}, apply all built-in set functions to this example.**"
      ],
      "metadata": {
        "id": "r3Jh726smXrH"
      }
    },
    {
      "cell_type": "code",
      "source": [
        "#1.add()-takes only one argument and adds it into the set\n",
        "S={1,2,3,4,5,76,32,65}\n",
        "S.add(40)\n",
        "print(S)\n"
      ],
      "metadata": {
        "colab": {
          "base_uri": "https://localhost:8080/"
        },
        "id": "KvssLyvslZGK",
        "outputId": "a71225d9-ffca-4d40-c0f9-26c6642192c5"
      },
      "execution_count": null,
      "outputs": [
        {
          "output_type": "stream",
          "name": "stdout",
          "text": [
            "{32, 1, 2, 3, 4, 5, 65, 40, 76}\n"
          ]
        }
      ]
    },
    {
      "cell_type": "code",
      "source": [
        "#2.clear()-clears all the elements from the set,it does not accept arguments\n",
        "S={1,2,3,4,5,76,32,65}\n",
        "S.clear()\n",
        "print(S)"
      ],
      "metadata": {
        "colab": {
          "base_uri": "https://localhost:8080/"
        },
        "id": "JRm0KMtspP-H",
        "outputId": "3f3e95d6-db31-40b7-861a-672dac1fa482"
      },
      "execution_count": null,
      "outputs": [
        {
          "output_type": "stream",
          "name": "stdout",
          "text": [
            "set()\n"
          ]
        }
      ]
    },
    {
      "cell_type": "code",
      "source": [
        "#3.copy()-copies all the elements in the set,it does not accept arguments\n",
        "S={1,2,3,4,5,76,32,65}\n",
        "R=S.copy()\n",
        "print(R)"
      ],
      "metadata": {
        "colab": {
          "base_uri": "https://localhost:8080/"
        },
        "id": "SFHRlLU8phwB",
        "outputId": "5186efa9-d6a6-4734-d4b9-b7e27906df86"
      },
      "execution_count": null,
      "outputs": [
        {
          "output_type": "stream",
          "name": "stdout",
          "text": [
            "{32, 1, 2, 3, 4, 5, 65, 76}\n"
          ]
        }
      ]
    },
    {
      "cell_type": "code",
      "source": [
        "#4.del()-completely erases all the elements from the set\n",
        "S={1,2,3,4,5,76,32,65}\n",
        "del S\n",
        "print(S)"
      ],
      "metadata": {
        "colab": {
          "base_uri": "https://localhost:8080/",
          "height": 176
        },
        "id": "ahmbzwjIptcq",
        "outputId": "10a008b9-ea7e-4065-ad4c-2bc37b7013b2"
      },
      "execution_count": null,
      "outputs": [
        {
          "output_type": "error",
          "ename": "NameError",
          "evalue": "name 'S' is not defined",
          "traceback": [
            "\u001b[0;31m---------------------------------------------------------------------------\u001b[0m",
            "\u001b[0;31mNameError\u001b[0m                                 Traceback (most recent call last)",
            "\u001b[0;32m<ipython-input-12-b89488c045e3>\u001b[0m in \u001b[0;36m<cell line: 4>\u001b[0;34m()\u001b[0m\n\u001b[1;32m      2\u001b[0m \u001b[0mS\u001b[0m\u001b[0;34m=\u001b[0m\u001b[0;34m{\u001b[0m\u001b[0;36m1\u001b[0m\u001b[0;34m,\u001b[0m\u001b[0;36m2\u001b[0m\u001b[0;34m,\u001b[0m\u001b[0;36m3\u001b[0m\u001b[0;34m,\u001b[0m\u001b[0;36m4\u001b[0m\u001b[0;34m,\u001b[0m\u001b[0;36m5\u001b[0m\u001b[0;34m,\u001b[0m\u001b[0;36m76\u001b[0m\u001b[0;34m,\u001b[0m\u001b[0;36m32\u001b[0m\u001b[0;34m,\u001b[0m\u001b[0;36m65\u001b[0m\u001b[0;34m}\u001b[0m\u001b[0;34m\u001b[0m\u001b[0;34m\u001b[0m\u001b[0m\n\u001b[1;32m      3\u001b[0m \u001b[0;32mdel\u001b[0m \u001b[0mS\u001b[0m\u001b[0;34m\u001b[0m\u001b[0;34m\u001b[0m\u001b[0m\n\u001b[0;32m----> 4\u001b[0;31m \u001b[0mprint\u001b[0m\u001b[0;34m(\u001b[0m\u001b[0mS\u001b[0m\u001b[0;34m)\u001b[0m\u001b[0;34m\u001b[0m\u001b[0;34m\u001b[0m\u001b[0m\n\u001b[0m",
            "\u001b[0;31mNameError\u001b[0m: name 'S' is not defined"
          ]
        }
      ]
    },
    {
      "cell_type": "code",
      "source": [
        "#4.difference()-it will not update the values in the original set\n",
        "S={1,2,3,4,5,76,32,65}\n",
        "R={5,6,7,1,2,8}\n",
        "print(S.difference())\n",
        "print(R.difference(S))\n",
        "print(S)\n",
        "print(R)"
      ],
      "metadata": {
        "colab": {
          "base_uri": "https://localhost:8080/"
        },
        "id": "G0mcP8myqEvu",
        "outputId": "62045a7e-fdb2-40f9-ad1f-ee7b5ebfb41c"
      },
      "execution_count": null,
      "outputs": [
        {
          "output_type": "stream",
          "name": "stdout",
          "text": [
            "{32, 1, 2, 3, 4, 5, 65, 76}\n",
            "{8, 6, 7}\n",
            "{32, 1, 2, 3, 4, 5, 65, 76}\n",
            "{1, 2, 5, 6, 7, 8}\n"
          ]
        }
      ]
    },
    {
      "cell_type": "code",
      "source": [
        "#5.difference_update()-it will update the values in the original set\n",
        "S={1,2,3,4,5,76,32,65}\n",
        "R={5,6,7,1,2,8}\n",
        "print(S.difference_update(R))\n",
        "print(S)\n",
        "print(R.difference_update(S))\n",
        "print(R)"
      ],
      "metadata": {
        "colab": {
          "base_uri": "https://localhost:8080/"
        },
        "id": "wPVIvGc1qbE-",
        "outputId": "32c62a70-60a9-4fe7-fa85-d2143f3f1dca"
      },
      "execution_count": null,
      "outputs": [
        {
          "output_type": "stream",
          "name": "stdout",
          "text": [
            "None\n",
            "{32, 3, 4, 65, 76}\n",
            "None\n",
            "{1, 2, 5, 6, 7, 8}\n"
          ]
        }
      ]
    },
    {
      "cell_type": "code",
      "source": [
        "#6.discard()-removes element if it is present in set,if not also it returns set\n",
        "S={1,2,3,4,5,76,32,65}\n",
        "S.discard(5)\n",
        "print(S)\n",
        "S={1,2,3,4,5,76,32,65}\n",
        "S.discard(10)\n",
        "print(S)\n",
        "\n",
        "\n"
      ],
      "metadata": {
        "colab": {
          "base_uri": "https://localhost:8080/"
        },
        "id": "Y5AMQ4r5DZrB",
        "outputId": "46408d65-d477-46d3-e39c-e879b990615b"
      },
      "execution_count": null,
      "outputs": [
        {
          "output_type": "stream",
          "name": "stdout",
          "text": [
            "{32, 1, 2, 3, 4, 65, 76}\n",
            "{32, 1, 2, 3, 4, 5, 65, 76}\n"
          ]
        }
      ]
    },
    {
      "cell_type": "code",
      "source": [
        "#7.remove()-removes element if it is present in set,if not it returns error\n",
        "S={1,2,3,4,5,76,32,65}\n",
        "S.remove(4)\n",
        "print(S)\n",
        "S={1,2,3,4,5,76,32,65}\n",
        "S.remove(8)\n",
        "print(S)"
      ],
      "metadata": {
        "colab": {
          "base_uri": "https://localhost:8080/",
          "height": 211
        },
        "id": "gRTZl28yENYH",
        "outputId": "a502b44b-af0c-4376-9692-012d13511f93"
      },
      "execution_count": null,
      "outputs": [
        {
          "output_type": "stream",
          "name": "stdout",
          "text": [
            "{32, 1, 2, 3, 5, 65, 76}\n"
          ]
        },
        {
          "output_type": "error",
          "ename": "KeyError",
          "evalue": "8",
          "traceback": [
            "\u001b[0;31m---------------------------------------------------------------------------\u001b[0m",
            "\u001b[0;31mKeyError\u001b[0m                                  Traceback (most recent call last)",
            "\u001b[0;32m<ipython-input-17-4364f48aa4ac>\u001b[0m in \u001b[0;36m<cell line: 6>\u001b[0;34m()\u001b[0m\n\u001b[1;32m      4\u001b[0m \u001b[0mprint\u001b[0m\u001b[0;34m(\u001b[0m\u001b[0mS\u001b[0m\u001b[0;34m)\u001b[0m\u001b[0;34m\u001b[0m\u001b[0;34m\u001b[0m\u001b[0m\n\u001b[1;32m      5\u001b[0m \u001b[0mS\u001b[0m\u001b[0;34m=\u001b[0m\u001b[0;34m{\u001b[0m\u001b[0;36m1\u001b[0m\u001b[0;34m,\u001b[0m\u001b[0;36m2\u001b[0m\u001b[0;34m,\u001b[0m\u001b[0;36m3\u001b[0m\u001b[0;34m,\u001b[0m\u001b[0;36m4\u001b[0m\u001b[0;34m,\u001b[0m\u001b[0;36m5\u001b[0m\u001b[0;34m,\u001b[0m\u001b[0;36m76\u001b[0m\u001b[0;34m,\u001b[0m\u001b[0;36m32\u001b[0m\u001b[0;34m,\u001b[0m\u001b[0;36m65\u001b[0m\u001b[0;34m}\u001b[0m\u001b[0;34m\u001b[0m\u001b[0;34m\u001b[0m\u001b[0m\n\u001b[0;32m----> 6\u001b[0;31m \u001b[0mS\u001b[0m\u001b[0;34m.\u001b[0m\u001b[0mremove\u001b[0m\u001b[0;34m(\u001b[0m\u001b[0;36m8\u001b[0m\u001b[0;34m)\u001b[0m\u001b[0;34m\u001b[0m\u001b[0;34m\u001b[0m\u001b[0m\n\u001b[0m\u001b[1;32m      7\u001b[0m \u001b[0mprint\u001b[0m\u001b[0;34m(\u001b[0m\u001b[0mS\u001b[0m\u001b[0;34m)\u001b[0m\u001b[0;34m\u001b[0m\u001b[0;34m\u001b[0m\u001b[0m\n",
            "\u001b[0;31mKeyError\u001b[0m: 8"
          ]
        }
      ]
    },
    {
      "cell_type": "code",
      "source": [
        "#8.intersection()-the result is not updated in the original set\n",
        "S={1,2,3,4,5,76,32,65}\n",
        "R={5,6,1,7,8}\n",
        "print(S.intersection(R))\n",
        "print(R.intersection(S))\n",
        "print(S)\n",
        "print(R)"
      ],
      "metadata": {
        "colab": {
          "base_uri": "https://localhost:8080/"
        },
        "id": "zK_k76FIFKIw",
        "outputId": "df16153b-1a47-4a15-8275-fcd5040e6461"
      },
      "execution_count": null,
      "outputs": [
        {
          "output_type": "stream",
          "name": "stdout",
          "text": [
            "{1, 5}\n",
            "{1, 5}\n",
            "{32, 1, 2, 3, 4, 5, 65, 76}\n",
            "{1, 5, 6, 7, 8}\n"
          ]
        }
      ]
    },
    {
      "cell_type": "code",
      "source": [
        "#9.intersection_update()-the result/output is updated in the original set\n",
        "set1={1,2,3,4,7,8}\n",
        "set2={5,6,1,7,8}\n",
        "print(set1.intersection_update(set2))\n",
        "set1={1,2,3,4,7,8}\n",
        "set2={5,6,1,7,8}\n",
        "print(set2.intersection_update(set1))\n",
        "print(set1)\n",
        "print(set2)"
      ],
      "metadata": {
        "colab": {
          "base_uri": "https://localhost:8080/"
        },
        "id": "9R2wy2FBGGRC",
        "outputId": "ea1f929c-0d56-42ca-b9ac-ed7e003f405a"
      },
      "execution_count": null,
      "outputs": [
        {
          "output_type": "stream",
          "name": "stdout",
          "text": [
            "None\n",
            "None\n",
            "{1, 2, 3, 4, 7, 8}\n",
            "{8, 1, 7}\n"
          ]
        }
      ]
    },
    {
      "cell_type": "code",
      "source": [
        "set1={1,2,3,4}\n",
        "set2={5,6,1,7,8}\n",
        "print(set1.intersection_update(set2))"
      ],
      "metadata": {
        "colab": {
          "base_uri": "https://localhost:8080/"
        },
        "id": "gHmXbkkvHSNE",
        "outputId": "e02a799a-abcf-4f20-9f41-59447413f109"
      },
      "execution_count": null,
      "outputs": [
        {
          "output_type": "stream",
          "name": "stdout",
          "text": [
            "None\n"
          ]
        }
      ]
    },
    {
      "cell_type": "code",
      "source": [
        "#10.isdisjoint()-if both sets are not same dataypes it will return True if not false\n",
        "set1={1,2,3,4,6}\n",
        "set2={5,6,1,7,8}\n",
        "print(set1.isdisjoint(set2))\n",
        "set3={5,6,1,7,8}\n",
        "set4={5,6,1,7,8}\n",
        "print(set3.isdisjoint(set4))\n",
        "set3={5,6,1,7,8}\n",
        "set4={'a','b','c','d'}\n",
        "print(set3.isdisjoint(set4))"
      ],
      "metadata": {
        "colab": {
          "base_uri": "https://localhost:8080/"
        },
        "id": "1e9_2kPtHf8k",
        "outputId": "1188c49b-0316-49db-fb3f-fba7b6a00a0c"
      },
      "execution_count": null,
      "outputs": [
        {
          "output_type": "stream",
          "name": "stdout",
          "text": [
            "False\n",
            "False\n",
            "True\n"
          ]
        }
      ]
    },
    {
      "cell_type": "code",
      "source": [
        "#11.issubset()\n",
        "set1={1,5,6}\n",
        "set2={5,6,1,7,8}\n",
        "print(set1.issubset(set2))\n",
        "set1={1,5,6,9,2,3}\n",
        "set2={5,6,1,7,8}\n",
        "print(set1.issubset(set2))"
      ],
      "metadata": {
        "colab": {
          "base_uri": "https://localhost:8080/"
        },
        "id": "I7eHVFaGHgw0",
        "outputId": "51a0bf60-ee36-49b6-b1bf-b5eaf7c573ae"
      },
      "execution_count": null,
      "outputs": [
        {
          "output_type": "stream",
          "name": "stdout",
          "text": [
            "True\n",
            "False\n"
          ]
        }
      ]
    },
    {
      "cell_type": "code",
      "source": [
        "#11.issuperset()-returns true only if the elemnets of a set present in another set\n",
        "set1={1,5,6}\n",
        "set2={5,6,1,7,8}\n",
        "print(set1.issuperset(set2))\n",
        "set1={1,5,6}\n",
        "set2={5,6,1,7,8}\n",
        "print(set2.issuperset(set1))\n",
        "set1={1,5,6,9,2,3}\n",
        "set2={5,6,1,7,8}\n",
        "print(set1.issuperset(set2))\n",
        "set1={1,5,6,7,8}\n",
        "set2={5,6,1,7,8}\n",
        "print(set1.issuperset(set2))\n"
      ],
      "metadata": {
        "colab": {
          "base_uri": "https://localhost:8080/"
        },
        "id": "Fcqk8dKBHmso",
        "outputId": "a643fa71-05fc-4a62-c066-52076fb9ed23"
      },
      "execution_count": null,
      "outputs": [
        {
          "output_type": "stream",
          "name": "stdout",
          "text": [
            "False\n",
            "True\n",
            "False\n",
            "True\n"
          ]
        }
      ]
    },
    {
      "cell_type": "code",
      "source": [
        "#12.pop()-removes any of the element from the list and takes only one argument as input\n",
        "S={1,2,3,4,5,76,32,65}\n",
        "print(set1.pop())\n",
        "print(S)"
      ],
      "metadata": {
        "colab": {
          "base_uri": "https://localhost:8080/"
        },
        "id": "vlHfZl35H7-3",
        "outputId": "6559d0a2-57c2-4153-855f-3ad46825a8d2"
      },
      "execution_count": null,
      "outputs": [
        {
          "output_type": "stream",
          "name": "stdout",
          "text": [
            "2\n",
            "{32, 1, 2, 3, 4, 5, 65, 76}\n"
          ]
        }
      ]
    },
    {
      "cell_type": "code",
      "source": [
        "#13.union()-gives all the elements in the both the sets\n",
        "set1={1,5,6,9,2,3}\n",
        "set2={9,7,3,1}\n",
        "print(set1.union(set2))"
      ],
      "metadata": {
        "colab": {
          "base_uri": "https://localhost:8080/"
        },
        "id": "LEe26VjCH80W",
        "outputId": "beaa2b30-2dd7-47e6-ce01-4bb7cdc4a85b"
      },
      "execution_count": null,
      "outputs": [
        {
          "output_type": "stream",
          "name": "stdout",
          "text": [
            "{1, 2, 3, 5, 6, 7, 9}\n"
          ]
        }
      ]
    },
    {
      "cell_type": "code",
      "source": [
        "#14.symmetric_difference()- Return the symmetric difference of two sets as a new set.\n",
        "#(i.e. all elements that are in exactly one of the sets.)\n",
        "set1={1,2,3,4}\n",
        "set2={2,3,7,4,5,8}\n",
        "print(set1.symmetric_difference(set2))"
      ],
      "metadata": {
        "colab": {
          "base_uri": "https://localhost:8080/"
        },
        "id": "GyCkbg2RIIES",
        "outputId": "85823da4-c3a1-4e8c-9643-b82268eb36c1"
      },
      "execution_count": null,
      "outputs": [
        {
          "output_type": "stream",
          "name": "stdout",
          "text": [
            "{1, 5, 7, 8}\n"
          ]
        }
      ]
    },
    {
      "cell_type": "code",
      "source": [
        "#15.symmetric_difference_update()-Update a set with the symmetric difference of itself and another.\n",
        "set1={1,2,3,4}\n",
        "set2={2,3,7,4,5,8}\n",
        "set1.symmetric_difference_update(set2)\n",
        "print(set1)"
      ],
      "metadata": {
        "colab": {
          "base_uri": "https://localhost:8080/"
        },
        "id": "UWeJ6kLUIguq",
        "outputId": "6c9b6883-2f52-4906-f997-994102bb332e"
      },
      "execution_count": null,
      "outputs": [
        {
          "output_type": "stream",
          "name": "stdout",
          "text": [
            "{1, 5, 7, 8}\n"
          ]
        }
      ]
    },
    {
      "cell_type": "markdown",
      "source": [
        "**4Q.Update the first set with items that don't exist in the second set.\n",
        "s1={150,200,400}\n",
        "s2={200,750,650}\n",
        "Expected output: s1={150,400}**\n"
      ],
      "metadata": {
        "id": "FLqD-4cPI_70"
      }
    },
    {
      "cell_type": "code",
      "source": [
        "s1={150,200,400}\n",
        "s2={200,750,650}\n",
        "s1.difference_update(s2)\n",
        "print(\"s1=\",s1)#set is unordered\n",
        "\n"
      ],
      "metadata": {
        "colab": {
          "base_uri": "https://localhost:8080/"
        },
        "id": "Nv9EWQ3vImo3",
        "outputId": "b5db0c49-d2bb-4266-d9f3-875f34d344aa"
      },
      "execution_count": null,
      "outputs": [
        {
          "output_type": "stream",
          "name": "stdout",
          "text": [
            "s1= {400, 150}\n"
          ]
        }
      ]
    },
    {
      "cell_type": "markdown",
      "source": [
        "**5Q.Define a set S = {apple, banana, cherry, orange}. Use Python set methods to add a new fruit 'grape' to S, remove 'banana' from S, and check the length of S.**\n"
      ],
      "metadata": {
        "id": "7sGl4sNXKuDa"
      }
    },
    {
      "cell_type": "code",
      "source": [
        "S= {'apple', 'banana', 'cherry', 'orange'}\n",
        "S.add('grape')\n",
        "S.remove('banana')\n",
        "print(S)\n",
        "print(len(S))"
      ],
      "metadata": {
        "colab": {
          "base_uri": "https://localhost:8080/"
        },
        "id": "HUQ-sUrVJ88I",
        "outputId": "442d1b58-d9b7-417a-fbc0-0a85e31d2c67"
      },
      "execution_count": null,
      "outputs": [
        {
          "output_type": "stream",
          "name": "stdout",
          "text": [
            "{'apple', 'orange', 'grape', 'cherry'}\n",
            "4\n"
          ]
        }
      ]
    },
    {
      "cell_type": "markdown",
      "source": [
        "**6Q.dict = {“name1_marks” : [34,56,87,89], “name2_marks” : [78,98,54,34],  “name3_marks” : [87,65,97,90]}   add the marks   97  in  “name1_marks”.\n",
        "Expected output : {“name1_marks” : [34,56,87,89, 97], “name2_marks” : [78,98,54,34],  “name3_marks” : [87,65,97,90]}**\n"
      ],
      "metadata": {
        "id": "R6FGe_mtLSYN"
      }
    },
    {
      "cell_type": "code",
      "source": [
        "#method-1\n",
        "dict1={\"name1_marks\" : [34,56,87,89], \"name2_marks\" : [78,98,54,34], \"name3_marks\" : [87,65,97,90]}\n",
        "dict1.keys()\n",
        "dict1.values()\n",
        "dict1.update({\"name1_marks\" : [34,56,87,89,97]})\n",
        "print(dict1)"
      ],
      "metadata": {
        "colab": {
          "base_uri": "https://localhost:8080/"
        },
        "id": "9CVb4VhfK3uO",
        "outputId": "14036db5-6364-47e6-c1f1-84a996faa47e"
      },
      "execution_count": null,
      "outputs": [
        {
          "output_type": "stream",
          "name": "stdout",
          "text": [
            "{'name1_marks': [34, 56, 87, 89, 97], 'name2_marks': [78, 98, 54, 34], 'name3_marks': [87, 65, 97, 90]}\n"
          ]
        }
      ]
    },
    {
      "cell_type": "code",
      "source": [
        "#method-1\n",
        "dict1={\"name1_marks\" : [34,56,87,89], \"name2_marks\" : [78,98,54,34], \"name3_marks\" : [87,65,97,90]}\n",
        "#result=dict1.values()\n",
        "result=dict1[\"name1_marks\"]\n",
        "result.append(97)\n",
        "\n",
        "print(dict1)\n",
        "\n",
        "\n"
      ],
      "metadata": {
        "colab": {
          "base_uri": "https://localhost:8080/"
        },
        "id": "_W5pUGs0L-UX",
        "outputId": "8f393ef7-8749-4b63-dece-bd8388f0215d"
      },
      "execution_count": null,
      "outputs": [
        {
          "output_type": "stream",
          "name": "stdout",
          "text": [
            "{'name1_marks': [34, 56, 87, 89, 97], 'name2_marks': [78, 98, 54, 34], 'name3_marks': [87, 65, 97, 90]}\n"
          ]
        }
      ]
    },
    {
      "cell_type": "code",
      "source": [],
      "metadata": {
        "id": "N0WamkjMNeqD"
      },
      "execution_count": null,
      "outputs": []
    }
  ]
}