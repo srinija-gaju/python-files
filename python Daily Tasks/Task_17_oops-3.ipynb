{
 "cells": [
  {
   "cell_type": "markdown",
   "id": "85fa2e1c-ff95-4347-a149-b1131b1ae02b",
   "metadata": {},
   "source": [
    "# Task_17_oops-3"
   ]
  },
  {
   "cell_type": "markdown",
   "id": "2a243d8b-c948-4d2e-9038-f617778951f4",
   "metadata": {},
   "source": [
    "**1q.Create two base classes. One base class is 'Person' with attributes name and age. Another class is 'Address' with attributes city and country. Define a derived class 'Employee' that inherits from both Person and Address. In 'Employee' class add an attribute job.**\n",
    "\n",
    "**Example:**\n",
    "\n",
    "**class Person:** \n",
    "\n",
    "    **#code**\n",
    "    \n",
    "**class Address:**\n",
    "\n",
    "    **#code**\n",
    "    \n",
    "**class Employee(Person, Address):**\n",
    "\n",
    "    **#code**\n"
   ]
  },
  {
   "cell_type": "code",
   "execution_count": 21,
   "id": "f443e4da-a466-4ec2-86c0-b380b41b4196",
   "metadata": {},
   "outputs": [
    {
     "name": "stdout",
     "output_type": "stream",
     "text": [
      "srinija\n",
      "21\n",
      "hyderabad\n",
      "Telangana\n",
      "data scientist\n"
     ]
    }
   ],
   "source": [
    "class person:\n",
    "    def name(self):\n",
    "        return \"srinija\"\n",
    "\n",
    "    def age(self):\n",
    "        return 21\n",
    "\n",
    "class address:\n",
    "    def city(self):\n",
    "        return \"hyderabad\"\n",
    "        \n",
    "    def country(self):\n",
    "        return \"Telangana\"\n",
    "\n",
    "class employee(person,address):\n",
    "     def job(self):\n",
    "         return \"data scientist\"\n",
    "\n",
    "emp=employee()\n",
    "print(emp.name())\n",
    "print(emp.age())\n",
    "print(emp.city())\n",
    "print(emp.country())\n",
    "print(emp.job())"
   ]
  },
  {
   "cell_type": "markdown",
   "id": "96efb621-d326-4579-aad6-964c42563068",
   "metadata": {},
   "source": [
    "**2Q.Create a base class Animal with a method make_sound(). Define two subclasses, Dog and Cat, that inherit from Animal and override the make_sound() method to print the respective sounds.**"
   ]
  },
  {
   "cell_type": "code",
   "execution_count": 62,
   "id": "2b841394-bf9a-4588-b84e-0f70a007b46c",
   "metadata": {},
   "outputs": [
    {
     "name": "stdout",
     "output_type": "stream",
     "text": [
      "it barks\n",
      "it meows\n"
     ]
    }
   ],
   "source": [
    "class animal:\n",
    "     def make_sound(dog):\n",
    "       return \"it makes sound\"\n",
    "           \n",
    "class dog(animal):\n",
    "    def make_sound(self):\n",
    "          return \"it barks\"\n",
    "\n",
    "class cat(animal):\n",
    "       \n",
    "    def make_sound(self):\n",
    "          return \"it meows\"\n",
    "\n",
    "\n",
    "d1=dog()\n",
    "c1=cat()\n",
    "print(d1.make_sound())\n",
    "print(c1.make_sound())"
   ]
  },
  {
   "cell_type": "markdown",
   "id": "4321a560-f162-4d4e-8f6f-f6938312053b",
   "metadata": {},
   "source": [
    "**3Q.Create a function calculate, that can calculate the sum of two numbers or concatenate two strings. The function should be able to take any number of arguments and also demonstrate polymorphism based on the different types of arguments.**"
   ]
  },
  {
   "cell_type": "code",
   "execution_count": null,
   "id": "5ff5bb4c-6928-4acf-a841-1b17795097e6",
   "metadata": {},
   "outputs": [],
   "source": []
  },
  {
   "cell_type": "code",
   "execution_count": 307,
   "id": "5e63b29f-3dfb-4e85-a848-a990d1c3e434",
   "metadata": {},
   "outputs": [
    {
     "name": "stdout",
     "output_type": "stream",
     "text": [
      "3\n",
      "srinijagaju\n"
     ]
    }
   ],
   "source": [
    "class calculation:\n",
    "    def __init__(self,x1,x2):\n",
    "        self.x1=x1\n",
    "        self.x2=x2\n",
    "\n",
    "    def calculate(self):\n",
    "        return self.x1+self.x2\n",
    "\n",
    "add_nums=calculation(1,2)\n",
    "print(add_nums.calculate())\n",
    "\n",
    "add_strings=calculation(\"srinija\",\"gaju\")\n",
    "print(add_strings.calculate())"
   ]
  },
  {
   "cell_type": "markdown",
   "id": "65ec4209-fbd1-4bf2-870b-4c8131fc02e7",
   "metadata": {},
   "source": [
    " \n",
    "**4Q.a.Create a Person class with private attributes _ _name and _ _age. Implement getter and setter methods for accessing and modifying these attributes.**\n",
    "\n",
    "**b.Modify the Person class from the previous problem to use properties for accessing and modifying the private attributes.**\n"
   ]
  },
  {
   "cell_type": "code",
   "execution_count": 48,
   "id": "5a88d078-c65f-47c2-ab83-63da1450e76c",
   "metadata": {},
   "outputs": [
    {
     "name": "stdout",
     "output_type": "stream",
     "text": [
      "srinija\n",
      "21\n",
      "srujana\n",
      "24\n"
     ]
    }
   ],
   "source": [
    "#private attributes\n",
    "class person:\n",
    "        \n",
    "   def __init__(self,name,age):\n",
    "       self.__name=name\n",
    "       self.__age=age\n",
    "\n",
    "   def get_name(self):\n",
    "       return self.__name\n",
    "\n",
    "   def set_name(self,name):\n",
    "       self.__name=name\n",
    "       \n",
    "   def get_age(self):\n",
    "       return self.__age\n",
    "\n",
    "   def set_age(self,age):\n",
    "       self.__age=age\n",
    "       \n",
    "\n",
    "p1=person(\"srinija\",21)\n",
    "print(p1.get_name())\n",
    "print(p1.get_age())\n",
    "p1.set_age(24)\n",
    "p1.set_name(\"srujana\")\n",
    "print(p1.get_name())\n",
    "print(p1.get_age())\n",
    "\n",
    "\n"
   ]
  },
  {
   "cell_type": "code",
   "execution_count": 58,
   "id": "d204286e-f575-4338-bf74-a4b872777cdc",
   "metadata": {},
   "outputs": [
    {
     "name": "stdout",
     "output_type": "stream",
     "text": [
      "29\n",
      "xyz\n",
      "srujana\n",
      "24\n"
     ]
    }
   ],
   "source": [
    "p1.age=29\n",
    "print(p1.age)\n",
    "p1.name=\"xyz\"\n",
    "print(p1.name)\n",
    "print(p1.get_name())\n",
    "print(p1.get_age())"
   ]
  },
  {
   "cell_type": "code",
   "execution_count": 461,
   "id": "fbe6f623-42d4-4c0f-95e5-533a543967ed",
   "metadata": {},
   "outputs": [
    {
     "name": "stdout",
     "output_type": "stream",
     "text": [
      "srinija\n",
      "21\n",
      "srujana\n",
      "24\n"
     ]
    }
   ],
   "source": [
    "#private methods\n",
    "class person:\n",
    "        \n",
    "   def __init__(self,name,age):\n",
    "       self.name=name\n",
    "       self.age=age\n",
    "\n",
    "   def __get_name(self):\n",
    "       return self.name\n",
    "\n",
    "   def __set_name(self,name):\n",
    "       self.name=name\n",
    "       \n",
    "   def __get_age(self):\n",
    "       return self.age\n",
    "\n",
    "   def __set_age(self,age):\n",
    "       self.age=age\n",
    "       \n",
    "\n",
    "p1=person(\"srinija\",21)\n",
    "print(p1._person__get_name())\n",
    "print(p1._person__get_age())\n",
    "p1._person__set_age(24)\n",
    "p1._person__set_name(\"srujana\")\n",
    "print(p1._person__get_name())\n",
    "print(p1._person__get_age())"
   ]
  },
  {
   "cell_type": "markdown",
   "id": "232024fd-899d-41d2-91d2-646be03577d3",
   "metadata": {},
   "source": [
    "**5Q.\n",
    "a.Create a BankAccount class with a protected attribute _balance. Implement a method get_balance() to retrieve the balance.**\n",
    "\n",
    "**b.Create a Python module calculator with a private function _ _add that adds two numbers. Implement a public function add_numbers that calls the private function.**"
   ]
  },
  {
   "cell_type": "code",
   "execution_count": 507,
   "id": "e6124596-6641-4b33-affe-9ca4987fa98a",
   "metadata": {},
   "outputs": [
    {
     "data": {
      "text/plain": [
       "50000"
      ]
     },
     "execution_count": 507,
     "metadata": {},
     "output_type": "execute_result"
    }
   ],
   "source": [
    "class bankaccount:\n",
    "    def __init__(self,balance):\n",
    "        self._balance=balance\n",
    "\n",
    "    def get_balance(self):\n",
    "       return self._balance\n",
    "\n",
    "b=bankaccount(50000)\n",
    "b.get_balance()\n"
   ]
  },
  {
   "cell_type": "code",
   "execution_count": 747,
   "id": "2b3e822c-d420-43b9-8a64-1c2dbc53a2f2",
   "metadata": {},
   "outputs": [
    {
     "data": {
      "text/plain": [
       "5"
      ]
     },
     "execution_count": 747,
     "metadata": {},
     "output_type": "execute_result"
    }
   ],
   "source": [
    "class calculator:\n",
    "    def __init__(self,x1,x2):\n",
    "      self.x1=x1\n",
    "      self.x2=x2\n",
    "        \n",
    "    def __add(self):\n",
    "      return self.x1+self.x2\n",
    "\n",
    "    def add_numbers(self):\n",
    "        return self.__add()\n",
    "\n",
    "c=calculator(2,3)\n",
    "c.add_numbers()"
   ]
  },
  {
   "cell_type": "markdown",
   "id": "7534f70d-69b0-4f13-ba74-dff1d7bc77e2",
   "metadata": {},
   "source": [
    "**6Q. Create an abstract class Shape with an abstract method calculate_area(). Define two subclasses, Rectangle and Circle, that inherit from Shape and implement the calculate_area() method.**"
   ]
  },
  {
   "cell_type": "code",
   "execution_count": 20,
   "id": "38e5f6c5-fcd6-400a-949a-61825d168d70",
   "metadata": {},
   "outputs": [],
   "source": [
    "from abc import ABC,abstractmethod\n",
    "class shape(ABC):#abstract class\n",
    "     @abstractmethod\n",
    "     def calculate_area(self):\n",
    "        pass\n",
    "class rectangle(shape):\n",
    "          def __init__(self,breadth,height):\n",
    "              self.breadth=breadth\n",
    "              self.height=height\n",
    "\n",
    "          def calculate_area(self):\n",
    "              return self.breadth*self.height\n",
    "\n",
    "class circle(shape):\n",
    "        def __init__(self,radius):\n",
    "            self.radius=radius\n",
    "        def calculate_area(self):\n",
    "            return 3.14*(self.radius)**2\n",
    "     \n",
    "    "
   ]
  },
  {
   "cell_type": "code",
   "execution_count": 26,
   "id": "9eee8567-1566-46f0-86ec-a38baebce735",
   "metadata": {},
   "outputs": [
    {
     "data": {
      "text/plain": [
       "6"
      ]
     },
     "execution_count": 26,
     "metadata": {},
     "output_type": "execute_result"
    }
   ],
   "source": [
    "rectangle_area=rectangle(2,3)\n",
    "rectangle_area.calculate_area()"
   ]
  },
  {
   "cell_type": "code",
   "execution_count": 28,
   "id": "b984eb8f-8823-4e5d-bdf5-3976840cacc1",
   "metadata": {},
   "outputs": [
    {
     "data": {
      "text/plain": [
       "28.26"
      ]
     },
     "execution_count": 28,
     "metadata": {},
     "output_type": "execute_result"
    }
   ],
   "source": [
    "circle_area=circle(3)\n",
    "circle_area.calculate_area()"
   ]
  },
  {
   "cell_type": "code",
   "execution_count": null,
   "id": "6b007ec7-d50d-4341-af9b-d9b27fda81a7",
   "metadata": {},
   "outputs": [],
   "source": []
  }
 ],
 "metadata": {
  "kernelspec": {
   "display_name": "Python 3 (ipykernel)",
   "language": "python",
   "name": "python3"
  },
  "language_info": {
   "codemirror_mode": {
    "name": "ipython",
    "version": 3
   },
   "file_extension": ".py",
   "mimetype": "text/x-python",
   "name": "python",
   "nbconvert_exporter": "python",
   "pygments_lexer": "ipython3",
   "version": "3.12.4"
  }
 },
 "nbformat": 4,
 "nbformat_minor": 5
}
