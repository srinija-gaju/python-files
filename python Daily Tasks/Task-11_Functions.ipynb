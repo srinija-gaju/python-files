{
 "cells": [
  {
   "cell_type": "markdown",
   "id": "02276d91-300e-4893-a5a1-4a95badca498",
   "metadata": {},
   "source": [
    " # Task-11 Functions"
   ]
  },
  {
   "cell_type": "markdown",
   "id": "470906fc-659b-46db-b42a-6b83dd876d69",
   "metadata": {},
   "source": [
    "**Q1.**\n",
    "**a.Write a function to get the maximum of 3 numbers.**\n",
    "\n",
    "**b.Write a function to check if the given number if even or not**\n",
    "        \n",
    "**Example:** \n",
    "\n",
    "**is_even(10) , then o/p: even**\n",
    "           \n",
    "**is_even(23), then o/p: odd**\n"
   ]
  },
  {
   "cell_type": "code",
   "execution_count": 21,
   "id": "5fdf2d2c-302b-425b-a222-306929201790",
   "metadata": {},
   "outputs": [
    {
     "name": "stdout",
     "output_type": "stream",
     "text": [
      "4\n",
      "x is greater\n"
     ]
    }
   ],
   "source": [
    "#a\n",
    "def maximum(x,y,z):\n",
    "    if x>y and x>z:\n",
    "        print(x)\n",
    "        print(\"x is greater\")\n",
    "    elif y>x and y>z:\n",
    "        print(y)\n",
    "        print(\"y is greater\")\n",
    "    else:\n",
    "        print(z)\n",
    "        print(\"z is greater\")\n",
    "maximum(z=2,y=3,x=4)"
   ]
  },
  {
   "cell_type": "code",
   "execution_count": 24,
   "id": "04ca0e87-885c-4016-a908-1e541b921df6",
   "metadata": {},
   "outputs": [
    {
     "name": "stdout",
     "output_type": "stream",
     "text": [
      "99 is maximum number among given inputs\n",
      "100 is maximum number among given inputs\n"
     ]
    }
   ],
   "source": [
    "#a.method-2-check for maximum from multiple elements in the list\n",
    "def maxima(numbers):\n",
    "    max=1\n",
    "    for i in numbers:\n",
    "        if i>max:\n",
    "            max=i\n",
    "    print(max,\"is maximum number among given inputs\")\n",
    "maxima([29,99,12])\n",
    "maxima([29,99,100,12,56,87])\n",
    "\n"
   ]
  },
  {
   "cell_type": "code",
   "execution_count": 41,
   "id": "ec0d78ed-3d8a-4ef8-a5fc-69eb440d99fd",
   "metadata": {},
   "outputs": [
    {
     "name": "stdout",
     "output_type": "stream",
     "text": [
      "10 is even number\n",
      "23 is odd number\n"
     ]
    }
   ],
   "source": [
    "#b.\n",
    "def is_even(num):\n",
    "    if num%2==0:\n",
    "       print(num,\"is even number\")\n",
    "    else:\n",
    "       print(num,\"is odd number\")\n",
    "\n",
    "is_even(10)\n",
    "is_even(23)    "
   ]
  },
  {
   "cell_type": "markdown",
   "id": "5fd25f97-6fe5-4fc3-b3d1-6fcb45f9a378",
   "metadata": {},
   "source": [
    "**Q2.Write a program to get the sum of all the values in given list,**\n",
    "\n",
    "**Example:**\n",
    "     \n",
    "**my_sum([1,2,3,4,5]), then o/p: 15**\n",
    "\n",
    "**my_sum([10,11,12]), then o/p: 33**\n"
   ]
  },
  {
   "cell_type": "code",
   "execution_count": 48,
   "id": "513accc2-bd6e-471b-9dbf-a8f46f529f98",
   "metadata": {},
   "outputs": [
    {
     "name": "stdout",
     "output_type": "stream",
     "text": [
      "15\n",
      "33\n"
     ]
    }
   ],
   "source": [
    "def my_sum(x):\n",
    "    sum=0\n",
    "    for i in x:\n",
    "        sum=sum+i\n",
    "    print(sum)\n",
    "my_sum([1,2,3,4,5])\n",
    "my_sum([10,11,12])\n",
    "        "
   ]
  },
  {
   "cell_type": "markdown",
   "id": "ca3103fe-de8b-40c2-9464-4126535073eb",
   "metadata": {},
   "source": [
    "**Q3.Construct your own function my_range() which acts as range() to print numbers in forward direction (step is positive) and backward direction(step is negative) with given start,stop and step as parameters.**\n",
    "\n",
    "**eg: my_range(1,10,1), then o/p= 1,2,3,4,,5,6,7,8,9**\n",
    "\n",
    "**my_range(1,10,2), then o/p= 1,3,5,7,9**\n",
    "\n",
    "**my_range(10,1,-1), then o/p = 10,9,8,7,6,5,4,3,2**\n",
    "\n",
    "**my_range(10,1,-2), then o/p = 10,8,6,4,2**\n"
   ]
  },
  {
   "cell_type": "code",
   "execution_count": 91,
   "id": "6f3dc8ca-8763-4c92-a239-3a48f33199b6",
   "metadata": {},
   "outputs": [
    {
     "name": "stdout",
     "output_type": "stream",
     "text": [
      "10 8 6 4 2 "
     ]
    }
   ],
   "source": [
    "def my_range(start,end,step):\n",
    "        for i in range(start,end,step):\n",
    "             print(i,end=\" \")\n",
    "        \n",
    "my_range(10,1,-2)\n",
    "\n",
    "    "
   ]
  },
  {
   "cell_type": "markdown",
   "id": "3a59ffcc-92ec-4ca3-8dbe-a854ba1055d7",
   "metadata": {},
   "source": [
    "**Q4.Multiply numbers with given start and stop (using loops)**\n",
    "    \n",
    "**Example: start=1, stop= 5, then o/p: 120**\n",
    "\n",
    "**start=3, stop=5, then o/p: 60**\n"
   ]
  },
  {
   "cell_type": "code",
   "execution_count": 100,
   "id": "240de8c2-2216-4ab8-9006-6c8a05727a26",
   "metadata": {},
   "outputs": [
    {
     "name": "stdout",
     "output_type": "stream",
     "text": [
      "120\n",
      "60\n"
     ]
    }
   ],
   "source": [
    "def multiply(start,stop):\n",
    "    mul=1\n",
    "    for i in range(start,stop+1):\n",
    "               mul=i*mul\n",
    "    print(mul)\n",
    "multiply(1,5)\n",
    "multiply(stop=5,start=3)\n"
   ]
  },
  {
   "cell_type": "markdown",
   "id": "5d249036-40df-4eec-8691-d908c48de527",
   "metadata": {},
   "source": [
    "**Q5. Construct a function for fibonacci series(fib()) using**\n",
    "    \n",
    "**a.loops**\n",
    "    \n",
    "**b.recursion** \n",
    "    \n",
    "**Expected o/p:** \n",
    "    \n",
    "**fib(5), then o/p= 0 1 1 2 3**\n",
    "\n",
    "**fib(7), then o/p= 0 1 1 2 3 5 8**\n"
   ]
  },
  {
   "cell_type": "code",
   "execution_count": 101,
   "id": "22a7ba4b-653c-4e60-84b0-5cd9292470af",
   "metadata": {},
   "outputs": [
    {
     "name": "stdout",
     "output_type": "stream",
     "text": [
      "0 1 1 2 3 "
     ]
    }
   ],
   "source": [
    "#for loop\n",
    "def fib(x):\n",
    "    num1=0\n",
    "    num2=1\n",
    "    fibb=0\n",
    "    print(num1,num2,end=\" \")\n",
    "    for i in range(2,x):\n",
    "        fibb=num1+num2\n",
    "        print(fibb,end=\" \")\n",
    "        num3=num2\n",
    "        num2=fibb\n",
    "        num1=num3\n",
    "fib(5)\n",
    "    \n",
    "    "
   ]
  },
  {
   "cell_type": "code",
   "execution_count": 111,
   "id": "ed7803e1-947b-4f70-b6f6-63edaba4ba04",
   "metadata": {},
   "outputs": [
    {
     "name": "stdout",
     "output_type": "stream",
     "text": [
      "0 1 1 2 3 5 8 "
     ]
    }
   ],
   "source": [
    "#while \n",
    "def fib(x):\n",
    "    num1=0\n",
    "    num2=1\n",
    "    fibb=0\n",
    "    print(num1,num2,end=\" \")\n",
    "    i=2\n",
    "    while i<x:\n",
    "        fibb=num1+num2\n",
    "        print(fibb,end=\" \")\n",
    "        num3=num2\n",
    "        num2=fibb\n",
    "        num1=num3\n",
    "        i=i+1\n",
    "fib(7)\n"
   ]
  },
  {
   "cell_type": "code",
   "execution_count": 77,
   "id": "725a19f6-4314-47ff-a960-b7b84f1baa2f",
   "metadata": {},
   "outputs": [
    {
     "name": "stdin",
     "output_type": "stream",
     "text": [
      "enter any number 10\n"
     ]
    },
    {
     "name": "stdout",
     "output_type": "stream",
     "text": [
      "0 1 1 2 3 5 8 13 21 34 "
     ]
    }
   ],
   "source": [
    "#fibonnaci using recursion\n",
    "def fib(n):\n",
    "    if n==0:\n",
    "        return 0\n",
    "    elif n==1 or n==2:\n",
    "        return 1\n",
    "    else:\n",
    "        return fib(n-1)+fib(n-2)\n",
    "n=int(input(\"enter any number\"))\n",
    "for i in range(n):\n",
    "        print(fib(i),end=\" \")"
   ]
  },
  {
   "cell_type": "markdown",
   "id": "c1cb37ab-15ce-4d5c-82fa-4a50e163c1e4",
   "metadata": {},
   "source": [
    "**Q6 .Create a Factorial with Functions and loops**\n",
    "\n",
    "           "
   ]
  },
  {
   "cell_type": "code",
   "execution_count": 14,
   "id": "cf9080a6-eadc-4145-8ed0-e442f72b78fa",
   "metadata": {},
   "outputs": [
    {
     "name": "stdout",
     "output_type": "stream",
     "text": [
      "120\n"
     ]
    }
   ],
   "source": [
    "#for\n",
    "def factorial(n):\n",
    "  fact=1\n",
    "  for i in range(1,n+1):\n",
    "          fact=fact*i\n",
    "  print(fact)\n",
    "factorial(5)"
   ]
  },
  {
   "cell_type": "code",
   "execution_count": 16,
   "id": "32151001-0a18-4b40-a108-b2c4e1c95f07",
   "metadata": {},
   "outputs": [
    {
     "name": "stdout",
     "output_type": "stream",
     "text": [
      "720\n"
     ]
    }
   ],
   "source": [
    "#while\n",
    "def factorial(n):\n",
    "  fact=1\n",
    "  i=1\n",
    "  while i<n+1:\n",
    "          fact=fact*i\n",
    "          i=i+1\n",
    "  print(fact)\n",
    "factorial(6)"
   ]
  },
  {
   "cell_type": "code",
   "execution_count": null,
   "id": "6cb55437-d554-4d57-935e-601f3ccac5d7",
   "metadata": {},
   "outputs": [],
   "source": []
  },
  {
   "cell_type": "code",
   "execution_count": 29,
   "id": "87f3f94f-9e00-43b5-9903-008ee77216a9",
   "metadata": {},
   "outputs": [],
   "source": []
  },
  {
   "cell_type": "code",
   "execution_count": null,
   "id": "fd7bdb24-d9ff-4bc5-ae01-6c2829ad2990",
   "metadata": {},
   "outputs": [],
   "source": []
  }
 ],
 "metadata": {
  "kernelspec": {
   "display_name": "Python 3 (ipykernel)",
   "language": "python",
   "name": "python3"
  },
  "language_info": {
   "codemirror_mode": {
    "name": "ipython",
    "version": 3
   },
   "file_extension": ".py",
   "mimetype": "text/x-python",
   "name": "python",
   "nbconvert_exporter": "python",
   "pygments_lexer": "ipython3",
   "version": "3.12.4"
  }
 },
 "nbformat": 4,
 "nbformat_minor": 5
}
