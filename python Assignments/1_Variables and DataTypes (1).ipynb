{
 "cells": [
  {
   "cell_type": "markdown",
   "metadata": {},
   "source": [
    "# Assignment Instructions\n",
    "\n",
    "`Hello Innominion,`\n",
    "\n",
    "- **Try to attempt all the questions in every possible way.**\n",
    "- **Some other topics are required to solve some questions. don't panic.**\n",
    "- **Those questions can be answered after the topics are taught.**\n",
    "\n",
    "\n",
    "- `Join Mentoring Session for the Support/Doubts Resolving with Our Technical Mentors (2.00 PM - 6.00 PM  Mon-Sat)` \n",
    "\n",
    "Happy Learning !!!"
   ]
  },
  {
   "cell_type": "markdown",
   "metadata": {},
   "source": [
    "## Basics of Python"
   ]
  },
  {
   "cell_type": "markdown",
   "metadata": {},
   "source": [
    "> `Question:` Print your name"
   ]
  },
  {
   "cell_type": "code",
   "execution_count": 7,
   "metadata": {},
   "outputs": [
    {
     "name": "stdin",
     "output_type": "stream",
     "text": [
      "enter your name srinija\n"
     ]
    },
    {
     "name": "stdout",
     "output_type": "stream",
     "text": [
      "my name is srinija\n"
     ]
    }
   ],
   "source": [
    "name=input(\"enter your name\")\n",
    "print(\"my name is\",name)"
   ]
  },
  {
   "cell_type": "markdown",
   "metadata": {},
   "source": [
    "> `Question:` What is a variable? Write a Few words about Variables. Create a Variable with an Example. "
   ]
  },
  {
   "cell_type": "markdown",
   "metadata": {},
   "source": [
    "* Variable is the name of memeory location where we can  store different types of values\n",
    "* we can store different types of data(int,float,boolean,string)\n"
   ]
  },
  {
   "cell_type": "code",
   "execution_count": 11,
   "metadata": {},
   "outputs": [
    {
     "name": "stdout",
     "output_type": "stream",
     "text": [
      "('srinija', 21, True)\n"
     ]
    }
   ],
   "source": [
    "# a=\"srinija\",21,True\n",
    "print(a) #a is variable hereode Here"
   ]
  },
  {
   "cell_type": "markdown",
   "metadata": {},
   "source": [
    ">`Question:` Assume that we execute the following assignment statements:\n",
    "width = 17\n",
    "height = 12.0\n",
    "delimiter = '.'\n",
    "For each of the following expressions, write the value of the expression and the type (of the value of\n",
    "the expression).\n",
    "1. width/2\n",
    "2. width/2.0\n",
    "3. height/3\n",
    "4. 1 + 2 * 5\n",
    "5. delimiter * 5"
   ]
  },
  {
   "cell_type": "code",
   "execution_count": 21,
   "metadata": {},
   "outputs": [
    {
     "name": "stdout",
     "output_type": "stream",
     "text": [
      "width/2 = 8.5\n",
      "width/2.0 = 8.5\n",
      "height/3 = 4.0\n",
      "11\n",
      ".....\n"
     ]
    }
   ],
   "source": [
    "width=17\n",
    "height=12.0\n",
    "delimiter='.'\n",
    "print(\"width/2 =\",width/2)\n",
    "print(\"width/2.0 =\",width/2.0)\n",
    "print(\"height/3 =\",height/3)\n",
    "print(1+2*5)\n",
    "print(delimiter*5)"
   ]
  },
  {
   "cell_type": "raw",
   "metadata": {},
   "source": [
    "# Sample Outputs\n",
    "1. width/2 = 8.5\n",
    "2. width/2.0 = 8.5\n",
    "3. height/3 = 4.0\n",
    "4. 11\n",
    "5. ....."
   ]
  },
  {
   "cell_type": "markdown",
   "metadata": {},
   "source": [
    "> `Question:` Add two number by taking variable names as first and seccond"
   ]
  },
  {
   "cell_type": "code",
   "execution_count": 31,
   "metadata": {},
   "outputs": [
    {
     "name": "stdin",
     "output_type": "stream",
     "text": [
      "enter first number 100\n",
      "enter second number 200\n"
     ]
    },
    {
     "name": "stdout",
     "output_type": "stream",
     "text": [
      "first number is : 100\n",
      "second number is : 200\n",
      "Addition of two numbers are : 300\n"
     ]
    }
   ],
   "source": [
    "first=int(input(\"enter first number\"))\n",
    "second=int(input(\"enter second number\"))\n",
    "addition=first+second\n",
    "print(\"first number is :\",first)\n",
    "print(\"second number is :\",second)\n",
    "print(\"Addition of two numbers are :\", addition)"
   ]
  },
  {
   "cell_type": "code",
   "execution_count": 6,
   "metadata": {},
   "outputs": [
    {
     "name": "stdout",
     "output_type": "stream",
     "text": [
      "first number is : 100\n",
      "second number is : 200\n",
      "Addition of two numbers are : 300\n"
     ]
    }
   ],
   "source": []
  },
  {
   "cell_type": "markdown",
   "metadata": {},
   "source": [
    "> `Question:` Add your first name and second name"
   ]
  },
  {
   "cell_type": "code",
   "execution_count": 48,
   "metadata": {},
   "outputs": [
    {
     "name": "stdin",
     "output_type": "stream",
     "text": [
      "enter your first name srinija\n",
      "enter your second name gaju\n"
     ]
    },
    {
     "name": "stdout",
     "output_type": "stream",
     "text": [
      "My first name is : srinija\n",
      "My second name is : gaju\n",
      "My full name is : srinijagaju\n"
     ]
    }
   ],
   "source": [
    "first_name=input(\"enter your first name\")\n",
    "second_name=input(\"enter your second name\")\n",
    "fullname=first_name+second_name\n",
    "print(\"My first name is :\",first_name)\n",
    "print(\"My second name is :\",second_name)\n",
    "print(\"My full name is :\", fullname)"
   ]
  },
  {
   "cell_type": "code",
   "execution_count": null,
   "metadata": {},
   "outputs": [],
   "source": []
  },
  {
   "cell_type": "code",
   "execution_count": null,
   "metadata": {},
   "outputs": [],
   "source": []
  },
  {
   "cell_type": "markdown",
   "metadata": {},
   "source": [
    "> `Question:` print the datatypes of the following\n",
    "- 10,'10',True,10.5"
   ]
  },
  {
   "cell_type": "code",
   "execution_count": 37,
   "metadata": {},
   "outputs": [
    {
     "name": "stdout",
     "output_type": "stream",
     "text": [
      "10 -  <class 'int'>\n",
      " '10' -  <class 'str'>\n",
      "True -  <class 'bool'>\n",
      "10.5 -  <class 'float'>\n"
     ]
    }
   ],
   "source": [
    "print(\"10 - \" ,type(10))\n",
    "print(\" '10' - \",type('10'))\n",
    "print(\"True - \",type(True))\n",
    "print(\"10.5 - \",type(10.5))"
   ]
  },
  {
   "cell_type": "code",
   "execution_count": 11,
   "metadata": {},
   "outputs": [
    {
     "name": "stdout",
     "output_type": "stream",
     "text": [
      "10 -  <class 'int'>\n",
      "'10' -  <class 'str'>\n",
      "True -  <class 'bool'>\n",
      "10.5 -  <class 'float'>\n"
     ]
    }
   ],
   "source": []
  },
  {
   "cell_type": "markdown",
   "metadata": {},
   "source": [
    " `Question:` \n",
    "> - num_int = 123\n",
    "> - num_str = \"456\"\n",
    "> - Add num_int and num_str\n",
    "- `hint: first need to convert num_str into integer`"
   ]
  },
  {
   "cell_type": "code",
   "execution_count": 45,
   "metadata": {},
   "outputs": [
    {
     "name": "stdout",
     "output_type": "stream",
     "text": [
      "Addition of 123 and 456 is : 579\n"
     ]
    }
   ],
   "source": [
    "num_int=123\n",
    "num_str=\"456\"\n",
    "addition=num_int+int(num_str)\n",
    "print(\"Addition of\",num_int,\"and\",num_str,\"is :\",addition)\n"
   ]
  },
  {
   "cell_type": "code",
   "execution_count": 13,
   "metadata": {},
   "outputs": [
    {
     "name": "stdout",
     "output_type": "stream",
     "text": [
      "Addition of 123 and 456 is :  579\n"
     ]
    }
   ],
   "source": []
  },
  {
   "cell_type": "code",
   "execution_count": null,
   "metadata": {},
   "outputs": [],
   "source": []
  },
  {
   "cell_type": "markdown",
   "metadata": {},
   "source": [
    "### Advanced Questions"
   ]
  },
  {
   "cell_type": "markdown",
   "metadata": {},
   "source": [
    "> `Question:` The volume of a sphere with radius r is  4/3πr3  . What is the volume of a sphere with radius 5?"
   ]
  },
  {
   "cell_type": "code",
   "execution_count": 57,
   "metadata": {},
   "outputs": [
    {
     "name": "stdin",
     "output_type": "stream",
     "text": [
      "enter radius of the sphere 5\n"
     ]
    },
    {
     "name": "stdout",
     "output_type": "stream",
     "text": [
      "523.3333333333334\n"
     ]
    }
   ],
   "source": [
    "\n",
    "r=int(input(\"enter radius of the sphere\"))\n",
    "pi=3.14\n",
    "volume=(4/3)*(pi)*(r**3)\n",
    "print(volume)\n",
    "\n"
   ]
  },
  {
   "cell_type": "markdown",
   "metadata": {},
   "source": [
    "> `Question:` Suppose the cover price of a book is Rs.24.95, but bookstores get a 40% discount. Shipping costs Rs.3 for the first copy and 75 paise for each additional copy. What is the total wholesale cost for 60 copies?"
   ]
  },
  {
   "cell_type": "code",
   "execution_count": 95,
   "metadata": {},
   "outputs": [
    {
     "name": "stdout",
     "output_type": "stream",
     "text": [
      "945.4499999999999\n",
      "the total wholesale cost for 60 copies is 945\n"
     ]
    }
   ],
   "source": [
    "original=24.95\n",
    "dicount=40/100\n",
    "dicount_price=original*(1-discount)\n",
    "no_of_copies=60\n",
    "total_book_cost=dicount_price*no_of_copies\n",
    "shipping_cost_first=3\n",
    "shipping_cost_additional=0.75*59\n",
    "shipping_cost=shipping_cost_first+shipping_cost_additional\n",
    "total_whole_cost=total_book_cost+shipping_cost\n",
    "print(total_whole_cost)\n",
    "print(\"the total wholesale cost for 60 copies is\",round(total_whole_cost))\n",
    "\n",
    "\n",
    "\n"
   ]
  },
  {
   "cell_type": "code",
   "execution_count": null,
   "metadata": {},
   "outputs": [],
   "source": []
  },
  {
   "cell_type": "code",
   "execution_count": null,
   "metadata": {},
   "outputs": [],
   "source": []
  },
  {
   "cell_type": "markdown",
   "metadata": {},
   "source": [
    "# [Innomatics Research Labs](https:/innomatics.in/)\n",
    "[www.innomatics.in](https:/innomatics.in/)"
   ]
  }
 ],
 "metadata": {
  "kernelspec": {
   "display_name": "Python 3 (ipykernel)",
   "language": "python",
   "name": "python3"
  },
  "language_info": {
   "codemirror_mode": {
    "name": "ipython",
    "version": 3
   },
   "file_extension": ".py",
   "mimetype": "text/x-python",
   "name": "python",
   "nbconvert_exporter": "python",
   "pygments_lexer": "ipython3",
   "version": "3.12.4"
  }
 },
 "nbformat": 4,
 "nbformat_minor": 4
}
