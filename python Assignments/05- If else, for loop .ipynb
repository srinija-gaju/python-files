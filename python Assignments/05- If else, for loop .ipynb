{
 "cells": [
  {
   "cell_type": "markdown",
   "metadata": {},
   "source": [
    "# IF , ELSE.... FOR LOOP"
   ]
  },
  {
   "cell_type": "markdown",
   "metadata": {},
   "source": [
    ">**print this is hour in current minute is odd**"
   ]
  },
  {
   "cell_type": "code",
   "execution_count": 5,
   "metadata": {},
   "outputs": [
    {
     "name": "stdin",
     "output_type": "stream",
     "text": [
      "minute :  40\n"
     ]
    },
    {
     "name": "stdout",
     "output_type": "stream",
     "text": [
      "This is even minute\n"
     ]
    }
   ],
   "source": [
    "minute=int(input(\"minute : \"))\n",
    "if minute%2!=0:\n",
    "    print(\"This is Odd minute\")\n",
    "else:\n",
    "    print(\"This is even minute\")"
   ]
  },
  {
   "cell_type": "markdown",
   "metadata": {},
   "source": [
    "> **if today is satarday then print 'Party !!!' or if sunday print take rest other wise print work , work, work**"
   ]
  },
  {
   "cell_type": "code",
   "execution_count": 17,
   "metadata": {},
   "outputs": [
    {
     "name": "stdin",
     "output_type": "stream",
     "text": [
      "Today is :  sunday\n"
     ]
    },
    {
     "name": "stdout",
     "output_type": "stream",
     "text": [
      "Take Rest.\n"
     ]
    }
   ],
   "source": [
    "today=input(\"Today is : \")\n",
    "if today==\"saturday\":\n",
    "    print(\"Party!!!\")\n",
    "elif today==\"sunday\":\n",
    "    print(\"Take Rest.\")\n",
    "else:\n",
    "    print(\"Work,Work,Work!!!!!!!!!!!!!\")"
   ]
  },
  {
   "cell_type": "markdown",
   "metadata": {},
   "source": [
    "> **Write a program which will find all such numbers which are divisible by 7 but are not a multiple of 5, between 2000 and 3200 (both included). The numbers obtained should be printed in a comma-separated sequence on a single line.**"
   ]
  },
  {
   "cell_type": "code",
   "execution_count": 27,
   "metadata": {},
   "outputs": [
    {
     "name": "stdout",
     "output_type": "stream",
     "text": [
      "2002,2009,2016,2023,2037,2044,2051,2058,2072,2079,2086,2093,2107,2114,2121,2128,2142,2149,2156,2163,2177,2184,2191,2198,2212,2219,2226,2233,2247,2254,2261,2268,2282,2289,2296,2303,2317,2324,2331,2338,2352,2359,2366,2373,2387,2394,2401,2408,2422,2429,2436,2443,2457,2464,2471,2478,2492,2499,2506,2513,2527,2534,2541,2548,2562,2569,2576,2583,2597,2604,2611,2618,2632,2639,2646,2653,2667,2674,2681,2688,2702,2709,2716,2723,2737,2744,2751,2758,2772,2779,2786,2793,2807,2814,2821,2828,2842,2849,2856,2863,2877,2884,2891,2898,2912,2919,2926,2933,2947,2954,2961,2968,2982,2989,2996,3003,3017,3024,3031,3038,3052,3059,3066,3073,3087,3094,3101,3108,3122,3129,3136,3143,3157,3164,3171,3178,3192,3199,"
     ]
    }
   ],
   "source": [
    "for i in range(2000,3200):\n",
    "    if i%7==0 and i%5!=0:\n",
    "        print(i,end=\",\")"
   ]
  },
  {
   "cell_type": "code",
   "execution_count": 14,
   "metadata": {},
   "outputs": [
    {
     "name": "stdout",
     "output_type": "stream",
     "text": [
      "2002,2009,2016,2023,2037,2044,2051,2058,2072,2079,2086,2093,2107,2114,2121,2128,2142,2149,2156,2163,2177,2184,2191,2198,2212,2219,2226,2233,2247,2254,2261,2268,2282,2289,2296,2303,2317,2324,2331,2338,2352,2359,2366,2373,2387,2394,2401,2408,2422,2429,2436,2443,2457,2464,2471,2478,2492,2499,2506,2513,2527,2534,2541,2548,2562,2569,2576,2583,2597,2604,2611,2618,2632,2639,2646,2653,2667,2674,2681,2688,2702,2709,2716,2723,2737,2744,2751,2758,2772,2779,2786,2793,2807,2814,2821,2828,2842,2849,2856,2863,2877,2884,2891,2898,2912,2919,2926,2933,2947,2954,2961,2968,2982,2989,2996,3003,3017,3024,3031,3038,3052,3059,3066,3073,3087,3094,3101,3108,3122,3129,3136,3143,3157,3164,3171,3178,3192,3199\n"
     ]
    }
   ],
   "source": [
    "#CODE HERE"
   ]
  },
  {
   "cell_type": "markdown",
   "metadata": {},
   "source": [
    "> **Write a program which can compute the factorial of a given numbers.\n",
    "The results should be printed in a comma-separated sequence on a single line.\n",
    "Suppose the following input is supplied to the program:\n",
    "8\n",
    "Then, the output should be:\n",
    "40320**"
   ]
  },
  {
   "cell_type": "code",
   "execution_count": 55,
   "metadata": {},
   "outputs": [
    {
     "name": "stdin",
     "output_type": "stream",
     "text": [
      "Enter the value to compute the factorial:  8\n"
     ]
    },
    {
     "name": "stdout",
     "output_type": "stream",
     "text": [
      "8 ! = 40320\n"
     ]
    }
   ],
   "source": [
    "number=int(input(\"Enter the value to compute the factorial: \"))\n",
    "factorial=1\n",
    "for i in range(1,number+1):\n",
    "    factorial=factorial*i   \n",
    "print(number,\"!\",\"=\",factorial)\n"
   ]
  },
  {
   "cell_type": "markdown",
   "metadata": {},
   "source": [
    "> **With a given integral number n, write a program to generate a dictionary that contains (i, i*i) such that is an integral number between 1 and n (both included). and then the program should print the dictionary.\n",
    "Suppose the following input is supplied to the program:\n",
    "8\n",
    "Then, the output should be:\n",
    "{1: 1, 2: 4, 3: 9, 4: 16, 5: 25, 6: 36, 7: 49, 8: 64}**\n",
    "\n",
    "*Hint* : use dict()"
   ]
  },
  {
   "cell_type": "code",
   "execution_count": 39,
   "metadata": {},
   "outputs": [
    {
     "name": "stdin",
     "output_type": "stream",
     "text": [
      "Enter the value 8\n"
     ]
    },
    {
     "name": "stdout",
     "output_type": "stream",
     "text": [
      "{1: 1, 2: 4, 3: 9, 4: 16, 5: 25, 6: 36, 7: 49, 8: 64}\n"
     ]
    }
   ],
   "source": [
    "n=int(input(\"Enter the value\"))\n",
    "dict1={}\n",
    "for i in range(1,n+1):\n",
    "            res=i\n",
    "            res1=i*i\n",
    "            result=dict1.update({res:res1})\n",
    "print(dict1)\n"
   ]
  },
  {
   "cell_type": "markdown",
   "metadata": {},
   "source": [
    "> **create user defined fuction for**\n",
    "> \n",
    "**- addition \"add\"**\n",
    "\n",
    "**- subtraction \"sub\"**\n",
    "\n",
    "**- multiplication \"mul\"**\n",
    "\n",
    "**- division \"div\"**\n",
    "\n",
    "**- power \"pow\"**"
   ]
  },
  {
   "cell_type": "code",
   "execution_count": 65,
   "metadata": {},
   "outputs": [
    {
     "name": "stdin",
     "output_type": "stream",
     "text": [
      "Please enter the value : 8\n",
      "Please enter the value : 6\n",
      "enter the keyword {add,sub,mul,div,pow}: pow\n"
     ]
    },
    {
     "name": "stdout",
     "output_type": "stream",
     "text": [
      "==================================\n",
      "power of 8 by 6 is : 262144\n"
     ]
    }
   ],
   "source": [
    "a=int(input(\"Please enter the value :\"))\n",
    "b=int(input(\"Please enter the value :\"))\n",
    "add=a+b\n",
    "sub=a-b\n",
    "mul=a*b\n",
    "div=a/b\n",
    "pow=a**b\n",
    "keyword=input(\"enter the keyword {add,sub,mul,div,pow}:\")\n",
    "print(\"==================================\")\n",
    "if keyword==\"add\":\n",
    "    print(\"Addition of\",a,\"by\",b,\"is :\",add)\n",
    "elif keyword==\"sub\":\n",
    "    print(\"Subtraction of\",a,\"by\",b,\"is :\",sub)\n",
    "elif keyword==\"mul\":\n",
    "    print(\"Multiplication of\",a,\"by\",b,\"is :\",mul)\n",
    "elif keyword==\"div\":\n",
    "    print(\"Division of\",a,\"by\",b,\"is :\",div)\n",
    "elif keyword==\"pow\":\n",
    "    print(\"power of\",a,\"by\",b,\"is :\",pow)\n",
    "else:\n",
    "   print(\"enter a valied keyword which are mentioned above\")    \n",
    "\n",
    "\n",
    "\n"
   ]
  },
  {
   "cell_type": "markdown",
   "metadata": {},
   "source": [
    "**Write a Python program that accepts a string and calculate the number of digits and letters.**\n",
    "\n",
    "**- Input**\n",
    "\n",
    "    - Hello321Bye360\n",
    "**- Output**\n",
    "\n",
    "    - Digit - 6\n",
    "\n",
    "    - Letter - 8"
   ]
  },
  {
   "cell_type": "code",
   "execution_count": 71,
   "metadata": {},
   "outputs": [
    {
     "name": "stdin",
     "output_type": "stream",
     "text": [
      "ENter the text:  Hello321Bye360\n"
     ]
    },
    {
     "name": "stdout",
     "output_type": "stream",
     "text": [
      "Digit - 6\n",
      "Letter - 8\n"
     ]
    }
   ],
   "source": [
    "# CODE HERE\n",
    "word = input(\"ENter the text: \")\n",
    "digit=0\n",
    "letter=0\n",
    "for i in word:\n",
    "    if i.isdigit():\n",
    "        digit=digit+1\n",
    "    elif i.isalpha():\n",
    "        letter=letter+1\n",
    "print(\"Digit -\",digit)\n",
    "print(\"Letter -\",letter)\n"
   ]
  },
  {
   "cell_type": "markdown",
   "metadata": {},
   "source": [
    "### With a given tuple (1,2,3,4,5,6,7,8,9,10), write a program to print the first half values in one line and the last half values in one line."
   ]
  },
  {
   "cell_type": "code",
   "execution_count": 270,
   "metadata": {},
   "outputs": [
    {
     "name": "stdout",
     "output_type": "stream",
     "text": [
      "(1, 2, 3, 4, 5) (6, 7, 8, 9, 10)\n"
     ]
    }
   ],
   "source": [
    "# METHOD - 1\n",
    "my_tuple=(1,2,3,4,5,6,7,8,9,10)\n",
    "a=list(my_tuple)\n",
    "tuple1=[]\n",
    "tuple2=[]\n",
    "for i in a:\n",
    "    if i>=1 and i<6:\n",
    "        tuple1.append(i)\n",
    "    elif i>=6 and i<=10:\n",
    "        tuple2.append(i)\n",
    "print(tuple(tuple1),tuple(tuple2))\n"
   ]
  },
  {
   "cell_type": "code",
   "execution_count": 246,
   "metadata": {},
   "outputs": [
    {
     "name": "stdout",
     "output_type": "stream",
     "text": [
      "1 2 3 4 5 \n",
      "6 7 8 9 10 "
     ]
    }
   ],
   "source": [
    "#method-2\n",
    "my_tuple=(1,2,3,4,5,6,7,8,9,10)\n",
    "#tuple1=()\n",
    "for i in my_tuple:\n",
    "      print(i,end=\" \")\n",
    "      if i==5:\n",
    "          break\n",
    "print()\n",
    "for j in my_tuple:\n",
    "        if j>5:\n",
    "           print(j,end=\" \")\n"
   ]
  },
  {
   "cell_type": "code",
   "execution_count": 248,
   "metadata": {},
   "outputs": [
    {
     "name": "stdout",
     "output_type": "stream",
     "text": [
      "[1, 2, 3, 4, 5]\n",
      "[6, 7, 8, 9, 10]\n"
     ]
    }
   ],
   "source": [
    "#method-2\n",
    "my_tuple=(1,2,3,4,5,6,7,8,9,10)\n",
    "list1=[]\n",
    "list2=[]\n",
    "for i in my_tuple:\n",
    "    if i>=1 and i<6:\n",
    "        list1.append(i)\n",
    "    elif i>=6 and i<=10:\n",
    "        list2.append(i)\n",
    "print(list1)\n",
    "print(list2)\n"
   ]
  },
  {
   "cell_type": "markdown",
   "metadata": {},
   "source": [
    "### Write a program to generate and print another tuple whose values are even numbers in the given tuple (1,2,3,4,5,6,7,8,9,10)"
   ]
  },
  {
   "cell_type": "code",
   "execution_count": 280,
   "metadata": {},
   "outputs": [
    {
     "name": "stdout",
     "output_type": "stream",
     "text": [
      "(2, 4, 6, 8, 10)\n"
     ]
    }
   ],
   "source": [
    "my_tuple=(1,2,3,4,5,6,7,8,9,10)\n",
    "my_tuple1=list(my_tuple)\n",
    "result=[]\n",
    "for i in my_tuple1:\n",
    "    if i%2==0:\n",
    "        result.append(i)\n",
    "print(tuple(result))\n",
    "        "
   ]
  },
  {
   "cell_type": "markdown",
   "metadata": {},
   "source": [
    "### Write a program which accepts a string as input to print \"Yes\" if the string is \"yes\" or \"YES\" or \"Yes\", otherwise print \"No\""
   ]
  },
  {
   "cell_type": "code",
   "execution_count": 284,
   "metadata": {},
   "outputs": [
    {
     "name": "stdin",
     "output_type": "stream",
     "text": [
      "Please type something. -->  yes\n"
     ]
    },
    {
     "name": "stdout",
     "output_type": "stream",
     "text": [
      "Yes\n"
     ]
    }
   ],
   "source": [
    "text = input(\"Please type something. --> \")\n",
    "if text==\"yes\" or text==\"YES\" or text==\"Yes\":\n",
    "    print(\"Yes\")\n",
    "else:\n",
    "    print(\"No\")\n",
    "    "
   ]
  },
  {
   "cell_type": "markdown",
   "metadata": {},
   "source": [
    "### Please write a program to generate a list with 5 random numbers between 100 and 200 inclusive."
   ]
  },
  {
   "cell_type": "code",
   "execution_count": 89,
   "metadata": {},
   "outputs": [
    {
     "name": "stdout",
     "output_type": "stream",
     "text": [
      "[155, 134, 160, 189, 172]\n"
     ]
    }
   ],
   "source": [
    "#sample()-given a random list from given range\n",
    "import random\n",
    "number=random.sample(range(100,200),5)\n",
    "print(number)"
   ]
  },
  {
   "cell_type": "markdown",
   "metadata": {},
   "source": [
    "### Please generate a random float where the value is between 5 and 95 using Python module."
   ]
  },
  {
   "cell_type": "code",
   "execution_count": 41,
   "metadata": {},
   "outputs": [
    {
     "name": "stdout",
     "output_type": "stream",
     "text": [
      "66.11439795554156\n"
     ]
    }
   ],
   "source": [
    "#unifor()-returns a random float number between two given parameters\n",
    "import random\n",
    "value=random.uniform(5,95)\n",
    "print(value)\n"
   ]
  },
  {
   "cell_type": "markdown",
   "metadata": {},
   "source": [
    "### [1,1,1,1,3,3,4,4,4,5,6,7,8,8,8]\n",
    "#### 1. from the above list print the uniques values\n",
    "#### 2. count how many times each number exist\n",
    "#### 3. Print the number which is occured more number of times"
   ]
  },
  {
   "cell_type": "code",
   "execution_count": 103,
   "metadata": {},
   "outputs": [
    {
     "data": {
      "text/plain": [
       "{1, 3, 4, 5, 6, 7, 8}"
      ]
     },
     "execution_count": 103,
     "metadata": {},
     "output_type": "execute_result"
    }
   ],
   "source": [
    "#unique values from the list\n",
    "input_list=[1,1,1,1,3,3,4,4,4,5,6,7,8,8,8]\n",
    "set(input_list)"
   ]
  },
  {
   "cell_type": "code",
   "execution_count": 97,
   "metadata": {},
   "outputs": [
    {
     "name": "stdout",
     "output_type": "stream",
     "text": [
      "1 3 4 5 6 7 8\n"
     ]
    }
   ],
   "source": [
    "#unique values from the list\n",
    "#method-1\n",
    "from collections import Counter\n",
    "input_list=[1,1,1,1,3,3,4,4,4,5,6,7,8,8,8]\n",
    "print(*Counter(input_list))\n"
   ]
  },
  {
   "cell_type": "code",
   "execution_count": 433,
   "metadata": {},
   "outputs": [
    {
     "name": "stdout",
     "output_type": "stream",
     "text": [
      "1 occured 4 times in the list\n",
      "3 occured 2 times in the list\n",
      "4 occured 3 times in the list\n",
      "5 occured 1 times in the list\n",
      "6 occured 1 times in the list\n",
      "7 occured 1 times in the list\n",
      "8 occured 3 times in the list\n"
     ]
    }
   ],
   "source": [
    "#method-1====count how many times each number exist\n",
    "input_list=[1,1,1,1,3,3,4,4,4,5,6,7,8,8,8]\n",
    "print(\"1 occured\",input_list.count(1),\"times in the list\")\n",
    "print(\"3 occured\",input_list.count(3),\"times in the list\")\n",
    "print(\"4 occured\",input_list.count(4),\"times in the list\")\n",
    "print(\"5 occured\",input_list.count(5),\"times in the list\")\n",
    "print(\"6 occured\",input_list.count(6),\"times in the list\")\n",
    "print(\"7 occured\",input_list.count(7),\"times in the list\")\n",
    "print(\"8 occured\",input_list.count(8),\"times in the list\")   "
   ]
  },
  {
   "cell_type": "code",
   "execution_count": 111,
   "metadata": {},
   "outputs": [
    {
     "name": "stdout",
     "output_type": "stream",
     "text": [
      "Counter({1: 4, 4: 3, 8: 3, 3: 2, 5: 1, 6: 1, 7: 1})\n"
     ]
    }
   ],
   "source": [
    "#method-2====count how many times each number exist\n",
    "from collections import Counter\n",
    "input_=[1,1,1,1,3,3,4,4,4,5,6,7,8,8,8]\n",
    "x=Counter(input_)\n",
    "print(x)\n",
    "\n"
   ]
  },
  {
   "cell_type": "code",
   "execution_count": 23,
   "metadata": {},
   "outputs": [
    {
     "name": "stdout",
     "output_type": "stream",
     "text": [
      "(1, 4)\n"
     ]
    }
   ],
   "source": [
    "#Print the number which is occured more number of times\n",
    "from collections import Counter\n",
    "input_=[1,1,1,1,3,3,4,4,4,5,6,7,8,8,8]\n",
    "result=Counter(input_)\n",
    "print(result.most_common(1)[0])\n",
    "\n"
   ]
  },
  {
   "cell_type": "markdown",
   "metadata": {},
   "source": [
    "# [Innomatics Research Labs](https:/innomatics.in/)\n",
    "[www.innomatics.in](https:/innomatics.in/)"
   ]
  },
  {
   "cell_type": "code",
   "execution_count": null,
   "metadata": {},
   "outputs": [],
   "source": []
  }
 ],
 "metadata": {
  "kernelspec": {
   "display_name": "Python 3 (ipykernel)",
   "language": "python",
   "name": "python3"
  },
  "language_info": {
   "codemirror_mode": {
    "name": "ipython",
    "version": 3
   },
   "file_extension": ".py",
   "mimetype": "text/x-python",
   "name": "python",
   "nbconvert_exporter": "python",
   "pygments_lexer": "ipython3",
   "version": "3.12.4"
  }
 },
 "nbformat": 4,
 "nbformat_minor": 4
}
