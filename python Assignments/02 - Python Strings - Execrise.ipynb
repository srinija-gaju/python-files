{
 "cells": [
  {
   "cell_type": "markdown",
   "metadata": {},
   "source": [
    "# Assignment Instructions\n",
    "\n",
    "`Hello Innominion,`\n",
    "\n",
    "- **Try to attempt all the questions in every possible way.**\n",
    "- **Some other topics are required to solve some questions. don't panic.**\n",
    "- **Those questions can be answered after the topics are taught.**\n",
    "\n",
    "\n",
    "- `Join Mentoring Session for the Support/Doubts Resolving with Our Technical Mentors (2.00 PM - 6.00 PM  Mon-Sat)` \n",
    "\n",
    "Happy Learning !!!"
   ]
  },
  {
   "cell_type": "code",
   "execution_count": null,
   "metadata": {},
   "outputs": [],
   "source": []
  },
  {
   "cell_type": "markdown",
   "metadata": {},
   "source": [
    "# Strings - Execrise"
   ]
  },
  {
   "cell_type": "code",
   "execution_count": 1,
   "metadata": {},
   "outputs": [],
   "source": [
    "text = \"\"\"The University of Hawaii began using radio to send digital information as early as 1971,using ALOHAnet. \n",
    "Friedhelm Hillebrand conceptualised SMS in 1984 while working for Deutsche Telekom. Sitting at a typewriter at home, \n",
    "Hillebrand typed out random sentences and counted every letter, number, punctuation, and space. \n",
    "Almost every time, the messages contained fewer than 160 characters, thus giving the basis for the \n",
    "limit one could type via text messaging. With Bernard Ghillebaert of France Télécom, he developed \n",
    "a proposal for the GSM (Groupe Spécial Mobile) meeting in February 1985 in Oslo. \n",
    "The first technical solution evolved in a GSM subgroup under the leadership of Finn Trosby. \n",
    "It was further developed under the leadership of Kevin Holley and Ian Harris (see Short Message Service). \n",
    "SMS forms an integral part of SS7 (Signalling System No. 7). Under SS7, it is a \"state\" with a 160 character data, \n",
    "coded in the ITU-T \"T.56\" text format, that has a \"sequence lead in\" to determine different language codes, \n",
    "and may have special character codes that permits, for example, sending simple graphs as text. \n",
    "This was part of ISDN (Integrated Services Digital Network) and since GSM is based on this, \n",
    "made its way to the mobile phone. Messages could be sent and received on ISDN phones, \n",
    "and these can send SMS to any GSM phone. The possibility of doing something is one thing, \n",
    "implementing it another, but systems existed from 1988 that sent SMS messages to mobile phones (compare ND-NOTIS).\"\"\""
   ]
  },
  {
   "cell_type": "markdown",
   "metadata": {},
   "source": [
    ">  `Question:` How many characters in text"
   ]
  },
  {
   "cell_type": "code",
   "execution_count": 15,
   "metadata": {},
   "outputs": [
    {
     "name": "stdout",
     "output_type": "stream",
     "text": [
      "The University of Hawaii began using radio to send digital information as early as 1971,using ALOHAnet. \n",
      "Friedhelm Hillebrand conceptualised SMS in 1984 while working for Deutsche Telekom. Sitting at a typewriter at home, \n",
      "Hillebrand typed out random sentences and counted every letter, number, punctuation, and space. \n",
      "Almost every time, the messages contained fewer than 160 characters, thus giving the basis for the \n",
      "limit one could type via text messaging. With Bernard Ghillebaert of France Télécom, he developed \n",
      "a proposal for the GSM (Groupe Spécial Mobile) meeting in February 1985 in Oslo. \n",
      "The first technical solution evolved in a GSM subgroup under the leadership of Finn Trosby. \n",
      "It was further developed under the leadership of Kevin Holley and Ian Harris (see Short Message Service). \n",
      "SMS forms an integral part of SS7 (Signalling System No. 7). Under SS7, it is a \"state\" with a 160 character data, \n",
      "coded in the ITU-T \"T.56\" text format, that has a \"sequence lead in\" to determine different language codes, \n",
      "and may have special character codes that permits, for example, sending simple graphs as text. \n",
      "This was part of ISDN (Integrated Services Digital Network) and since GSM is based on this, \n",
      "made its way to the mobile phone. Messages could be sent and received on ISDN phones, \n",
      "and these can send SMS to any GSM phone. The possibility of doing something is one thing, \n",
      "implementing it another, but systems existed from 1988 that sent SMS messages to mobile phones (compare ND-NOTIS).\n"
     ]
    }
   ],
   "source": [
    "\n",
    "print(text)"
   ]
  },
  {
   "cell_type": "code",
   "execution_count": 13,
   "metadata": {},
   "outputs": [
    {
     "data": {
      "text/plain": [
       "1507"
      ]
     },
     "execution_count": 13,
     "metadata": {},
     "output_type": "execute_result"
    }
   ],
   "source": [
    "len(text)"
   ]
  },
  {
   "cell_type": "markdown",
   "metadata": {},
   "source": [
    ">  `Question:` How many words are there in the \"text\""
   ]
  },
  {
   "cell_type": "code",
   "execution_count": 4,
   "metadata": {},
   "outputs": [],
   "source": [
    "# CODE HERE"
   ]
  },
  {
   "cell_type": "code",
   "execution_count": 19,
   "metadata": {},
   "outputs": [
    {
     "data": {
      "text/plain": [
       "244"
      ]
     },
     "execution_count": 19,
     "metadata": {},
     "output_type": "execute_result"
    }
   ],
   "source": [
    "words=text.split(\" \")\n",
    "len(words)"
   ]
  },
  {
   "cell_type": "markdown",
   "metadata": {},
   "source": [
    ">  `Question:` How many unique words in the \"text\""
   ]
  },
  {
   "cell_type": "code",
   "execution_count": 6,
   "metadata": {},
   "outputs": [],
   "source": [
    "# CODE HERE"
   ]
  },
  {
   "cell_type": "code",
   "execution_count": 423,
   "metadata": {},
   "outputs": [
    {
     "name": "stdout",
     "output_type": "stream",
     "text": [
      "{'could', '(Signalling', 'one', '1971,using', '1985', 'be', 'proposal', '\"T.56\"', 'thus', 'information', 'have', 'character', 'counted', 'made', 'February', 'with', '1984', 'thing,', 'for', 'contained', 'under', 'text.', 'ITU-T', '1988', '(see', 'Hawaii', 'determine', 'Sitting', 'punctuation,', 'coded', 'Bernard', '\"sequence', 'an', 'sending', 'France', 'Hillebrand', 'Message', 'this,', 'data,', 'any', 'graphs', 'Kevin', 'leadership', 'Service).', 'received', 'permits,', 'developed', 'typewriter', 'Under', 'random', 'giving', 'the', 'to', 'sentences', 'first', 'early', 'time,', 'With', 'This', 'every', 'Oslo.', 'from', 'The', 'lead', 'conceptualised', 'its', 'via', 'since', 'was', 'a', 'Almost', 'evolved', 'Télécom,', 'on', 'space.', 'at', 'Mobile)', 'Services', 'another,', 'possibility', 'implementing', 'solution', '\"state\"', 'Finn', 'messaging.', 'codes,', 'existed', 'SS7', 'of', 'has', 'digital', 'Trosby.', 'systems', 'Ian', 'No.', 'phones,', 'based', 'forms', 'text', '(compare', 'and', 'phones', 'limit', 'sent', 'fewer', 'Telekom.', 'further', 'SMS', 'Friedhelm', 'It', 'radio', '(Integrated', 'in', 'Digital', 'something', 'home,', 'send', 'Short', 'integral', 'than', 'Holley', 'way', 'basis', 'Network)', 'doing', 'in\"', 'typed', 'messages', 'is', 'he', 'Ghillebaert', 'simple', 'Messages', 'can', 'different', 'type', 'Spécial', 'Harris', 'System', 'GSM', 'that', 'example,', 'SS7,', 'as', 'using', 'but', 'ALOHAnet.', '7).', 'format,', 'University', 'it', 'part', 'may', 'Deutsche', 'technical', 'working', 'out', 'number,', 'while', 'mobile', '(Groupe', 'meeting', 'subgroup', 'characters,', 'ND-NOTIS).', 'began', 'letter,', 'special', 'phone.', 'these', '160', 'ISDN', 'codes', 'language'}\n"
     ]
    }
   ],
   "source": [
    "unique_words=set(text.split())\n",
    "print(unique_words)"
   ]
  },
  {
   "cell_type": "markdown",
   "metadata": {},
   "source": [
    ">  `Question:` Find Lexical diversity\n",
    "\n",
    "lexical_diversity = (number of words)/(number of unique words)"
   ]
  },
  {
   "cell_type": "code",
   "execution_count": 433,
   "metadata": {},
   "outputs": [
    {
     "name": "stdout",
     "output_type": "stream",
     "text": [
      "1.4022988505747127\n"
     ]
    }
   ],
   "source": [
    "number_of_words=len(words)\n",
    "number_of_unique_words=len(unique_words)\n",
    "lexical_diversity=(number_of_words)/number_of_unique_words\n",
    "print(lexical_diversity)\n"
   ]
  },
  {
   "cell_type": "markdown",
   "metadata": {},
   "source": [
    ">  `Question:` Count how many \"the\" in text"
   ]
  },
  {
   "cell_type": "code",
   "execution_count": 9,
   "metadata": {},
   "outputs": [],
   "source": [
    "# CODE HERE"
   ]
  },
  {
   "cell_type": "code",
   "execution_count": 39,
   "metadata": {},
   "outputs": [
    {
     "data": {
      "text/plain": [
       "14"
      ]
     },
     "execution_count": 39,
     "metadata": {},
     "output_type": "execute_result"
    }
   ],
   "source": [
    "#text.split(\" \")\n",
    "text.lower().count(\"the\")\n"
   ]
  },
  {
   "cell_type": "markdown",
   "metadata": {},
   "source": [
    ">  `Question:` Count how many \"a\" in text"
   ]
  },
  {
   "cell_type": "code",
   "execution_count": 43,
   "metadata": {},
   "outputs": [
    {
     "data": {
      "text/plain": [
       "92"
      ]
     },
     "execution_count": 43,
     "metadata": {},
     "output_type": "execute_result"
    }
   ],
   "source": [
    "text.lower().count(\"a\")"
   ]
  },
  {
   "cell_type": "markdown",
   "metadata": {},
   "source": [
    ">  `Question:` Extract First 10 words in text"
   ]
  },
  {
   "cell_type": "code",
   "execution_count": 12,
   "metadata": {},
   "outputs": [],
   "source": [
    "# CODE HERE"
   ]
  },
  {
   "cell_type": "code",
   "execution_count": 45,
   "metadata": {},
   "outputs": [
    {
     "data": {
      "text/plain": [
       "'The University of Hawaii began using radio to send digital '"
      ]
     },
     "execution_count": 45,
     "metadata": {},
     "output_type": "execute_result"
    }
   ],
   "source": [
    "text[0:59]"
   ]
  },
  {
   "cell_type": "code",
   "execution_count": 47,
   "metadata": {},
   "outputs": [
    {
     "data": {
      "text/plain": [
       "'The University of Hawaii began using radio to send digital'"
      ]
     },
     "execution_count": 47,
     "metadata": {},
     "output_type": "execute_result"
    }
   ],
   "source": [
    "a=words[0:10]\n",
    "\" \".join(a)"
   ]
  },
  {
   "cell_type": "markdown",
   "metadata": {},
   "source": [
    ">  `Question:` Append \" Innomatics Reseach Labs\" after first 10 words in the text"
   ]
  },
  {
   "cell_type": "code",
   "execution_count": 14,
   "metadata": {},
   "outputs": [],
   "source": [
    "# CODE HERE"
   ]
  },
  {
   "cell_type": "code",
   "execution_count": 51,
   "metadata": {},
   "outputs": [
    {
     "data": {
      "text/plain": [
       "'The University of Hawaii began using radio to send digital Innomatics Research Labs'"
      ]
     },
     "execution_count": 51,
     "metadata": {},
     "output_type": "execute_result"
    }
   ],
   "source": [
    "s=text[0:59]\n",
    "r=\"Innomatics Research Labs\"\n",
    "\" \".join([s+r])"
   ]
  },
  {
   "cell_type": "markdown",
   "metadata": {},
   "source": [
    ">  `Question:` Extract First Fourteen (14) character in text"
   ]
  },
  {
   "cell_type": "code",
   "execution_count": 16,
   "metadata": {},
   "outputs": [],
   "source": [
    "# CODE HERE"
   ]
  },
  {
   "cell_type": "code",
   "execution_count": 57,
   "metadata": {},
   "outputs": [
    {
     "data": {
      "text/plain": [
       "'The University '"
      ]
     },
     "execution_count": 57,
     "metadata": {},
     "output_type": "execute_result"
    }
   ],
   "source": [
    "text[0:15]"
   ]
  },
  {
   "cell_type": "markdown",
   "metadata": {},
   "source": [
    ">  `Question:` Extract first Fourteen (14) words in text"
   ]
  },
  {
   "cell_type": "code",
   "execution_count": 18,
   "metadata": {},
   "outputs": [],
   "source": [
    "# CODE HERE"
   ]
  },
  {
   "cell_type": "code",
   "execution_count": 61,
   "metadata": {},
   "outputs": [
    {
     "data": {
      "text/plain": [
       "'The University of Hawaii began using radio to send digital information as early as'"
      ]
     },
     "execution_count": 61,
     "metadata": {},
     "output_type": "execute_result"
    }
   ],
   "source": [
    "a=words[0:14]\n",
    "\" \".join(a)"
   ]
  },
  {
   "cell_type": "markdown",
   "metadata": {},
   "source": [
    ">  `Question:` Extract First 10 words in text\n",
    "- Convert every letter into ***upper*** case\n",
    "- Convert every letter into ***lower*** case"
   ]
  },
  {
   "cell_type": "code",
   "execution_count": 20,
   "metadata": {},
   "outputs": [],
   "source": [
    "# CODE HERE"
   ]
  },
  {
   "cell_type": "code",
   "execution_count": 63,
   "metadata": {},
   "outputs": [
    {
     "data": {
      "text/plain": [
       "'THE UNIVERSITY OF HAWAII BEGAN USING RADIO TO SEND DIGITAL'"
      ]
     },
     "execution_count": 63,
     "metadata": {},
     "output_type": "execute_result"
    }
   ],
   "source": [
    "a=words[0:10]\n",
    "\" \".join(a).upper()"
   ]
  },
  {
   "cell_type": "code",
   "execution_count": 22,
   "metadata": {},
   "outputs": [],
   "source": [
    "# CODE HERE"
   ]
  },
  {
   "cell_type": "code",
   "execution_count": 65,
   "metadata": {},
   "outputs": [
    {
     "data": {
      "text/plain": [
       "'the university of hawaii began using radio to send digital'"
      ]
     },
     "execution_count": 65,
     "metadata": {},
     "output_type": "execute_result"
    }
   ],
   "source": [
    "a=words[0:10]\n",
    "\" \".join(a).lower()"
   ]
  },
  {
   "cell_type": "markdown",
   "metadata": {},
   "source": [
    ">  `Question:`  Find the list of letter starting with \n",
    "- u\n",
    "- o\n",
    "> `hint - You need to use for loop for this`"
   ]
  },
  {
   "cell_type": "code",
   "execution_count": 24,
   "metadata": {},
   "outputs": [],
   "source": [
    "# CODE HERE"
   ]
  },
  {
   "cell_type": "code",
   "execution_count": 94,
   "metadata": {},
   "outputs": [
    {
     "name": "stdout",
     "output_type": "stream",
     "text": [
      "List of words starting with u is:\n",
      "{'using', 'under', 'university'}\n"
     ]
    }
   ],
   "source": [
    "\n",
    "words=text.lower().split(\" \")\n",
    "a=set(words)\n",
    "s = set()\n",
    "for i in a:\n",
    "     if(i.startswith(\"u\")):\n",
    "              s.add(i)\n",
    "print(\"List of words starting with u is:\")\n",
    "print(s)\n",
    "             \n",
    "\n",
    "             "
   ]
  },
  {
   "cell_type": "code",
   "execution_count": null,
   "metadata": {},
   "outputs": [],
   "source": []
  },
  {
   "cell_type": "code",
   "execution_count": 98,
   "metadata": {},
   "outputs": [
    {
     "name": "stdout",
     "output_type": "stream",
     "text": [
      "List of words starting with o is:\n",
      "{'one', 'out', 'of', 'on', 'oslo.'}\n"
     ]
    }
   ],
   "source": [
    "words=text.lower().split(\" \")\n",
    "a=set(words)\n",
    "s = set()\n",
    "for i in a:\n",
    "     if(i.startswith(\"o\")):\n",
    "              s.add(i)\n",
    "print(\"List of words starting with o is:\")\n",
    "print(s)"
   ]
  },
  {
   "cell_type": "markdown",
   "metadata": {},
   "source": [
    ">  `Question:` Find the list of letter ending with \n",
    "- e\n",
    "- n\n",
    "> `hint - You need to use for loop for this`"
   ]
  },
  {
   "cell_type": "code",
   "execution_count": 28,
   "metadata": {},
   "outputs": [],
   "source": [
    "# CODE HERE"
   ]
  },
  {
   "cell_type": "code",
   "execution_count": 102,
   "metadata": {},
   "outputs": [
    {
     "name": "stdout",
     "output_type": "stream",
     "text": [
      "List of words ends with e is:\n",
      "{'type', 'france', 'one', 'be', '(groupe', '(compare', 'the', 'have', '\\nthe', 'while', 'mobile', 'since', '\\nmade', 'these', '(see', 'determine', 'he', 'simple', 'message', 'language', '\"sequence', 'deutsche'}\n"
     ]
    }
   ],
   "source": [
    "words=text.lower().split(\" \")\n",
    "a=set(words)\n",
    "s = set()\n",
    "for i in a:\n",
    "     if(i.endswith(\"e\")):\n",
    "              s.add(i)\n",
    "print(\"List of words ends with e is:\")\n",
    "print(s)"
   ]
  },
  {
   "cell_type": "code",
   "execution_count": 30,
   "metadata": {},
   "outputs": [
    {
     "name": "stdout",
     "output_type": "stream",
     "text": [
      "List of words ends with e is:\n",
      "{'be', 'these', 'deutsche', 'one', 'made', 'he', 'message', 'type', 'mobile', '(compare', 'france', 'determine', '(see', 'have', '(groupe', 'while', 'since', '\"sequence', 'simple', 'language', 'the'}\n"
     ]
    }
   ],
   "source": []
  },
  {
   "cell_type": "code",
   "execution_count": 104,
   "metadata": {},
   "outputs": [
    {
     "name": "stdout",
     "output_type": "stream",
     "text": [
      "List of words ends with n is:\n",
      "{'solution', 'finn', 'information', 'ian', 'kevin', 'began', 'can', 'than', 'isdn', 'an', 'on', 'in'}\n"
     ]
    }
   ],
   "source": [
    "words=text.lower().split(\" \")\n",
    "a=set(words)\n",
    "s = set()\n",
    "for i in a:\n",
    "     if(i.endswith(\"n\")):\n",
    "              s.add(i)\n",
    "print(\"List of words ends with n is:\")\n",
    "print(s)"
   ]
  },
  {
   "cell_type": "markdown",
   "metadata": {},
   "source": [
    ">  `Question:` Extract first 10 words of text and Capitalize first letter of each word"
   ]
  },
  {
   "cell_type": "code",
   "execution_count": 32,
   "metadata": {},
   "outputs": [],
   "source": [
    "# CODE HERE"
   ]
  },
  {
   "cell_type": "code",
   "execution_count": 110,
   "metadata": {},
   "outputs": [
    {
     "data": {
      "text/plain": [
       "'The University Of Hawaii Began Using Radio To Send Digital'"
      ]
     },
     "execution_count": 110,
     "metadata": {},
     "output_type": "execute_result"
    }
   ],
   "source": [
    "a=words[0:10]\n",
    "\" \".join(a).title()"
   ]
  },
  {
   "cell_type": "markdown",
   "metadata": {},
   "source": [
    ">  `Question:` Replace the word \"University\" with name \"Innomatics\" in text"
   ]
  },
  {
   "cell_type": "code",
   "execution_count": 34,
   "metadata": {},
   "outputs": [],
   "source": [
    "# CODE HERE"
   ]
  },
  {
   "cell_type": "code",
   "execution_count": 116,
   "metadata": {},
   "outputs": [
    {
     "data": {
      "text/plain": [
       "'The Innomatics of Hawaii began using radio to send digital information as early as 1971,using ALOHAnet. \\nFriedhelm Hillebrand conceptualised SMS in 1984 while working for Deutsche Telekom. Sitting at a typewriter at home, \\nHillebrand typed out random sentences and counted every letter, number, punctuation, and space. \\nAlmost every time, the messages contained fewer than 160 characters, thus giving the basis for the \\nlimit one could type via text messaging. With Bernard Ghillebaert of France Télécom, he developed \\na proposal for the GSM (Groupe Spécial Mobile) meeting in February 1985 in Oslo. \\nThe first technical solution evolved in a GSM subgroup under the leadership of Finn Trosby. \\nIt was further developed under the leadership of Kevin Holley and Ian Harris (see Short Message Service). \\nSMS forms an integral part of SS7 (Signalling System No. 7). Under SS7, it is a \"state\" with a 160 character data, \\ncoded in the ITU-T \"T.56\" text format, that has a \"sequence lead in\" to determine different language codes, \\nand may have special character codes that permits, for example, sending simple graphs as text. \\nThis was part of ISDN (Integrated Services Digital Network) and since GSM is based on this, \\nmade its way to the mobile phone. Messages could be sent and received on ISDN phones, \\nand these can send SMS to any GSM phone. The possibility of doing something is one thing, \\nimplementing it another, but systems existed from 1988 that sent SMS messages to mobile phones (compare ND-NOTIS).'"
      ]
     },
     "execution_count": 116,
     "metadata": {},
     "output_type": "execute_result"
    }
   ],
   "source": [
    "\n",
    "text.replace(\"University\",\"Innomatics\")"
   ]
  },
  {
   "cell_type": "markdown",
   "metadata": {},
   "source": [
    "> `Question:`  Convert the \"text\" into sentances and store those into one variable called \"sentance\""
   ]
  },
  {
   "cell_type": "code",
   "execution_count": 535,
   "metadata": {},
   "outputs": [
    {
     "data": {
      "text/plain": [
       "['The University of Hawaii began using radio to send digital information as early as 1971,using ALOHAnet',\n",
       " ' \\nFriedhelm Hillebrand conceptualised SMS in 1984 while working for Deutsche Telekom',\n",
       " ' Sitting at a typewriter at home, \\nHillebrand typed out random sentences and counted every letter, number, punctuation, and space',\n",
       " ' \\nAlmost every time, the messages contained fewer than 160 characters, thus giving the basis for the \\nlimit one could type via text messaging',\n",
       " ' With Bernard Ghillebaert of France Télécom, he developed \\na proposal for the GSM (Groupe Spécial Mobile) meeting in February 1985 in Oslo',\n",
       " ' \\nThe first technical solution evolved in a GSM subgroup under the leadership of Finn Trosby',\n",
       " ' \\nIt was further developed under the leadership of Kevin Holley and Ian Harris (see Short Message Service)',\n",
       " ' \\nSMS forms an integral part of SS7 (Signalling System No',\n",
       " ' 7)',\n",
       " ' Under SS7, it is a \"state\" with a 160 character data, \\ncoded in the ITU-T \"T',\n",
       " '56\" text format, that has a \"sequence lead in\" to determine different language codes, \\nand may have special character codes that permits, for example, sending simple graphs as text',\n",
       " ' \\nThis was part of ISDN (Integrated Services Digital Network) and since GSM is based on this, \\nmade its way to the mobile phone',\n",
       " ' Messages could be sent and received on ISDN phones, \\nand these can send SMS to any GSM phone',\n",
       " ' The possibility of doing something is one thing, \\nimplementing it another, but systems existed from 1988 that sent SMS messages to mobile phones (compare ND-NOTIS)',\n",
       " '']"
      ]
     },
     "execution_count": 535,
     "metadata": {},
     "output_type": "execute_result"
    }
   ],
   "source": [
    "sentences=text.split(\".\")\n",
    "sentences"
   ]
  },
  {
   "cell_type": "code",
   "execution_count": 2,
   "metadata": {},
   "outputs": [
    {
     "data": {
      "text/plain": [
       "['The University of Hawaii began using radio to send digital information as early as 1971,using ALOHAnet',\n",
       " ' \\nFriedhelm Hillebrand conceptualised SMS in 1984 while working for Deutsche Telekom',\n",
       " ' Sitting at a typewriter at home, \\nHillebrand typed out random sentences and counted every letter, number, punctuation, and space',\n",
       " ' \\nAlmost every time, the messages contained fewer than 160 characters, thus giving the basis for the \\nlimit one could type via text messaging',\n",
       " ' With Bernard Ghillebaert of France Télécom, he developed \\na proposal for the GSM (Groupe Spécial Mobile) meeting in February 1985 in Oslo',\n",
       " ' \\nThe first technical solution evolved in a GSM subgroup under the leadership of Finn Trosby',\n",
       " ' \\nIt was further developed under the leadership of Kevin Holley and Ian Harris (see Short Message Service)',\n",
       " ' \\nSMS forms an integral part of SS7 (Signalling System No',\n",
       " ' 7)',\n",
       " ' Under SS7, it is a \"state\" with a 160 character data, \\ncoded in the ITU-T \"T',\n",
       " '56\" text format, that has a \"sequence lead in\" to determine different language codes, \\nand may have special character codes that permits, for example, sending simple graphs as text',\n",
       " ' \\nThis was part of ISDN (Integrated Services Digital Network) and since GSM is based on this, \\nmade its way to the mobile phone',\n",
       " ' Messages could be sent and received on ISDN phones, \\nand these can send SMS to any GSM phone',\n",
       " ' The possibility of doing something is one thing, \\nimplementing it another, but systems existed from 1988 that sent SMS messages to mobile phones (compare ND-NOTIS)',\n",
       " '']"
      ]
     },
     "execution_count": 2,
     "metadata": {},
     "output_type": "execute_result"
    }
   ],
   "source": []
  },
  {
   "cell_type": "markdown",
   "metadata": {},
   "source": [
    " `Question:`\n",
    " \n",
    "> 1.From the above sentance remove '\\n'\n"
   ]
  },
  {
   "cell_type": "code",
   "execution_count": 569,
   "metadata": {},
   "outputs": [
    {
     "name": "stdout",
     "output_type": "stream",
     "text": [
      "srinija\n"
     ]
    }
   ],
   "source": [
    "print(\"srinija\")\n",
    "        \n",
    "\n",
    "\n",
    "\n",
    "\n",
    "\n",
    "\n"
   ]
  },
  {
   "cell_type": "markdown",
   "metadata": {},
   "source": [
    " > 2. From the above sentace print the first word from each sentance\n"
   ]
  },
  {
   "cell_type": "code",
   "execution_count": null,
   "metadata": {},
   "outputs": [],
   "source": []
  },
  {
   "cell_type": "markdown",
   "metadata": {},
   "source": [
    "> 3. From the above sentace print even posioned sentances"
   ]
  },
  {
   "cell_type": "code",
   "execution_count": null,
   "metadata": {},
   "outputs": [],
   "source": []
  },
  {
   "cell_type": "markdown",
   "metadata": {},
   "source": [
    ">   `Question:` If the following string is given as input to the program:\n",
    "\n",
    "- H1e2l3l4o5w6o7r8l9d\n",
    "\n",
    ">   `Output:`  Then, the output of the program should be:\n",
    "\n",
    "- Helloworld"
   ]
  },
  {
   "cell_type": "code",
   "execution_count": 257,
   "metadata": {},
   "outputs": [
    {
     "data": {
      "text/plain": [
       "'HELLOWORLD'"
      ]
     },
     "execution_count": 257,
     "metadata": {},
     "output_type": "execute_result"
    }
   ],
   "source": [
    "string_input=\"H1e2l3l4o5w6o7r8l9d\"\n",
    "string_input[0:len(string_input):2].upper()\n",
    "\n",
    "      "
   ]
  },
  {
   "cell_type": "markdown",
   "metadata": {},
   "source": [
    "# [Innomatics Research Labs](https:/innomatics.in/)\n",
    "[www.innomatics.in](https:/innomatics.in/)"
   ]
  },
  {
   "cell_type": "code",
   "execution_count": null,
   "metadata": {},
   "outputs": [],
   "source": []
  }
 ],
 "metadata": {
  "kernelspec": {
   "display_name": "Python 3 (ipykernel)",
   "language": "python",
   "name": "python3"
  },
  "language_info": {
   "codemirror_mode": {
    "name": "ipython",
    "version": 3
   },
   "file_extension": ".py",
   "mimetype": "text/x-python",
   "name": "python",
   "nbconvert_exporter": "python",
   "pygments_lexer": "ipython3",
   "version": "3.12.4"
  }
 },
 "nbformat": 4,
 "nbformat_minor": 4
}
